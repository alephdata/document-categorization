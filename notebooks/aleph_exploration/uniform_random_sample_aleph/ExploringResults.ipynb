{
 "cells": [
  {
   "cell_type": "code",
   "execution_count": 3,
   "metadata": {},
   "outputs": [],
   "source": [
    "import json\n",
    "import os\n",
    "import pandas as pd"
   ]
  },
  {
   "cell_type": "code",
   "execution_count": null,
   "metadata": {},
   "outputs": [],
   "source": [
    "prediction_path = \"/data/dssg/occrp/data/aleph-exploration/random_sample_aleph_predictions\"\n",
    "\n",
    "prediction_request = open(os.path.join(prediction_path, \"prediction__2022_08_19_15_43_55.json\"))\n",
    "prediction_json = json.load(prediction_request)"
   ]
  },
  {
   "cell_type": "code",
   "execution_count": 27,
   "metadata": {},
   "outputs": [
    {
     "name": "stdout",
     "output_type": "stream",
     "text": [
      "other               4587\n",
      "gazettes              86\n",
      "court-documents       52\n",
      "invoices              49\n",
      "contracts             44\n",
      "passport-scan         42\n",
      "company-registry      18\n",
      "receipts              10\n",
      "bank-statements        4\n",
      "Name: pred-doc-type, dtype: int64\n"
     ]
    }
   ],
   "source": [
    "prediction_pd = pd.DataFrame.from_dict(prediction_json, orient=\"index\", columns=[\"raw\"])\n",
    "\n",
    "prediction_pd[\"directory\"] = [i for i, row in prediction_pd.iterrows()]\n",
    "prediction_pd[\"pred-doc-type\"] = [row[0] for i, row in prediction_pd.iterrows()]\n",
    "\n",
    "print(prediction_pd[\"pred-doc-type\"].value_counts())"
   ]
  },
  {
   "cell_type": "code",
   "execution_count": 30,
   "metadata": {},
   "outputs": [
    {
     "name": "stdout",
     "output_type": "stream",
     "text": [
      "3310\n",
      "1277\n"
     ]
    }
   ],
   "source": [
    "print(4892 - 1582)\n",
    "print(4587 - 3310)"
   ]
  },
  {
   "cell_type": "code",
   "execution_count": 32,
   "metadata": {},
   "outputs": [
    {
     "name": "stdout",
     "output_type": "stream",
     "text": [
      "0.32620320855614976\n"
     ]
    }
   ],
   "source": [
    "sum(prediction_pd[\"pred-doc-type\"].value_counts()) - 4587\n",
    "\n",
    "\n",
    "print(305 / 935)"
   ]
  }
 ],
 "metadata": {
  "kernelspec": {
   "display_name": "Python 3.8.12 ('dssgxdfki2022-occrp-PA4e7Co-')",
   "language": "python",
   "name": "python3"
  },
  "language_info": {
   "codemirror_mode": {
    "name": "ipython",
    "version": 3
   },
   "file_extension": ".py",
   "mimetype": "text/x-python",
   "name": "python",
   "nbconvert_exporter": "python",
   "pygments_lexer": "ipython3",
   "version": "3.8.12"
  },
  "orig_nbformat": 4,
  "vscode": {
   "interpreter": {
    "hash": "5d7c2732b19896522caf19afdcdc25d9a5a04a879db6235ad72dcf6b8053357f"
   }
  }
 },
 "nbformat": 4,
 "nbformat_minor": 2
}
