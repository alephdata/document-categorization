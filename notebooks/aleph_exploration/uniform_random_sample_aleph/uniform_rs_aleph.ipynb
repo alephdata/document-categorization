{
 "cells": [
  {
   "cell_type": "code",
   "execution_count": 95,
   "metadata": {},
   "outputs": [],
   "source": [
    "import requests\n",
    "import json\n",
    "import os\n",
    "import pandas as pd\n",
    "import time"
   ]
  },
  {
   "cell_type": "code",
   "execution_count": 97,
   "metadata": {},
   "outputs": [],
   "source": [
    "# setting output directory\n",
    "\n",
    "output_path = \"/data/dssg/occrp/data/aleph-exploration/random_sample_aleph\"\n",
    "if not os.path.exists(output_path):\n",
    "    os.makedirs(output_path)"
   ]
  },
  {
   "cell_type": "code",
   "execution_count": 98,
   "metadata": {},
   "outputs": [],
   "source": [
    "input_path = \"/home/jsanchez/dssgxdfki2022-occrp/notebooks/aleph_exploration/uniform_random_sample_aleph\"\n",
    "\n",
    "collections_file = open(os.path.join(input_path, \"1000-random-public-documents.json\"))\n",
    "type(collections_file)\n",
    "document_data = json.load(collections_file)\n",
    "# with open(os.path.join(input_path, \"1000-random-public-documents.json\")) as collections_file:\n",
    "#    document_data = json.load(collections_file)[\"took\"]\n",
    "\n",
    "# collections_df = pd.DataFrame(document_data[\"results\"])"
   ]
  },
  {
   "cell_type": "code",
   "execution_count": 99,
   "metadata": {},
   "outputs": [
    {
     "name": "stdout",
     "output_type": "stream",
     "text": [
      "Index(['_index', '_type', '_id', '_score', '_source', 'collection_id',\n",
      "       'collection_id_str', 'api_url'],\n",
      "      dtype='object')\n",
      "<bound method NDFrame.head of                     _index _type  \\\n",
      "0    aleph-entity-pages-v2  _doc   \n",
      "1    aleph-entity-pages-v2  _doc   \n",
      "2    aleph-entity-pages-v2  _doc   \n",
      "3    aleph-entity-pages-v2  _doc   \n",
      "4    aleph-entity-pages-v2  _doc   \n",
      "..                     ...   ...   \n",
      "995  aleph-entity-pages-v2  _doc   \n",
      "996  aleph-entity-pages-v2  _doc   \n",
      "997  aleph-entity-pages-v2  _doc   \n",
      "998  aleph-entity-pages-v2  _doc   \n",
      "999  aleph-entity-pages-v2  _doc   \n",
      "\n",
      "                                                   _id    _score  \\\n",
      "0     3489219.1727f29cc0da0fb035269647c6ca15855913fce2  1.000000   \n",
      "1    16058971.d5853359f456269165ea5c8142a7e73d15f27c94  1.000000   \n",
      "2    50277102.1949be476bf51be8034a6f9b7d900847032621fe  1.000000   \n",
      "3     6840256.fe40d0d686a14c357da88bdc6792c0ed47379b85  0.999999   \n",
      "4     2992121.5ea63dd2af8b70242a27b78bab6ad6db5d0c4d28  0.999999   \n",
      "..                                                 ...       ...   \n",
      "995   8131362.11ba7a7219fe410d845bdb73a7912793dc497415  0.999887   \n",
      "996  48b19099028f4078517a4e98604670e3dd370cee.2361a...  0.999887   \n",
      "997  20058947.19fad34e9175ede18f8e460f6af6116b69c34ab4  0.999887   \n",
      "998  26250249.56f493d993c6cf13b5d93a7613609ece9d75fe0b  0.999887   \n",
      "999  67102957.251126fbb46b4628dfc1d7e745d39e3b031286ae  0.999886   \n",
      "\n",
      "                     _source  collection_id collection_id_str  \\\n",
      "0     {'collection_id': 221}            221               221   \n",
      "1     {'collection_id': 105}            105               105   \n",
      "2    {'collection_id': 2079}           2079              2079   \n",
      "3      {'collection_id': 72}             72                72   \n",
      "4     {'collection_id': 206}            206               206   \n",
      "..                       ...            ...               ...   \n",
      "995   {'collection_id': 206}            206               206   \n",
      "996   {'collection_id': 789}            789               789   \n",
      "997   {'collection_id': 650}            650               650   \n",
      "998   {'collection_id': 205}            205               205   \n",
      "999    {'collection_id': 85}             85                85   \n",
      "\n",
      "                                               api_url  \n",
      "0    https://aleph.occrp.org/api/2/entities/3489219...  \n",
      "1    https://aleph.occrp.org/api/2/entities/1605897...  \n",
      "2    https://aleph.occrp.org/api/2/entities/5027710...  \n",
      "3    https://aleph.occrp.org/api/2/entities/6840256...  \n",
      "4    https://aleph.occrp.org/api/2/entities/2992121...  \n",
      "..                                                 ...  \n",
      "995  https://aleph.occrp.org/api/2/entities/8131362...  \n",
      "996  https://aleph.occrp.org/api/2/entities/48b1909...  \n",
      "997  https://aleph.occrp.org/api/2/entities/2005894...  \n",
      "998  https://aleph.occrp.org/api/2/entities/2625024...  \n",
      "999  https://aleph.occrp.org/api/2/entities/6710295...  \n",
      "\n",
      "[1000 rows x 8 columns]>\n"
     ]
    }
   ],
   "source": [
    "document_df = pd.DataFrame(document_data[\"hits\"][\"hits\"])\n",
    "document_df[\"collection_id\"] = [i[\"collection_id\"] for i in document_df[\"_source\"]]\n",
    "document_df[\"collection_id_str\"] = [str(i) for i in document_df[\"collection_id\"]]\n",
    "\n",
    "api_init = \"https://aleph.occrp.org/api/2/entities/\"\n",
    "\n",
    "document_df[\"api_url\"] = [api_init + i for i in document_df[\"_id\"]]\n",
    "print(document_df.columns)\n",
    "print(document_df.head)"
   ]
  },
  {
   "cell_type": "code",
   "execution_count": 100,
   "metadata": {},
   "outputs": [
    {
     "data": {
      "text/plain": [
       "'https://aleph.occrp.org/api/2/entities/3489219.1727f29cc0da0fb035269647c6ca15855913fce2'"
      ]
     },
     "execution_count": 100,
     "metadata": {},
     "output_type": "execute_result"
    }
   ],
   "source": [
    "document_df[\"api_url\"].iloc[0]"
   ]
  },
  {
   "cell_type": "code",
   "execution_count": 104,
   "metadata": {},
   "outputs": [],
   "source": [
    "## Obtaining document types before downloading all:\n",
    "mimeType = []\n",
    "\n",
    "for i, row in document_df.iterrows():\n",
    "    document_request = requests.get(row[\"api_url\"]).json()\n",
    "    document_request_pd = pd.DataFrame.from_dict(document_request, orient=\"index\")\n",
    "\n",
    "    try:\n",
    "        mimeType.append(document_request_pd[0][\"properties\"][\"mimeType\"][0])\n",
    "    except:\n",
    "        mimeType.append(\"\")\n",
    "\n",
    "    time.sleep(0.01)\n",
    "\n",
    "    # if mimeType in [\"\",\",\"\",\"\",\"\"]:\n",
    "    # with open(\n",
    "    #    os.path.join(output_path, f\"{row['_id']}\"), \"wb\"\n",
    "    # ) as document_file:\n",
    "    #    document_response = requests.get(document_request[\"links\"][\"file\"])\n",
    "    #    document_file.write(document_response.content)\n",
    "\n",
    "document_df[\"mimeType\"] = mimeType"
   ]
  },
  {
   "cell_type": "code",
   "execution_count": 105,
   "metadata": {},
   "outputs": [
    {
     "data": {
      "text/plain": [
       "application/pdf                                                            821\n",
       "image/tiff                                                                 114\n",
       "application/vnd.ms-word                                                     50\n",
       "application/vnd.openxmlformats-officedocument.wordprocessingml.document     12\n",
       "text/rtf                                                                     1\n",
       "application/vnd.ms-powerpoint                                                1\n",
       "                                                                             1\n",
       "Name: mimeType, dtype: int64"
      ]
     },
     "execution_count": 105,
     "metadata": {},
     "output_type": "execute_result"
    }
   ],
   "source": [
    "document_df[\"mimeType\"].value_counts()"
   ]
  },
  {
   "cell_type": "code",
   "execution_count": 108,
   "metadata": {},
   "outputs": [
    {
     "name": "stdout",
     "output_type": "stream",
     "text": [
      "(935, 9)\n"
     ]
    }
   ],
   "source": [
    "document_reduced_df = document_df[[(i in [\"application/pdf\", \"image/tiff\"]) for i in document_df[\"mimeType\"]]]\n",
    "print(document_reduced_df.shape)"
   ]
  },
  {
   "cell_type": "code",
   "execution_count": 109,
   "metadata": {},
   "outputs": [],
   "source": [
    "for i, row in document_reduced_df.iterrows():\n",
    "    document_request = requests.get(row[\"api_url\"]).json()\n",
    "    document_request_pd = pd.DataFrame.from_dict(document_request, orient=\"index\")\n",
    "\n",
    "    ext = None\n",
    "    if row[\"mimeType\"] == \"application/pdf\":\n",
    "        ext = \".pdf\"\n",
    "    if row[\"mimeType\"] == \"image/tiff\":\n",
    "        ext = \".tiff\"\n",
    "\n",
    "    with open(os.path.join(output_path, f\"{row['_id']}\" + ext), \"wb\") as document_file:\n",
    "        pdf_response = requests.get(document_request[\"links\"][\"file\"])\n",
    "        document_file.write(pdf_response.content)"
   ]
  }
 ],
 "metadata": {
  "kernelspec": {
   "display_name": "Python 3.8.12 ('dssgxdfki2022-occrp-PA4e7Co-')",
   "language": "python",
   "name": "python3"
  },
  "language_info": {
   "codemirror_mode": {
    "name": "ipython",
    "version": 3
   },
   "file_extension": ".py",
   "mimetype": "text/x-python",
   "name": "python",
   "nbconvert_exporter": "python",
   "pygments_lexer": "ipython3",
   "version": "3.8.12"
  },
  "orig_nbformat": 4,
  "vscode": {
   "interpreter": {
    "hash": "5d7c2732b19896522caf19afdcdc25d9a5a04a879db6235ad72dcf6b8053357f"
   }
  }
 },
 "nbformat": 4,
 "nbformat_minor": 2
}
