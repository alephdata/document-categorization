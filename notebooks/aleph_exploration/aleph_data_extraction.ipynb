{
 "cells": [
  {
   "cell_type": "code",
   "execution_count": 1,
   "metadata": {},
   "outputs": [],
   "source": [
    "import pandas as pd\n",
    "import requests\n",
    "import os\n",
    "import json\n",
    "import tqdm\n",
    "import time\n",
    "import random\n",
    "import numpy as np\n",
    "from pdfminer.pdfparser import PDFParser, PDFSyntaxError\n",
    "from pdfminer.pdfdocument import (\n",
    "    PDFDocument,\n",
    "    PDFNoValidXRef,\n",
    "    PSEOF,\n",
    "    PDFPasswordIncorrect,\n",
    ")\n",
    "from pdfminer.pdfpage import PDFPage\n",
    "from pdfminer.pdfinterp import resolve1\n",
    "import matplotlib.pyplot as plt"
   ]
  },
  {
   "cell_type": "code",
   "execution_count": 2,
   "metadata": {},
   "outputs": [],
   "source": [
    "# setting output directory\n",
    "\n",
    "output_path = \"/data/dssg/occrp/data/aleph-exploration/output\"\n",
    "if not os.path.exists(output_path):\n",
    "    os.makedirs(output_path)\n",
    "\n",
    "collections_files_path = os.path.join(output_path, \"collections\")"
   ]
  },
  {
   "cell_type": "markdown",
   "metadata": {},
   "source": [
    "## Download of collection and documents data"
   ]
  },
  {
   "cell_type": "code",
   "execution_count": 58,
   "metadata": {},
   "outputs": [],
   "source": [
    "collections_response = requests.get(\"https://aleph.occrp.org/api/2/collections?limit=10000\").json()\n",
    "\n",
    "with open(os.path.join(output_path, \"collections.json\"), \"w\") as collections_file:\n",
    "    json.dump(\n",
    "        collections_response,\n",
    "        collections_file,\n",
    "        indent=4,\n",
    "        sort_keys=True,\n",
    "        ensure_ascii=False,\n",
    "    )"
   ]
  },
  {
   "cell_type": "code",
   "execution_count": null,
   "metadata": {},
   "outputs": [],
   "source": [
    "collection_ids = [collection[\"id\"] for collection in collections_response[\"results\"]]\n",
    "\n",
    "\n",
    "if not os.path.exists(collections_files_path):\n",
    "    os.makedirs(collections_files_path)\n",
    "\n",
    "for collection_id in tqdm.tqdm(collection_ids):\n",
    "    documents_response = requests.get(\n",
    "        \"https://aleph.occrp.org/api/2/entities?\" f\"filter:schema=Document&filter:collection_id={collection_id}&limit=10000\"\n",
    "    ).json()\n",
    "\n",
    "    with open(os.path.join(collections_files_path, f\"{collection_id}.json\"), \"w\") as collections_docs:\n",
    "        json.dump(\n",
    "            documents_response,\n",
    "            collections_docs,\n",
    "            indent=4,\n",
    "            sort_keys=True,\n",
    "            ensure_ascii=False,\n",
    "        )\n",
    "\n",
    "    time.sleep(2)\n",
    "\n",
    "# missing: index 77"
   ]
  },
  {
   "cell_type": "markdown",
   "metadata": {},
   "source": [
    "## Loading data"
   ]
  },
  {
   "cell_type": "code",
   "execution_count": 3,
   "metadata": {},
   "outputs": [],
   "source": [
    "# loading collections documents data\n",
    "collections_documents_data = []\n",
    "for collection_filename in os.listdir(collections_files_path):\n",
    "    with open(os.path.join(collections_files_path, collection_filename)) as collection_file:\n",
    "        collections_documents_data.append(\n",
    "            {\n",
    "                \"collection_id\": collection_filename[:-5],\n",
    "                \"documents_collected\": json.load(collection_file)[\"total\"],\n",
    "            }\n",
    "        )\n",
    "\n",
    "collections_documents_df = pd.DataFrame(collections_documents_data)"
   ]
  },
  {
   "cell_type": "code",
   "execution_count": 4,
   "metadata": {},
   "outputs": [],
   "source": [
    "# loading collections\n",
    "with open(os.path.join(output_path, \"collections.json\")) as collections_file:\n",
    "    collections_data = json.load(collections_file)\n",
    "\n",
    "collections_df = pd.DataFrame(collections_data[\"results\"])\n",
    "\n",
    "# merging\n",
    "collections_df = collections_df.merge(collections_documents_df, how=\"left\", on=\"collection_id\")"
   ]
  },
  {
   "cell_type": "code",
   "execution_count": 5,
   "metadata": {},
   "outputs": [
    {
     "name": "stdout",
     "output_type": "stream",
     "text": [
      "Aleph contains 252 collections with 353541226 entities in total.\n",
      "250 of those collections are explored in this notebook.\n",
      "Only 71 collections had retrivable documents.\n",
      "101671 documents of those collections were retrieved. Aleph API has a limitation of 10,000 documents per collection.\n"
     ]
    }
   ],
   "source": [
    "print(f\"Aleph contains {len(collections_df)} collections with {collections_df['count'].sum()} entities in total.\")\n",
    "\n",
    "print(f\"{len(collections_documents_df)} of those collections are explored in this notebook.\")\n",
    "\n",
    "print(f\"Only {len(collections_df[collections_df['documents_collected']>0])} collections had retrivable documents.\")\n",
    "\n",
    "print(\n",
    "    f\"{int(collections_df['documents_collected'].sum())} documents of those collections were retrieved. \"\n",
    "    \"Aleph API has a limitation of 10,000 documents per collection.\"\n",
    ")"
   ]
  },
  {
   "cell_type": "markdown",
   "metadata": {},
   "source": [
    "## Random sample of Aleph documents"
   ]
  },
  {
   "cell_type": "code",
   "execution_count": 6,
   "metadata": {},
   "outputs": [],
   "source": [
    "collections_ids_non_empty = collections_df[collections_df[\"documents_collected\"] > 0][\"collection_id\"]"
   ]
  },
  {
   "cell_type": "code",
   "execution_count": 7,
   "metadata": {},
   "outputs": [],
   "source": [
    "documents = []\n",
    "\n",
    "for collection_id in collections_ids_non_empty:\n",
    "    with open(os.path.join(collections_files_path, f\"{collection_id}.json\")) as collection_file:\n",
    "        documents.extend(json.load(collection_file)[\"results\"])"
   ]
  },
  {
   "cell_type": "code",
   "execution_count": 8,
   "metadata": {},
   "outputs": [],
   "source": [
    "documents_df = pd.DataFrame(documents)\n",
    "documents_df[\"api_url\"] = documents_df[\"links\"].apply(lambda d: d[\"self\"])\n",
    "documents_df[\"mimeType\"] = documents_df[\"properties\"].apply(lambda d: d[\"mimeType\"][0] if \"mimeType\" in d else np.NaN)\n",
    "documents_df[\"fileName\"] = documents_df[\"properties\"].apply(lambda d: d[\"fileName\"][0] if \"fileName\" in d else np.NaN)\n",
    "documents_df[\"sourceUrl\"] = documents_df[\"properties\"].apply(lambda d: d[\"sourceUrl\"][0] if \"sourceUrl\" in d else np.NaN)\n",
    "documents_df[\"fileName\"] = documents_df[\"properties\"].apply(lambda d: d[\"fileName\"][0] if \"fileName\" in d else np.NaN)\n",
    "documents_df[\"collection_id\"] = documents_df[\"collection\"].apply(lambda d: d[\"collection_id\"])"
   ]
  },
  {
   "cell_type": "code",
   "execution_count": 12,
   "metadata": {},
   "outputs": [
    {
     "data": {
      "text/plain": [
       "inode/x-empty                                                              40311\n",
       "application/pdf                                                            29641\n",
       "text/html                                                                  12592\n",
       "image/jp2                                                                   2407\n",
       "application/vnd.ms-fontobject                                               1884\n",
       "text/plain                                                                  1368\n",
       "application/x-bittorrent                                                    1077\n",
       "text/xml                                                                    1009\n",
       "application/zip                                                              753\n",
       "image/gif                                                                    674\n",
       "application/gzip                                                             652\n",
       "image/jpeg                                                                   555\n",
       "image/vnd.djvu                                                               523\n",
       "application/x-dosexec                                                        311\n",
       "application/vnd.openxmlformats-officedocument.wordprocessingml.document      155\n",
       "application/vnd.ms-word                                                      139\n",
       "text/x-lisp                                                                  115\n",
       "application/encrypted                                                         91\n",
       "application/x-wine-extension-ini                                              88\n",
       "application/cdfv2                                                             83\n",
       "application/vnd.ms-msi                                                        82\n",
       "application/x-java-applet                                                     80\n",
       "text/css                                                                      55\n",
       "application/x-sharedlib                                                       40\n",
       "application/x-gettext-translation                                             38\n",
       "image/tiff                                                                    38\n",
       "text/x-po                                                                     34\n",
       "application/x-download                                                        29\n",
       "font/sfnt                                                                     19\n",
       "application/vnd.openxmlformats-officedocument.spreadsheetml.sheet             18\n",
       "application/vnd.ms-cab-compressed                                             16\n",
       "text/csv                                                                      15\n",
       "application/vnd.ms-opentype                                                   15\n",
       "application/x-executable                                                      14\n",
       "application/download                                                          14\n",
       "application/font-sfnt                                                         13\n",
       "application/json                                                              11\n",
       "application/rar                                                                8\n",
       "application/x-dosdriver                                                        6\n",
       "application/vnd.lotus-1-2-3                                                    5\n",
       "text/calendar                                                                  4\n",
       "text/rtf                                                                       4\n",
       "application/x-setupscript                                                      3\n",
       "text/x-c                                                                       2\n",
       "application/x-tplink-bin                                                       2\n",
       "application/vnd.ms-excel                                                       1\n",
       "Name: mimeType, dtype: int64"
      ]
     },
     "execution_count": 12,
     "metadata": {},
     "output_type": "execute_result"
    }
   ],
   "source": [
    "documents_df[\"mimeType\"].value_counts()"
   ]
  },
  {
   "cell_type": "code",
   "execution_count": 9,
   "metadata": {},
   "outputs": [],
   "source": [
    "def is_pdf(row):\n",
    "    return (\n",
    "        (row[\"mimeType\"] == \"application/pdf\")\n",
    "        or (str(row[\"fileName\"])[-3:] == \"pdf\")\n",
    "        or (str(row[\"sourceUrl\"])[-3:] == \"pdf\")\n",
    "    )\n",
    "\n",
    "\n",
    "documents_df[\"is_pdf\"] = documents_df.apply(is_pdf, axis=1)"
   ]
  },
  {
   "cell_type": "code",
   "execution_count": 10,
   "metadata": {},
   "outputs": [
    {
     "data": {
      "text/plain": [
       "True     52861\n",
       "False    48804\n",
       "Name: is_pdf, dtype: int64"
      ]
     },
     "execution_count": 10,
     "metadata": {},
     "output_type": "execute_result"
    }
   ],
   "source": [
    "documents_df[\"is_pdf\"].value_counts()"
   ]
  },
  {
   "cell_type": "code",
   "execution_count": 11,
   "metadata": {},
   "outputs": [
    {
     "name": "stdout",
     "output_type": "stream",
     "text": [
      "106 documents were random sampled\n"
     ]
    }
   ],
   "source": [
    "pdf_documents_df = documents_df[documents_df[\"is_pdf\"]]\n",
    "\n",
    "documents_sample_df = pdf_documents_df.sample(frac=1, random_state=100).groupby(\"collection_id\").head(2)\n",
    "\n",
    "print(f\"{len(documents_sample_df)} documents were random sampled\")"
   ]
  },
  {
   "cell_type": "markdown",
   "metadata": {},
   "source": [
    "### Download of random sample PDF"
   ]
  },
  {
   "cell_type": "code",
   "execution_count": 89,
   "metadata": {},
   "outputs": [
    {
     "name": "stderr",
     "output_type": "stream",
     "text": [
      "106it [05:23,  3.05s/it]\n"
     ]
    }
   ],
   "source": [
    "documents_sample_path = os.path.join(output_path, \"documents_sample\")\n",
    "if not os.path.exists(documents_sample_path):\n",
    "    os.makedirs(documents_sample_path)\n",
    "\n",
    "for i, row in tqdm.tqdm(documents_sample_df.iterrows()):\n",
    "\n",
    "    document_response = requests.get(row[\"api_url\"]).json()\n",
    "    with open(os.path.join(documents_sample_path, f\"{row['id']}.pdf\"), \"wb\") as document_file:\n",
    "        pdf_response = requests.get(document_response[\"links\"][\"file\"])\n",
    "        document_file.write(pdf_response.content)"
   ]
  },
  {
   "cell_type": "code",
   "execution_count": 91,
   "metadata": {},
   "outputs": [
    {
     "name": "stderr",
     "output_type": "stream",
     "text": [
      "Data-loss while decompressing corrupted data\n"
     ]
    }
   ],
   "source": [
    "def pdf_number_of_pages(pdf_path):\n",
    "    with open(pdf_path, \"rb\") as pdf_file:\n",
    "        try:\n",
    "            parser = PDFParser(pdf_file)\n",
    "            document = PDFDocument(parser)\n",
    "            return resolve1(document.catalog[\"Pages\"])[\"Count\"]\n",
    "        except Exception as e:\n",
    "            # (PDFSyntaxError, PDFNoValidXRef, PSEOF, KeyError, PDFPasswordIncorrect)\n",
    "            return np.NaN\n",
    "\n",
    "\n",
    "documents_sample_df[\"number_of_pages\"] = documents_sample_df[\"id\"].apply(\n",
    "    lambda document_id: pdf_number_of_pages(os.path.join(documents_sample_path, f\"{document_id}.pdf\"))\n",
    ")"
   ]
  },
  {
   "cell_type": "code",
   "execution_count": 93,
   "metadata": {},
   "outputs": [
    {
     "data": {
      "text/plain": [
       "True     66\n",
       "False    40\n",
       "Name: number_of_pages, dtype: int64"
      ]
     },
     "execution_count": 93,
     "metadata": {},
     "output_type": "execute_result"
    }
   ],
   "source": [
    "documents_sample_df[\"number_of_pages\"].isnull().value_counts(dropna=False)"
   ]
  },
  {
   "cell_type": "code",
   "execution_count": 95,
   "metadata": {},
   "outputs": [
    {
     "data": {
      "text/plain": [
       "<AxesSubplot:>"
      ]
     },
     "execution_count": 95,
     "metadata": {},
     "output_type": "execute_result"
    },
    {
     "data": {
      "image/png": "[encoded data removed]",
      "text/plain": [
       "<Figure size 432x288 with 1 Axes>"
      ]
     },
     "metadata": {
      "needs_background": "light"
     },
     "output_type": "display_data"
    }
   ],
   "source": [
    "documents_sample_df[\"number_of_pages\"].hist(bins=20)"
   ]
  },
  {
   "cell_type": "code",
   "execution_count": 96,
   "metadata": {},
   "outputs": [
    {
     "data": {
      "text/plain": [
       "count     40.000000\n",
       "mean      30.650000\n",
       "std       67.300531\n",
       "min        1.000000\n",
       "25%        2.000000\n",
       "50%        8.500000\n",
       "75%       22.500000\n",
       "max      387.000000\n",
       "Name: number_of_pages, dtype: float64"
      ]
     },
     "execution_count": 96,
     "metadata": {},
     "output_type": "execute_result"
    }
   ],
   "source": [
    "documents_sample_df[\"number_of_pages\"].describe()"
   ]
  },
  {
   "cell_type": "code",
   "execution_count": 100,
   "metadata": {},
   "outputs": [
    {
     "data": {
      "text/plain": [
       "NaN      38\n",
       "2.0       4\n",
       "1.0       2\n",
       "10.0      1\n",
       "177.0     1\n",
       "8.0       1\n",
       "3.0       1\n",
       "22.0      1\n",
       "65.0      1\n",
       "56.0      1\n",
       "Name: number_of_pages, dtype: int64"
      ]
     },
     "execution_count": 100,
     "metadata": {},
     "output_type": "execute_result"
    }
   ],
   "source": [
    "documents_sample_df[documents_sample_df[\"fileName\"].isnull()][\"number_of_pages\"].value_counts(dropna=False)"
   ]
  },
  {
   "cell_type": "code",
   "execution_count": null,
   "metadata": {},
   "outputs": [],
   "source": []
  }
 ],
 "metadata": {
  "kernelspec": {
   "display_name": "Python 3.8.12 ('dssgxdfki2022-occrp-kILcxiHt')",
   "language": "python",
   "name": "python3"
  },
  "language_info": {
   "codemirror_mode": {
    "name": "ipython",
    "version": 3
   },
   "file_extension": ".py",
   "mimetype": "text/x-python",
   "name": "python",
   "nbconvert_exporter": "python",
   "pygments_lexer": "ipython3",
   "version": "3.8.12"
  },
  "orig_nbformat": 4,
  "vscode": {
   "interpreter": {
    "hash": "61ee9f45260620374750326627e1fd5bedee03043b048591eb456597b4021b0a"
   }
  }
 },
 "nbformat": 4,
 "nbformat_minor": 2
}
