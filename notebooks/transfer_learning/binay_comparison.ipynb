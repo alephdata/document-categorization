{
 "cells": [
  {
   "cell_type": "markdown",
   "metadata": {},
   "source": [
    "# Comparison - Multicass vs binary classifier for middlepage classification"
   ]
  },
  {
   "cell_type": "code",
   "execution_count": 1,
   "metadata": {},
   "outputs": [],
   "source": [
    "import pandas as pd\n",
    "from sklearn.metrics import ConfusionMatrixDisplay, accuracy_score, f1_score\n",
    "from preprocessing.train_val_test_split import get_data_files_df\n",
    "from document_classification.document_classifier import DocumentClassifier\n",
    "import matplotlib.pyplot as plt\n",
    "from prediction.predict import predict_documents\n",
    "import os"
   ]
  },
  {
   "cell_type": "markdown",
   "metadata": {},
   "source": [
    "## Load models"
   ]
  },
  {
   "cell_type": "code",
   "execution_count": null,
   "metadata": {},
   "outputs": [],
   "source": [
    "multiclass_others_clf = DocumentClassifier.load_from_path(\n",
    "    \"EfficientNetB0\",\n",
    "    # \"/data/dssg/occrp/data/output/document_classifier/AlexNetDropout_2022_08_16-10_43_41\",\n",
    "    \"/data/dssg/occrp/data/output/document_classifier/EfficientNetB0_2022_08_16-10_54_00\",\n",
    ")"
   ]
  },
  {
   "cell_type": "code",
   "execution_count": null,
   "metadata": {},
   "outputs": [],
   "source": [
    "binary_clf = DocumentClassifier.load_from_path(\n",
    "    \"EfficientNetB0\", \"/data/dssg/occrp/data/output/document_classifier/AlexNet_2022_08_12-19_21_46\"\n",
    ")"
   ]
  },
  {
   "cell_type": "markdown",
   "metadata": {},
   "source": [
    "## Load test sets"
   ]
  },
  {
   "cell_type": "code",
   "execution_count": null,
   "metadata": {},
   "outputs": [],
   "source": [
    "labels_filter = [\n",
    "    \"bank-statements\",\n",
    "    \"company-registry\",\n",
    "    \"contracts\",\n",
    "    \"court-documents\",\n",
    "    \"gazettes\",\n",
    "    \"invoices\",\n",
    "    # \"middle-page\",\n",
    "    \"passport-scan\",\n",
    "    \"receipts\",\n",
    "    \"shipping-receipts\",\n",
    "    # \"transcripts\",\n",
    "]\n",
    "\n",
    "\n",
    "page_2_test_df = get_data_files_df(\"/data/dssg/occrp/data/processed_clean\", labels_filter)\n",
    "page_2_test_df[\"class\"] = \"middlepage\"\n",
    "page_2_test_df[\"page_number\"] = page_2_test_df[\"filename\"].str.extract(r\"(\\d+).jpg\")\n",
    "page_2_test_df = page_2_test_df[page_2_test_df[\"page_number\"] == \"2\"].reset_index(drop=True)\n",
    "page_2_test_df = page_2_test_df.rename(columns={\"path\": \"directory\"})\n",
    "page_2_test_df"
   ]
  },
  {
   "cell_type": "code",
   "execution_count": null,
   "metadata": {},
   "outputs": [],
   "source": [
    "middlepages_test_df = get_data_files_df(\n",
    "    \"/data/dssg/occrp/data/processed_firstpages_vs_middle_pages/processed_clean/\", [\"middlepages\"]\n",
    ")\n",
    "middlepages_test_df[\"class\"] = \"middlepage\"\n",
    "middlepages_test_df[\"page_number\"] = middlepages_test_df[\"filename\"].str.extract(r\"(\\d+).jpg\")\n",
    "# page_2_test_df = page_2_test_df[page_2_test_df[\"page_number\"] == 2].reset_index(drop=True)\n",
    "middlepages_test_df = middlepages_test_df.rename(columns={\"path\": \"directory\"})\n",
    "middlepages_test_df"
   ]
  },
  {
   "cell_type": "markdown",
   "metadata": {},
   "source": [
    "## Compare"
   ]
  },
  {
   "cell_type": "code",
   "execution_count": null,
   "metadata": {},
   "outputs": [],
   "source": [
    "def compare_classifiers(df):\n",
    "    middlepages_binary_prediction_df = binary_clf.predict_from_df(df)\n",
    "\n",
    "    middlepages_multiclass_prediction_df = multiclass_others_clf.predict_from_df(df)\n",
    "    middlepages_multiclass_prediction_df[\"true-label\"] = \"middlepage\"\n",
    "    middlepages_multiclass_prediction_df[\"predicted\"] = middlepages_multiclass_prediction_df[\"predicted\"].map(\n",
    "        lambda u: \"middlepage\" if u == \"other\" else \"firstpage\"\n",
    "    )\n",
    "\n",
    "    binary_acc = accuracy_score(\n",
    "        middlepages_binary_prediction_df[\"true-label\"], middlepages_binary_prediction_df[\"predicted\"]\n",
    "    )\n",
    "    multiclass_acc = accuracy_score(\n",
    "        middlepages_multiclass_prediction_df[\"true-label\"], middlepages_multiclass_prediction_df[\"predicted\"]\n",
    "    )\n",
    "\n",
    "    ConfusionMatrixDisplay.from_predictions(\n",
    "        middlepages_binary_prediction_df[\"true-label\"], middlepages_binary_prediction_df[\"predicted\"]\n",
    "    )\n",
    "    plt.title(f\"Binary (acc = {100*binary_acc:.2f}%)\")\n",
    "    plt.savefig(\"binary_middlepages_confusion_matrix.png\")\n",
    "    plt.show()\n",
    "\n",
    "    ConfusionMatrixDisplay.from_predictions(\n",
    "        middlepages_multiclass_prediction_df[\"true-label\"], middlepages_multiclass_prediction_df[\"predicted\"]\n",
    "    )\n",
    "    plt.title(f\"Multiclass (acc = {100*multiclass_acc:.2f}%)\")\n",
    "    plt.savefig(\"multiclass_middlepages_confusion_matrix.png\")\n",
    "    plt.show()"
   ]
  },
  {
   "cell_type": "code",
   "execution_count": null,
   "metadata": {},
   "outputs": [],
   "source": [
    "compare_classifiers(middlepages_test_df)"
   ]
  },
  {
   "cell_type": "code",
   "execution_count": null,
   "metadata": {},
   "outputs": [],
   "source": [
    "compare_classifiers(page_2_test_df)"
   ]
  },
  {
   "cell_type": "markdown",
   "metadata": {},
   "source": [
    "## Intersection of test sets"
   ]
  },
  {
   "cell_type": "code",
   "execution_count": 2,
   "metadata": {},
   "outputs": [],
   "source": []
  },
  {
   "cell_type": "code",
   "execution_count": 33,
   "metadata": {},
   "outputs": [],
   "source": [
    "def test_full_clf(binary, multiclass):\n",
    "    binary_test_df = pd.read_csv(\n",
    "        f\"/data/dssg/occrp/data/output/document_classifier/{binary}/model_inputs/test.txt\",\n",
    "        sep=\" \",\n",
    "        names=[\"file_path\", \"doc type str\"],\n",
    "        dtype=str,\n",
    "    )\n",
    "    multiclass_test_df = pd.read_csv(\n",
    "        f\"/data/dssg/occrp/data/output/document_classifier/{multiclass}/model_inputs/test.txt\",\n",
    "        sep=\" \",\n",
    "        names=[\"file_path\", \"doc type str\"],\n",
    "        dtype=str,\n",
    "    )\n",
    "\n",
    "    multiclass_labels_df = pd.read_csv(\n",
    "        f\"/data/dssg/occrp/data/output/document_classifier/{multiclass}/model_inputs/labels.csv\"\n",
    "    )\n",
    "\n",
    "    binary_test_df[\"dir\"] = binary_test_df[\"file_path\"].apply(lambda u: os.path.basename(os.path.dirname(u)))\n",
    "    multiclass_test_df[\"dir\"] = multiclass_test_df[\"file_path\"].apply(lambda u: os.path.basename(os.path.dirname(u)))\n",
    "    test_intersection_df = multiclass_test_df[multiclass_test_df[\"dir\"].isin(binary_test_df[\"dir\"])].reset_index()\n",
    "    print(\"test set size\", len(test_intersection_df))\n",
    "    test_intersection_df[\"file_path\"] = \"/data/dssg/occrp\" + test_intersection_df[\"file_path\"]\n",
    "\n",
    "    test_intersection_df[\"prediction\"] = predict_documents(test_intersection_df[\"file_path\"].to_list(), \"EfficientNetB4\")\n",
    "    test_intersection_df[\"prediction\"] = test_intersection_df[\"prediction\"].apply(lambda u: u[0])\n",
    "    test_intersection_df[\"doc type str\"] = test_intersection_df[\"doc type str\"].astype(\"int\")\n",
    "    test_intersection_df = test_intersection_df.merge(\n",
    "        multiclass_labels_df, left_on=\"doc type str\", right_on=\"index\", how=\"left\"\n",
    "    )\n",
    "\n",
    "    return accuracy_score(test_intersection_df[\"label\"], test_intersection_df[\"prediction\"])"
   ]
  },
  {
   "cell_type": "code",
   "execution_count": 34,
   "metadata": {},
   "outputs": [
    {
     "name": "stdout",
     "output_type": "stream",
     "text": [
      "test set size 55\n",
      "55\n"
     ]
    },
    {
     "name": "stderr",
     "output_type": "stream",
     "text": [
      "/home/cordero/.local/share/virtualenvs/dssgxdfki2022-occrp-kILcxiHt/lib/python3.8/site-packages/keras/preprocessing/image.py:930: UserWarning: `classes` will be ignored given the class_mode=\"None\"\n",
      "  warnings.warn(\n"
     ]
    },
    {
     "name": "stdout",
     "output_type": "stream",
     "text": [
      "Found 55 validated image filenames.\n",
      "3/3 [==============================] - 4s 407ms/step\n",
      "Found 54 validated image filenames.\n"
     ]
    },
    {
     "name": "stderr",
     "output_type": "stream",
     "text": [
      "/home/cordero/.local/share/virtualenvs/dssgxdfki2022-occrp-kILcxiHt/lib/python3.8/site-packages/keras/preprocessing/image.py:930: UserWarning: `classes` will be ignored given the class_mode=\"None\"\n",
      "  warnings.warn(\n"
     ]
    },
    {
     "name": "stdout",
     "output_type": "stream",
     "text": [
      "3/3 [==============================] - 4s 460ms/step\n"
     ]
    },
    {
     "data": {
      "text/plain": [
       "0.7636363636363637"
      ]
     },
     "execution_count": 34,
     "metadata": {},
     "output_type": "execute_result"
    }
   ],
   "source": [
    "test_full_clf(\"EfficientNetB4_2022_08_17-13_58_56\", \"EfficientNetB4_2022_08_16-11_34_48\")"
   ]
  },
  {
   "cell_type": "code",
   "execution_count": null,
   "metadata": {},
   "outputs": [],
   "source": [
    "test_full_clf(\"EfficientNetB4BW_2022_08_17-15_55_41\", \"EfficientNetB4_2022_08_16-11_34_48\")"
   ]
  }
 ],
 "metadata": {
  "kernelspec": {
   "display_name": "Python 3.8.12 ('dssgxdfki2022-occrp-kILcxiHt')",
   "language": "python",
   "name": "python3"
  },
  "language_info": {
   "codemirror_mode": {
    "name": "ipython",
    "version": 3
   },
   "file_extension": ".py",
   "mimetype": "text/x-python",
   "name": "python",
   "nbconvert_exporter": "python",
   "pygments_lexer": "ipython3",
   "version": "3.8.12"
  },
  "orig_nbformat": 4,
  "vscode": {
   "interpreter": {
    "hash": "61ee9f45260620374750326627e1fd5bedee03043b048591eb456597b4021b0a"
   }
  }
 },
 "nbformat": 4,
 "nbformat_minor": 2
}
