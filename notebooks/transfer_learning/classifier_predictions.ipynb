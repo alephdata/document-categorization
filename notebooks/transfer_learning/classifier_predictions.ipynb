{
 "cells": [
  {
   "cell_type": "code",
   "execution_count": 1,
   "metadata": {},
   "outputs": [],
   "source": [
    "from prediction.predict import (\n",
    "    predict_images,\n",
    "    predict_image,\n",
    "    predict_pdfs,\n",
    "    predict_pdf,\n",
    "    predict_documents,\n",
    "    predict_from_directory,\n",
    ")"
   ]
  },
  {
   "cell_type": "code",
   "execution_count": null,
   "metadata": {},
   "outputs": [],
   "source": [
    "predict_documents(\n",
    "    [\n",
    "        \"/data/dssg/occrp/data/processed_clean/contracts/d8ec9d477cd154ada19bdbf529d40839ed43d3de.a6b5a9415d9be4fa0f289f0554721fee5bc49557-7678_1671_001/1.jpg\",\n",
    "        \"/data/dssg/occrp/data/input/document_classification/passport-scan/f8af37ed40e344ee1577204830921370b1cac51c.3facdcb03e7d98a8b7e9662736ce249eb526b10d-E.pdf\",\n",
    "        \"/data/dssg/occrp/data/input/document_classification_clean/receipts/50450370.b86f5871cfd984229f084926f811686bbe38767a-B127354_13.tif\",\n",
    "        \"/data/dssg/occrp/data/input/document_classification/transcripts/UN ICTY Court Records/2168749.c0ad38c83d7174dab0e29c44c3574f0c09e689e8-TRS10494R2000444770.doc\",\n",
    "    ],\n",
    "    \"EfficientNetB4\",\n",
    ")"
   ]
  },
  {
   "cell_type": "code",
   "execution_count": 2,
   "metadata": {},
   "outputs": [
    {
     "name": "stderr",
     "output_type": "stream",
     "text": [
      "2022-08-18 11:53:20.205044: I tensorflow/stream_executor/cuda/cuda_gpu_executor.cc:975] successful NUMA node read from SysFS had negative value (-1), but there must be at least one NUMA node, so returning NUMA node zero\n",
      "2022-08-18 11:53:20.207241: I tensorflow/stream_executor/cuda/cuda_gpu_executor.cc:975] successful NUMA node read from SysFS had negative value (-1), but there must be at least one NUMA node, so returning NUMA node zero\n",
      "2022-08-18 11:53:20.215532: W tensorflow/stream_executor/platform/default/dso_loader.cc:64] Could not load dynamic library 'libcudnn.so.8'; dlerror: libcudnn.so.8: cannot open shared object file: No such file or directory; LD_LIBRARY_PATH: /home/cordero/.local/share/virtualenvs/dssgxdfki2022-occrp-kILcxiHt/lib64/python3.8/site-packages/cv2/../../lib64:\n",
      "2022-08-18 11:53:20.215561: W tensorflow/core/common_runtime/gpu/gpu_device.cc:1850] Cannot dlopen some GPU libraries. Please make sure the missing libraries mentioned above are installed properly if you would like to use GPU. Follow the guide at https://www.tensorflow.org/install/gpu for how to download and setup the required libraries for your platform.\n",
      "Skipping registering GPU devices...\n",
      "2022-08-18 11:53:20.217097: I tensorflow/core/platform/cpu_feature_guard.cc:193] This TensorFlow binary is optimized with oneAPI Deep Neural Network Library (oneDNN) to use the following CPU instructions in performance-critical operations:  AVX2 FMA\n",
      "To enable them in other operations, rebuild TensorFlow with the appropriate compiler flags.\n",
      "/home/cordero/.local/share/virtualenvs/dssgxdfki2022-occrp-kILcxiHt/lib/python3.8/site-packages/keras/preprocessing/image.py:930: UserWarning: `classes` will be ignored given the class_mode=\"None\"\n",
      "  warnings.warn(\n"
     ]
    },
    {
     "name": "stdout",
     "output_type": "stream",
     "text": [
      "Found 25 validated image filenames.\n",
      "1/1 [==============================] - 3s 3s/step\n",
      "Found 22 validated image filenames.\n"
     ]
    },
    {
     "name": "stderr",
     "output_type": "stream",
     "text": [
      "/home/cordero/.local/share/virtualenvs/dssgxdfki2022-occrp-kILcxiHt/lib/python3.8/site-packages/keras/preprocessing/image.py:930: UserWarning: `classes` will be ignored given the class_mode=\"None\"\n",
      "  warnings.warn(\n"
     ]
    },
    {
     "name": "stdout",
     "output_type": "stream",
     "text": [
      "1/1 [==============================] - 3s 3s/step\n"
     ]
    },
    {
     "data": {
      "text/plain": [
       "{'/data/dssg/occrp/data/testing_data/web/gazettes/bundesgesetzesblatt/Image_16.jpg': ['other'],\n",
       " '/data/dssg/occrp/data/testing_data/web/gazettes/bundesgesetzesblatt/Image_14.jpg': ['other'],\n",
       " '/data/dssg/occrp/data/testing_data/web/gazettes/bundesgesetzesblatt/Image_17.jpg': ['other'],\n",
       " '/data/dssg/occrp/data/testing_data/web/gazettes/bundesgesetzesblatt/Image_62.jpg': ['gazettes'],\n",
       " '/data/dssg/occrp/data/testing_data/web/gazettes/bundesgesetzesblatt/Image_77.jpg': ['gazettes'],\n",
       " '/data/dssg/occrp/data/testing_data/web/gazettes/bundesgesetzesblatt/Image_48.jpg': ['other'],\n",
       " '/data/dssg/occrp/data/testing_data/web/gazettes/bundesgesetzesblatt/Image_60.jpg': ['gazettes'],\n",
       " '/data/dssg/occrp/data/testing_data/web/gazettes/bundesgesetzesblatt/Image_58.jpg': ['other'],\n",
       " '/data/dssg/occrp/data/testing_data/web/gazettes/bundesgesetzesblatt/Image_65.jpg': ['other'],\n",
       " '/data/dssg/occrp/data/testing_data/web/gazettes/bundesgesetzesblatt/Image_66.jpg': ['other'],\n",
       " '/data/dssg/occrp/data/testing_data/web/gazettes/bundesgesetzesblatt/Image_57.jpg': ['gazettes'],\n",
       " '/data/dssg/occrp/data/testing_data/web/gazettes/bundesgesetzesblatt/Image_94.jpg': ['other'],\n",
       " '/data/dssg/occrp/data/testing_data/web/gazettes/bundesgesetzesblatt/Image_80.jpg': ['other'],\n",
       " '/data/dssg/occrp/data/testing_data/web/gazettes/bundesgesetzesblatt/Image_81.jpg': ['gazettes'],\n",
       " '/data/dssg/occrp/data/testing_data/web/gazettes/bundesgesetzesblatt/Image_1.jpg': ['gazettes'],\n",
       " '/data/dssg/occrp/data/testing_data/web/gazettes/bundesgesetzesblatt/Image_54.jpg': ['gazettes'],\n",
       " '/data/dssg/occrp/data/testing_data/web/gazettes/bundesgesetzesblatt/Image_82.jpg': ['gazettes'],\n",
       " '/data/dssg/occrp/data/testing_data/web/gazettes/bundesgesetzesblatt/Image_55.jpg': ['other'],\n",
       " '/data/dssg/occrp/data/testing_data/web/gazettes/bundesgesetzesblatt/Image_79.jpg': ['other'],\n",
       " '/data/dssg/occrp/data/testing_data/web/gazettes/bundesgesetzesblatt/Image_45.jpg': ['gazettes'],\n",
       " '/data/dssg/occrp/data/testing_data/web/gazettes/bundesgesetzesblatt/Image_93.jpg': ['gazettes'],\n",
       " '/data/dssg/occrp/data/testing_data/web/gazettes/bundesgesetzesblatt/Image_78.jpg': ['gazettes'],\n",
       " '/data/dssg/occrp/data/testing_data/web/gazettes/bundesgesetzesblatt/Image_91.jpg': ['gazettes'],\n",
       " '/data/dssg/occrp/data/testing_data/web/gazettes/bundesgesetzesblatt/Image_84.jpg': ['passport-scan'],\n",
       " '/data/dssg/occrp/data/testing_data/web/gazettes/bundesgesetzesblatt/Image_34.jpg': ['gazettes']}"
      ]
     },
     "execution_count": 2,
     "metadata": {},
     "output_type": "execute_result"
    }
   ],
   "source": [
    "predict_from_directory(\"/data/dssg/occrp/data/testing_data/web/gazettes/bundesgesetzesblatt\", \"EfficientNetB4\")"
   ]
  },
  {
   "cell_type": "code",
   "execution_count": null,
   "metadata": {},
   "outputs": [],
   "source": [
    "image_paths = [\n",
    "    \"/data/dssg/occrp/data/processed_clean/contracts/d8ec9d477cd154ada19bdbf529d40839ed43d3de.a6b5a9415d9be4fa0f289f0554721fee5bc49557-7678_1671_001/1.jpg\",\n",
    "    \"/data/dssg/occrp/data/processed_clean/gazettes/53247753.4eedb4916cecfdafdf8e0d9cfc20faf02c5ff772-Vol_CX_No/1.jpg\",\n",
    "]\n",
    "predict_images(image_paths)"
   ]
  },
  {
   "cell_type": "code",
   "execution_count": null,
   "metadata": {},
   "outputs": [],
   "source": [
    "image_path = \"/data/dssg/occrp/data/processed_clean/contracts/d8ec9d477cd154ada19bdbf529d40839ed43d3de.a6b5a9415d9be4fa0f289f0554721fee5bc49557-7678_1671_001/1.jpg\"\n",
    "predict_image(image_path)"
   ]
  },
  {
   "cell_type": "code",
   "execution_count": null,
   "metadata": {},
   "outputs": [],
   "source": [
    "pdf_paths = [\n",
    "    \"/data/dssg/occrp/data/input/document_classification/gazettes/The Kenya Gazette/53247866.765af9a165b83ecbdee79359bbbe620b241bb7d9-Vol_CIX_No.PDF\",\n",
    "    \"/data/dssg/occrp/data/input/document_classification/gazettes/The Kenya Gazette/53247860.5eada4d17c2bee7dbbe0966222cf1d29fa6025af-Vol_CIX_No.PDF\",\n",
    "    \"/data/dssg/occrp/data/input/document_classification/passport-scan/f8af37ed40e344ee1577204830921370b1cac51c.3facdcb03e7d98a8b7e9662736ce249eb526b10d-E.pdf\",\n",
    "    \"/data/dssg/occrp/data/input/document_classification/passport-scan/fc18c44488d423f17871060fa518b409924775df.e5259cc74939d9b81d33e8121b70ec724ad46e51-AMA_PP.pdf\",\n",
    "]\n",
    "predict_pdfs(pdf_paths)"
   ]
  },
  {
   "cell_type": "code",
   "execution_count": null,
   "metadata": {},
   "outputs": [],
   "source": [
    "pdf_path = \"/data/dssg/occrp/data/input/document_classification/bank-statements/c0ffd9cca9f1e330c1662774712a2e8579144468.35e8eac03c8a6ca20d95afa80e2dfd3381ad28a9-STATEMENT_DEC_2014.pdf\"\n",
    "predict_pdf(pdf_path)"
   ]
  },
  {
   "cell_type": "code",
   "execution_count": null,
   "metadata": {},
   "outputs": [],
   "source": []
  }
 ],
 "metadata": {
  "kernelspec": {
   "display_name": "Python 3.8.12 ('dssgxdfki2022-occrp-kILcxiHt')",
   "language": "python",
   "name": "python3"
  },
  "language_info": {
   "codemirror_mode": {
    "name": "ipython",
    "version": 3
   },
   "file_extension": ".py",
   "mimetype": "text/x-python",
   "name": "python",
   "nbconvert_exporter": "python",
   "pygments_lexer": "ipython3",
   "version": "3.8.12"
  },
  "orig_nbformat": 4,
  "vscode": {
   "interpreter": {
    "hash": "61ee9f45260620374750326627e1fd5bedee03043b048591eb456597b4021b0a"
   }
  }
 },
 "nbformat": 4,
 "nbformat_minor": 2
}
