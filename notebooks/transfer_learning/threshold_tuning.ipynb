{
 "cells": [
  {
   "cell_type": "markdown",
   "metadata": {},
   "source": [
    "# Document classifier - Threshold analysis"
   ]
  },
  {
   "cell_type": "code",
   "execution_count": 7,
   "metadata": {},
   "outputs": [],
   "source": [
    "import pandas as pd\n",
    "import os\n",
    "from utils.gaussian import get_classes_thresholds"
   ]
  },
  {
   "cell_type": "code",
   "execution_count": 2,
   "metadata": {},
   "outputs": [],
   "source": [
    "root_path = \"/data/dssg/occrp/data/output/document_classifier/AlexNet_2022_08_10-17_45_37\""
   ]
  },
  {
   "cell_type": "code",
   "execution_count": 3,
   "metadata": {},
   "outputs": [],
   "source": [
    "webtest_df = pd.read_csv(os.path.join(root_path, \"assessment\", \"webtest_predictions.csv\"))"
   ]
  },
  {
   "cell_type": "code",
   "execution_count": 5,
   "metadata": {},
   "outputs": [],
   "source": [
    "probabilities_per_class = {}\n",
    "\n",
    "for col in webtest_df.columns[:-2]:\n",
    "    probabilities_per_class[col] = webtest_df[webtest_df[\"true-label\"] == col][col].to_list()"
   ]
  },
  {
   "cell_type": "code",
   "execution_count": 8,
   "metadata": {},
   "outputs": [
    {
     "data": {
      "text/plain": [
       "{'bank-statements': 0.5,\n",
       " 'company-registry': 0.5,\n",
       " 'contracts': 0.5,\n",
       " 'court-documents': 0.5,\n",
       " 'gazettes': 0.7767344654941339,\n",
       " 'invoices': 0.5,\n",
       " 'passport-scan': 0.5,\n",
       " 'receipts': 0.5,\n",
       " 'shipping-receipts': 0.5}"
      ]
     },
     "execution_count": 8,
     "metadata": {},
     "output_type": "execute_result"
    }
   ],
   "source": [
    "get_classes_thresholds(probabilities_per_class)"
   ]
  },
  {
   "cell_type": "markdown",
   "metadata": {},
   "source": [
    "## Precision Recall curves"
   ]
  },
  {
   "cell_type": "code",
   "execution_count": null,
   "metadata": {},
   "outputs": [],
   "source": [
    "# TODO generate PR curves\n",
    "# TODO generate ROC curves"
   ]
  }
 ],
 "metadata": {
  "kernelspec": {
   "display_name": "Python 3.8.12 ('dssgxdfki2022-occrp-kILcxiHt')",
   "language": "python",
   "name": "python3"
  },
  "language_info": {
   "codemirror_mode": {
    "name": "ipython",
    "version": 3
   },
   "file_extension": ".py",
   "mimetype": "text/x-python",
   "name": "python",
   "nbconvert_exporter": "python",
   "pygments_lexer": "ipython3",
   "version": "3.8.12"
  },
  "orig_nbformat": 4,
  "vscode": {
   "interpreter": {
    "hash": "61ee9f45260620374750326627e1fd5bedee03043b048591eb456597b4021b0a"
   }
  }
 },
 "nbformat": 4,
 "nbformat_minor": 2
}
