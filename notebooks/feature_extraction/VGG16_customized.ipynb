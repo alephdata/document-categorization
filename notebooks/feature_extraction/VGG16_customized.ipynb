{
 "cells": [
  {
   "cell_type": "code",
   "execution_count": null,
   "metadata": {},
   "outputs": [],
   "source": [
    "# VGG16 customized --> 16 layers and 5 building blocks\n",
    "# https://www.youtube.com/watch?v=mjk4vDYOwq0\n",
    "# https://towardsdatascience.com/implementing-alexnet-cnn-architecture-using-tensorflow-2-0-and-keras-2113e090ad98"
   ]
  },
  {
   "cell_type": "code",
   "execution_count": null,
   "metadata": {},
   "outputs": [],
   "source": [
    "# pip install\n",
    "# pip install -U tensorflow-addons\n",
    "# !pip install -q \"tqdm>=4.36.1\""
   ]
  },
  {
   "cell_type": "code",
   "execution_count": 1,
   "metadata": {},
   "outputs": [],
   "source": [
    "from __future__ import print_function\n",
    "\n",
    "import numpy as np\n",
    "import warnings\n",
    "import pandas as pd\n",
    "import matplotlib.pyplot as plt\n",
    "import os, sys, path\n",
    "import cv2\n",
    "from PIL import Image\n",
    "\n",
    "from sklearn.preprocessing import LabelEncoder, OneHotEncoder\n",
    "from sklearn.utils import shuffle\n",
    "from sklearn.model_selection import train_test_split\n",
    "from sklearn.metrics import (\n",
    "    confusion_matrix,\n",
    "    precision_score,\n",
    "    recall_score,\n",
    "    f1_score,\n",
    "    cohen_kappa_score,\n",
    "    roc_auc_score,\n",
    "    precision_recall_fscore_support,\n",
    "    ConfusionMatrixDisplay,\n",
    ")\n",
    "\n",
    "from matplotlib.pyplot import imread\n",
    "from matplotlib.pyplot import imshow\n",
    "\n",
    "from tensorflow import compat as tf\n",
    "import tensorflow as tf\n",
    "import keras\n",
    "import tensorflow\n",
    "from keras.models import Model\n",
    "from keras.layers import Flatten\n",
    "from keras.layers import Dense\n",
    "from keras.layers import Input\n",
    "from keras.layers import Conv2D\n",
    "from keras.layers import MaxPooling2D\n",
    "from keras.layers import GlobalMaxPooling2D\n",
    "from keras.layers import GlobalAveragePooling2D\n",
    "from keras.preprocessing import image\n",
    "from keras.utils import layer_utils\n",
    "from keras.utils.data_utils import get_file\n",
    "from keras import backend as K\n",
    "from keras.applications.imagenet_utils import decode_predictions\n",
    "from keras.applications.imagenet_utils import preprocess_input\n",
    "\n",
    "import tqdm\n",
    "import tensorflow_addons as tfa\n",
    "import time\n",
    "\n",
    "import config"
   ]
  },
  {
   "cell_type": "code",
   "execution_count": 2,
   "metadata": {},
   "outputs": [],
   "source": [
    "# Set path for data\n",
    "DATA_PATH_ABS: str = config.settings.DATA_PATH_ABS_TOBACCO_DATASET\n",
    "\n",
    "# set random seed for purposes of reproducibility\n",
    "seed = 21"
   ]
  },
  {
   "cell_type": "code",
   "execution_count": 3,
   "metadata": {},
   "outputs": [
    {
     "name": "stdout",
     "output_type": "stream",
     "text": [
      "2.9.0\n"
     ]
    }
   ],
   "source": [
    "# check versions of packages\n",
    "print(keras.__version__)"
   ]
  },
  {
   "cell_type": "code",
   "execution_count": 4,
   "metadata": {},
   "outputs": [
    {
     "name": "stdout",
     "output_type": "stream",
     "text": [
      "4.64.0\n"
     ]
    }
   ],
   "source": [
    "# check versions of packages\n",
    "print(tqdm.__version__)"
   ]
  },
  {
   "cell_type": "code",
   "execution_count": null,
   "metadata": {},
   "outputs": [],
   "source": [
    "#########################################\n",
    "# create model\n",
    "#########################################"
   ]
  },
  {
   "cell_type": "code",
   "execution_count": 2,
   "metadata": {},
   "outputs": [],
   "source": [
    "# create function to create model\n",
    "\n",
    "\n",
    "def VGGupdated(input_tensor=None, classes=10):  # in our case probabaly six classes\n",
    "\n",
    "    img_rows, img_cols = 300, 300  # by default its 224,224 --> can also change that\n",
    "    img_channels = 3  # colored pictures\n",
    "\n",
    "    img_dim = (img_rows, img_cols, img_channels)\n",
    "    img_input = Input(shape=img_dim)\n",
    "\n",
    "    # Block 1 # relu replace all negative values with 0, padding same means that output image has smimilar size to input image\n",
    "    x = Conv2D(64, (3, 3), activation=\"relu\", padding=\"same\", name=\"block1_conv1\")(\n",
    "        img_input\n",
    "    )  # 64 is number of filter, 3x3 is size of filter\n",
    "    x = Conv2D(64, (3, 3), activation=\"relu\", padding=\"same\", name=\"block1_conv2\")(x)\n",
    "    x = MaxPooling2D((2, 2), strides=(2, 2), name=\"block1_pool\")(\n",
    "        x\n",
    "    )  # reduce image size, stride means how much we want to jump horizontally and vertically\n",
    "\n",
    "    # Block 2\n",
    "    x = Conv2D(128, (3, 3), activation=\"relu\", padding=\"same\", name=\"block2_conv1\")(x)\n",
    "    x = Conv2D(128, (3, 3), activation=\"relu\", padding=\"same\", name=\"block2_conv2\")(x)\n",
    "    x = MaxPooling2D((2, 2), strides=(2, 2), name=\"block2_pool\")(x)\n",
    "\n",
    "    # Block 3\n",
    "    x = Conv2D(256, (3, 3), activation=\"relu\", padding=\"same\", name=\"block3_conv1\")(x)\n",
    "    x = Conv2D(256, (3, 3), activation=\"relu\", padding=\"same\", name=\"block3_conv2\")(x)\n",
    "    x = Conv2D(256, (3, 3), activation=\"relu\", padding=\"same\", name=\"block3_conv3\")(x)\n",
    "    x = MaxPooling2D((2, 2), strides=(2, 2), name=\"block3_pool\")(x)\n",
    "\n",
    "    # Block 4\n",
    "    x = Conv2D(512, (3, 3), activation=\"relu\", padding=\"same\", name=\"block4_conv1\")(x)\n",
    "    x = Conv2D(512, (3, 3), activation=\"relu\", padding=\"same\", name=\"block4_conv2\")(x)\n",
    "    x = Conv2D(512, (3, 3), activation=\"relu\", padding=\"same\", name=\"block4_conv3\")(x)\n",
    "    x = MaxPooling2D((2, 2), strides=(2, 2), name=\"block4_pool\")(x)\n",
    "\n",
    "    # Block 5\n",
    "    x = Conv2D(512, (3, 3), activation=\"relu\", padding=\"same\", name=\"block5_conv1\")(x)\n",
    "    x = Conv2D(512, (3, 3), activation=\"relu\", padding=\"same\", name=\"block5_conv2\")(x)\n",
    "    x = Conv2D(512, (3, 3), activation=\"relu\", padding=\"same\", name=\"block5_conv3\")(x)\n",
    "    x = MaxPooling2D((2, 2), strides=(2, 2), name=\"block5_pool\")(x)\n",
    "\n",
    "    # Classification block\n",
    "    x = Flatten(name=\"flatten\")(x)\n",
    "    x = Dense(4096, activation=\"relu\", name=\"fc1\")(x)  # fully connected layers, 4096 number of neurons\n",
    "    x = Dense(4096, activation=\"relu\", name=\"fc2\")(x)\n",
    "    x = Dense(classes, activation=\"softmax\", name=\"predictio\")(x)\n",
    "\n",
    "    # Create model\n",
    "\n",
    "    model = Model(inputs=img_input, outputs=x, name=\"VGGmodel\")\n",
    "\n",
    "    return model"
   ]
  },
  {
   "cell_type": "code",
   "execution_count": 3,
   "metadata": {},
   "outputs": [
    {
     "name": "stderr",
     "output_type": "stream",
     "text": [
      "2022-08-10 11:07:36.152889: I tensorflow/stream_executor/cuda/cuda_gpu_executor.cc:975] successful NUMA node read from SysFS had negative value (-1), but there must be at least one NUMA node, so returning NUMA node zero\n",
      "2022-08-10 11:07:36.154378: I tensorflow/stream_executor/cuda/cuda_gpu_executor.cc:975] successful NUMA node read from SysFS had negative value (-1), but there must be at least one NUMA node, so returning NUMA node zero\n",
      "2022-08-10 11:07:36.162684: W tensorflow/stream_executor/platform/default/dso_loader.cc:64] Could not load dynamic library 'libcudnn.so.8'; dlerror: libcudnn.so.8: cannot open shared object file: No such file or directory; LD_LIBRARY_PATH: /home/thenn/.local/share/virtualenvs/dssgxdfki2022-occrp-CY4k_1kg/lib64/python3.8/site-packages/cv2/../../lib64:\n",
      "2022-08-10 11:07:36.162708: W tensorflow/core/common_runtime/gpu/gpu_device.cc:1850] Cannot dlopen some GPU libraries. Please make sure the missing libraries mentioned above are installed properly if you would like to use GPU. Follow the guide at https://www.tensorflow.org/install/gpu for how to download and setup the required libraries for your platform.\n",
      "Skipping registering GPU devices...\n",
      "2022-08-10 11:07:36.165709: I tensorflow/core/platform/cpu_feature_guard.cc:193] This TensorFlow binary is optimized with oneAPI Deep Neural Network Library (oneDNN) to use the following CPU instructions in performance-critical operations:  AVX2 FMA\n",
      "To enable them in other operations, rebuild TensorFlow with the appropriate compiler flags.\n"
     ]
    }
   ],
   "source": [
    "# create the model\n",
    "model = VGGupdated(classes=10)"
   ]
  },
  {
   "cell_type": "code",
   "execution_count": 7,
   "metadata": {},
   "outputs": [],
   "source": [
    "# compile model\n",
    "model.compile(\n",
    "    optimizer=\"adam\",\n",
    "    loss=\"categorical_crossentropy\",\n",
    "    metrics=[\"accuracy\"],\n",
    ")"
   ]
  },
  {
   "cell_type": "code",
   "execution_count": 4,
   "metadata": {},
   "outputs": [
    {
     "name": "stdout",
     "output_type": "stream",
     "text": [
      "Model: \"VGGmodel\"\n",
      "_________________________________________________________________\n",
      " Layer (type)                Output Shape              Param #   \n",
      "=================================================================\n",
      " input_1 (InputLayer)        [(None, 300, 300, 3)]     0         \n",
      "                                                                 \n",
      " block1_conv1 (Conv2D)       (None, 300, 300, 64)      1792      \n",
      "                                                                 \n",
      " block1_conv2 (Conv2D)       (None, 300, 300, 64)      36928     \n",
      "                                                                 \n",
      " block1_pool (MaxPooling2D)  (None, 150, 150, 64)      0         \n",
      "                                                                 \n",
      " block2_conv1 (Conv2D)       (None, 150, 150, 128)     73856     \n",
      "                                                                 \n",
      " block2_conv2 (Conv2D)       (None, 150, 150, 128)     147584    \n",
      "                                                                 \n",
      " block2_pool (MaxPooling2D)  (None, 75, 75, 128)       0         \n",
      "                                                                 \n",
      " block3_conv1 (Conv2D)       (None, 75, 75, 256)       295168    \n",
      "                                                                 \n",
      " block3_conv2 (Conv2D)       (None, 75, 75, 256)       590080    \n",
      "                                                                 \n",
      " block3_conv3 (Conv2D)       (None, 75, 75, 256)       590080    \n",
      "                                                                 \n",
      " block3_pool (MaxPooling2D)  (None, 37, 37, 256)       0         \n",
      "                                                                 \n",
      " block4_conv1 (Conv2D)       (None, 37, 37, 512)       1180160   \n",
      "                                                                 \n",
      " block4_conv2 (Conv2D)       (None, 37, 37, 512)       2359808   \n",
      "                                                                 \n",
      " block4_conv3 (Conv2D)       (None, 37, 37, 512)       2359808   \n",
      "                                                                 \n",
      " block4_pool (MaxPooling2D)  (None, 18, 18, 512)       0         \n",
      "                                                                 \n",
      " block5_conv1 (Conv2D)       (None, 18, 18, 512)       2359808   \n",
      "                                                                 \n",
      " block5_conv2 (Conv2D)       (None, 18, 18, 512)       2359808   \n",
      "                                                                 \n",
      " block5_conv3 (Conv2D)       (None, 18, 18, 512)       2359808   \n",
      "                                                                 \n",
      " block5_pool (MaxPooling2D)  (None, 9, 9, 512)         0         \n",
      "                                                                 \n",
      " flatten (Flatten)           (None, 41472)             0         \n",
      "                                                                 \n",
      " fc1 (Dense)                 (None, 4096)              169873408 \n",
      "                                                                 \n",
      " fc2 (Dense)                 (None, 4096)              16781312  \n",
      "                                                                 \n",
      " predictio (Dense)           (None, 10)                40970     \n",
      "                                                                 \n",
      "=================================================================\n",
      "Total params: 201,410,378\n",
      "Trainable params: 201,410,378\n",
      "Non-trainable params: 0\n",
      "_________________________________________________________________\n"
     ]
    }
   ],
   "source": [
    "# model summary\n",
    "model.summary()"
   ]
  },
  {
   "cell_type": "code",
   "execution_count": null,
   "metadata": {},
   "outputs": [],
   "source": [
    "#########################################\n",
    "# load and transform data\n",
    "#########################################"
   ]
  },
  {
   "cell_type": "code",
   "execution_count": 9,
   "metadata": {},
   "outputs": [
    {
     "ename": "FileNotFoundError",
     "evalue": "[Errno 2] No such file or directory: '/data/dssg/occrp/data/input/tobacco_dataset/'",
     "output_type": "error",
     "traceback": [
      "\u001b[0;31m---------------------------------------------------------------------------\u001b[0m",
      "\u001b[0;31mFileNotFoundError\u001b[0m                         Traceback (most recent call last)",
      "\u001b[1;32m/Users/there/Doktorand/Workshops/DSSG Summer Fellowship/OCCRP/OCCRP_Repo/dssgxdfki2022-occrp/notebooks/VGG16_customized.ipynb Cell 13'\u001b[0m in \u001b[0;36m<cell line: 3>\u001b[0;34m()\u001b[0m\n\u001b[1;32m      <a href='vscode-notebook-cell:/Users/there/Doktorand/Workshops/DSSG%20Summer%20Fellowship/OCCRP/OCCRP_Repo/dssgxdfki2022-occrp/notebooks/VGG16_customized.ipynb#ch0000013?line=0'>1</a>\u001b[0m \u001b[39m# Load tabacco data\u001b[39;00m\n\u001b[0;32m----> <a href='vscode-notebook-cell:/Users/there/Doktorand/Workshops/DSSG%20Summer%20Fellowship/OCCRP/OCCRP_Repo/dssgxdfki2022-occrp/notebooks/VGG16_customized.ipynb#ch0000013?line=2'>3</a>\u001b[0m doc_types \u001b[39m=\u001b[39m os\u001b[39m.\u001b[39;49mlistdir(DATA_PATH_ABS)\n\u001b[1;32m      <a href='vscode-notebook-cell:/Users/there/Doktorand/Workshops/DSSG%20Summer%20Fellowship/OCCRP/OCCRP_Repo/dssgxdfki2022-occrp/notebooks/VGG16_customized.ipynb#ch0000013?line=3'>4</a>\u001b[0m \u001b[39mprint\u001b[39m(\n\u001b[1;32m      <a href='vscode-notebook-cell:/Users/there/Doktorand/Workshops/DSSG%20Summer%20Fellowship/OCCRP/OCCRP_Repo/dssgxdfki2022-occrp/notebooks/VGG16_customized.ipynb#ch0000013?line=4'>5</a>\u001b[0m     \u001b[39m\"\u001b[39m\u001b[39mTypes of document types:\u001b[39m\u001b[39m\"\u001b[39m, \u001b[39m*\u001b[39mdoc_types, sep\u001b[39m=\u001b[39m\u001b[39m\"\u001b[39m\u001b[39m \u001b[39m\u001b[39m\"\u001b[39m\n\u001b[1;32m      <a href='vscode-notebook-cell:/Users/there/Doktorand/Workshops/DSSG%20Summer%20Fellowship/OCCRP/OCCRP_Repo/dssgxdfki2022-occrp/notebooks/VGG16_customized.ipynb#ch0000013?line=5'>6</a>\u001b[0m )  \u001b[39m# what kinds of documents do we have\u001b[39;00m\n\u001b[1;32m      <a href='vscode-notebook-cell:/Users/there/Doktorand/Workshops/DSSG%20Summer%20Fellowship/OCCRP/OCCRP_Repo/dssgxdfki2022-occrp/notebooks/VGG16_customized.ipynb#ch0000013?line=6'>7</a>\u001b[0m \u001b[39mprint\u001b[39m(\u001b[39m\"\u001b[39m\u001b[39mTypes of documents founds:\u001b[39m\u001b[39m\"\u001b[39m, \u001b[39mlen\u001b[39m(doc_types))\n",
      "\u001b[0;31mFileNotFoundError\u001b[0m: [Errno 2] No such file or directory: '/data/dssg/occrp/data/input/tobacco_dataset/'"
     ]
    }
   ],
   "source": [
    "# Load tabacco data\n",
    "\n",
    "doc_types = os.listdir(DATA_PATH_ABS)\n",
    "print(\"Types of document types:\", *doc_types, sep=\" \")  # what kinds of documents do we have\n",
    "print(\"Types of documents founds:\", len(doc_types))\n",
    "print(doc_types)\n",
    "\n",
    "# if you need to remove DS_Store file: rm -f .DS_Store"
   ]
  },
  {
   "cell_type": "code",
   "execution_count": 8,
   "metadata": {},
   "outputs": [],
   "source": [
    "# load data\n",
    "documents = []\n",
    "\n",
    "for item in doc_types:\n",
    "    # get all the file names\n",
    "    all_documents = os.listdir(DATA_PATH_ABS + item)\n",
    "    # print(all_documents)\n",
    "\n",
    "    # add them to the list\n",
    "    for document in all_documents:\n",
    "        documents.append((item, str(DATA_PATH_ABS + item) + \"/\" + document))\n",
    "        # print(documents)"
   ]
  },
  {
   "cell_type": "code",
   "execution_count": 9,
   "metadata": {},
   "outputs": [
    {
     "name": "stdout",
     "output_type": "stream",
     "text": [
      "  document_type                               image\n",
      "0          Note  Tobacco3482/Note/70057287-7287.jpg\n",
      "1          Note       Tobacco3482/Note/50076168.jpg\n",
      "2          Note    Tobacco3482/Note/2074071502a.jpg\n",
      "3          Note     Tobacco3482/Note/2044183733.jpg\n",
      "4          Note       Tobacco3482/Note/60019614.jpg\n"
     ]
    }
   ],
   "source": [
    "# build dataframe\n",
    "documents_df = pd.DataFrame(data=documents, columns=[\"document_type\", \"image\"])\n",
    "print(documents_df.head())"
   ]
  },
  {
   "cell_type": "code",
   "execution_count": 10,
   "metadata": {},
   "outputs": [
    {
     "name": "stdout",
     "output_type": "stream",
     "text": [
      "Total number of documents in the dataset:  3482\n",
      "Documents in each category: \n",
      "Memo          620\n",
      "Email         599\n",
      "Letter        567\n",
      "Form          431\n",
      "Report        265\n",
      "Scientific    261\n",
      "ADVE          230\n",
      "Note          201\n",
      "News          188\n",
      "Resume        120\n",
      "Name: document_type, dtype: int64\n"
     ]
    }
   ],
   "source": [
    "# check how many samples for each category\n",
    "print(\"Total number of documents in the dataset: \", len(documents_df))\n",
    "documents_count = documents_df[\"document_type\"].value_counts()\n",
    "print(\"Documents in each category: \")\n",
    "print(documents_count)"
   ]
  },
  {
   "cell_type": "code",
   "execution_count": 11,
   "metadata": {},
   "outputs": [],
   "source": [
    "# resize images\n",
    "\n",
    "im_size = 300\n",
    "\n",
    "images = []\n",
    "labels = []\n",
    "broken = []\n",
    "\n",
    "for i in doc_types:\n",
    "    doc_list = DATA_PATH_ABS + str(i)\n",
    "    filenames = [i for i in os.listdir(doc_list)]\n",
    "\n",
    "    for f in filenames:\n",
    "        try:\n",
    "            img = cv2.imread(doc_list + \"/\" + f)\n",
    "            img = cv2.resize(img, (im_size, im_size))\n",
    "            images.append(img)\n",
    "            labels.append(i)\n",
    "        except Exception:\n",
    "            broken.append(f)\n",
    "            # labels.drop(i)"
   ]
  },
  {
   "cell_type": "code",
   "execution_count": 12,
   "metadata": {},
   "outputs": [
    {
     "data": {
      "text/plain": [
       "[]"
      ]
     },
     "execution_count": 12,
     "metadata": {},
     "output_type": "execute_result"
    }
   ],
   "source": [
    "# check for broken images and remove them from folder\n",
    "broken"
   ]
  },
  {
   "cell_type": "code",
   "execution_count": 13,
   "metadata": {},
   "outputs": [
    {
     "data": {
      "text/plain": [
       "(3482, 300, 300, 3)"
      ]
     },
     "execution_count": 13,
     "metadata": {},
     "output_type": "execute_result"
    }
   ],
   "source": [
    "# transform to numpy array\n",
    "images = np.array(images)\n",
    "images = images.astype(\"float32\") / 255.0  # 255 maximum number of pixels\n",
    "\n",
    "images.shape"
   ]
  },
  {
   "cell_type": "code",
   "execution_count": 14,
   "metadata": {},
   "outputs": [
    {
     "name": "stdout",
     "output_type": "stream",
     "text": [
      "[6 6 6 ... 9 9 9]\n"
     ]
    }
   ],
   "source": [
    "# transform labels into numbers\n",
    "y = documents_df[\"document_type\"].values\n",
    "y_labelencoder = LabelEncoder()\n",
    "y = y_labelencoder.fit_transform(y)\n",
    "print(y)"
   ]
  },
  {
   "cell_type": "code",
   "execution_count": 15,
   "metadata": {},
   "outputs": [
    {
     "data": {
      "text/plain": [
       "(3482, 10)"
      ]
     },
     "execution_count": 15,
     "metadata": {},
     "output_type": "execute_result"
    }
   ],
   "source": [
    "# transform numbers into one hot encoding\n",
    "y = y.reshape(-1, 1)\n",
    "onehotencoder = OneHotEncoder(categories=\"auto\", sparse=False)\n",
    "Y = onehotencoder.fit_transform(y)\n",
    "\n",
    "Y.shape"
   ]
  },
  {
   "cell_type": "code",
   "execution_count": 16,
   "metadata": {},
   "outputs": [
    {
     "name": "stdout",
     "output_type": "stream",
     "text": [
      "(2785, 300, 300, 3)\n",
      "(2785, 10)\n",
      "(697, 300, 300, 3)\n",
      "(697, 10)\n"
     ]
    }
   ],
   "source": [
    "# shuffle and split training data\n",
    "\n",
    "images, Y = shuffle(images, Y, random_state=1)\n",
    "\n",
    "train_x, test_x, train_y, test_y = train_test_split(images, Y, test_size=0.2, random_state=415)\n",
    "\n",
    "print(train_x.shape)\n",
    "print(train_y.shape)\n",
    "print(test_x.shape)\n",
    "print(test_y.shape)"
   ]
  },
  {
   "cell_type": "code",
   "execution_count": null,
   "metadata": {},
   "outputs": [],
   "source": [
    "#########################################\n",
    "# fit the model\n",
    "#########################################"
   ]
  },
  {
   "cell_type": "code",
   "execution_count": 18,
   "metadata": {},
   "outputs": [],
   "source": [
    "# create tensorflow board\n",
    "PATH_LOGS = os.path.join(\n",
    "    os.getcwd(),\n",
    "    config.settings.DATA_FOLDER_LOGS,\n",
    ")\n",
    "\n",
    "\n",
    "def get_run_logdir():\n",
    "    run_id = time.strftime(\"run_%Y_%m_%d-%H_%M_%S\")\n",
    "    return os.path.join(PATH_LOGS, run_id)\n",
    "\n",
    "\n",
    "run_logdir = get_run_logdir()\n",
    "tensorboard_cb = keras.callbacks.TensorBoard(run_logdir)"
   ]
  },
  {
   "cell_type": "code",
   "execution_count": 21,
   "metadata": {},
   "outputs": [
    {
     "name": "stderr",
     "output_type": "stream",
     "text": [
      "Training:   0%|           0/7 ETA: ?s,  ?epochs/s"
     ]
    },
    {
     "name": "stdout",
     "output_type": "stream",
     "text": [
      "Epoch 1/7\n"
     ]
    },
    {
     "name": "stderr",
     "output_type": "stream",
     "text": []
    },
    {
     "name": "stdout",
     "output_type": "stream",
     "text": [
      "Epoch 1/7\n"
     ]
    },
    {
     "name": "stderr",
     "output_type": "stream",
     "text": []
    },
    {
     "name": "stdout",
     "output_type": "stream",
     "text": [
      " 1/61 [..............................] - ETA: 34:38 - loss: 2.3028 - accuracy: 0.0312"
     ]
    },
    {
     "name": "stderr",
     "output_type": "stream",
     "text": []
    },
    {
     "name": "stdout",
     "output_type": "stream",
     "text": [
      " 2/61 [..............................] - ETA: 26:12 - loss: 2.3030 - accuracy: 0.0156"
     ]
    },
    {
     "name": "stderr",
     "output_type": "stream",
     "text": []
    },
    {
     "name": "stdout",
     "output_type": "stream",
     "text": [
      " 3/61 [>.............................] - ETA: 25:08 - loss: 2.3030 - accuracy: 0.0104"
     ]
    },
    {
     "name": "stderr",
     "output_type": "stream",
     "text": []
    },
    {
     "name": "stdout",
     "output_type": "stream",
     "text": [
      " 4/61 [>.............................] - ETA: 24:29 - loss: 2.3029 - accuracy: 0.0156"
     ]
    },
    {
     "name": "stderr",
     "output_type": "stream",
     "text": []
    },
    {
     "name": "stdout",
     "output_type": "stream",
     "text": [
      " 5/61 [=>............................] - ETA: 24:03 - loss: 2.3029 - accuracy: 0.0312"
     ]
    },
    {
     "name": "stderr",
     "output_type": "stream",
     "text": []
    },
    {
     "name": "stdout",
     "output_type": "stream",
     "text": [
      " 6/61 [=>............................] - ETA: 23:40 - loss: 2.3028 - accuracy: 0.0365"
     ]
    },
    {
     "name": "stderr",
     "output_type": "stream",
     "text": []
    },
    {
     "name": "stdout",
     "output_type": "stream",
     "text": [
      " 7/61 [==>...........................] - ETA: 23:16 - loss: 2.3028 - accuracy: 0.0357"
     ]
    },
    {
     "name": "stderr",
     "output_type": "stream",
     "text": []
    },
    {
     "name": "stdout",
     "output_type": "stream",
     "text": [
      " 8/61 [==>...........................] - ETA: 22:56 - loss: 2.3027 - accuracy: 0.0430"
     ]
    },
    {
     "name": "stderr",
     "output_type": "stream",
     "text": []
    },
    {
     "name": "stdout",
     "output_type": "stream",
     "text": [
      " 9/61 [===>..........................] - ETA: 22:32 - loss: 2.3027 - accuracy: 0.0417"
     ]
    },
    {
     "name": "stderr",
     "output_type": "stream",
     "text": []
    },
    {
     "name": "stdout",
     "output_type": "stream",
     "text": [
      "10/61 [===>..........................] - ETA: 21:59 - loss: 2.3027 - accuracy: 0.0375"
     ]
    },
    {
     "name": "stderr",
     "output_type": "stream",
     "text": []
    },
    {
     "name": "stdout",
     "output_type": "stream",
     "text": [
      "11/61 [====>.........................] - ETA: 21:29 - loss: 2.3026 - accuracy: 0.0511"
     ]
    },
    {
     "name": "stderr",
     "output_type": "stream",
     "text": []
    },
    {
     "name": "stdout",
     "output_type": "stream",
     "text": [
      "12/61 [====>.........................] - ETA: 20:56 - loss: 2.3025 - accuracy: 0.0573"
     ]
    },
    {
     "name": "stderr",
     "output_type": "stream",
     "text": []
    },
    {
     "name": "stdout",
     "output_type": "stream",
     "text": [
      "13/61 [=====>........................] - ETA: 20:33 - loss: 2.3026 - accuracy: 0.0625"
     ]
    },
    {
     "name": "stderr",
     "output_type": "stream",
     "text": []
    },
    {
     "name": "stdout",
     "output_type": "stream",
     "text": [
      "14/61 [=====>........................] - ETA: 20:05 - loss: 2.3025 - accuracy: 0.0670"
     ]
    },
    {
     "name": "stderr",
     "output_type": "stream",
     "text": []
    },
    {
     "name": "stdout",
     "output_type": "stream",
     "text": [
      "15/61 [======>.......................] - ETA: 19:37 - loss: 2.3024 - accuracy: 0.0854"
     ]
    },
    {
     "name": "stderr",
     "output_type": "stream",
     "text": []
    },
    {
     "name": "stdout",
     "output_type": "stream",
     "text": [
      "16/61 [======>.......................] - ETA: 19:09 - loss: 2.3024 - accuracy: 0.0918"
     ]
    },
    {
     "name": "stderr",
     "output_type": "stream",
     "text": []
    },
    {
     "name": "stdout",
     "output_type": "stream",
     "text": [
      "17/61 [=======>......................] - ETA: 18:41 - loss: 2.3023 - accuracy: 0.0956"
     ]
    },
    {
     "name": "stderr",
     "output_type": "stream",
     "text": []
    },
    {
     "name": "stdout",
     "output_type": "stream",
     "text": [
      "18/61 [=======>......................] - ETA: 18:28 - loss: 2.3023 - accuracy: 0.0955"
     ]
    },
    {
     "name": "stderr",
     "output_type": "stream",
     "text": []
    },
    {
     "name": "stdout",
     "output_type": "stream",
     "text": [
      "19/61 [========>.....................] - ETA: 18:03 - loss: 2.3022 - accuracy: 0.0987"
     ]
    },
    {
     "name": "stderr",
     "output_type": "stream",
     "text": []
    },
    {
     "name": "stdout",
     "output_type": "stream",
     "text": [
      "20/61 [========>.....................] - ETA: 17:40 - loss: 2.3022 - accuracy: 0.1047"
     ]
    },
    {
     "name": "stderr",
     "output_type": "stream",
     "text": []
    },
    {
     "name": "stdout",
     "output_type": "stream",
     "text": [
      "21/61 [=========>....................] - ETA: 17:14 - loss: 2.3022 - accuracy: 0.1146"
     ]
    },
    {
     "name": "stderr",
     "output_type": "stream",
     "text": []
    },
    {
     "name": "stdout",
     "output_type": "stream",
     "text": [
      "22/61 [=========>....................] - ETA: 16:48 - loss: 2.3021 - accuracy: 0.1250"
     ]
    },
    {
     "name": "stderr",
     "output_type": "stream",
     "text": []
    },
    {
     "name": "stdout",
     "output_type": "stream",
     "text": [
      "23/61 [==========>...................] - ETA: 16:22 - loss: 2.3021 - accuracy: 0.1332"
     ]
    },
    {
     "name": "stderr",
     "output_type": "stream",
     "text": []
    },
    {
     "name": "stdout",
     "output_type": "stream",
     "text": [
      "24/61 [==========>...................] - ETA: 15:56 - loss: 2.3020 - accuracy: 0.1445"
     ]
    },
    {
     "name": "stderr",
     "output_type": "stream",
     "text": []
    },
    {
     "name": "stdout",
     "output_type": "stream",
     "text": [
      "25/61 [===========>..................] - ETA: 15:30 - loss: 2.3020 - accuracy: 0.1513"
     ]
    },
    {
     "name": "stderr",
     "output_type": "stream",
     "text": []
    },
    {
     "name": "stdout",
     "output_type": "stream",
     "text": [
      "26/61 [===========>..................] - ETA: 15:02 - loss: 2.3019 - accuracy: 0.1550"
     ]
    },
    {
     "name": "stderr",
     "output_type": "stream",
     "text": []
    },
    {
     "name": "stdout",
     "output_type": "stream",
     "text": [
      "27/61 [============>.................] - ETA: 14:36 - loss: 2.3019 - accuracy: 0.1574"
     ]
    },
    {
     "name": "stderr",
     "output_type": "stream",
     "text": []
    },
    {
     "name": "stdout",
     "output_type": "stream",
     "text": [
      "28/61 [============>.................] - ETA: 14:10 - loss: 2.3018 - accuracy: 0.1574"
     ]
    },
    {
     "name": "stderr",
     "output_type": "stream",
     "text": []
    },
    {
     "name": "stdout",
     "output_type": "stream",
     "text": [
      "29/61 [=============>................] - ETA: 13:44 - loss: 2.3018 - accuracy: 0.1595"
     ]
    },
    {
     "name": "stderr",
     "output_type": "stream",
     "text": []
    },
    {
     "name": "stdout",
     "output_type": "stream",
     "text": [
      "30/61 [=============>................] - ETA: 13:18 - loss: 2.3018 - accuracy: 0.1635"
     ]
    },
    {
     "name": "stderr",
     "output_type": "stream",
     "text": []
    },
    {
     "name": "stdout",
     "output_type": "stream",
     "text": [
      "31/61 [==============>...............] - ETA: 12:52 - loss: 2.3017 - accuracy: 0.1663"
     ]
    },
    {
     "name": "stderr",
     "output_type": "stream",
     "text": []
    },
    {
     "name": "stdout",
     "output_type": "stream",
     "text": [
      "32/61 [==============>...............] - ETA: 12:28 - loss: 2.3017 - accuracy: 0.1670"
     ]
    },
    {
     "name": "stderr",
     "output_type": "stream",
     "text": []
    },
    {
     "name": "stdout",
     "output_type": "stream",
     "text": [
      "33/61 [===============>..............] - ETA: 12:01 - loss: 2.3017 - accuracy: 0.1723"
     ]
    },
    {
     "name": "stderr",
     "output_type": "stream",
     "text": []
    },
    {
     "name": "stdout",
     "output_type": "stream",
     "text": [
      "34/61 [===============>..............] - ETA: 11:35 - loss: 2.3017 - accuracy: 0.1737"
     ]
    },
    {
     "name": "stderr",
     "output_type": "stream",
     "text": []
    },
    {
     "name": "stdout",
     "output_type": "stream",
     "text": [
      "35/61 [================>.............] - ETA: 11:09 - loss: 2.3016 - accuracy: 0.1750"
     ]
    },
    {
     "name": "stderr",
     "output_type": "stream",
     "text": []
    },
    {
     "name": "stdout",
     "output_type": "stream",
     "text": [
      "36/61 [================>.............] - ETA: 10:43 - loss: 2.3015 - accuracy: 0.1727"
     ]
    },
    {
     "name": "stderr",
     "output_type": "stream",
     "text": []
    },
    {
     "name": "stdout",
     "output_type": "stream",
     "text": [
      "37/61 [=================>............] - ETA: 10:18 - loss: 2.3015 - accuracy: 0.1715"
     ]
    },
    {
     "name": "stderr",
     "output_type": "stream",
     "text": []
    },
    {
     "name": "stdout",
     "output_type": "stream",
     "text": [
      "38/61 [=================>............] - ETA: 9:52 - loss: 2.3015 - accuracy: 0.1702 "
     ]
    },
    {
     "name": "stderr",
     "output_type": "stream",
     "text": []
    },
    {
     "name": "stdout",
     "output_type": "stream",
     "text": [
      "39/61 [==================>...........] - ETA: 9:26 - loss: 2.3014 - accuracy: 0.1691"
     ]
    },
    {
     "name": "stderr",
     "output_type": "stream",
     "text": []
    },
    {
     "name": "stdout",
     "output_type": "stream",
     "text": [
      "40/61 [==================>...........] - ETA: 9:00 - loss: 2.3014 - accuracy: 0.1695"
     ]
    },
    {
     "name": "stderr",
     "output_type": "stream",
     "text": []
    },
    {
     "name": "stdout",
     "output_type": "stream",
     "text": [
      "41/61 [===================>..........] - ETA: 8:34 - loss: 2.3014 - accuracy: 0.1684"
     ]
    },
    {
     "name": "stderr",
     "output_type": "stream",
     "text": []
    },
    {
     "name": "stdout",
     "output_type": "stream",
     "text": [
      "42/61 [===================>..........] - ETA: 8:08 - loss: 2.3013 - accuracy: 0.1674"
     ]
    },
    {
     "name": "stderr",
     "output_type": "stream",
     "text": []
    },
    {
     "name": "stdout",
     "output_type": "stream",
     "text": [
      "43/61 [====================>.........] - ETA: 7:43 - loss: 2.3013 - accuracy: 0.1708"
     ]
    },
    {
     "name": "stderr",
     "output_type": "stream",
     "text": []
    },
    {
     "name": "stdout",
     "output_type": "stream",
     "text": [
      "44/61 [====================>.........] - ETA: 7:17 - loss: 2.3012 - accuracy: 0.1761"
     ]
    },
    {
     "name": "stderr",
     "output_type": "stream",
     "text": []
    },
    {
     "name": "stdout",
     "output_type": "stream",
     "text": [
      "45/61 [=====================>........] - ETA: 6:52 - loss: 2.3012 - accuracy: 0.1771"
     ]
    },
    {
     "name": "stderr",
     "output_type": "stream",
     "text": []
    },
    {
     "name": "stdout",
     "output_type": "stream",
     "text": [
      "46/61 [=====================>........] - ETA: 6:25 - loss: 2.3012 - accuracy: 0.1793"
     ]
    },
    {
     "name": "stderr",
     "output_type": "stream",
     "text": []
    },
    {
     "name": "stdout",
     "output_type": "stream",
     "text": [
      "47/61 [======================>.......] - ETA: 5:59 - loss: 2.3011 - accuracy: 0.1802"
     ]
    },
    {
     "name": "stderr",
     "output_type": "stream",
     "text": []
    },
    {
     "name": "stdout",
     "output_type": "stream",
     "text": [
      "48/61 [======================>.......] - ETA: 5:34 - loss: 2.3011 - accuracy: 0.1816"
     ]
    },
    {
     "name": "stderr",
     "output_type": "stream",
     "text": []
    },
    {
     "name": "stdout",
     "output_type": "stream",
     "text": [
      "49/61 [=======================>......] - ETA: 5:08 - loss: 2.3010 - accuracy: 0.1837"
     ]
    },
    {
     "name": "stderr",
     "output_type": "stream",
     "text": []
    },
    {
     "name": "stdout",
     "output_type": "stream",
     "text": [
      "50/61 [=======================>......] - ETA: 4:42 - loss: 2.3010 - accuracy: 0.1838"
     ]
    },
    {
     "name": "stderr",
     "output_type": "stream",
     "text": []
    },
    {
     "name": "stdout",
     "output_type": "stream",
     "text": [
      "51/61 [========================>.....] - ETA: 4:16 - loss: 2.3010 - accuracy: 0.1820"
     ]
    },
    {
     "name": "stderr",
     "output_type": "stream",
     "text": []
    },
    {
     "name": "stdout",
     "output_type": "stream",
     "text": [
      "52/61 [========================>.....] - ETA: 3:51 - loss: 2.3009 - accuracy: 0.1839"
     ]
    },
    {
     "name": "stderr",
     "output_type": "stream",
     "text": []
    },
    {
     "name": "stdout",
     "output_type": "stream",
     "text": [
      "53/61 [=========================>....] - ETA: 3:25 - loss: 2.3009 - accuracy: 0.1851"
     ]
    },
    {
     "name": "stderr",
     "output_type": "stream",
     "text": []
    },
    {
     "name": "stdout",
     "output_type": "stream",
     "text": [
      "54/61 [=========================>....] - ETA: 2:59 - loss: 2.3008 - accuracy: 0.1840"
     ]
    },
    {
     "name": "stderr",
     "output_type": "stream",
     "text": []
    },
    {
     "name": "stdout",
     "output_type": "stream",
     "text": [
      "55/61 [==========================>...] - ETA: 2:34 - loss: 2.3008 - accuracy: 0.1830"
     ]
    },
    {
     "name": "stderr",
     "output_type": "stream",
     "text": []
    },
    {
     "name": "stdout",
     "output_type": "stream",
     "text": [
      "56/61 [==========================>...] - ETA: 2:08 - loss: 2.3007 - accuracy: 0.1836"
     ]
    },
    {
     "name": "stderr",
     "output_type": "stream",
     "text": []
    },
    {
     "name": "stdout",
     "output_type": "stream",
     "text": [
      "57/61 [===========================>..] - ETA: 1:42 - loss: 2.3007 - accuracy: 0.1820"
     ]
    },
    {
     "name": "stderr",
     "output_type": "stream",
     "text": []
    },
    {
     "name": "stdout",
     "output_type": "stream",
     "text": [
      "58/61 [===========================>..] - ETA: 1:17 - loss: 2.3006 - accuracy: 0.1827"
     ]
    },
    {
     "name": "stderr",
     "output_type": "stream",
     "text": []
    },
    {
     "name": "stdout",
     "output_type": "stream",
     "text": [
      "59/61 [============================>.] - ETA: 51s - loss: 2.3005 - accuracy: 0.1838 "
     ]
    },
    {
     "name": "stderr",
     "output_type": "stream",
     "text": []
    },
    {
     "name": "stdout",
     "output_type": "stream",
     "text": [
      "60/61 [============================>.] - ETA: 25s - loss: 2.3004 - accuracy: 0.1844"
     ]
    },
    {
     "name": "stderr",
     "output_type": "stream",
     "text": []
    },
    {
     "name": "stdout",
     "output_type": "stream",
     "text": [
      "61/61 [==============================] - ETA: 0s - loss: 2.3004 - accuracy: 0.1842 "
     ]
    },
    {
     "name": "stderr",
     "output_type": "stream",
     "text": [
      "61/61██████████ ETA: 00:00s - loss: 2.3004 - accuracy: 0.1842 - val_loss: 2.2984 - val_accuracy: 0.1818\n",
      "Training:  14%|█▍         1/7 ETA: 2:55:15s,  1752.52s/epochs"
     ]
    },
    {
     "name": "stdout",
     "output_type": "stream",
     "text": [
      "61/61 [==============================] - 1752s 29s/step - loss: 2.3004 - accuracy: 0.1842 - val_loss: 2.2984 - val_accuracy: 0.1818\n",
      "Epoch 2/7\n"
     ]
    },
    {
     "name": "stderr",
     "output_type": "stream",
     "text": []
    },
    {
     "name": "stdout",
     "output_type": "stream",
     "text": [
      "Epoch 2/7\n"
     ]
    },
    {
     "name": "stderr",
     "output_type": "stream",
     "text": []
    },
    {
     "name": "stdout",
     "output_type": "stream",
     "text": [
      " 1/61 [..............................] - ETA: 27:19 - loss: 2.2968 - accuracy: 0.1875"
     ]
    },
    {
     "name": "stderr",
     "output_type": "stream",
     "text": []
    },
    {
     "name": "stdout",
     "output_type": "stream",
     "text": [
      " 2/61 [..............................] - ETA: 25:09 - loss: 2.2960 - accuracy: 0.1875"
     ]
    },
    {
     "name": "stderr",
     "output_type": "stream",
     "text": []
    },
    {
     "name": "stdout",
     "output_type": "stream",
     "text": [
      " 3/61 [>.............................] - ETA: 24:44 - loss: 2.2962 - accuracy: 0.1979"
     ]
    },
    {
     "name": "stderr",
     "output_type": "stream",
     "text": []
    },
    {
     "name": "stdout",
     "output_type": "stream",
     "text": [
      " 4/61 [>.............................] - ETA: 24:19 - loss: 2.2962 - accuracy: 0.2109"
     ]
    },
    {
     "name": "stderr",
     "output_type": "stream",
     "text": []
    },
    {
     "name": "stdout",
     "output_type": "stream",
     "text": [
      " 5/61 [=>............................] - ETA: 23:52 - loss: 2.2961 - accuracy: 0.2125"
     ]
    },
    {
     "name": "stderr",
     "output_type": "stream",
     "text": []
    },
    {
     "name": "stdout",
     "output_type": "stream",
     "text": [
      " 6/61 [=>............................] - ETA: 23:25 - loss: 2.2967 - accuracy: 0.1927"
     ]
    },
    {
     "name": "stderr",
     "output_type": "stream",
     "text": []
    },
    {
     "name": "stdout",
     "output_type": "stream",
     "text": [
      " 7/61 [==>...........................] - ETA: 22:50 - loss: 2.2974 - accuracy: 0.1830"
     ]
    },
    {
     "name": "stderr",
     "output_type": "stream",
     "text": []
    },
    {
     "name": "stdout",
     "output_type": "stream",
     "text": [
      " 8/61 [==>...........................] - ETA: 22:26 - loss: 2.2974 - accuracy: 0.1797"
     ]
    },
    {
     "name": "stderr",
     "output_type": "stream",
     "text": []
    },
    {
     "name": "stdout",
     "output_type": "stream",
     "text": [
      " 9/61 [===>..........................] - ETA: 22:05 - loss: 2.2975 - accuracy: 0.1701"
     ]
    },
    {
     "name": "stderr",
     "output_type": "stream",
     "text": []
    },
    {
     "name": "stdout",
     "output_type": "stream",
     "text": [
      "10/61 [===>..........................] - ETA: 21:54 - loss: 2.2974 - accuracy: 0.1750"
     ]
    },
    {
     "name": "stderr",
     "output_type": "stream",
     "text": []
    },
    {
     "name": "stdout",
     "output_type": "stream",
     "text": [
      "11/61 [====>.........................] - ETA: 21:59 - loss: 2.2974 - accuracy: 0.1761"
     ]
    },
    {
     "name": "stderr",
     "output_type": "stream",
     "text": []
    },
    {
     "name": "stdout",
     "output_type": "stream",
     "text": [
      "12/61 [====>.........................] - ETA: 21:29 - loss: 2.2972 - accuracy: 0.1667"
     ]
    },
    {
     "name": "stderr",
     "output_type": "stream",
     "text": []
    },
    {
     "name": "stdout",
     "output_type": "stream",
     "text": [
      "13/61 [=====>........................] - ETA: 20:57 - loss: 2.2972 - accuracy: 0.1707"
     ]
    },
    {
     "name": "stderr",
     "output_type": "stream",
     "text": []
    },
    {
     "name": "stdout",
     "output_type": "stream",
     "text": [
      "14/61 [=====>........................] - ETA: 20:27 - loss: 2.2973 - accuracy: 0.1719"
     ]
    },
    {
     "name": "stderr",
     "output_type": "stream",
     "text": []
    },
    {
     "name": "stdout",
     "output_type": "stream",
     "text": [
      "15/61 [======>.......................] - ETA: 19:58 - loss: 2.2971 - accuracy: 0.1792"
     ]
    },
    {
     "name": "stderr",
     "output_type": "stream",
     "text": []
    },
    {
     "name": "stdout",
     "output_type": "stream",
     "text": [
      "16/61 [======>.......................] - ETA: 19:29 - loss: 2.2969 - accuracy: 0.1934"
     ]
    },
    {
     "name": "stderr",
     "output_type": "stream",
     "text": []
    },
    {
     "name": "stdout",
     "output_type": "stream",
     "text": [
      "17/61 [=======>......................] - ETA: 18:59 - loss: 2.2968 - accuracy: 0.1912"
     ]
    },
    {
     "name": "stderr",
     "output_type": "stream",
     "text": []
    },
    {
     "name": "stdout",
     "output_type": "stream",
     "text": [
      "18/61 [=======>......................] - ETA: 18:31 - loss: 2.2967 - accuracy: 0.1944"
     ]
    },
    {
     "name": "stderr",
     "output_type": "stream",
     "text": []
    },
    {
     "name": "stdout",
     "output_type": "stream",
     "text": [
      "19/61 [========>.....................] - ETA: 18:04 - loss: 2.2967 - accuracy: 0.1908"
     ]
    },
    {
     "name": "stderr",
     "output_type": "stream",
     "text": []
    },
    {
     "name": "stdout",
     "output_type": "stream",
     "text": [
      "20/61 [========>.....................] - ETA: 17:37 - loss: 2.2966 - accuracy: 0.1937"
     ]
    },
    {
     "name": "stderr",
     "output_type": "stream",
     "text": []
    },
    {
     "name": "stdout",
     "output_type": "stream",
     "text": [
      "21/61 [=========>....................] - ETA: 17:10 - loss: 2.2965 - accuracy: 0.1890"
     ]
    },
    {
     "name": "stderr",
     "output_type": "stream",
     "text": []
    },
    {
     "name": "stdout",
     "output_type": "stream",
     "text": [
      "22/61 [=========>....................] - ETA: 16:45 - loss: 2.2964 - accuracy: 0.1918"
     ]
    },
    {
     "name": "stderr",
     "output_type": "stream",
     "text": []
    },
    {
     "name": "stdout",
     "output_type": "stream",
     "text": [
      "23/61 [==========>...................] - ETA: 16:19 - loss: 2.2964 - accuracy: 0.1902"
     ]
    },
    {
     "name": "stderr",
     "output_type": "stream",
     "text": []
    },
    {
     "name": "stdout",
     "output_type": "stream",
     "text": [
      "24/61 [==========>...................] - ETA: 15:53 - loss: 2.2964 - accuracy: 0.1875"
     ]
    },
    {
     "name": "stderr",
     "output_type": "stream",
     "text": []
    },
    {
     "name": "stdout",
     "output_type": "stream",
     "text": [
      "25/61 [===========>..................] - ETA: 15:26 - loss: 2.2965 - accuracy: 0.1875"
     ]
    },
    {
     "name": "stderr",
     "output_type": "stream",
     "text": []
    },
    {
     "name": "stdout",
     "output_type": "stream",
     "text": [
      "26/61 [===========>..................] - ETA: 15:00 - loss: 2.2965 - accuracy: 0.1887"
     ]
    },
    {
     "name": "stderr",
     "output_type": "stream",
     "text": []
    },
    {
     "name": "stdout",
     "output_type": "stream",
     "text": [
      "27/61 [============>.................] - ETA: 14:33 - loss: 2.2967 - accuracy: 0.1840"
     ]
    },
    {
     "name": "stderr",
     "output_type": "stream",
     "text": []
    },
    {
     "name": "stdout",
     "output_type": "stream",
     "text": [
      "28/61 [============>.................] - ETA: 14:08 - loss: 2.2967 - accuracy: 0.1830"
     ]
    },
    {
     "name": "stderr",
     "output_type": "stream",
     "text": []
    },
    {
     "name": "stdout",
     "output_type": "stream",
     "text": [
      "29/61 [=============>................] - ETA: 13:44 - loss: 2.2966 - accuracy: 0.1821"
     ]
    },
    {
     "name": "stderr",
     "output_type": "stream",
     "text": []
    },
    {
     "name": "stdout",
     "output_type": "stream",
     "text": [
      "30/61 [=============>................] - ETA: 13:18 - loss: 2.2966 - accuracy: 0.1813"
     ]
    },
    {
     "name": "stderr",
     "output_type": "stream",
     "text": []
    },
    {
     "name": "stdout",
     "output_type": "stream",
     "text": [
      "31/61 [==============>...............] - ETA: 12:52 - loss: 2.2966 - accuracy: 0.1815"
     ]
    },
    {
     "name": "stderr",
     "output_type": "stream",
     "text": []
    },
    {
     "name": "stdout",
     "output_type": "stream",
     "text": [
      "32/61 [==============>...............] - ETA: 12:26 - loss: 2.2966 - accuracy: 0.1797"
     ]
    },
    {
     "name": "stderr",
     "output_type": "stream",
     "text": []
    },
    {
     "name": "stdout",
     "output_type": "stream",
     "text": [
      "33/61 [===============>..............] - ETA: 12:00 - loss: 2.2966 - accuracy: 0.1780"
     ]
    },
    {
     "name": "stderr",
     "output_type": "stream",
     "text": []
    },
    {
     "name": "stdout",
     "output_type": "stream",
     "text": [
      "34/61 [===============>..............] - ETA: 11:36 - loss: 2.2966 - accuracy: 0.1811"
     ]
    },
    {
     "name": "stderr",
     "output_type": "stream",
     "text": []
    },
    {
     "name": "stdout",
     "output_type": "stream",
     "text": [
      "35/61 [================>.............] - ETA: 11:10 - loss: 2.2967 - accuracy: 0.1795"
     ]
    },
    {
     "name": "stderr",
     "output_type": "stream",
     "text": []
    },
    {
     "name": "stdout",
     "output_type": "stream",
     "text": [
      "36/61 [================>.............] - ETA: 10:45 - loss: 2.2966 - accuracy: 0.1780"
     ]
    },
    {
     "name": "stderr",
     "output_type": "stream",
     "text": []
    },
    {
     "name": "stdout",
     "output_type": "stream",
     "text": [
      "37/61 [=================>............] - ETA: 10:19 - loss: 2.2964 - accuracy: 0.1774"
     ]
    },
    {
     "name": "stderr",
     "output_type": "stream",
     "text": []
    },
    {
     "name": "stdout",
     "output_type": "stream",
     "text": [
      "38/61 [=================>............] - ETA: 9:53 - loss: 2.2965 - accuracy: 0.1776 "
     ]
    },
    {
     "name": "stderr",
     "output_type": "stream",
     "text": []
    },
    {
     "name": "stdout",
     "output_type": "stream",
     "text": [
      "39/61 [==================>...........] - ETA: 9:27 - loss: 2.2965 - accuracy: 0.1747"
     ]
    },
    {
     "name": "stderr",
     "output_type": "stream",
     "text": []
    },
    {
     "name": "stdout",
     "output_type": "stream",
     "text": [
      "40/61 [==================>...........] - ETA: 9:02 - loss: 2.2965 - accuracy: 0.1758"
     ]
    },
    {
     "name": "stderr",
     "output_type": "stream",
     "text": []
    },
    {
     "name": "stdout",
     "output_type": "stream",
     "text": [
      "41/61 [===================>..........] - ETA: 8:36 - loss: 2.2964 - accuracy: 0.1768"
     ]
    },
    {
     "name": "stderr",
     "output_type": "stream",
     "text": []
    },
    {
     "name": "stdout",
     "output_type": "stream",
     "text": [
      "42/61 [===================>..........] - ETA: 8:10 - loss: 2.2964 - accuracy: 0.1786"
     ]
    },
    {
     "name": "stderr",
     "output_type": "stream",
     "text": []
    },
    {
     "name": "stdout",
     "output_type": "stream",
     "text": [
      "43/61 [====================>.........] - ETA: 7:44 - loss: 2.2963 - accuracy: 0.1766"
     ]
    },
    {
     "name": "stderr",
     "output_type": "stream",
     "text": []
    },
    {
     "name": "stdout",
     "output_type": "stream",
     "text": [
      "44/61 [====================>.........] - ETA: 7:18 - loss: 2.2963 - accuracy: 0.1747"
     ]
    },
    {
     "name": "stderr",
     "output_type": "stream",
     "text": []
    },
    {
     "name": "stdout",
     "output_type": "stream",
     "text": [
      "45/61 [=====================>........] - ETA: 6:52 - loss: 2.2962 - accuracy: 0.1757"
     ]
    },
    {
     "name": "stderr",
     "output_type": "stream",
     "text": []
    },
    {
     "name": "stdout",
     "output_type": "stream",
     "text": [
      "46/61 [=====================>........] - ETA: 6:26 - loss: 2.2961 - accuracy: 0.1766"
     ]
    },
    {
     "name": "stderr",
     "output_type": "stream",
     "text": []
    },
    {
     "name": "stdout",
     "output_type": "stream",
     "text": [
      "47/61 [======================>.......] - ETA: 6:00 - loss: 2.2962 - accuracy: 0.1749"
     ]
    },
    {
     "name": "stderr",
     "output_type": "stream",
     "text": []
    },
    {
     "name": "stdout",
     "output_type": "stream",
     "text": [
      "48/61 [======================>.......] - ETA: 5:35 - loss: 2.2961 - accuracy: 0.1758"
     ]
    },
    {
     "name": "stderr",
     "output_type": "stream",
     "text": []
    },
    {
     "name": "stdout",
     "output_type": "stream",
     "text": [
      "49/61 [=======================>......] - ETA: 5:09 - loss: 2.2961 - accuracy: 0.1767"
     ]
    },
    {
     "name": "stderr",
     "output_type": "stream",
     "text": []
    },
    {
     "name": "stdout",
     "output_type": "stream",
     "text": [
      "50/61 [=======================>......] - ETA: 4:44 - loss: 2.2961 - accuracy: 0.1769"
     ]
    },
    {
     "name": "stderr",
     "output_type": "stream",
     "text": []
    },
    {
     "name": "stdout",
     "output_type": "stream",
     "text": [
      "51/61 [========================>.....] - ETA: 4:18 - loss: 2.2960 - accuracy: 0.1765"
     ]
    },
    {
     "name": "stderr",
     "output_type": "stream",
     "text": []
    },
    {
     "name": "stdout",
     "output_type": "stream",
     "text": [
      "52/61 [========================>.....] - ETA: 3:52 - loss: 2.2959 - accuracy: 0.1755"
     ]
    },
    {
     "name": "stderr",
     "output_type": "stream",
     "text": []
    },
    {
     "name": "stdout",
     "output_type": "stream",
     "text": [
      "53/61 [=========================>....] - ETA: 3:26 - loss: 2.2959 - accuracy: 0.1757"
     ]
    },
    {
     "name": "stderr",
     "output_type": "stream",
     "text": []
    },
    {
     "name": "stdout",
     "output_type": "stream",
     "text": [
      "54/61 [=========================>....] - ETA: 3:00 - loss: 2.2960 - accuracy: 0.1736"
     ]
    },
    {
     "name": "stderr",
     "output_type": "stream",
     "text": []
    },
    {
     "name": "stdout",
     "output_type": "stream",
     "text": [
      "55/61 [==========================>...] - ETA: 2:34 - loss: 2.2960 - accuracy: 0.1733"
     ]
    },
    {
     "name": "stderr",
     "output_type": "stream",
     "text": []
    },
    {
     "name": "stdout",
     "output_type": "stream",
     "text": [
      "56/61 [==========================>...] - ETA: 2:09 - loss: 2.2959 - accuracy: 0.1730"
     ]
    },
    {
     "name": "stderr",
     "output_type": "stream",
     "text": []
    },
    {
     "name": "stdout",
     "output_type": "stream",
     "text": [
      "57/61 [===========================>..] - ETA: 1:43 - loss: 2.2959 - accuracy: 0.1716"
     ]
    },
    {
     "name": "stderr",
     "output_type": "stream",
     "text": []
    },
    {
     "name": "stdout",
     "output_type": "stream",
     "text": [
      "58/61 [===========================>..] - ETA: 1:17 - loss: 2.2959 - accuracy: 0.1735"
     ]
    },
    {
     "name": "stderr",
     "output_type": "stream",
     "text": []
    },
    {
     "name": "stdout",
     "output_type": "stream",
     "text": [
      "59/61 [============================>.] - ETA: 51s - loss: 2.2958 - accuracy: 0.1748 "
     ]
    },
    {
     "name": "stderr",
     "output_type": "stream",
     "text": []
    },
    {
     "name": "stdout",
     "output_type": "stream",
     "text": [
      "60/61 [============================>.] - ETA: 25s - loss: 2.2957 - accuracy: 0.1760"
     ]
    },
    {
     "name": "stderr",
     "output_type": "stream",
     "text": []
    },
    {
     "name": "stdout",
     "output_type": "stream",
     "text": [
      "61/61 [==============================] - ETA: 0s - loss: 2.2957 - accuracy: 0.1750 "
     ]
    },
    {
     "name": "stderr",
     "output_type": "stream",
     "text": [
      "61/61██████████ ETA: 00:00s - loss: 2.2957 - accuracy: 0.1750 - val_loss: 2.2945 - val_accuracy: 0.1818\n",
      "Training:  29%|██▊        2/7 ETA: 2:26:37s,  1759.44s/epochs"
     ]
    },
    {
     "name": "stdout",
     "output_type": "stream",
     "text": [
      "61/61 [==============================] - 1764s 29s/step - loss: 2.2957 - accuracy: 0.1750 - val_loss: 2.2945 - val_accuracy: 0.1818\n",
      "Epoch 3/7\n"
     ]
    },
    {
     "name": "stderr",
     "output_type": "stream",
     "text": []
    },
    {
     "name": "stdout",
     "output_type": "stream",
     "text": [
      "Epoch 3/7\n"
     ]
    },
    {
     "name": "stderr",
     "output_type": "stream",
     "text": []
    },
    {
     "name": "stdout",
     "output_type": "stream",
     "text": [
      " 1/61 [..............................] - ETA: 27:41 - loss: 2.2948 - accuracy: 0.1875"
     ]
    },
    {
     "name": "stderr",
     "output_type": "stream",
     "text": []
    },
    {
     "name": "stdout",
     "output_type": "stream",
     "text": [
      " 2/61 [..............................] - ETA: 23:06 - loss: 2.2918 - accuracy: 0.2344"
     ]
    },
    {
     "name": "stderr",
     "output_type": "stream",
     "text": []
    },
    {
     "name": "stdout",
     "output_type": "stream",
     "text": [
      " 3/61 [>.............................] - ETA: 22:34 - loss: 2.2935 - accuracy: 0.1979"
     ]
    },
    {
     "name": "stderr",
     "output_type": "stream",
     "text": []
    },
    {
     "name": "stdout",
     "output_type": "stream",
     "text": [
      " 4/61 [>.............................] - ETA: 22:12 - loss: 2.2932 - accuracy: 0.1953"
     ]
    },
    {
     "name": "stderr",
     "output_type": "stream",
     "text": []
    },
    {
     "name": "stdout",
     "output_type": "stream",
     "text": [
      " 5/61 [=>............................] - ETA: 21:49 - loss: 2.2926 - accuracy: 0.2062"
     ]
    },
    {
     "name": "stderr",
     "output_type": "stream",
     "text": []
    },
    {
     "name": "stdout",
     "output_type": "stream",
     "text": [
      " 6/61 [=>............................] - ETA: 21:24 - loss: 2.2922 - accuracy: 0.2240"
     ]
    },
    {
     "name": "stderr",
     "output_type": "stream",
     "text": []
    },
    {
     "name": "stdout",
     "output_type": "stream",
     "text": [
      " 7/61 [==>...........................] - ETA: 21:00 - loss: 2.2917 - accuracy: 0.2188"
     ]
    },
    {
     "name": "stderr",
     "output_type": "stream",
     "text": []
    },
    {
     "name": "stdout",
     "output_type": "stream",
     "text": [
      " 8/61 [==>...........................] - ETA: 20:39 - loss: 2.2918 - accuracy: 0.2109"
     ]
    },
    {
     "name": "stderr",
     "output_type": "stream",
     "text": []
    },
    {
     "name": "stdout",
     "output_type": "stream",
     "text": [
      " 9/61 [===>..........................] - ETA: 20:17 - loss: 2.2921 - accuracy: 0.2049"
     ]
    },
    {
     "name": "stderr",
     "output_type": "stream",
     "text": []
    },
    {
     "name": "stdout",
     "output_type": "stream",
     "text": [
      "10/61 [===>..........................] - ETA: 19:56 - loss: 2.2921 - accuracy: 0.2000"
     ]
    },
    {
     "name": "stderr",
     "output_type": "stream",
     "text": []
    },
    {
     "name": "stdout",
     "output_type": "stream",
     "text": [
      "11/61 [====>.........................] - ETA: 19:38 - loss: 2.2918 - accuracy: 0.1932"
     ]
    },
    {
     "name": "stderr",
     "output_type": "stream",
     "text": []
    },
    {
     "name": "stdout",
     "output_type": "stream",
     "text": [
      "12/61 [====>.........................] - ETA: 19:13 - loss: 2.2916 - accuracy: 0.1901"
     ]
    },
    {
     "name": "stderr",
     "output_type": "stream",
     "text": []
    },
    {
     "name": "stdout",
     "output_type": "stream",
     "text": [
      "13/61 [=====>........................] - ETA: 18:53 - loss: 2.2919 - accuracy: 0.1875"
     ]
    },
    {
     "name": "stderr",
     "output_type": "stream",
     "text": []
    },
    {
     "name": "stdout",
     "output_type": "stream",
     "text": [
      "14/61 [=====>........................] - ETA: 18:29 - loss: 2.2917 - accuracy: 0.1920"
     ]
    },
    {
     "name": "stderr",
     "output_type": "stream",
     "text": []
    },
    {
     "name": "stdout",
     "output_type": "stream",
     "text": [
      "15/61 [======>.......................] - ETA: 18:11 - loss: 2.2917 - accuracy: 0.1875"
     ]
    },
    {
     "name": "stderr",
     "output_type": "stream",
     "text": []
    },
    {
     "name": "stdout",
     "output_type": "stream",
     "text": [
      "16/61 [======>.......................] - ETA: 18:00 - loss: 2.2920 - accuracy: 0.1875"
     ]
    },
    {
     "name": "stderr",
     "output_type": "stream",
     "text": []
    },
    {
     "name": "stdout",
     "output_type": "stream",
     "text": [
      "17/61 [=======>......................] - ETA: 17:48 - loss: 2.2924 - accuracy: 0.1820"
     ]
    },
    {
     "name": "stderr",
     "output_type": "stream",
     "text": []
    },
    {
     "name": "stdout",
     "output_type": "stream",
     "text": [
      "18/61 [=======>......................] - ETA: 17:28 - loss: 2.2927 - accuracy: 0.1771"
     ]
    },
    {
     "name": "stderr",
     "output_type": "stream",
     "text": []
    },
    {
     "name": "stdout",
     "output_type": "stream",
     "text": [
      "19/61 [========>.....................] - ETA: 17:08 - loss: 2.2928 - accuracy: 0.1776"
     ]
    },
    {
     "name": "stderr",
     "output_type": "stream",
     "text": []
    },
    {
     "name": "stdout",
     "output_type": "stream",
     "text": [
      "20/61 [========>.....................] - ETA: 16:42 - loss: 2.2930 - accuracy: 0.1688"
     ]
    },
    {
     "name": "stderr",
     "output_type": "stream",
     "text": []
    },
    {
     "name": "stdout",
     "output_type": "stream",
     "text": [
      "21/61 [=========>....................] - ETA: 16:16 - loss: 2.2928 - accuracy: 0.1801"
     ]
    },
    {
     "name": "stderr",
     "output_type": "stream",
     "text": []
    },
    {
     "name": "stdout",
     "output_type": "stream",
     "text": [
      "22/61 [=========>....................] - ETA: 15:50 - loss: 2.2928 - accuracy: 0.1733"
     ]
    },
    {
     "name": "stderr",
     "output_type": "stream",
     "text": []
    },
    {
     "name": "stdout",
     "output_type": "stream",
     "text": [
      "23/61 [==========>...................] - ETA: 15:25 - loss: 2.2926 - accuracy: 0.1712"
     ]
    },
    {
     "name": "stderr",
     "output_type": "stream",
     "text": []
    },
    {
     "name": "stdout",
     "output_type": "stream",
     "text": [
      "24/61 [==========>...................] - ETA: 15:01 - loss: 2.2926 - accuracy: 0.1693"
     ]
    },
    {
     "name": "stderr",
     "output_type": "stream",
     "text": []
    },
    {
     "name": "stdout",
     "output_type": "stream",
     "text": [
      "25/61 [===========>..................] - ETA: 14:37 - loss: 2.2926 - accuracy: 0.1713"
     ]
    },
    {
     "name": "stderr",
     "output_type": "stream",
     "text": []
    },
    {
     "name": "stdout",
     "output_type": "stream",
     "text": [
      "26/61 [===========>..................] - ETA: 14:12 - loss: 2.2924 - accuracy: 0.1767"
     ]
    },
    {
     "name": "stderr",
     "output_type": "stream",
     "text": []
    },
    {
     "name": "stdout",
     "output_type": "stream",
     "text": [
      "27/61 [============>.................] - ETA: 13:46 - loss: 2.2926 - accuracy: 0.1748"
     ]
    },
    {
     "name": "stderr",
     "output_type": "stream",
     "text": []
    },
    {
     "name": "stdout",
     "output_type": "stream",
     "text": [
      "28/61 [============>.................] - ETA: 13:21 - loss: 2.2927 - accuracy: 0.1752"
     ]
    },
    {
     "name": "stderr",
     "output_type": "stream",
     "text": []
    },
    {
     "name": "stdout",
     "output_type": "stream",
     "text": [
      "29/61 [=============>................] - ETA: 12:56 - loss: 2.2930 - accuracy: 0.1746"
     ]
    },
    {
     "name": "stderr",
     "output_type": "stream",
     "text": []
    },
    {
     "name": "stdout",
     "output_type": "stream",
     "text": [
      "30/61 [=============>................] - ETA: 12:32 - loss: 2.2931 - accuracy: 0.1750"
     ]
    },
    {
     "name": "stderr",
     "output_type": "stream",
     "text": []
    },
    {
     "name": "stdout",
     "output_type": "stream",
     "text": [
      "31/61 [==============>...............] - ETA: 12:08 - loss: 2.2931 - accuracy: 0.1744"
     ]
    },
    {
     "name": "stderr",
     "output_type": "stream",
     "text": []
    },
    {
     "name": "stdout",
     "output_type": "stream",
     "text": [
      "32/61 [==============>...............] - ETA: 11:45 - loss: 2.2930 - accuracy: 0.1738"
     ]
    },
    {
     "name": "stderr",
     "output_type": "stream",
     "text": []
    },
    {
     "name": "stdout",
     "output_type": "stream",
     "text": [
      "33/61 [===============>..............] - ETA: 11:20 - loss: 2.2928 - accuracy: 0.1733"
     ]
    },
    {
     "name": "stderr",
     "output_type": "stream",
     "text": []
    },
    {
     "name": "stdout",
     "output_type": "stream",
     "text": [
      "34/61 [===============>..............] - ETA: 10:56 - loss: 2.2927 - accuracy: 0.1719"
     ]
    },
    {
     "name": "stderr",
     "output_type": "stream",
     "text": []
    },
    {
     "name": "stdout",
     "output_type": "stream",
     "text": [
      "35/61 [================>.............] - ETA: 10:31 - loss: 2.2926 - accuracy: 0.1741"
     ]
    },
    {
     "name": "stderr",
     "output_type": "stream",
     "text": []
    },
    {
     "name": "stdout",
     "output_type": "stream",
     "text": [
      "36/61 [================>.............] - ETA: 10:07 - loss: 2.2925 - accuracy: 0.1736"
     ]
    },
    {
     "name": "stderr",
     "output_type": "stream",
     "text": []
    },
    {
     "name": "stdout",
     "output_type": "stream",
     "text": [
      "37/61 [=================>............] - ETA: 9:43 - loss: 2.2926 - accuracy: 0.1748 "
     ]
    },
    {
     "name": "stderr",
     "output_type": "stream",
     "text": []
    },
    {
     "name": "stdout",
     "output_type": "stream",
     "text": [
      "38/61 [=================>............] - ETA: 9:19 - loss: 2.2926 - accuracy: 0.1760"
     ]
    },
    {
     "name": "stderr",
     "output_type": "stream",
     "text": []
    },
    {
     "name": "stdout",
     "output_type": "stream",
     "text": [
      "39/61 [==================>...........] - ETA: 8:54 - loss: 2.2926 - accuracy: 0.1779"
     ]
    },
    {
     "name": "stderr",
     "output_type": "stream",
     "text": []
    },
    {
     "name": "stdout",
     "output_type": "stream",
     "text": [
      "40/61 [==================>...........] - ETA: 8:30 - loss: 2.2924 - accuracy: 0.1805"
     ]
    },
    {
     "name": "stderr",
     "output_type": "stream",
     "text": []
    },
    {
     "name": "stdout",
     "output_type": "stream",
     "text": [
      "41/61 [===================>..........] - ETA: 8:06 - loss: 2.2922 - accuracy: 0.1806"
     ]
    },
    {
     "name": "stderr",
     "output_type": "stream",
     "text": []
    },
    {
     "name": "stdout",
     "output_type": "stream",
     "text": [
      "42/61 [===================>..........] - ETA: 7:42 - loss: 2.2921 - accuracy: 0.1823"
     ]
    },
    {
     "name": "stderr",
     "output_type": "stream",
     "text": []
    },
    {
     "name": "stdout",
     "output_type": "stream",
     "text": [
      "43/61 [====================>.........] - ETA: 7:18 - loss: 2.2922 - accuracy: 0.1802"
     ]
    },
    {
     "name": "stderr",
     "output_type": "stream",
     "text": []
    },
    {
     "name": "stdout",
     "output_type": "stream",
     "text": [
      "44/61 [====================>.........] - ETA: 6:54 - loss: 2.2921 - accuracy: 0.1797"
     ]
    },
    {
     "name": "stderr",
     "output_type": "stream",
     "text": []
    },
    {
     "name": "stdout",
     "output_type": "stream",
     "text": [
      "45/61 [=====================>........] - ETA: 6:30 - loss: 2.2920 - accuracy: 0.1799"
     ]
    },
    {
     "name": "stderr",
     "output_type": "stream",
     "text": []
    },
    {
     "name": "stdout",
     "output_type": "stream",
     "text": [
      "46/61 [=====================>........] - ETA: 6:05 - loss: 2.2920 - accuracy: 0.1760"
     ]
    },
    {
     "name": "stderr",
     "output_type": "stream",
     "text": []
    },
    {
     "name": "stdout",
     "output_type": "stream",
     "text": [
      "47/61 [======================>.......] - ETA: 5:42 - loss: 2.2921 - accuracy: 0.1749"
     ]
    },
    {
     "name": "stderr",
     "output_type": "stream",
     "text": []
    },
    {
     "name": "stdout",
     "output_type": "stream",
     "text": [
      "48/61 [======================>.......] - ETA: 5:18 - loss: 2.2921 - accuracy: 0.1725"
     ]
    },
    {
     "name": "stderr",
     "output_type": "stream",
     "text": []
    },
    {
     "name": "stdout",
     "output_type": "stream",
     "text": [
      "49/61 [=======================>......] - ETA: 4:54 - loss: 2.2922 - accuracy: 0.1722"
     ]
    },
    {
     "name": "stderr",
     "output_type": "stream",
     "text": []
    },
    {
     "name": "stdout",
     "output_type": "stream",
     "text": [
      "50/61 [=======================>......] - ETA: 4:30 - loss: 2.2921 - accuracy: 0.1731"
     ]
    },
    {
     "name": "stderr",
     "output_type": "stream",
     "text": []
    },
    {
     "name": "stdout",
     "output_type": "stream",
     "text": [
      "51/61 [========================>.....] - ETA: 4:06 - loss: 2.2921 - accuracy: 0.1728"
     ]
    },
    {
     "name": "stderr",
     "output_type": "stream",
     "text": []
    },
    {
     "name": "stdout",
     "output_type": "stream",
     "text": [
      "52/61 [========================>.....] - ETA: 3:42 - loss: 2.2920 - accuracy: 0.1743"
     ]
    },
    {
     "name": "stderr",
     "output_type": "stream",
     "text": []
    },
    {
     "name": "stdout",
     "output_type": "stream",
     "text": [
      "53/61 [=========================>....] - ETA: 3:18 - loss: 2.2920 - accuracy: 0.1769"
     ]
    },
    {
     "name": "stderr",
     "output_type": "stream",
     "text": []
    },
    {
     "name": "stdout",
     "output_type": "stream",
     "text": [
      "54/61 [=========================>....] - ETA: 2:53 - loss: 2.2920 - accuracy: 0.1759"
     ]
    },
    {
     "name": "stderr",
     "output_type": "stream",
     "text": []
    },
    {
     "name": "stdout",
     "output_type": "stream",
     "text": [
      "55/61 [==========================>...] - ETA: 2:28 - loss: 2.2920 - accuracy: 0.1773"
     ]
    },
    {
     "name": "stderr",
     "output_type": "stream",
     "text": []
    },
    {
     "name": "stdout",
     "output_type": "stream",
     "text": [
      "56/61 [==========================>...] - ETA: 2:04 - loss: 2.2920 - accuracy: 0.1758"
     ]
    },
    {
     "name": "stderr",
     "output_type": "stream",
     "text": []
    },
    {
     "name": "stdout",
     "output_type": "stream",
     "text": [
      "57/61 [===========================>..] - ETA: 1:39 - loss: 2.2919 - accuracy: 0.1760"
     ]
    },
    {
     "name": "stderr",
     "output_type": "stream",
     "text": []
    },
    {
     "name": "stdout",
     "output_type": "stream",
     "text": [
      "58/61 [===========================>..] - ETA: 1:14 - loss: 2.2918 - accuracy: 0.1778"
     ]
    },
    {
     "name": "stderr",
     "output_type": "stream",
     "text": []
    },
    {
     "name": "stdout",
     "output_type": "stream",
     "text": [
      "59/61 [============================>.] - ETA: 49s - loss: 2.2916 - accuracy: 0.1806 "
     ]
    },
    {
     "name": "stderr",
     "output_type": "stream",
     "text": []
    },
    {
     "name": "stdout",
     "output_type": "stream",
     "text": [
      "60/61 [============================>.] - ETA: 24s - loss: 2.2916 - accuracy: 0.1786"
     ]
    },
    {
     "name": "stderr",
     "output_type": "stream",
     "text": []
    },
    {
     "name": "stdout",
     "output_type": "stream",
     "text": [
      "61/61 [==============================] - ETA: 0s - loss: 2.2916 - accuracy: 0.1765 "
     ]
    },
    {
     "name": "stderr",
     "output_type": "stream",
     "text": [
      "61/61██████████ ETA: 00:00s - loss: 2.2916 - accuracy: 0.1765 - val_loss: 2.2909 - val_accuracy: 0.1818\n",
      "Training:  43%|████▎      3/7 ETA: 1:56:13s,  1743.36s/epochs"
     ]
    },
    {
     "name": "stdout",
     "output_type": "stream",
     "text": [
      "61/61 [==============================] - 1724s 28s/step - loss: 2.2916 - accuracy: 0.1765 - val_loss: 2.2909 - val_accuracy: 0.1818\n",
      "Epoch 4/7\n"
     ]
    },
    {
     "name": "stderr",
     "output_type": "stream",
     "text": []
    },
    {
     "name": "stdout",
     "output_type": "stream",
     "text": [
      "Epoch 4/7\n"
     ]
    },
    {
     "name": "stderr",
     "output_type": "stream",
     "text": []
    },
    {
     "name": "stdout",
     "output_type": "stream",
     "text": [
      " 1/61 [..............................] - ETA: 34:50 - loss: 2.2873 - accuracy: 0.0938"
     ]
    },
    {
     "name": "stderr",
     "output_type": "stream",
     "text": []
    },
    {
     "name": "stdout",
     "output_type": "stream",
     "text": [
      " 2/61 [..............................] - ETA: 44:26 - loss: 2.2876 - accuracy: 0.1250"
     ]
    },
    {
     "name": "stderr",
     "output_type": "stream",
     "text": []
    },
    {
     "name": "stdout",
     "output_type": "stream",
     "text": [
      " 3/61 [>.............................] - ETA: 37:01 - loss: 2.2884 - accuracy: 0.1458"
     ]
    },
    {
     "name": "stderr",
     "output_type": "stream",
     "text": []
    },
    {
     "name": "stdout",
     "output_type": "stream",
     "text": [
      " 4/61 [>.............................] - ETA: 33:26 - loss: 2.2881 - accuracy: 0.1641"
     ]
    },
    {
     "name": "stderr",
     "output_type": "stream",
     "text": []
    },
    {
     "name": "stdout",
     "output_type": "stream",
     "text": [
      " 5/61 [=>............................] - ETA: 31:30 - loss: 2.2882 - accuracy: 0.1500"
     ]
    },
    {
     "name": "stderr",
     "output_type": "stream",
     "text": []
    },
    {
     "name": "stdout",
     "output_type": "stream",
     "text": [
      " 6/61 [=>............................] - ETA: 30:01 - loss: 2.2889 - accuracy: 0.1510"
     ]
    },
    {
     "name": "stderr",
     "output_type": "stream",
     "text": []
    },
    {
     "name": "stdout",
     "output_type": "stream",
     "text": [
      " 7/61 [==>...........................] - ETA: 28:50 - loss: 2.2890 - accuracy: 0.1473"
     ]
    },
    {
     "name": "stderr",
     "output_type": "stream",
     "text": []
    },
    {
     "name": "stdout",
     "output_type": "stream",
     "text": [
      " 8/61 [==>...........................] - ETA: 27:56 - loss: 2.2901 - accuracy: 0.1328"
     ]
    },
    {
     "name": "stderr",
     "output_type": "stream",
     "text": []
    },
    {
     "name": "stdout",
     "output_type": "stream",
     "text": [
      " 9/61 [===>..........................] - ETA: 27:06 - loss: 2.2906 - accuracy: 0.1319"
     ]
    },
    {
     "name": "stderr",
     "output_type": "stream",
     "text": []
    },
    {
     "name": "stdout",
     "output_type": "stream",
     "text": [
      "10/61 [===>..........................] - ETA: 26:22 - loss: 2.2905 - accuracy: 0.1312"
     ]
    },
    {
     "name": "stderr",
     "output_type": "stream",
     "text": []
    },
    {
     "name": "stdout",
     "output_type": "stream",
     "text": [
      "11/61 [====>.........................] - ETA: 25:39 - loss: 2.2900 - accuracy: 0.1364"
     ]
    },
    {
     "name": "stderr",
     "output_type": "stream",
     "text": []
    },
    {
     "name": "stdout",
     "output_type": "stream",
     "text": [
      "12/61 [====>.........................] - ETA: 24:59 - loss: 2.2897 - accuracy: 0.1432"
     ]
    },
    {
     "name": "stderr",
     "output_type": "stream",
     "text": []
    },
    {
     "name": "stdout",
     "output_type": "stream",
     "text": [
      "13/61 [=====>........................] - ETA: 24:26 - loss: 2.2896 - accuracy: 0.1442"
     ]
    },
    {
     "name": "stderr",
     "output_type": "stream",
     "text": []
    },
    {
     "name": "stdout",
     "output_type": "stream",
     "text": [
      "14/61 [=====>........................] - ETA: 23:51 - loss: 2.2895 - accuracy: 0.1585"
     ]
    },
    {
     "name": "stderr",
     "output_type": "stream",
     "text": []
    },
    {
     "name": "stdout",
     "output_type": "stream",
     "text": [
      "15/61 [======>.......................] - ETA: 23:15 - loss: 2.2894 - accuracy: 0.1604"
     ]
    },
    {
     "name": "stderr",
     "output_type": "stream",
     "text": []
    },
    {
     "name": "stdout",
     "output_type": "stream",
     "text": [
      "16/61 [======>.......................] - ETA: 22:41 - loss: 2.2899 - accuracy: 0.1562"
     ]
    },
    {
     "name": "stderr",
     "output_type": "stream",
     "text": []
    },
    {
     "name": "stdout",
     "output_type": "stream",
     "text": [
      "17/61 [=======>......................] - ETA: 22:14 - loss: 2.2899 - accuracy: 0.1562"
     ]
    },
    {
     "name": "stderr",
     "output_type": "stream",
     "text": []
    },
    {
     "name": "stdout",
     "output_type": "stream",
     "text": [
      "18/61 [=======>......................] - ETA: 21:39 - loss: 2.2896 - accuracy: 0.1649"
     ]
    },
    {
     "name": "stderr",
     "output_type": "stream",
     "text": []
    },
    {
     "name": "stdout",
     "output_type": "stream",
     "text": [
      "19/61 [========>.....................] - ETA: 21:05 - loss: 2.2897 - accuracy: 0.1645"
     ]
    },
    {
     "name": "stderr",
     "output_type": "stream",
     "text": []
    },
    {
     "name": "stdout",
     "output_type": "stream",
     "text": [
      "20/61 [========>.....................] - ETA: 20:31 - loss: 2.2895 - accuracy: 0.1688"
     ]
    },
    {
     "name": "stderr",
     "output_type": "stream",
     "text": []
    },
    {
     "name": "stdout",
     "output_type": "stream",
     "text": [
      "21/61 [=========>....................] - ETA: 19:56 - loss: 2.2895 - accuracy: 0.1726"
     ]
    },
    {
     "name": "stderr",
     "output_type": "stream",
     "text": []
    },
    {
     "name": "stdout",
     "output_type": "stream",
     "text": [
      "22/61 [=========>....................] - ETA: 19:26 - loss: 2.2894 - accuracy: 0.1747"
     ]
    },
    {
     "name": "stderr",
     "output_type": "stream",
     "text": []
    },
    {
     "name": "stdout",
     "output_type": "stream",
     "text": [
      "23/61 [==========>...................] - ETA: 18:57 - loss: 2.2889 - accuracy: 0.1780"
     ]
    },
    {
     "name": "stderr",
     "output_type": "stream",
     "text": []
    },
    {
     "name": "stdout",
     "output_type": "stream",
     "text": [
      "24/61 [==========>...................] - ETA: 18:29 - loss: 2.2891 - accuracy: 0.1745"
     ]
    },
    {
     "name": "stderr",
     "output_type": "stream",
     "text": []
    },
    {
     "name": "stdout",
     "output_type": "stream",
     "text": [
      "25/61 [===========>..................] - ETA: 18:00 - loss: 2.2890 - accuracy: 0.1762"
     ]
    },
    {
     "name": "stderr",
     "output_type": "stream",
     "text": []
    },
    {
     "name": "stdout",
     "output_type": "stream",
     "text": [
      "26/61 [===========>..................] - ETA: 17:29 - loss: 2.2891 - accuracy: 0.1755"
     ]
    },
    {
     "name": "stderr",
     "output_type": "stream",
     "text": []
    },
    {
     "name": "stdout",
     "output_type": "stream",
     "text": [
      "27/61 [============>.................] - ETA: 16:59 - loss: 2.2889 - accuracy: 0.1771"
     ]
    },
    {
     "name": "stderr",
     "output_type": "stream",
     "text": []
    },
    {
     "name": "stdout",
     "output_type": "stream",
     "text": [
      "28/61 [============>.................] - ETA: 16:29 - loss: 2.2887 - accuracy: 0.1775"
     ]
    },
    {
     "name": "stderr",
     "output_type": "stream",
     "text": []
    },
    {
     "name": "stdout",
     "output_type": "stream",
     "text": [
      "29/61 [=============>................] - ETA: 15:59 - loss: 2.2886 - accuracy: 0.1789"
     ]
    },
    {
     "name": "stderr",
     "output_type": "stream",
     "text": []
    },
    {
     "name": "stdout",
     "output_type": "stream",
     "text": [
      "30/61 [=============>................] - ETA: 15:28 - loss: 2.2888 - accuracy: 0.1771"
     ]
    },
    {
     "name": "stderr",
     "output_type": "stream",
     "text": []
    },
    {
     "name": "stdout",
     "output_type": "stream",
     "text": [
      "31/61 [==============>...............] - ETA: 14:58 - loss: 2.2885 - accuracy: 0.1784"
     ]
    },
    {
     "name": "stderr",
     "output_type": "stream",
     "text": []
    },
    {
     "name": "stdout",
     "output_type": "stream",
     "text": [
      "32/61 [==============>...............] - ETA: 14:28 - loss: 2.2882 - accuracy: 0.1807"
     ]
    },
    {
     "name": "stderr",
     "output_type": "stream",
     "text": []
    },
    {
     "name": "stdout",
     "output_type": "stream",
     "text": [
      "33/61 [===============>..............] - ETA: 13:58 - loss: 2.2882 - accuracy: 0.1799"
     ]
    },
    {
     "name": "stderr",
     "output_type": "stream",
     "text": []
    },
    {
     "name": "stdout",
     "output_type": "stream",
     "text": [
      "34/61 [===============>..............] - ETA: 13:29 - loss: 2.2884 - accuracy: 0.1783"
     ]
    },
    {
     "name": "stderr",
     "output_type": "stream",
     "text": []
    },
    {
     "name": "stdout",
     "output_type": "stream",
     "text": [
      "35/61 [================>.............] - ETA: 12:58 - loss: 2.2884 - accuracy: 0.1813"
     ]
    },
    {
     "name": "stderr",
     "output_type": "stream",
     "text": []
    },
    {
     "name": "stdout",
     "output_type": "stream",
     "text": [
      "36/61 [================>.............] - ETA: 12:29 - loss: 2.2885 - accuracy: 0.1823"
     ]
    },
    {
     "name": "stderr",
     "output_type": "stream",
     "text": []
    },
    {
     "name": "stdout",
     "output_type": "stream",
     "text": [
      "37/61 [=================>............] - ETA: 11:59 - loss: 2.2883 - accuracy: 0.1833"
     ]
    },
    {
     "name": "stderr",
     "output_type": "stream",
     "text": []
    },
    {
     "name": "stdout",
     "output_type": "stream",
     "text": [
      "38/61 [=================>............] - ETA: 11:28 - loss: 2.2883 - accuracy: 0.1793"
     ]
    },
    {
     "name": "stderr",
     "output_type": "stream",
     "text": []
    },
    {
     "name": "stdout",
     "output_type": "stream",
     "text": [
      "39/61 [==================>...........] - ETA: 10:59 - loss: 2.2882 - accuracy: 0.1811"
     ]
    },
    {
     "name": "stderr",
     "output_type": "stream",
     "text": []
    },
    {
     "name": "stdout",
     "output_type": "stream",
     "text": [
      "40/61 [==================>...........] - ETA: 10:28 - loss: 2.2883 - accuracy: 0.1781"
     ]
    },
    {
     "name": "stderr",
     "output_type": "stream",
     "text": []
    },
    {
     "name": "stdout",
     "output_type": "stream",
     "text": [
      "41/61 [===================>..........] - ETA: 9:58 - loss: 2.2881 - accuracy: 0.1784 "
     ]
    },
    {
     "name": "stderr",
     "output_type": "stream",
     "text": []
    },
    {
     "name": "stdout",
     "output_type": "stream",
     "text": [
      "42/61 [===================>..........] - ETA: 9:28 - loss: 2.2882 - accuracy: 0.1778"
     ]
    },
    {
     "name": "stderr",
     "output_type": "stream",
     "text": []
    },
    {
     "name": "stdout",
     "output_type": "stream",
     "text": [
      "43/61 [====================>.........] - ETA: 8:58 - loss: 2.2882 - accuracy: 0.1810"
     ]
    },
    {
     "name": "stderr",
     "output_type": "stream",
     "text": []
    },
    {
     "name": "stdout",
     "output_type": "stream",
     "text": [
      "44/61 [====================>.........] - ETA: 8:29 - loss: 2.2884 - accuracy: 0.1783"
     ]
    },
    {
     "name": "stderr",
     "output_type": "stream",
     "text": []
    },
    {
     "name": "stdout",
     "output_type": "stream",
     "text": [
      "45/61 [=====================>........] - ETA: 7:59 - loss: 2.2885 - accuracy: 0.1778"
     ]
    },
    {
     "name": "stderr",
     "output_type": "stream",
     "text": []
    },
    {
     "name": "stdout",
     "output_type": "stream",
     "text": [
      "46/61 [=====================>........] - ETA: 7:29 - loss: 2.2885 - accuracy: 0.1773"
     ]
    },
    {
     "name": "stderr",
     "output_type": "stream",
     "text": []
    },
    {
     "name": "stdout",
     "output_type": "stream",
     "text": [
      "47/61 [======================>.......] - ETA: 6:59 - loss: 2.2884 - accuracy: 0.1762"
     ]
    },
    {
     "name": "stderr",
     "output_type": "stream",
     "text": []
    },
    {
     "name": "stdout",
     "output_type": "stream",
     "text": [
      "48/61 [======================>.......] - ETA: 6:29 - loss: 2.2883 - accuracy: 0.1784"
     ]
    },
    {
     "name": "stderr",
     "output_type": "stream",
     "text": []
    },
    {
     "name": "stdout",
     "output_type": "stream",
     "text": [
      "49/61 [=======================>......] - ETA: 5:59 - loss: 2.2881 - accuracy: 0.1798"
     ]
    },
    {
     "name": "stderr",
     "output_type": "stream",
     "text": []
    },
    {
     "name": "stdout",
     "output_type": "stream",
     "text": [
      "50/61 [=======================>......] - ETA: 5:29 - loss: 2.2882 - accuracy: 0.1794"
     ]
    },
    {
     "name": "stderr",
     "output_type": "stream",
     "text": []
    },
    {
     "name": "stdout",
     "output_type": "stream",
     "text": [
      "51/61 [========================>.....] - ETA: 4:59 - loss: 2.2882 - accuracy: 0.1789"
     ]
    },
    {
     "name": "stderr",
     "output_type": "stream",
     "text": []
    },
    {
     "name": "stdout",
     "output_type": "stream",
     "text": [
      "52/61 [========================>.....] - ETA: 4:29 - loss: 2.2880 - accuracy: 0.1791"
     ]
    },
    {
     "name": "stderr",
     "output_type": "stream",
     "text": []
    },
    {
     "name": "stdout",
     "output_type": "stream",
     "text": [
      "53/61 [=========================>....] - ETA: 3:59 - loss: 2.2879 - accuracy: 0.1781"
     ]
    },
    {
     "name": "stderr",
     "output_type": "stream",
     "text": []
    },
    {
     "name": "stdout",
     "output_type": "stream",
     "text": [
      "54/61 [=========================>....] - ETA: 3:29 - loss: 2.2880 - accuracy: 0.1777"
     ]
    },
    {
     "name": "stderr",
     "output_type": "stream",
     "text": []
    },
    {
     "name": "stdout",
     "output_type": "stream",
     "text": [
      "55/61 [==========================>...] - ETA: 2:59 - loss: 2.2880 - accuracy: 0.1767"
     ]
    },
    {
     "name": "stderr",
     "output_type": "stream",
     "text": []
    },
    {
     "name": "stdout",
     "output_type": "stream",
     "text": [
      "56/61 [==========================>...] - ETA: 2:29 - loss: 2.2880 - accuracy: 0.1769"
     ]
    },
    {
     "name": "stderr",
     "output_type": "stream",
     "text": []
    },
    {
     "name": "stdout",
     "output_type": "stream",
     "text": [
      "57/61 [===========================>..] - ETA: 1:59 - loss: 2.2878 - accuracy: 0.1765"
     ]
    },
    {
     "name": "stderr",
     "output_type": "stream",
     "text": []
    },
    {
     "name": "stdout",
     "output_type": "stream",
     "text": [
      "58/61 [===========================>..] - ETA: 1:29 - loss: 2.2878 - accuracy: 0.1767"
     ]
    },
    {
     "name": "stderr",
     "output_type": "stream",
     "text": []
    },
    {
     "name": "stdout",
     "output_type": "stream",
     "text": [
      "59/61 [============================>.] - ETA: 59s - loss: 2.2878 - accuracy: 0.1780 "
     ]
    },
    {
     "name": "stderr",
     "output_type": "stream",
     "text": []
    },
    {
     "name": "stdout",
     "output_type": "stream",
     "text": [
      "60/61 [============================>.] - ETA: 29s - loss: 2.2877 - accuracy: 0.1776"
     ]
    },
    {
     "name": "stderr",
     "output_type": "stream",
     "text": []
    },
    {
     "name": "stdout",
     "output_type": "stream",
     "text": [
      "61/61 [==============================] - ETA: 0s - loss: 2.2875 - accuracy: 0.1780 "
     ]
    },
    {
     "name": "stderr",
     "output_type": "stream",
     "text": [
      "61/61██████████ ETA: 00:00s - loss: 2.2875 - accuracy: 0.1780 - val_loss: 2.2873 - val_accuracy: 0.1818\n",
      "Training:  57%|█████▋     4/7 ETA: 1:32:55s,  1858.62s/epochs"
     ]
    },
    {
     "name": "stdout",
     "output_type": "stream",
     "text": [
      "61/61 [==============================] - 2035s 33s/step - loss: 2.2875 - accuracy: 0.1780 - val_loss: 2.2873 - val_accuracy: 0.1818\n",
      "Epoch 5/7\n"
     ]
    },
    {
     "name": "stderr",
     "output_type": "stream",
     "text": []
    },
    {
     "name": "stdout",
     "output_type": "stream",
     "text": [
      "Epoch 5/7\n"
     ]
    },
    {
     "name": "stderr",
     "output_type": "stream",
     "text": []
    },
    {
     "name": "stdout",
     "output_type": "stream",
     "text": [
      " 1/61 [..............................] - ETA: 31:23 - loss: 2.2816 - accuracy: 0.1562"
     ]
    },
    {
     "name": "stderr",
     "output_type": "stream",
     "text": []
    },
    {
     "name": "stdout",
     "output_type": "stream",
     "text": [
      " 2/61 [..............................] - ETA: 28:48 - loss: 2.2885 - accuracy: 0.1562"
     ]
    },
    {
     "name": "stderr",
     "output_type": "stream",
     "text": []
    },
    {
     "name": "stdout",
     "output_type": "stream",
     "text": [
      " 3/61 [>.............................] - ETA: 28:21 - loss: 2.2878 - accuracy: 0.1562"
     ]
    },
    {
     "name": "stderr",
     "output_type": "stream",
     "text": []
    },
    {
     "name": "stdout",
     "output_type": "stream",
     "text": [
      " 4/61 [>.............................] - ETA: 27:57 - loss: 2.2868 - accuracy: 0.1562"
     ]
    },
    {
     "name": "stderr",
     "output_type": "stream",
     "text": []
    },
    {
     "name": "stdout",
     "output_type": "stream",
     "text": [
      " 5/61 [=>............................] - ETA: 27:33 - loss: 2.2857 - accuracy: 0.1688"
     ]
    },
    {
     "name": "stderr",
     "output_type": "stream",
     "text": []
    },
    {
     "name": "stdout",
     "output_type": "stream",
     "text": [
      " 6/61 [=>............................] - ETA: 27:25 - loss: 2.2864 - accuracy: 0.1615"
     ]
    },
    {
     "name": "stderr",
     "output_type": "stream",
     "text": []
    },
    {
     "name": "stdout",
     "output_type": "stream",
     "text": [
      " 7/61 [==>...........................] - ETA: 26:55 - loss: 2.2873 - accuracy: 0.1607"
     ]
    },
    {
     "name": "stderr",
     "output_type": "stream",
     "text": []
    },
    {
     "name": "stdout",
     "output_type": "stream",
     "text": [
      " 8/61 [==>...........................] - ETA: 26:19 - loss: 2.2884 - accuracy: 0.1562"
     ]
    },
    {
     "name": "stderr",
     "output_type": "stream",
     "text": []
    },
    {
     "name": "stdout",
     "output_type": "stream",
     "text": [
      " 9/61 [===>..........................] - ETA: 25:44 - loss: 2.2874 - accuracy: 0.1667"
     ]
    },
    {
     "name": "stderr",
     "output_type": "stream",
     "text": []
    },
    {
     "name": "stdout",
     "output_type": "stream",
     "text": [
      "10/61 [===>..........................] - ETA: 25:12 - loss: 2.2871 - accuracy: 0.1625"
     ]
    },
    {
     "name": "stderr",
     "output_type": "stream",
     "text": []
    },
    {
     "name": "stdout",
     "output_type": "stream",
     "text": [
      "11/61 [====>.........................] - ETA: 24:44 - loss: 2.2865 - accuracy: 0.1619"
     ]
    },
    {
     "name": "stderr",
     "output_type": "stream",
     "text": []
    },
    {
     "name": "stdout",
     "output_type": "stream",
     "text": [
      "12/61 [====>.........................] - ETA: 24:13 - loss: 2.2862 - accuracy: 0.1562"
     ]
    },
    {
     "name": "stderr",
     "output_type": "stream",
     "text": []
    },
    {
     "name": "stdout",
     "output_type": "stream",
     "text": [
      "13/61 [=====>........................] - ETA: 23:43 - loss: 2.2858 - accuracy: 0.1587"
     ]
    },
    {
     "name": "stderr",
     "output_type": "stream",
     "text": []
    },
    {
     "name": "stdout",
     "output_type": "stream",
     "text": [
      "14/61 [=====>........................] - ETA: 23:17 - loss: 2.2858 - accuracy: 0.1629"
     ]
    },
    {
     "name": "stderr",
     "output_type": "stream",
     "text": []
    },
    {
     "name": "stdout",
     "output_type": "stream",
     "text": [
      "15/61 [======>.......................] - ETA: 22:52 - loss: 2.2863 - accuracy: 0.1604"
     ]
    },
    {
     "name": "stderr",
     "output_type": "stream",
     "text": []
    },
    {
     "name": "stdout",
     "output_type": "stream",
     "text": [
      "16/61 [======>.......................] - ETA: 22:24 - loss: 2.2862 - accuracy: 0.1641"
     ]
    },
    {
     "name": "stderr",
     "output_type": "stream",
     "text": []
    },
    {
     "name": "stdout",
     "output_type": "stream",
     "text": [
      "17/61 [=======>......................] - ETA: 21:52 - loss: 2.2854 - accuracy: 0.1710"
     ]
    },
    {
     "name": "stderr",
     "output_type": "stream",
     "text": []
    },
    {
     "name": "stdout",
     "output_type": "stream",
     "text": [
      "18/61 [=======>......................] - ETA: 21:25 - loss: 2.2850 - accuracy: 0.1719"
     ]
    },
    {
     "name": "stderr",
     "output_type": "stream",
     "text": []
    },
    {
     "name": "stdout",
     "output_type": "stream",
     "text": [
      "19/61 [========>.....................] - ETA: 20:55 - loss: 2.2850 - accuracy: 0.1727"
     ]
    },
    {
     "name": "stderr",
     "output_type": "stream",
     "text": []
    },
    {
     "name": "stdout",
     "output_type": "stream",
     "text": [
      "20/61 [========>.....................] - ETA: 20:23 - loss: 2.2850 - accuracy: 0.1750"
     ]
    },
    {
     "name": "stderr",
     "output_type": "stream",
     "text": []
    },
    {
     "name": "stdout",
     "output_type": "stream",
     "text": [
      "21/61 [=========>....................] - ETA: 19:55 - loss: 2.2851 - accuracy: 0.1771"
     ]
    },
    {
     "name": "stderr",
     "output_type": "stream",
     "text": []
    },
    {
     "name": "stdout",
     "output_type": "stream",
     "text": [
      "22/61 [=========>....................] - ETA: 19:31 - loss: 2.2850 - accuracy: 0.1776"
     ]
    },
    {
     "name": "stderr",
     "output_type": "stream",
     "text": []
    },
    {
     "name": "stdout",
     "output_type": "stream",
     "text": [
      "23/61 [==========>...................] - ETA: 19:02 - loss: 2.2852 - accuracy: 0.1780"
     ]
    },
    {
     "name": "stderr",
     "output_type": "stream",
     "text": []
    },
    {
     "name": "stdout",
     "output_type": "stream",
     "text": [
      "24/61 [==========>...................] - ETA: 18:34 - loss: 2.2848 - accuracy: 0.1758"
     ]
    },
    {
     "name": "stderr",
     "output_type": "stream",
     "text": []
    },
    {
     "name": "stdout",
     "output_type": "stream",
     "text": [
      "25/61 [===========>..................] - ETA: 18:04 - loss: 2.2849 - accuracy: 0.1737"
     ]
    },
    {
     "name": "stderr",
     "output_type": "stream",
     "text": []
    },
    {
     "name": "stdout",
     "output_type": "stream",
     "text": [
      "26/61 [===========>..................] - ETA: 17:43 - loss: 2.2850 - accuracy: 0.1731"
     ]
    },
    {
     "name": "stderr",
     "output_type": "stream",
     "text": []
    },
    {
     "name": "stdout",
     "output_type": "stream",
     "text": [
      "27/61 [============>.................] - ETA: 17:14 - loss: 2.2850 - accuracy: 0.1736"
     ]
    },
    {
     "name": "stderr",
     "output_type": "stream",
     "text": []
    },
    {
     "name": "stdout",
     "output_type": "stream",
     "text": [
      "28/61 [============>.................] - ETA: 16:43 - loss: 2.2848 - accuracy: 0.1719"
     ]
    },
    {
     "name": "stderr",
     "output_type": "stream",
     "text": []
    },
    {
     "name": "stdout",
     "output_type": "stream",
     "text": [
      "29/61 [=============>................] - ETA: 16:11 - loss: 2.2848 - accuracy: 0.1756"
     ]
    },
    {
     "name": "stderr",
     "output_type": "stream",
     "text": []
    },
    {
     "name": "stdout",
     "output_type": "stream",
     "text": [
      "30/61 [=============>................] - ETA: 15:40 - loss: 2.2850 - accuracy: 0.1750"
     ]
    },
    {
     "name": "stderr",
     "output_type": "stream",
     "text": []
    },
    {
     "name": "stdout",
     "output_type": "stream",
     "text": [
      "31/61 [==============>...............] - ETA: 15:09 - loss: 2.2852 - accuracy: 0.1734"
     ]
    },
    {
     "name": "stderr",
     "output_type": "stream",
     "text": []
    },
    {
     "name": "stdout",
     "output_type": "stream",
     "text": [
      "32/61 [==============>...............] - ETA: 14:38 - loss: 2.2852 - accuracy: 0.1709"
     ]
    },
    {
     "name": "stderr",
     "output_type": "stream",
     "text": []
    },
    {
     "name": "stdout",
     "output_type": "stream",
     "text": [
      "33/61 [===============>..............] - ETA: 14:07 - loss: 2.2852 - accuracy: 0.1705"
     ]
    },
    {
     "name": "stderr",
     "output_type": "stream",
     "text": []
    },
    {
     "name": "stdout",
     "output_type": "stream",
     "text": [
      "34/61 [===============>..............] - ETA: 13:34 - loss: 2.2851 - accuracy: 0.1737"
     ]
    },
    {
     "name": "stderr",
     "output_type": "stream",
     "text": []
    },
    {
     "name": "stdout",
     "output_type": "stream",
     "text": [
      "35/61 [================>.............] - ETA: 13:02 - loss: 2.2849 - accuracy: 0.1705"
     ]
    },
    {
     "name": "stderr",
     "output_type": "stream",
     "text": []
    },
    {
     "name": "stdout",
     "output_type": "stream",
     "text": [
      "36/61 [================>.............] - ETA: 12:30 - loss: 2.2845 - accuracy: 0.1753"
     ]
    },
    {
     "name": "stderr",
     "output_type": "stream",
     "text": []
    },
    {
     "name": "stdout",
     "output_type": "stream",
     "text": [
      "37/61 [=================>............] - ETA: 11:56 - loss: 2.2846 - accuracy: 0.1748"
     ]
    },
    {
     "name": "stderr",
     "output_type": "stream",
     "text": []
    },
    {
     "name": "stdout",
     "output_type": "stream",
     "text": [
      "38/61 [=================>............] - ETA: 11:23 - loss: 2.2847 - accuracy: 0.1735"
     ]
    },
    {
     "name": "stderr",
     "output_type": "stream",
     "text": []
    },
    {
     "name": "stdout",
     "output_type": "stream",
     "text": [
      "39/61 [==================>...........] - ETA: 10:50 - loss: 2.2844 - accuracy: 0.1763"
     ]
    },
    {
     "name": "stderr",
     "output_type": "stream",
     "text": []
    },
    {
     "name": "stdout",
     "output_type": "stream",
     "text": [
      "40/61 [==================>...........] - ETA: 10:18 - loss: 2.2843 - accuracy: 0.1758"
     ]
    },
    {
     "name": "stderr",
     "output_type": "stream",
     "text": []
    },
    {
     "name": "stdout",
     "output_type": "stream",
     "text": [
      "41/61 [===================>..........] - ETA: 9:46 - loss: 2.2843 - accuracy: 0.1753 "
     ]
    },
    {
     "name": "stderr",
     "output_type": "stream",
     "text": []
    },
    {
     "name": "stdout",
     "output_type": "stream",
     "text": [
      "42/61 [===================>..........] - ETA: 9:14 - loss: 2.2841 - accuracy: 0.1741"
     ]
    },
    {
     "name": "stderr",
     "output_type": "stream",
     "text": []
    },
    {
     "name": "stdout",
     "output_type": "stream",
     "text": [
      "43/61 [====================>.........] - ETA: 8:43 - loss: 2.2844 - accuracy: 0.1722"
     ]
    },
    {
     "name": "stderr",
     "output_type": "stream",
     "text": []
    },
    {
     "name": "stdout",
     "output_type": "stream",
     "text": [
      "44/61 [====================>.........] - ETA: 8:13 - loss: 2.2845 - accuracy: 0.1712"
     ]
    },
    {
     "name": "stderr",
     "output_type": "stream",
     "text": []
    },
    {
     "name": "stdout",
     "output_type": "stream",
     "text": [
      "45/61 [=====================>........] - ETA: 7:43 - loss: 2.2844 - accuracy: 0.1694"
     ]
    },
    {
     "name": "stderr",
     "output_type": "stream",
     "text": []
    },
    {
     "name": "stdout",
     "output_type": "stream",
     "text": [
      "46/61 [=====================>........] - ETA: 7:13 - loss: 2.2842 - accuracy: 0.1698"
     ]
    },
    {
     "name": "stderr",
     "output_type": "stream",
     "text": []
    },
    {
     "name": "stdout",
     "output_type": "stream",
     "text": [
      "47/61 [======================>.......] - ETA: 6:42 - loss: 2.2841 - accuracy: 0.1709"
     ]
    },
    {
     "name": "stderr",
     "output_type": "stream",
     "text": []
    },
    {
     "name": "stdout",
     "output_type": "stream",
     "text": [
      "48/61 [======================>.......] - ETA: 6:13 - loss: 2.2842 - accuracy: 0.1686"
     ]
    },
    {
     "name": "stderr",
     "output_type": "stream",
     "text": []
    },
    {
     "name": "stdout",
     "output_type": "stream",
     "text": [
      "49/61 [=======================>......] - ETA: 5:44 - loss: 2.2840 - accuracy: 0.1722"
     ]
    },
    {
     "name": "stderr",
     "output_type": "stream",
     "text": []
    },
    {
     "name": "stdout",
     "output_type": "stream",
     "text": [
      "50/61 [=======================>......] - ETA: 5:14 - loss: 2.2838 - accuracy: 0.1744"
     ]
    },
    {
     "name": "stderr",
     "output_type": "stream",
     "text": []
    },
    {
     "name": "stdout",
     "output_type": "stream",
     "text": [
      "51/61 [========================>.....] - ETA: 4:45 - loss: 2.2838 - accuracy: 0.1740"
     ]
    },
    {
     "name": "stderr",
     "output_type": "stream",
     "text": []
    },
    {
     "name": "stdout",
     "output_type": "stream",
     "text": [
      "52/61 [========================>.....] - ETA: 4:16 - loss: 2.2837 - accuracy: 0.1761"
     ]
    },
    {
     "name": "stderr",
     "output_type": "stream",
     "text": []
    },
    {
     "name": "stdout",
     "output_type": "stream",
     "text": [
      "53/61 [=========================>....] - ETA: 3:47 - loss: 2.2839 - accuracy: 0.1763"
     ]
    },
    {
     "name": "stderr",
     "output_type": "stream",
     "text": []
    },
    {
     "name": "stdout",
     "output_type": "stream",
     "text": [
      "54/61 [=========================>....] - ETA: 3:18 - loss: 2.2839 - accuracy: 0.1753"
     ]
    },
    {
     "name": "stderr",
     "output_type": "stream",
     "text": []
    },
    {
     "name": "stdout",
     "output_type": "stream",
     "text": [
      "55/61 [==========================>...] - ETA: 2:49 - loss: 2.2838 - accuracy: 0.1756"
     ]
    },
    {
     "name": "stderr",
     "output_type": "stream",
     "text": []
    },
    {
     "name": "stdout",
     "output_type": "stream",
     "text": [
      "56/61 [==========================>...] - ETA: 2:20 - loss: 2.2840 - accuracy: 0.1758"
     ]
    },
    {
     "name": "stderr",
     "output_type": "stream",
     "text": []
    },
    {
     "name": "stdout",
     "output_type": "stream",
     "text": [
      "57/61 [===========================>..] - ETA: 1:52 - loss: 2.2839 - accuracy: 0.1754"
     ]
    },
    {
     "name": "stderr",
     "output_type": "stream",
     "text": []
    },
    {
     "name": "stdout",
     "output_type": "stream",
     "text": [
      "58/61 [===========================>..] - ETA: 1:24 - loss: 2.2837 - accuracy: 0.1740"
     ]
    },
    {
     "name": "stderr",
     "output_type": "stream",
     "text": []
    },
    {
     "name": "stdout",
     "output_type": "stream",
     "text": [
      "59/61 [============================>.] - ETA: 56s - loss: 2.2837 - accuracy: 0.1748 "
     ]
    },
    {
     "name": "stderr",
     "output_type": "stream",
     "text": []
    },
    {
     "name": "stdout",
     "output_type": "stream",
     "text": [
      "60/61 [============================>.] - ETA: 28s - loss: 2.2836 - accuracy: 0.1745"
     ]
    },
    {
     "name": "stderr",
     "output_type": "stream",
     "text": []
    },
    {
     "name": "stdout",
     "output_type": "stream",
     "text": [
      "61/61 [==============================] - ETA: 0s - loss: 2.2834 - accuracy: 0.1750 "
     ]
    },
    {
     "name": "stderr",
     "output_type": "stream",
     "text": [
      "61/61██████████ ETA: 00:00s - loss: 2.2834 - accuracy: 0.1750 - val_loss: 2.2837 - val_accuracy: 0.1818\n",
      "Training:  71%|███████▏   5/7 ETA: 1:02:44s,  1882.04s/epochs"
     ]
    },
    {
     "name": "stdout",
     "output_type": "stream",
     "text": [
      "61/61 [==============================] - 1924s 32s/step - loss: 2.2834 - accuracy: 0.1750 - val_loss: 2.2837 - val_accuracy: 0.1818\n",
      "Epoch 6/7\n"
     ]
    },
    {
     "name": "stderr",
     "output_type": "stream",
     "text": []
    },
    {
     "name": "stdout",
     "output_type": "stream",
     "text": [
      "Epoch 6/7\n"
     ]
    },
    {
     "name": "stderr",
     "output_type": "stream",
     "text": []
    },
    {
     "name": "stdout",
     "output_type": "stream",
     "text": [
      " 1/61 [..............................] - ETA: 32:40 - loss: 2.2725 - accuracy: 0.3438"
     ]
    },
    {
     "name": "stderr",
     "output_type": "stream",
     "text": []
    },
    {
     "name": "stdout",
     "output_type": "stream",
     "text": [
      " 2/61 [..............................] - ETA: 29:08 - loss: 2.2780 - accuracy: 0.2031"
     ]
    },
    {
     "name": "stderr",
     "output_type": "stream",
     "text": []
    },
    {
     "name": "stdout",
     "output_type": "stream",
     "text": [
      " 3/61 [>.............................] - ETA: 27:47 - loss: 2.2793 - accuracy: 0.1771"
     ]
    },
    {
     "name": "stderr",
     "output_type": "stream",
     "text": []
    },
    {
     "name": "stdout",
     "output_type": "stream",
     "text": [
      " 4/61 [>.............................] - ETA: 26:59 - loss: 2.2800 - accuracy: 0.1719"
     ]
    },
    {
     "name": "stderr",
     "output_type": "stream",
     "text": []
    },
    {
     "name": "stdout",
     "output_type": "stream",
     "text": [
      " 5/61 [=>............................] - ETA: 26:47 - loss: 2.2819 - accuracy: 0.1688"
     ]
    },
    {
     "name": "stderr",
     "output_type": "stream",
     "text": []
    },
    {
     "name": "stdout",
     "output_type": "stream",
     "text": [
      " 6/61 [=>............................] - ETA: 25:33 - loss: 2.2829 - accuracy: 0.1771"
     ]
    },
    {
     "name": "stderr",
     "output_type": "stream",
     "text": []
    },
    {
     "name": "stdout",
     "output_type": "stream",
     "text": [
      " 7/61 [==>...........................] - ETA: 24:42 - loss: 2.2824 - accuracy: 0.1786"
     ]
    },
    {
     "name": "stderr",
     "output_type": "stream",
     "text": []
    },
    {
     "name": "stdout",
     "output_type": "stream",
     "text": [
      " 8/61 [==>...........................] - ETA: 24:13 - loss: 2.2815 - accuracy: 0.1797"
     ]
    },
    {
     "name": "stderr",
     "output_type": "stream",
     "text": []
    },
    {
     "name": "stdout",
     "output_type": "stream",
     "text": [
      " 9/61 [===>..........................] - ETA: 23:30 - loss: 2.2812 - accuracy: 0.1910"
     ]
    },
    {
     "name": "stderr",
     "output_type": "stream",
     "text": []
    },
    {
     "name": "stdout",
     "output_type": "stream",
     "text": [
      "10/61 [===>..........................] - ETA: 22:54 - loss: 2.2815 - accuracy: 0.1844"
     ]
    },
    {
     "name": "stderr",
     "output_type": "stream",
     "text": []
    },
    {
     "name": "stdout",
     "output_type": "stream",
     "text": [
      "11/61 [====>.........................] - ETA: 22:18 - loss: 2.2819 - accuracy: 0.1818"
     ]
    },
    {
     "name": "stderr",
     "output_type": "stream",
     "text": []
    },
    {
     "name": "stdout",
     "output_type": "stream",
     "text": [
      "12/61 [====>.........................] - ETA: 21:44 - loss: 2.2824 - accuracy: 0.1745"
     ]
    },
    {
     "name": "stderr",
     "output_type": "stream",
     "text": []
    },
    {
     "name": "stdout",
     "output_type": "stream",
     "text": [
      "13/61 [=====>........................] - ETA: 21:10 - loss: 2.2818 - accuracy: 0.1731"
     ]
    },
    {
     "name": "stderr",
     "output_type": "stream",
     "text": []
    },
    {
     "name": "stdout",
     "output_type": "stream",
     "text": [
      "14/61 [=====>........................] - ETA: 20:39 - loss: 2.2815 - accuracy: 0.1696"
     ]
    },
    {
     "name": "stderr",
     "output_type": "stream",
     "text": []
    },
    {
     "name": "stdout",
     "output_type": "stream",
     "text": [
      "15/61 [======>.......................] - ETA: 20:06 - loss: 2.2813 - accuracy: 0.1688"
     ]
    },
    {
     "name": "stderr",
     "output_type": "stream",
     "text": []
    },
    {
     "name": "stdout",
     "output_type": "stream",
     "text": [
      "16/61 [======>.......................] - ETA: 19:36 - loss: 2.2805 - accuracy: 0.1719"
     ]
    },
    {
     "name": "stderr",
     "output_type": "stream",
     "text": []
    },
    {
     "name": "stdout",
     "output_type": "stream",
     "text": [
      "17/61 [=======>......................] - ETA: 19:10 - loss: 2.2800 - accuracy: 0.1710"
     ]
    },
    {
     "name": "stderr",
     "output_type": "stream",
     "text": []
    },
    {
     "name": "stdout",
     "output_type": "stream",
     "text": [
      "18/61 [=======>......................] - ETA: 18:41 - loss: 2.2801 - accuracy: 0.1736"
     ]
    },
    {
     "name": "stderr",
     "output_type": "stream",
     "text": []
    },
    {
     "name": "stdout",
     "output_type": "stream",
     "text": [
      "19/61 [========>.....................] - ETA: 18:13 - loss: 2.2805 - accuracy: 0.1826"
     ]
    },
    {
     "name": "stderr",
     "output_type": "stream",
     "text": []
    },
    {
     "name": "stdout",
     "output_type": "stream",
     "text": [
      "20/61 [========>.....................] - ETA: 17:44 - loss: 2.2801 - accuracy: 0.1844"
     ]
    },
    {
     "name": "stderr",
     "output_type": "stream",
     "text": []
    },
    {
     "name": "stdout",
     "output_type": "stream",
     "text": [
      "21/61 [=========>....................] - ETA: 17:18 - loss: 2.2805 - accuracy: 0.1815"
     ]
    },
    {
     "name": "stderr",
     "output_type": "stream",
     "text": []
    },
    {
     "name": "stdout",
     "output_type": "stream",
     "text": [
      "22/61 [=========>....................] - ETA: 16:51 - loss: 2.2802 - accuracy: 0.1847"
     ]
    },
    {
     "name": "stderr",
     "output_type": "stream",
     "text": []
    },
    {
     "name": "stdout",
     "output_type": "stream",
     "text": [
      "23/61 [==========>...................] - ETA: 16:23 - loss: 2.2801 - accuracy: 0.1821"
     ]
    },
    {
     "name": "stderr",
     "output_type": "stream",
     "text": []
    },
    {
     "name": "stdout",
     "output_type": "stream",
     "text": [
      "24/61 [==========>...................] - ETA: 15:57 - loss: 2.2800 - accuracy: 0.1862"
     ]
    },
    {
     "name": "stderr",
     "output_type": "stream",
     "text": []
    },
    {
     "name": "stdout",
     "output_type": "stream",
     "text": [
      "25/61 [===========>..................] - ETA: 15:31 - loss: 2.2797 - accuracy: 0.1863"
     ]
    },
    {
     "name": "stderr",
     "output_type": "stream",
     "text": []
    },
    {
     "name": "stdout",
     "output_type": "stream",
     "text": [
      "26/61 [===========>..................] - ETA: 15:05 - loss: 2.2795 - accuracy: 0.1863"
     ]
    },
    {
     "name": "stderr",
     "output_type": "stream",
     "text": []
    },
    {
     "name": "stdout",
     "output_type": "stream",
     "text": [
      "27/61 [============>.................] - ETA: 14:50 - loss: 2.2792 - accuracy: 0.1863"
     ]
    },
    {
     "name": "stderr",
     "output_type": "stream",
     "text": []
    },
    {
     "name": "stdout",
     "output_type": "stream",
     "text": [
      "28/61 [============>.................] - ETA: 14:26 - loss: 2.2795 - accuracy: 0.1853"
     ]
    },
    {
     "name": "stderr",
     "output_type": "stream",
     "text": []
    },
    {
     "name": "stdout",
     "output_type": "stream",
     "text": [
      "29/61 [=============>................] - ETA: 13:57 - loss: 2.2799 - accuracy: 0.1810"
     ]
    },
    {
     "name": "stderr",
     "output_type": "stream",
     "text": []
    },
    {
     "name": "stdout",
     "output_type": "stream",
     "text": [
      "30/61 [=============>................] - ETA: 13:29 - loss: 2.2801 - accuracy: 0.1781"
     ]
    },
    {
     "name": "stderr",
     "output_type": "stream",
     "text": []
    },
    {
     "name": "stdout",
     "output_type": "stream",
     "text": [
      "31/61 [==============>...............] - ETA: 13:02 - loss: 2.2800 - accuracy: 0.1804"
     ]
    },
    {
     "name": "stderr",
     "output_type": "stream",
     "text": []
    },
    {
     "name": "stdout",
     "output_type": "stream",
     "text": [
      "32/61 [==============>...............] - ETA: 12:35 - loss: 2.2798 - accuracy: 0.1807"
     ]
    },
    {
     "name": "stderr",
     "output_type": "stream",
     "text": []
    },
    {
     "name": "stdout",
     "output_type": "stream",
     "text": [
      "33/61 [===============>..............] - ETA: 12:08 - loss: 2.2798 - accuracy: 0.1809"
     ]
    },
    {
     "name": "stderr",
     "output_type": "stream",
     "text": []
    },
    {
     "name": "stdout",
     "output_type": "stream",
     "text": [
      "34/61 [===============>..............] - ETA: 11:41 - loss: 2.2795 - accuracy: 0.1811"
     ]
    },
    {
     "name": "stderr",
     "output_type": "stream",
     "text": []
    },
    {
     "name": "stdout",
     "output_type": "stream",
     "text": [
      "35/61 [================>.............] - ETA: 11:14 - loss: 2.2795 - accuracy: 0.1813"
     ]
    },
    {
     "name": "stderr",
     "output_type": "stream",
     "text": []
    },
    {
     "name": "stdout",
     "output_type": "stream",
     "text": [
      "36/61 [================>.............] - ETA: 10:47 - loss: 2.2797 - accuracy: 0.1797"
     ]
    },
    {
     "name": "stderr",
     "output_type": "stream",
     "text": []
    },
    {
     "name": "stdout",
     "output_type": "stream",
     "text": [
      "37/61 [=================>............] - ETA: 10:21 - loss: 2.2796 - accuracy: 0.1782"
     ]
    },
    {
     "name": "stderr",
     "output_type": "stream",
     "text": []
    },
    {
     "name": "stdout",
     "output_type": "stream",
     "text": [
      "38/61 [=================>............] - ETA: 9:54 - loss: 2.2796 - accuracy: 0.1785 "
     ]
    },
    {
     "name": "stderr",
     "output_type": "stream",
     "text": []
    },
    {
     "name": "stdout",
     "output_type": "stream",
     "text": [
      "39/61 [==================>...........] - ETA: 9:28 - loss: 2.2796 - accuracy: 0.1827"
     ]
    },
    {
     "name": "stderr",
     "output_type": "stream",
     "text": []
    },
    {
     "name": "stdout",
     "output_type": "stream",
     "text": [
      "40/61 [==================>...........] - ETA: 9:02 - loss: 2.2798 - accuracy: 0.1813"
     ]
    },
    {
     "name": "stderr",
     "output_type": "stream",
     "text": []
    },
    {
     "name": "stdout",
     "output_type": "stream",
     "text": [
      "41/61 [===================>..........] - ETA: 8:36 - loss: 2.2797 - accuracy: 0.1806"
     ]
    },
    {
     "name": "stderr",
     "output_type": "stream",
     "text": []
    },
    {
     "name": "stdout",
     "output_type": "stream",
     "text": [
      "42/61 [===================>..........] - ETA: 8:09 - loss: 2.2796 - accuracy: 0.1815"
     ]
    },
    {
     "name": "stderr",
     "output_type": "stream",
     "text": []
    },
    {
     "name": "stdout",
     "output_type": "stream",
     "text": [
      "43/61 [====================>.........] - ETA: 7:43 - loss: 2.2797 - accuracy: 0.1817"
     ]
    },
    {
     "name": "stderr",
     "output_type": "stream",
     "text": []
    },
    {
     "name": "stdout",
     "output_type": "stream",
     "text": [
      "44/61 [====================>.........] - ETA: 7:17 - loss: 2.2797 - accuracy: 0.1825"
     ]
    },
    {
     "name": "stderr",
     "output_type": "stream",
     "text": []
    },
    {
     "name": "stdout",
     "output_type": "stream",
     "text": [
      "45/61 [=====================>........] - ETA: 6:50 - loss: 2.2797 - accuracy: 0.1806"
     ]
    },
    {
     "name": "stderr",
     "output_type": "stream",
     "text": []
    },
    {
     "name": "stdout",
     "output_type": "stream",
     "text": [
      "46/61 [=====================>........] - ETA: 6:24 - loss: 2.2796 - accuracy: 0.1793"
     ]
    },
    {
     "name": "stderr",
     "output_type": "stream",
     "text": []
    },
    {
     "name": "stdout",
     "output_type": "stream",
     "text": [
      "47/61 [======================>.......] - ETA: 5:58 - loss: 2.2796 - accuracy: 0.1789"
     ]
    },
    {
     "name": "stderr",
     "output_type": "stream",
     "text": []
    },
    {
     "name": "stdout",
     "output_type": "stream",
     "text": [
      "48/61 [======================>.......] - ETA: 5:33 - loss: 2.2798 - accuracy: 0.1777"
     ]
    },
    {
     "name": "stderr",
     "output_type": "stream",
     "text": []
    },
    {
     "name": "stdout",
     "output_type": "stream",
     "text": [
      "49/61 [=======================>......] - ETA: 5:09 - loss: 2.2798 - accuracy: 0.1760"
     ]
    },
    {
     "name": "stderr",
     "output_type": "stream",
     "text": []
    },
    {
     "name": "stdout",
     "output_type": "stream",
     "text": [
      "50/61 [=======================>......] - ETA: 4:44 - loss: 2.2797 - accuracy: 0.1762"
     ]
    },
    {
     "name": "stderr",
     "output_type": "stream",
     "text": []
    },
    {
     "name": "stdout",
     "output_type": "stream",
     "text": [
      "51/61 [========================>.....] - ETA: 4:18 - loss: 2.2797 - accuracy: 0.1752"
     ]
    },
    {
     "name": "stderr",
     "output_type": "stream",
     "text": []
    },
    {
     "name": "stdout",
     "output_type": "stream",
     "text": [
      "52/61 [========================>.....] - ETA: 3:52 - loss: 2.2797 - accuracy: 0.1773"
     ]
    },
    {
     "name": "stderr",
     "output_type": "stream",
     "text": []
    },
    {
     "name": "stdout",
     "output_type": "stream",
     "text": [
      "53/61 [=========================>....] - ETA: 3:26 - loss: 2.2798 - accuracy: 0.1769"
     ]
    },
    {
     "name": "stderr",
     "output_type": "stream",
     "text": []
    },
    {
     "name": "stdout",
     "output_type": "stream",
     "text": [
      "54/61 [=========================>....] - ETA: 3:00 - loss: 2.2795 - accuracy: 0.1800"
     ]
    },
    {
     "name": "stderr",
     "output_type": "stream",
     "text": []
    },
    {
     "name": "stdout",
     "output_type": "stream",
     "text": [
      "55/61 [==========================>...] - ETA: 2:35 - loss: 2.2796 - accuracy: 0.1807"
     ]
    },
    {
     "name": "stderr",
     "output_type": "stream",
     "text": []
    },
    {
     "name": "stdout",
     "output_type": "stream",
     "text": [
      "56/61 [==========================>...] - ETA: 2:09 - loss: 2.2798 - accuracy: 0.1786"
     ]
    },
    {
     "name": "stderr",
     "output_type": "stream",
     "text": []
    },
    {
     "name": "stdout",
     "output_type": "stream",
     "text": [
      "57/61 [===========================>..] - ETA: 1:43 - loss: 2.2797 - accuracy: 0.1776"
     ]
    },
    {
     "name": "stderr",
     "output_type": "stream",
     "text": []
    },
    {
     "name": "stdout",
     "output_type": "stream",
     "text": [
      "58/61 [===========================>..] - ETA: 1:17 - loss: 2.2795 - accuracy: 0.1778"
     ]
    },
    {
     "name": "stderr",
     "output_type": "stream",
     "text": []
    },
    {
     "name": "stdout",
     "output_type": "stream",
     "text": [
      "59/61 [============================>.] - ETA: 51s - loss: 2.2795 - accuracy: 0.1758 "
     ]
    },
    {
     "name": "stderr",
     "output_type": "stream",
     "text": []
    },
    {
     "name": "stdout",
     "output_type": "stream",
     "text": [
      "60/61 [============================>.] - ETA: 25s - loss: 2.2793 - accuracy: 0.1755"
     ]
    },
    {
     "name": "stderr",
     "output_type": "stream",
     "text": []
    },
    {
     "name": "stdout",
     "output_type": "stream",
     "text": [
      "61/61 [==============================] - ETA: 0s - loss: 2.2793 - accuracy: 0.1750 "
     ]
    },
    {
     "name": "stderr",
     "output_type": "stream",
     "text": [
      "61/61██████████ ETA: 00:00s - loss: 2.2793 - accuracy: 0.1750 - val_loss: 2.2800 - val_accuracy: 0.1818\n",
      "Training:  86%|████████▌  6/7 ETA: 30:38s,  1838.51s/epochs  "
     ]
    },
    {
     "name": "stdout",
     "output_type": "stream",
     "text": [
      "61/61 [==============================] - 1754s 29s/step - loss: 2.2793 - accuracy: 0.1750 - val_loss: 2.2800 - val_accuracy: 0.1818\n",
      "Epoch 7/7\n"
     ]
    },
    {
     "name": "stderr",
     "output_type": "stream",
     "text": []
    },
    {
     "name": "stdout",
     "output_type": "stream",
     "text": [
      "Epoch 7/7\n"
     ]
    },
    {
     "name": "stderr",
     "output_type": "stream",
     "text": []
    },
    {
     "name": "stdout",
     "output_type": "stream",
     "text": [
      " 1/61 [..............................] - ETA: 25:42 - loss: 2.2765 - accuracy: 0.0938"
     ]
    },
    {
     "name": "stderr",
     "output_type": "stream",
     "text": []
    },
    {
     "name": "stdout",
     "output_type": "stream",
     "text": [
      " 2/61 [..............................] - ETA: 24:06 - loss: 2.2780 - accuracy: 0.1406"
     ]
    },
    {
     "name": "stderr",
     "output_type": "stream",
     "text": []
    },
    {
     "name": "stdout",
     "output_type": "stream",
     "text": [
      " 3/61 [>.............................] - ETA: 23:45 - loss: 2.2745 - accuracy: 0.1875"
     ]
    },
    {
     "name": "stderr",
     "output_type": "stream",
     "text": []
    },
    {
     "name": "stdout",
     "output_type": "stream",
     "text": [
      " 4/61 [>.............................] - ETA: 23:17 - loss: 2.2750 - accuracy: 0.1875"
     ]
    },
    {
     "name": "stderr",
     "output_type": "stream",
     "text": []
    },
    {
     "name": "stdout",
     "output_type": "stream",
     "text": [
      " 5/61 [=>............................] - ETA: 22:53 - loss: 2.2739 - accuracy: 0.1937"
     ]
    },
    {
     "name": "stderr",
     "output_type": "stream",
     "text": []
    },
    {
     "name": "stdout",
     "output_type": "stream",
     "text": [
      " 6/61 [=>............................] - ETA: 23:13 - loss: 2.2744 - accuracy: 0.1875"
     ]
    },
    {
     "name": "stderr",
     "output_type": "stream",
     "text": []
    },
    {
     "name": "stdout",
     "output_type": "stream",
     "text": [
      " 7/61 [==>...........................] - ETA: 23:01 - loss: 2.2748 - accuracy: 0.1964"
     ]
    },
    {
     "name": "stderr",
     "output_type": "stream",
     "text": []
    },
    {
     "name": "stdout",
     "output_type": "stream",
     "text": [
      " 8/61 [==>...........................] - ETA: 22:34 - loss: 2.2759 - accuracy: 0.1914"
     ]
    },
    {
     "name": "stderr",
     "output_type": "stream",
     "text": []
    },
    {
     "name": "stdout",
     "output_type": "stream",
     "text": [
      " 9/61 [===>..........................] - ETA: 22:06 - loss: 2.2752 - accuracy: 0.1875"
     ]
    },
    {
     "name": "stderr",
     "output_type": "stream",
     "text": []
    },
    {
     "name": "stdout",
     "output_type": "stream",
     "text": [
      "10/61 [===>..........................] - ETA: 21:38 - loss: 2.2767 - accuracy: 0.1781"
     ]
    },
    {
     "name": "stderr",
     "output_type": "stream",
     "text": []
    },
    {
     "name": "stdout",
     "output_type": "stream",
     "text": [
      "11/61 [====>.........................] - ETA: 21:11 - loss: 2.2768 - accuracy: 0.1875"
     ]
    },
    {
     "name": "stderr",
     "output_type": "stream",
     "text": []
    },
    {
     "name": "stdout",
     "output_type": "stream",
     "text": [
      "12/61 [====>.........................] - ETA: 20:44 - loss: 2.2765 - accuracy: 0.1953"
     ]
    },
    {
     "name": "stderr",
     "output_type": "stream",
     "text": []
    },
    {
     "name": "stdout",
     "output_type": "stream",
     "text": [
      "13/61 [=====>........................] - ETA: 20:16 - loss: 2.2764 - accuracy: 0.1923"
     ]
    },
    {
     "name": "stderr",
     "output_type": "stream",
     "text": []
    },
    {
     "name": "stdout",
     "output_type": "stream",
     "text": [
      "14/61 [=====>........................] - ETA: 19:50 - loss: 2.2766 - accuracy: 0.1830"
     ]
    },
    {
     "name": "stderr",
     "output_type": "stream",
     "text": []
    },
    {
     "name": "stdout",
     "output_type": "stream",
     "text": [
      "15/61 [======>.......................] - ETA: 19:24 - loss: 2.2762 - accuracy: 0.1792"
     ]
    },
    {
     "name": "stderr",
     "output_type": "stream",
     "text": []
    },
    {
     "name": "stdout",
     "output_type": "stream",
     "text": [
      "16/61 [======>.......................] - ETA: 18:56 - loss: 2.2761 - accuracy: 0.1758"
     ]
    },
    {
     "name": "stderr",
     "output_type": "stream",
     "text": []
    },
    {
     "name": "stdout",
     "output_type": "stream",
     "text": [
      "17/61 [=======>......................] - ETA: 18:32 - loss: 2.2756 - accuracy: 0.1857"
     ]
    },
    {
     "name": "stderr",
     "output_type": "stream",
     "text": []
    },
    {
     "name": "stdout",
     "output_type": "stream",
     "text": [
      "18/61 [=======>......................] - ETA: 18:05 - loss: 2.2759 - accuracy: 0.1806"
     ]
    },
    {
     "name": "stderr",
     "output_type": "stream",
     "text": []
    },
    {
     "name": "stdout",
     "output_type": "stream",
     "text": [
      "19/61 [========>.....................] - ETA: 17:40 - loss: 2.2759 - accuracy: 0.1809"
     ]
    },
    {
     "name": "stderr",
     "output_type": "stream",
     "text": []
    },
    {
     "name": "stdout",
     "output_type": "stream",
     "text": [
      "20/61 [========>.....................] - ETA: 17:15 - loss: 2.2761 - accuracy: 0.1828"
     ]
    },
    {
     "name": "stderr",
     "output_type": "stream",
     "text": []
    },
    {
     "name": "stdout",
     "output_type": "stream",
     "text": [
      "21/61 [=========>....................] - ETA: 16:49 - loss: 2.2760 - accuracy: 0.1875"
     ]
    },
    {
     "name": "stderr",
     "output_type": "stream",
     "text": []
    },
    {
     "name": "stdout",
     "output_type": "stream",
     "text": [
      "22/61 [=========>....................] - ETA: 16:24 - loss: 2.2767 - accuracy: 0.1832"
     ]
    },
    {
     "name": "stderr",
     "output_type": "stream",
     "text": []
    },
    {
     "name": "stdout",
     "output_type": "stream",
     "text": [
      "23/61 [==========>...................] - ETA: 15:59 - loss: 2.2758 - accuracy: 0.1821"
     ]
    },
    {
     "name": "stderr",
     "output_type": "stream",
     "text": []
    },
    {
     "name": "stdout",
     "output_type": "stream",
     "text": [
      "24/61 [==========>...................] - ETA: 15:33 - loss: 2.2758 - accuracy: 0.1784"
     ]
    },
    {
     "name": "stderr",
     "output_type": "stream",
     "text": []
    },
    {
     "name": "stdout",
     "output_type": "stream",
     "text": [
      "25/61 [===========>..................] - ETA: 15:08 - loss: 2.2755 - accuracy: 0.1813"
     ]
    },
    {
     "name": "stderr",
     "output_type": "stream",
     "text": []
    },
    {
     "name": "stdout",
     "output_type": "stream",
     "text": [
      "26/61 [===========>..................] - ETA: 14:42 - loss: 2.2756 - accuracy: 0.1779"
     ]
    },
    {
     "name": "stderr",
     "output_type": "stream",
     "text": []
    },
    {
     "name": "stdout",
     "output_type": "stream",
     "text": [
      "27/61 [============>.................] - ETA: 14:16 - loss: 2.2762 - accuracy: 0.1725"
     ]
    },
    {
     "name": "stderr",
     "output_type": "stream",
     "text": []
    },
    {
     "name": "stdout",
     "output_type": "stream",
     "text": [
      "28/61 [============>.................] - ETA: 13:50 - loss: 2.2763 - accuracy: 0.1708"
     ]
    },
    {
     "name": "stderr",
     "output_type": "stream",
     "text": []
    },
    {
     "name": "stdout",
     "output_type": "stream",
     "text": [
      "29/61 [=============>................] - ETA: 13:26 - loss: 2.2763 - accuracy: 0.1713"
     ]
    },
    {
     "name": "stderr",
     "output_type": "stream",
     "text": []
    },
    {
     "name": "stdout",
     "output_type": "stream",
     "text": [
      "30/61 [=============>................] - ETA: 13:00 - loss: 2.2759 - accuracy: 0.1760"
     ]
    },
    {
     "name": "stderr",
     "output_type": "stream",
     "text": []
    },
    {
     "name": "stdout",
     "output_type": "stream",
     "text": [
      "31/61 [==============>...............] - ETA: 12:34 - loss: 2.2758 - accuracy: 0.1724"
     ]
    },
    {
     "name": "stderr",
     "output_type": "stream",
     "text": []
    },
    {
     "name": "stdout",
     "output_type": "stream",
     "text": [
      "32/61 [==============>...............] - ETA: 12:09 - loss: 2.2756 - accuracy: 0.1719"
     ]
    },
    {
     "name": "stderr",
     "output_type": "stream",
     "text": []
    },
    {
     "name": "stdout",
     "output_type": "stream",
     "text": [
      "33/61 [===============>..............] - ETA: 11:45 - loss: 2.2754 - accuracy: 0.1733"
     ]
    },
    {
     "name": "stderr",
     "output_type": "stream",
     "text": []
    },
    {
     "name": "stdout",
     "output_type": "stream",
     "text": [
      "34/61 [===============>..............] - ETA: 11:20 - loss: 2.2760 - accuracy: 0.1700"
     ]
    },
    {
     "name": "stderr",
     "output_type": "stream",
     "text": []
    },
    {
     "name": "stdout",
     "output_type": "stream",
     "text": [
      "35/61 [================>.............] - ETA: 11:01 - loss: 2.2761 - accuracy: 0.1696"
     ]
    },
    {
     "name": "stderr",
     "output_type": "stream",
     "text": []
    },
    {
     "name": "stdout",
     "output_type": "stream",
     "text": [
      "36/61 [================>.............] - ETA: 10:36 - loss: 2.2760 - accuracy: 0.1710"
     ]
    },
    {
     "name": "stderr",
     "output_type": "stream",
     "text": []
    },
    {
     "name": "stdout",
     "output_type": "stream",
     "text": [
      "37/61 [=================>............] - ETA: 10:11 - loss: 2.2760 - accuracy: 0.1715"
     ]
    },
    {
     "name": "stderr",
     "output_type": "stream",
     "text": []
    },
    {
     "name": "stdout",
     "output_type": "stream",
     "text": [
      "38/61 [=================>............] - ETA: 9:45 - loss: 2.2760 - accuracy: 0.1727 "
     ]
    },
    {
     "name": "stderr",
     "output_type": "stream",
     "text": []
    },
    {
     "name": "stdout",
     "output_type": "stream",
     "text": [
      "39/61 [==================>...........] - ETA: 9:19 - loss: 2.2761 - accuracy: 0.1715"
     ]
    },
    {
     "name": "stderr",
     "output_type": "stream",
     "text": []
    },
    {
     "name": "stdout",
     "output_type": "stream",
     "text": [
      "40/61 [==================>...........] - ETA: 8:54 - loss: 2.2760 - accuracy: 0.1703"
     ]
    },
    {
     "name": "stderr",
     "output_type": "stream",
     "text": []
    },
    {
     "name": "stdout",
     "output_type": "stream",
     "text": [
      "41/61 [===================>..........] - ETA: 8:28 - loss: 2.2758 - accuracy: 0.1707"
     ]
    },
    {
     "name": "stderr",
     "output_type": "stream",
     "text": []
    },
    {
     "name": "stdout",
     "output_type": "stream",
     "text": [
      "42/61 [===================>..........] - ETA: 8:03 - loss: 2.2755 - accuracy: 0.1719"
     ]
    },
    {
     "name": "stderr",
     "output_type": "stream",
     "text": []
    },
    {
     "name": "stdout",
     "output_type": "stream",
     "text": [
      "43/61 [====================>.........] - ETA: 7:37 - loss: 2.2756 - accuracy: 0.1730"
     ]
    },
    {
     "name": "stderr",
     "output_type": "stream",
     "text": []
    },
    {
     "name": "stdout",
     "output_type": "stream",
     "text": [
      "44/61 [====================>.........] - ETA: 7:12 - loss: 2.2755 - accuracy: 0.1747"
     ]
    },
    {
     "name": "stderr",
     "output_type": "stream",
     "text": []
    },
    {
     "name": "stdout",
     "output_type": "stream",
     "text": [
      "45/61 [=====================>........] - ETA: 6:46 - loss: 2.2758 - accuracy: 0.1764"
     ]
    },
    {
     "name": "stderr",
     "output_type": "stream",
     "text": []
    },
    {
     "name": "stdout",
     "output_type": "stream",
     "text": [
      "46/61 [=====================>........] - ETA: 6:21 - loss: 2.2760 - accuracy: 0.1746"
     ]
    },
    {
     "name": "stderr",
     "output_type": "stream",
     "text": []
    },
    {
     "name": "stdout",
     "output_type": "stream",
     "text": [
      "47/61 [======================>.......] - ETA: 5:56 - loss: 2.2759 - accuracy: 0.1755"
     ]
    },
    {
     "name": "stderr",
     "output_type": "stream",
     "text": []
    },
    {
     "name": "stdout",
     "output_type": "stream",
     "text": [
      "48/61 [======================>.......] - ETA: 5:31 - loss: 2.2761 - accuracy: 0.1751"
     ]
    },
    {
     "name": "stderr",
     "output_type": "stream",
     "text": []
    },
    {
     "name": "stdout",
     "output_type": "stream",
     "text": [
      "49/61 [=======================>......] - ETA: 5:05 - loss: 2.2757 - accuracy: 0.1773"
     ]
    },
    {
     "name": "stderr",
     "output_type": "stream",
     "text": []
    },
    {
     "name": "stdout",
     "output_type": "stream",
     "text": [
      "50/61 [=======================>......] - ETA: 4:40 - loss: 2.2753 - accuracy: 0.1775"
     ]
    },
    {
     "name": "stderr",
     "output_type": "stream",
     "text": []
    },
    {
     "name": "stdout",
     "output_type": "stream",
     "text": [
      "51/61 [========================>.....] - ETA: 4:14 - loss: 2.2754 - accuracy: 0.1777"
     ]
    },
    {
     "name": "stderr",
     "output_type": "stream",
     "text": []
    },
    {
     "name": "stdout",
     "output_type": "stream",
     "text": [
      "52/61 [========================>.....] - ETA: 3:49 - loss: 2.2753 - accuracy: 0.1779"
     ]
    },
    {
     "name": "stderr",
     "output_type": "stream",
     "text": []
    },
    {
     "name": "stdout",
     "output_type": "stream",
     "text": [
      "53/61 [=========================>....] - ETA: 3:23 - loss: 2.2749 - accuracy: 0.1775"
     ]
    },
    {
     "name": "stderr",
     "output_type": "stream",
     "text": []
    },
    {
     "name": "stdout",
     "output_type": "stream",
     "text": [
      "54/61 [=========================>....] - ETA: 2:58 - loss: 2.2749 - accuracy: 0.1777"
     ]
    },
    {
     "name": "stderr",
     "output_type": "stream",
     "text": []
    },
    {
     "name": "stdout",
     "output_type": "stream",
     "text": [
      "55/61 [==========================>...] - ETA: 2:33 - loss: 2.2749 - accuracy: 0.1778"
     ]
    },
    {
     "name": "stderr",
     "output_type": "stream",
     "text": []
    },
    {
     "name": "stdout",
     "output_type": "stream",
     "text": [
      "56/61 [==========================>...] - ETA: 2:07 - loss: 2.2751 - accuracy: 0.1763"
     ]
    },
    {
     "name": "stderr",
     "output_type": "stream",
     "text": []
    },
    {
     "name": "stdout",
     "output_type": "stream",
     "text": [
      "57/61 [===========================>..] - ETA: 1:41 - loss: 2.2750 - accuracy: 0.1754"
     ]
    },
    {
     "name": "stderr",
     "output_type": "stream",
     "text": []
    },
    {
     "name": "stdout",
     "output_type": "stream",
     "text": [
      "58/61 [===========================>..] - ETA: 1:16 - loss: 2.2751 - accuracy: 0.1756"
     ]
    },
    {
     "name": "stderr",
     "output_type": "stream",
     "text": []
    },
    {
     "name": "stdout",
     "output_type": "stream",
     "text": [
      "59/61 [============================>.] - ETA: 50s - loss: 2.2752 - accuracy: 0.1743 "
     ]
    },
    {
     "name": "stderr",
     "output_type": "stream",
     "text": []
    },
    {
     "name": "stdout",
     "output_type": "stream",
     "text": [
      "60/61 [============================>.] - ETA: 25s - loss: 2.2749 - accuracy: 0.1750"
     ]
    },
    {
     "name": "stderr",
     "output_type": "stream",
     "text": []
    },
    {
     "name": "stdout",
     "output_type": "stream",
     "text": [
      "61/61 [==============================] - ETA: 0s - loss: 2.2751 - accuracy: 0.1750 "
     ]
    },
    {
     "name": "stderr",
     "output_type": "stream",
     "text": [
      "61/61██████████ ETA: 00:00s - loss: 2.2751 - accuracy: 0.1750 - val_loss: 2.2762 - val_accuracy: 0.1818\n",
      "Training: 100%|██████████ 7/7 ETA: 00:00s,  1801.99s/epochs"
     ]
    },
    {
     "name": "stdout",
     "output_type": "stream",
     "text": [
      "61/61 [==============================] - 1727s 28s/step - loss: 2.2751 - accuracy: 0.1750 - val_loss: 2.2762 - val_accuracy: 0.1818\n"
     ]
    },
    {
     "name": "stderr",
     "output_type": "stream",
     "text": [
      "Training: 100%|██████████ 7/7 ETA: 00:00s,  1811.53s/epochs\n"
     ]
    }
   ],
   "source": [
    "# initialize tqdm callback with default parameters\n",
    "tqdm_callback = tfa.callbacks.TQDMProgressBar()  # tensorboard_cb\n",
    "np.random.seed(seed)  # random seed for reproducability\n",
    "# fit the model\n",
    "history = model.fit(\n",
    "    train_x,\n",
    "    train_y,\n",
    "    validation_split=0.3,\n",
    "    epochs=7,\n",
    "    batch_size=32,\n",
    "    callbacks=[tqdm_callback],\n",
    "    verbose=1,\n",
    ")"
   ]
  },
  {
   "cell_type": "code",
   "execution_count": null,
   "metadata": {},
   "outputs": [],
   "source": [
    "# to get the log of the model\n",
    "# Open up a terminal at the directory level where the TensorBoard log folder exists and run the following command:\n",
    "# tensorboard --logdir logs"
   ]
  },
  {
   "cell_type": "code",
   "execution_count": null,
   "metadata": {},
   "outputs": [],
   "source": [
    "# save the model\n",
    "PATH_MODEL_ABS = (\n",
    "    os.path.join(\n",
    "        os.getcwd(),\n",
    "        config.settings.DATA_FOLDER_MODELS,\n",
    "    )\n",
    "    + \"VGG16_model.h5\"\n",
    ")\n",
    "\n",
    "model.save(PATH_MODEL_ABS)"
   ]
  },
  {
   "cell_type": "code",
   "execution_count": null,
   "metadata": {},
   "outputs": [],
   "source": [
    "# load model\n",
    "model = keras.models.load_model(PATH_MODEL_ABS)"
   ]
  },
  {
   "cell_type": "code",
   "execution_count": 22,
   "metadata": {},
   "outputs": [
    {
     "data": {
      "text/plain": [
       "<keras.optimizers.optimizer_v2.gradient_descent.SGD at 0x137a24910>"
      ]
     },
     "execution_count": 22,
     "metadata": {},
     "output_type": "execute_result"
    }
   ],
   "source": [
    "# look at optimizer\n",
    "model.optimizer"
   ]
  },
  {
   "cell_type": "code",
   "execution_count": 23,
   "metadata": {},
   "outputs": [
    {
     "data": {
      "text/plain": [
       "[<tf.Variable 'block1_conv1/kernel:0' shape=(3, 3, 3, 64) dtype=float32, numpy=\n",
       " array([[[[-0.0024533 ,  0.03448011,  0.00117754, ...,  0.080984  ,\n",
       "           -0.05438662, -0.05083369],\n",
       "          [ 0.08601187,  0.01566525,  0.05180024, ...,  0.06223259,\n",
       "            0.01497886,  0.01063392],\n",
       "          [ 0.01810093,  0.07593331,  0.03905247, ..., -0.05214323,\n",
       "           -0.04101918,  0.02224325]],\n",
       " \n",
       "         [[ 0.04239473, -0.0764    , -0.04611631, ...,  0.00738036,\n",
       "           -0.05855519, -0.03222388],\n",
       "          [-0.05811774, -0.09298155, -0.08768252, ..., -0.00861998,\n",
       "           -0.04753745,  0.09256504],\n",
       "          [-0.09162302,  0.0090483 , -0.07325919, ...,  0.096821  ,\n",
       "            0.04010611, -0.02816527]],\n",
       " \n",
       "         [[-0.09368499, -0.04195464, -0.0551438 , ...,  0.0622688 ,\n",
       "            0.08885853,  0.07936363],\n",
       "          [ 0.02143857, -0.02877019, -0.0733224 , ..., -0.03274012,\n",
       "            0.06887944, -0.00851496],\n",
       "          [-0.08039046, -0.05336191, -0.05563826, ..., -0.00321557,\n",
       "            0.01365789, -0.02401664]]],\n",
       " \n",
       " \n",
       "        [[[ 0.07933476, -0.04038529, -0.01502743, ...,  0.09890437,\n",
       "           -0.08824518, -0.09836188],\n",
       "          [-0.03499165, -0.04057577, -0.08156773, ..., -0.04893585,\n",
       "            0.02846653,  0.07725158],\n",
       "          [ 0.09401285, -0.03834349, -0.0277547 , ...,  0.03331354,\n",
       "           -0.0922959 , -0.00322131]],\n",
       " \n",
       "         [[-0.01815618, -0.06971417,  0.09422392, ...,  0.09607872,\n",
       "           -0.02498654,  0.09846534],\n",
       "          [ 0.05206989,  0.02338829, -0.05406067, ...,  0.09815648,\n",
       "           -0.08031748,  0.06126011],\n",
       "          [-0.00886451,  0.01824436,  0.06054908, ...,  0.05440365,\n",
       "            0.02418736,  0.07695933]],\n",
       " \n",
       "         [[-0.07681715, -0.08137565, -0.03957801, ...,  0.06951786,\n",
       "           -0.09158482,  0.07761712],\n",
       "          [ 0.02708326,  0.09251345, -0.01067653, ..., -0.09028288,\n",
       "           -0.00914532, -0.07717921],\n",
       "          [ 0.0701957 ,  0.05448558, -0.08264096, ...,  0.06088268,\n",
       "           -0.0503033 ,  0.06622867]]],\n",
       " \n",
       " \n",
       "        [[[ 0.00279086,  0.06816721, -0.04602391, ...,  0.03911816,\n",
       "            0.01106561, -0.07273795],\n",
       "          [-0.01241849,  0.03951218,  0.03749909, ..., -0.00271496,\n",
       "           -0.01803103,  0.05808656],\n",
       "          [-0.05174769, -0.06421512,  0.0218494 , ...,  0.01618741,\n",
       "            0.00791497, -0.04273625]],\n",
       " \n",
       "         [[-0.07735255, -0.08977119,  0.01477394, ..., -0.08594538,\n",
       "           -0.04007041,  0.00323125],\n",
       "          [-0.0429404 , -0.08143955, -0.09711767, ..., -0.04485059,\n",
       "           -0.03047547,  0.05449107],\n",
       "          [ 0.09576818, -0.07766356,  0.04119229, ...,  0.09947402,\n",
       "            0.0114225 ,  0.0361858 ]],\n",
       " \n",
       "         [[ 0.031473  ,  0.0704141 ,  0.09727136, ..., -0.0968562 ,\n",
       "            0.03966849, -0.06645279],\n",
       "          [-0.06572287,  0.01475907, -0.00772788, ..., -0.02569978,\n",
       "            0.01842198,  0.02636927],\n",
       "          [ 0.01045689, -0.04307622,  0.05664677, ..., -0.08529062,\n",
       "           -0.05090144,  0.09413622]]]], dtype=float32)>,\n",
       " <tf.Variable 'block1_conv1/bias:0' shape=(64,) dtype=float32, numpy=\n",
       " array([ 1.3467759e-05, -9.5018083e-07, -1.7793269e-06,  1.7348191e-05,\n",
       "        -7.7240540e-05,  5.9488964e-05, -8.6266596e-07,  4.4664539e-05,\n",
       "         3.4660621e-05,  1.2560067e-05,  2.3889860e-04, -7.9340287e-05,\n",
       "         6.5751039e-05,  1.3773171e-05, -5.2706162e-07,  1.3988635e-04,\n",
       "         1.9214874e-06, -1.5301217e-06,  6.7607323e-07,  3.1781935e-06,\n",
       "         2.7473623e-05, -1.0585976e-04,  5.8169785e-06, -7.3104144e-05,\n",
       "        -4.0215000e-05,  5.8226919e-07,  5.8833295e-05,  2.2922290e-04,\n",
       "        -5.2374440e-07, -3.0302119e-06, -1.1068275e-06,  3.6699261e-05,\n",
       "         7.2066141e-06,  1.3686821e-04,  1.3650275e-05,  2.9059422e-10,\n",
       "        -2.7074968e-06,  3.7480447e-07, -8.9485795e-05,  9.0024972e-05,\n",
       "         8.5322254e-06,  6.4449712e-05, -4.7104124e-05, -5.9562844e-06,\n",
       "        -8.2384267e-06,  5.9428043e-05,  5.9081471e-05,  2.0051771e-04,\n",
       "        -7.4226547e-05,  2.7607613e-05,  5.1097518e-06,  1.9431884e-04,\n",
       "         8.4159707e-05,  3.8049950e-06,  8.6985900e-05, -2.4806137e-05,\n",
       "        -1.2070274e-04,  1.3276095e-05,  5.6738390e-05, -7.7990881e-06,\n",
       "        -3.1757769e-05,  2.5204153e-04,  1.9871004e-06,  1.0266505e-04],\n",
       "       dtype=float32)>,\n",
       " <tf.Variable 'block1_conv2/kernel:0' shape=(3, 3, 64, 64) dtype=float32, numpy=\n",
       " array([[[[-0.01479129,  0.03574546, -0.04929607, ..., -0.02506829,\n",
       "           -0.00985713,  0.04563794],\n",
       "          [ 0.04781573,  0.01801999, -0.03298534, ...,  0.03978952,\n",
       "           -0.00832198, -0.00151869],\n",
       "          [-0.03371967, -0.01574598,  0.06810241, ..., -0.04466603,\n",
       "            0.07031582,  0.05128849],\n",
       "          ...,\n",
       "          [ 0.06018543,  0.05766438, -0.02937692, ..., -0.05697577,\n",
       "           -0.04359654, -0.04549578],\n",
       "          [ 0.06191031,  0.03965459,  0.03078699, ..., -0.00419178,\n",
       "           -0.01025147,  0.06943782],\n",
       "          [ 0.01428837,  0.04037637, -0.0333046 , ..., -0.04867841,\n",
       "           -0.03512104,  0.06830378]],\n",
       " \n",
       "         [[ 0.0295617 , -0.05611147,  0.05408138, ...,  0.05024999,\n",
       "            0.07119496, -0.01624558],\n",
       "          [ 0.02207022, -0.0128416 , -0.06022486, ...,  0.01700366,\n",
       "            0.05895411, -0.03352734],\n",
       "          [ 0.06483111,  0.03668257,  0.07121398, ..., -0.04588762,\n",
       "            0.05638842,  0.06137741],\n",
       "          ...,\n",
       "          [ 0.07096424,  0.03617616,  0.0173096 , ...,  0.03167909,\n",
       "           -0.01703933, -0.04028186],\n",
       "          [ 0.02410897,  0.02637185, -0.04194418, ..., -0.05457089,\n",
       "           -0.02719065, -0.05430279],\n",
       "          [-0.05739345,  0.07087421,  0.03871372, ..., -0.00824794,\n",
       "           -0.02038384, -0.06384008]],\n",
       " \n",
       "         [[ 0.06166576, -0.04357558, -0.0484731 , ..., -0.00822932,\n",
       "           -0.05793729,  0.04334282],\n",
       "          [ 0.00065966, -0.02293211,  0.04092317, ...,  0.04259271,\n",
       "            0.03018007, -0.01666044],\n",
       "          [ 0.00708215, -0.03517865, -0.00765313, ..., -0.05396948,\n",
       "            0.07075816, -0.02214096],\n",
       "          ...,\n",
       "          [-0.03778551, -0.0421099 ,  0.03337167, ..., -0.00800221,\n",
       "            0.02727481,  0.02255547],\n",
       "          [ 0.02167579, -0.04891867, -0.05403199, ...,  0.00136576,\n",
       "            0.00902948,  0.04440717],\n",
       "          [-0.01253482,  0.02609136, -0.06420574, ..., -0.05361552,\n",
       "           -0.00948423,  0.05695862]]],\n",
       " \n",
       " \n",
       "        [[[-0.0645953 ,  0.00975911,  0.03722239, ...,  0.02432169,\n",
       "           -0.04896589, -0.02023438],\n",
       "          [-0.01881884,  0.00502901,  0.03449455, ..., -0.01564547,\n",
       "            0.01883958,  0.03549604],\n",
       "          [-0.01300402, -0.04900947,  0.02472766, ...,  0.0371613 ,\n",
       "           -0.02987619,  0.04223122],\n",
       "          ...,\n",
       "          [-0.0417573 , -0.04034764, -0.06658336, ..., -0.01329042,\n",
       "           -0.0387018 ,  0.03473151],\n",
       "          [-0.05489407,  0.06753736,  0.05170178, ...,  0.03550626,\n",
       "            0.05109068, -0.05704357],\n",
       "          [ 0.05066429, -0.06478831,  0.00063556, ...,  0.02922195,\n",
       "           -0.05681917,  0.01149356]],\n",
       " \n",
       "         [[-0.00773661,  0.04303208, -0.05250337, ...,  0.06633921,\n",
       "            0.03539809, -0.06382853],\n",
       "          [-0.00693705,  0.0577235 ,  0.06421477, ..., -0.05860458,\n",
       "           -0.00138498,  0.05940736],\n",
       "          [-0.03927459, -0.02900847, -0.05807746, ..., -0.03716526,\n",
       "           -0.04255908, -0.00640554],\n",
       "          ...,\n",
       "          [ 0.03628956, -0.07192808,  0.00630388, ...,  0.05213101,\n",
       "            0.05052514, -0.04250246],\n",
       "          [-0.06248331,  0.02879646,  0.04469535, ...,  0.02080418,\n",
       "            0.00224266, -0.06556777],\n",
       "          [ 0.01682347, -0.03094814, -0.01175905, ...,  0.06248339,\n",
       "            0.02628917, -0.06679386]],\n",
       " \n",
       "         [[ 0.06523581,  0.03453232, -0.0350536 , ..., -0.03080988,\n",
       "            0.02913377, -0.00085691],\n",
       "          [ 0.05129342, -0.00356792, -0.0082001 , ..., -0.02441858,\n",
       "            0.0310932 ,  0.0644424 ],\n",
       "          [ 0.03108592,  0.038647  , -0.01615808, ...,  0.04929048,\n",
       "           -0.00355179, -0.05212773],\n",
       "          ...,\n",
       "          [ 0.069187  ,  0.00753825, -0.05871828, ..., -0.03003008,\n",
       "            0.026968  , -0.03114877],\n",
       "          [-0.01555911,  0.04352361,  0.03103017, ..., -0.01225067,\n",
       "           -0.01414596, -0.05445889],\n",
       "          [ 0.01158138, -0.04141186,  0.05948971, ..., -0.00461692,\n",
       "           -0.05585556,  0.00461752]]],\n",
       " \n",
       " \n",
       "        [[[ 0.03156484,  0.00906038,  0.01710621, ..., -0.06808099,\n",
       "            0.01228695, -0.0656319 ],\n",
       "          [ 0.02054292,  0.03285504, -0.06240179, ...,  0.06521489,\n",
       "            0.01333226,  0.04456419],\n",
       "          [ 0.02526645, -0.00253915,  0.06922632, ...,  0.0470014 ,\n",
       "            0.04023353, -0.06062739],\n",
       "          ...,\n",
       "          [ 0.06808694, -0.02508114,  0.00702983, ..., -0.00519926,\n",
       "           -0.06168   , -0.02448898],\n",
       "          [ 0.06083086,  0.02311963,  0.0487502 , ...,  0.03484361,\n",
       "            0.01458198,  0.02529405],\n",
       "          [ 0.00177241, -0.04765976, -0.06578033, ...,  0.0302372 ,\n",
       "            0.03136241,  0.03779216]],\n",
       " \n",
       "         [[ 0.06323335, -0.00738225, -0.03319175, ...,  0.04674889,\n",
       "           -0.07187235, -0.0413008 ],\n",
       "          [-0.04315996,  0.05381548, -0.02256909, ..., -0.02947889,\n",
       "           -0.00095577, -0.00212812],\n",
       "          [ 0.00024477,  0.01868422, -0.00928827, ...,  0.06894814,\n",
       "            0.04619703, -0.06375834],\n",
       "          ...,\n",
       "          [ 0.04087677, -0.03468362, -0.0011708 , ...,  0.02108823,\n",
       "           -0.01719001,  0.01603816],\n",
       "          [ 0.00844735,  0.02691308, -0.022127  , ...,  0.00793124,\n",
       "           -0.0034511 ,  0.03582409],\n",
       "          [-0.07025691, -0.04804005, -0.01154082, ...,  0.00292156,\n",
       "            0.05439495, -0.02078241]],\n",
       " \n",
       "         [[-0.05174158, -0.0257094 ,  0.03166062, ...,  0.03513645,\n",
       "           -0.03270993,  0.02940832],\n",
       "          [ 0.06328983, -0.03288741, -0.03977166, ...,  0.01003357,\n",
       "            0.0595043 , -0.04779181],\n",
       "          [ 0.02774227,  0.02901205,  0.0538291 , ..., -0.0328121 ,\n",
       "            0.03484711,  0.06204296],\n",
       "          ...,\n",
       "          [ 0.02619395, -0.04200213, -0.04252907, ..., -0.04762645,\n",
       "            0.00706087, -0.03384435],\n",
       "          [ 0.04708518, -0.06314518, -0.00248854, ..., -0.02787597,\n",
       "            0.00011486, -0.02880379],\n",
       "          [ 0.0352359 ,  0.06153747,  0.04279522, ..., -0.04935108,\n",
       "            0.04803014, -0.06799104]]]], dtype=float32)>,\n",
       " <tf.Variable 'block1_conv2/bias:0' shape=(64,) dtype=float32, numpy=\n",
       " array([ 5.01987015e-05, -2.92588265e-06, -3.92295487e-06, -9.58164128e-06,\n",
       "         8.87299611e-05,  3.73165167e-05, -5.54763665e-06,  4.90437174e-07,\n",
       "         3.22559094e-06,  1.45283615e-04, -1.08669643e-04,  1.08306849e-04,\n",
       "         7.93500512e-05, -6.25257744e-05,  5.29244353e-05, -1.05865074e-04,\n",
       "        -2.13398507e-05,  7.05761340e-05,  1.64745128e-04,  4.33111836e-06,\n",
       "         1.46082937e-04,  3.88193257e-06,  1.90809573e-04, -6.60517026e-06,\n",
       "         8.69291307e-06, -3.95761901e-07,  2.04051298e-06,  4.38042116e-06,\n",
       "         2.19457615e-05,  3.35072291e-05,  2.10067919e-05, -2.97489714e-05,\n",
       "         3.35935920e-06,  1.13168744e-05,  8.51930163e-05, -2.62559547e-06,\n",
       "        -3.41040504e-06,  1.22010567e-06,  1.95560297e-05,  8.03098155e-05,\n",
       "        -3.55738921e-05, -2.91246215e-06, -1.92737076e-04,  2.47073709e-04,\n",
       "         1.02154088e-04,  1.75794285e-05,  5.29395329e-05, -2.25278973e-06,\n",
       "         1.45233571e-04,  2.09058548e-04,  4.47046223e-05,  1.45260708e-06,\n",
       "         7.64367360e-06, -1.03887920e-04,  1.62768865e-05,  2.87230941e-04,\n",
       "        -4.03894944e-07,  2.18138302e-05, -2.95983114e-06,  5.90246782e-06,\n",
       "         1.64315337e-04,  1.53844157e-05, -1.15289789e-04,  1.69009654e-05],\n",
       "       dtype=float32)>,\n",
       " <tf.Variable 'block2_conv1/kernel:0' shape=(3, 3, 64, 128) dtype=float32, numpy=\n",
       " array([[[[-0.01726055,  0.04217883, -0.05732689, ...,  0.03060621,\n",
       "           -0.00855475,  0.00119984],\n",
       "          [ 0.01015977,  0.01600723, -0.04811946, ..., -0.00831252,\n",
       "           -0.03761276,  0.00512313],\n",
       "          [ 0.05087717, -0.03383696,  0.04836061, ...,  0.05608663,\n",
       "            0.03144426,  0.01541637],\n",
       "          ...,\n",
       "          [ 0.00424759, -0.00198108, -0.01105512, ..., -0.0122051 ,\n",
       "           -0.01408794, -0.02406188],\n",
       "          [-0.02007998, -0.0160753 , -0.04408451, ...,  0.01019401,\n",
       "            0.01986755, -0.01296046],\n",
       "          [-0.02978723,  0.05522364,  0.01341582, ...,  0.02693309,\n",
       "           -0.02542792,  0.0349757 ]],\n",
       " \n",
       "         [[-0.01417   , -0.03371656,  0.03599894, ..., -0.04378902,\n",
       "           -0.01085688, -0.02878109],\n",
       "          [ 0.05874193, -0.02806959,  0.01495143, ..., -0.02305333,\n",
       "            0.0070514 ,  0.05603103],\n",
       "          [-0.05800926,  0.00325411,  0.01836257, ...,  0.04218832,\n",
       "           -0.05546374, -0.00890621],\n",
       "          ...,\n",
       "          [ 0.03102694,  0.01873991, -0.00188827, ..., -0.01361364,\n",
       "           -0.03363147, -0.00871884],\n",
       "          [ 0.04368163, -0.04072105,  0.02706788, ...,  0.01266498,\n",
       "           -0.00658045,  0.03337095],\n",
       "          [ 0.02058854,  0.00939006,  0.01647791, ...,  0.00703655,\n",
       "            0.00924176, -0.0250764 ]],\n",
       " \n",
       "         [[ 0.05067677, -0.03571571, -0.00871792, ..., -0.01704922,\n",
       "           -0.03321726,  0.02683558],\n",
       "          [-0.05504981, -0.03365484,  0.0173956 , ...,  0.0581398 ,\n",
       "            0.00373518,  0.0462768 ],\n",
       "          [-0.02578382, -0.01855752, -0.02320382, ..., -0.04052929,\n",
       "            0.04795202, -0.03012375],\n",
       "          ...,\n",
       "          [-0.02336346, -0.01188919,  0.0429665 , ...,  0.00444357,\n",
       "            0.05215679, -0.05877341],\n",
       "          [-0.04432239, -0.00119161,  0.03110673, ...,  0.03087538,\n",
       "           -0.01572523, -0.05229223],\n",
       "          [-0.05444211, -0.04212504, -0.04620248, ..., -0.03758883,\n",
       "            0.02509255,  0.04773662]]],\n",
       " \n",
       " \n",
       "        [[[-0.0396294 ,  0.04311865,  0.04689217, ...,  0.03967735,\n",
       "           -0.00158058, -0.02513714],\n",
       "          [-0.03666637, -0.03653003, -0.01433666, ..., -0.01074716,\n",
       "            0.02102757, -0.02286252],\n",
       "          [-0.01957238,  0.02092395,  0.05626467, ...,  0.00559268,\n",
       "           -0.03571365, -0.00583932],\n",
       "          ...,\n",
       "          [-0.0347665 , -0.03487153, -0.05726803, ...,  0.02396036,\n",
       "            0.0238349 ,  0.03782259],\n",
       "          [ 0.03577181, -0.05122478,  0.04791759, ..., -0.01688736,\n",
       "            0.04070487, -0.00884382],\n",
       "          [ 0.0155493 , -0.03718097, -0.0437386 , ...,  0.00658345,\n",
       "            0.01326079,  0.05549622]],\n",
       " \n",
       "         [[ 0.01001347,  0.01095202, -0.00428456, ..., -0.04750919,\n",
       "           -0.0255909 , -0.0082055 ],\n",
       "          [-0.01625962,  0.04129145, -0.01817739, ..., -0.01877974,\n",
       "            0.00504712,  0.03184377],\n",
       "          [-0.03642606, -0.00607429,  0.04353953, ...,  0.04979082,\n",
       "           -0.04483769, -0.03714008],\n",
       "          ...,\n",
       "          [-0.05063015,  0.01285232,  0.04998676, ..., -0.00546657,\n",
       "            0.01016316,  0.03686545],\n",
       "          [ 0.01329015, -0.01549816,  0.03524181, ...,  0.00677879,\n",
       "           -0.05382376,  0.01469651],\n",
       "          [-0.0504502 ,  0.03318248,  0.03406812, ...,  0.05578684,\n",
       "            0.04026223,  0.00013102]],\n",
       " \n",
       "         [[-0.00100464, -0.01848084,  0.04680825, ..., -0.01291265,\n",
       "            0.02688152,  0.05135262],\n",
       "          [-0.01934463,  0.03718516,  0.04523799, ...,  0.01094284,\n",
       "            0.04258466,  0.00680826],\n",
       "          [-0.00343188,  0.00590811,  0.03625105, ..., -0.0257483 ,\n",
       "            0.03523207,  0.0385772 ],\n",
       "          ...,\n",
       "          [ 0.00047222,  0.01654661,  0.05816862, ..., -0.04447542,\n",
       "            0.03588048, -0.02156331],\n",
       "          [ 0.03861823, -0.05502995, -0.01744182, ...,  0.01410951,\n",
       "            0.00248268, -0.03728285],\n",
       "          [ 0.03006305, -0.04469742,  0.02598975, ...,  0.05202543,\n",
       "           -0.01229769, -0.00877251]]],\n",
       " \n",
       " \n",
       "        [[[-0.02006208,  0.050132  ,  0.03531323, ...,  0.02984891,\n",
       "            0.01515698,  0.03395076],\n",
       "          [-0.01846759,  0.04435793,  0.01616369, ..., -0.00524072,\n",
       "            0.05876283,  0.05644568],\n",
       "          [ 0.00448844, -0.05450096, -0.011611  , ...,  0.00103099,\n",
       "           -0.04662164,  0.04272123],\n",
       "          ...,\n",
       "          [-0.05659862,  0.00550319, -0.02065814, ..., -0.04821155,\n",
       "            0.02297274, -0.02662162],\n",
       "          [-0.04603441, -0.02631534,  0.04855669, ..., -0.01643291,\n",
       "            0.04923357,  0.0314946 ],\n",
       "          [-0.0580103 , -0.02804747,  0.0097105 , ..., -0.03875008,\n",
       "           -0.00973629, -0.01484493]],\n",
       " \n",
       "         [[ 0.04708454, -0.04301748,  0.05529218, ...,  0.04941316,\n",
       "           -0.03608955, -0.01504549],\n",
       "          [-0.005593  ,  0.05691653,  0.03636409, ..., -0.01220272,\n",
       "           -0.03831544, -0.01044912],\n",
       "          [-0.00851347, -0.01188644, -0.04911124, ..., -0.04175712,\n",
       "            0.00410738, -0.04335029],\n",
       "          ...,\n",
       "          [ 0.01584752,  0.04547451,  0.04493018, ...,  0.0099952 ,\n",
       "            0.04450836, -0.03800707],\n",
       "          [ 0.01630958, -0.04983154, -0.0468378 , ...,  0.00413043,\n",
       "            0.05867206, -0.00660306],\n",
       "          [-0.01248   , -0.05673516, -0.01081496, ...,  0.0140821 ,\n",
       "            0.04717676,  0.00410989]],\n",
       " \n",
       "         [[-0.02386994, -0.02751544,  0.04450936, ...,  0.03504972,\n",
       "            0.01927793, -0.03443776],\n",
       "          [-0.0350152 , -0.0369156 , -0.05190845, ..., -0.01578836,\n",
       "           -0.01366883,  0.04470336],\n",
       "          [ 0.00551226,  0.00448556,  0.05307142, ..., -0.02931147,\n",
       "            0.01074914, -0.04817285],\n",
       "          ...,\n",
       "          [ 0.00807486,  0.0417615 ,  0.05269642, ...,  0.05880199,\n",
       "           -0.00109999,  0.02436956],\n",
       "          [-0.0173141 ,  0.02606121, -0.05076925, ...,  0.03150424,\n",
       "            0.01722431, -0.00138536],\n",
       "          [ 0.05009829,  0.01376425, -0.05010454, ...,  0.01883363,\n",
       "           -0.04583067, -0.03329015]]]], dtype=float32)>,\n",
       " <tf.Variable 'block2_conv1/bias:0' shape=(128,) dtype=float32, numpy=\n",
       " array([ 1.17217007e-06, -5.26149279e-06,  1.03123617e-04,  2.21184891e-04,\n",
       "        -7.04872662e-07,  3.17461672e-05,  1.40705510e-04, -1.07043679e-05,\n",
       "         1.09414985e-04,  1.97643003e-05,  1.33311245e-04,  8.73285899e-05,\n",
       "         2.94347905e-04,  2.97007546e-07, -2.36769381e-07, -2.73023561e-05,\n",
       "        -6.78813285e-06, -3.49258607e-06,  8.97583220e-07,  1.13609858e-07,\n",
       "         1.15922776e-05, -6.13022858e-05,  9.98275646e-05,  3.43175475e-06,\n",
       "         1.92877978e-05,  9.89085092e-05,  1.82847842e-04, -1.91408594e-06,\n",
       "        -1.59455540e-05,  1.11624264e-04,  1.46302900e-05,  1.04790797e-06,\n",
       "         1.91396713e-04,  2.10983890e-05,  1.04163144e-06,  2.44863855e-04,\n",
       "         1.38483801e-05,  1.48920226e-05,  1.25002034e-05, -6.80424534e-07,\n",
       "         1.71986627e-04, -9.64712744e-05, -2.40188297e-06,  2.40852314e-05,\n",
       "        -1.80662676e-06,  8.43644045e-07, -8.16579231e-08, -2.49417481e-05,\n",
       "         2.43915679e-07,  1.39137455e-06, -1.00876093e-06, -8.33207960e-05,\n",
       "         2.86090767e-07,  1.24667486e-06,  5.02006587e-05, -1.08321001e-04,\n",
       "         2.26099786e-04,  1.15992007e-04,  1.61358628e-06,  6.38061374e-06,\n",
       "        -5.46333940e-05,  1.67048142e-06,  1.52791256e-06,  5.50773948e-05,\n",
       "        -8.47677555e-08,  1.81510972e-04, -3.74612755e-05,  1.92039486e-04,\n",
       "         9.10574818e-06, -2.65248616e-07,  1.37756649e-06,  2.13547173e-04,\n",
       "        -1.39737516e-04,  3.14010329e-08,  3.52437837e-07, -1.22330184e-05,\n",
       "        -1.72880857e-04,  2.11573337e-08, -1.11050613e-05,  3.34644828e-05,\n",
       "        -2.18293758e-06, -9.73157439e-05,  3.56449273e-05, -2.53022085e-06,\n",
       "         2.75815080e-04, -2.32415441e-05, -1.58212140e-06,  1.83057946e-05,\n",
       "         4.31231115e-07, -3.08358517e-06,  1.46457262e-06, -3.29991394e-06,\n",
       "        -1.81272662e-05, -2.07377781e-07,  2.19088528e-04,  1.15743842e-06,\n",
       "        -3.67954744e-05,  1.16814874e-04, -9.13841814e-06,  2.45808333e-04,\n",
       "        -2.14646462e-07,  1.09655957e-06, -6.11841733e-06,  2.85762235e-06,\n",
       "         2.27558685e-05, -3.85495186e-05,  2.35764106e-04,  7.43398705e-05,\n",
       "         1.91001891e-04,  9.19449449e-05, -1.22565964e-07,  4.89875083e-06,\n",
       "        -2.28234342e-07,  4.60347110e-06,  1.57174964e-05,  8.09572011e-05,\n",
       "         1.56165024e-05, -6.41073541e-07, -7.19279626e-07,  2.95745963e-06,\n",
       "         1.30377448e-04, -1.63238815e-06,  1.22686913e-06,  3.42558596e-05,\n",
       "         8.90530355e-05,  5.40797482e-05, -2.19466983e-05,  2.03608375e-04],\n",
       "       dtype=float32)>,\n",
       " <tf.Variable 'block2_conv2/kernel:0' shape=(3, 3, 128, 128) dtype=float32, numpy=\n",
       " array([[[[ 2.06291620e-02, -8.45452771e-03,  1.94686521e-02, ...,\n",
       "           -1.27770947e-02,  3.70209888e-02,  1.65179465e-02],\n",
       "          [ 3.08679733e-02, -4.03810330e-02,  3.37379873e-02, ...,\n",
       "            3.40576209e-02, -1.77597795e-02, -4.81815264e-02],\n",
       "          [ 1.95258539e-02, -3.21495123e-02, -2.23604050e-02, ...,\n",
       "           -3.03630251e-02, -2.43435185e-02, -4.75903414e-02],\n",
       "          ...,\n",
       "          [-1.06103132e-02, -4.62334044e-02,  2.57152710e-02, ...,\n",
       "            1.10095879e-02,  3.09272227e-03, -4.84876521e-02],\n",
       "          [-2.16406025e-02,  5.07261381e-02, -1.91671085e-02, ...,\n",
       "            5.04081920e-02,  3.97740789e-02, -2.62424815e-02],\n",
       "          [ 4.23420295e-02, -3.67021263e-02,  5.04166409e-02, ...,\n",
       "            4.36782762e-02, -2.05963664e-03,  6.80087460e-03]],\n",
       " \n",
       "         [[-1.63085386e-02, -2.10355874e-02, -1.21227019e-02, ...,\n",
       "           -1.35728242e-02, -5.01837470e-02,  3.28920111e-02],\n",
       "          [ 3.49095576e-02, -1.49941975e-02, -4.61741397e-03, ...,\n",
       "           -4.68664952e-02,  2.86381915e-02, -1.90504373e-03],\n",
       "          [ 2.74658911e-02, -2.82804146e-02,  2.04076059e-02, ...,\n",
       "            5.09597212e-02,  3.33471596e-02, -2.34096441e-02],\n",
       "          ...,\n",
       "          [-3.49662453e-02,  3.62580940e-02,  3.97289768e-02, ...,\n",
       "           -9.55916755e-03, -2.61543225e-02, -3.84015590e-02],\n",
       "          [-3.19543593e-02, -4.61991839e-02,  2.46975310e-02, ...,\n",
       "           -3.24833468e-02,  1.74102057e-02,  4.15953211e-02],\n",
       "          [-4.99648936e-02,  3.13797146e-02, -3.06383017e-02, ...,\n",
       "            2.88320985e-02,  4.92408611e-02, -4.26110066e-02]],\n",
       " \n",
       "         [[ 1.05348807e-02,  4.44883108e-02, -1.35667855e-02, ...,\n",
       "           -2.27890611e-02, -3.24539095e-02, -1.90535542e-02],\n",
       "          [ 2.57558562e-03, -1.31206987e-02,  3.85680124e-02, ...,\n",
       "           -2.15542018e-02,  3.10186250e-03, -2.75502782e-02],\n",
       "          [-3.33426781e-02, -3.00450958e-02,  1.60025656e-02, ...,\n",
       "           -1.96793862e-02,  3.11682336e-02, -1.77136511e-02],\n",
       "          ...,\n",
       "          [ 2.38239206e-02, -4.22816500e-02,  1.98735599e-03, ...,\n",
       "           -9.56221391e-03,  4.22063209e-02,  2.18662620e-02],\n",
       "          [-4.58491296e-02,  5.65442024e-03,  3.09584159e-02, ...,\n",
       "           -1.06743788e-02, -3.88114378e-02, -9.39363334e-03],\n",
       "          [-1.88869927e-02, -3.71586382e-02, -4.76952977e-02, ...,\n",
       "            4.87439036e-02, -1.64769329e-02, -1.64034683e-02]]],\n",
       " \n",
       " \n",
       "        [[[-4.35477234e-02,  3.07988077e-02, -4.98671420e-02, ...,\n",
       "            3.52229327e-02, -4.32285629e-02, -2.27958374e-02],\n",
       "          [ 3.77879143e-02,  2.02294402e-02,  1.45671209e-02, ...,\n",
       "           -1.19869281e-02,  3.49166468e-02,  6.88169850e-03],\n",
       "          [ 1.90872531e-02, -4.92430944e-03, -4.61589210e-02, ...,\n",
       "            6.68049557e-03,  2.64261942e-02, -9.66961123e-03],\n",
       "          ...,\n",
       "          [-2.04329044e-02,  4.56527881e-02, -1.51475047e-04, ...,\n",
       "            8.68125167e-03, -4.27706749e-04, -3.96053195e-02],\n",
       "          [ 9.82340774e-04,  3.36257964e-02,  4.55767997e-02, ...,\n",
       "           -1.57550015e-02, -3.70809175e-02, -4.34426591e-02],\n",
       "          [ 4.97131869e-02, -1.70978606e-02, -7.74626154e-03, ...,\n",
       "           -8.70418176e-03,  4.98465337e-02,  4.27920185e-03]],\n",
       " \n",
       "         [[-5.72906109e-03,  2.38850638e-02,  7.11530540e-03, ...,\n",
       "           -1.73613410e-02,  2.75386088e-02,  4.67333049e-02],\n",
       "          [ 6.31618546e-03, -3.72484848e-02, -2.31991392e-02, ...,\n",
       "            9.07092076e-03, -4.82105985e-02, -3.00800893e-04],\n",
       "          [ 8.00751429e-03, -1.80024859e-02, -2.15188079e-02, ...,\n",
       "            4.79264520e-02, -1.96518414e-02, -4.55623604e-02],\n",
       "          ...,\n",
       "          [-2.14546709e-03,  1.64360702e-02, -4.27253880e-02, ...,\n",
       "            3.25390734e-02,  5.89077594e-04,  5.71476668e-03],\n",
       "          [ 2.43764333e-02,  9.33294743e-03,  4.36504222e-02, ...,\n",
       "            2.81876829e-02, -3.27757969e-02,  4.94469367e-02],\n",
       "          [ 2.89103892e-02,  1.37573145e-02, -1.95664894e-02, ...,\n",
       "           -2.11817008e-02,  4.43696305e-02, -1.76812969e-02]],\n",
       " \n",
       "         [[-4.02068421e-02, -1.69792976e-02,  2.32436452e-02, ...,\n",
       "           -4.49320190e-02, -2.94210855e-02,  3.73001918e-02],\n",
       "          [ 4.55665663e-02, -3.14709805e-02,  7.18706287e-03, ...,\n",
       "            2.70228200e-02, -3.79938446e-02,  2.75413226e-02],\n",
       "          [ 2.51153689e-02,  3.63189876e-02,  4.24744189e-02, ...,\n",
       "           -3.72445881e-02,  1.77261271e-02,  1.87463183e-02],\n",
       "          ...,\n",
       "          [ 3.11360881e-02,  4.37626429e-02,  3.35683785e-02, ...,\n",
       "            1.09337261e-02, -5.08974902e-02,  4.83981930e-02],\n",
       "          [ 4.86207865e-02,  3.29318792e-02, -3.94801097e-03, ...,\n",
       "           -1.91854406e-02, -2.81328578e-02,  4.68941070e-02],\n",
       "          [-3.40596996e-02, -4.44825515e-02,  1.35008805e-03, ...,\n",
       "            3.62906158e-02,  4.27873470e-02,  4.58899932e-03]]],\n",
       " \n",
       " \n",
       "        [[[ 3.58723998e-02, -3.34258820e-03, -1.57733855e-03, ...,\n",
       "           -2.14870349e-02,  1.23820165e-02, -4.45259288e-02],\n",
       "          [-2.64216103e-02, -4.35407981e-02,  2.92710997e-02, ...,\n",
       "           -4.77138236e-02, -4.27432209e-02, -3.16293985e-02],\n",
       "          [-2.32167635e-02, -2.95655034e-03, -3.01203523e-02, ...,\n",
       "           -3.30418237e-02,  1.35881379e-02,  3.74321043e-02],\n",
       "          ...,\n",
       "          [-4.07240819e-03,  1.30985407e-02,  4.42264117e-02, ...,\n",
       "            9.05247312e-03,  1.86743792e-02,  4.57600988e-02],\n",
       "          [-8.29669833e-03, -1.74760427e-02, -1.88997258e-02, ...,\n",
       "           -2.00173706e-02,  4.30403538e-02,  5.40714897e-03],\n",
       "          [ 2.56697480e-02,  5.17908251e-03,  3.44503578e-03, ...,\n",
       "           -2.25973949e-02, -3.56941707e-02, -1.88657828e-02]],\n",
       " \n",
       "         [[-2.20903605e-02,  9.95506253e-03, -3.13716680e-02, ...,\n",
       "            2.38732621e-02, -2.30425149e-02,  1.76142361e-02],\n",
       "          [ 7.80998869e-03,  3.11041484e-03,  3.16704204e-03, ...,\n",
       "            1.85452420e-02, -8.23903643e-03,  4.49404642e-02],\n",
       "          [ 1.90469008e-02, -2.93216724e-02,  3.59834707e-03, ...,\n",
       "            9.56047419e-03, -3.52249146e-02,  2.92088408e-02],\n",
       "          ...,\n",
       "          [ 1.62776206e-02, -3.38397250e-02, -3.44025269e-02, ...,\n",
       "           -2.04427447e-02,  2.76076533e-02,  5.08702248e-02],\n",
       "          [ 4.39536907e-02,  1.32905971e-03, -4.99470122e-02, ...,\n",
       "           -5.00913290e-03,  8.24987423e-03,  2.99803372e-02],\n",
       "          [ 2.30724644e-02, -3.96372303e-02,  2.97896042e-02, ...,\n",
       "           -4.28246520e-02,  8.14509112e-03,  4.88450043e-02]],\n",
       " \n",
       "         [[-1.26990275e-02,  3.59732658e-02,  2.19185054e-02, ...,\n",
       "           -2.39240006e-02, -2.28916574e-03,  2.84879431e-02],\n",
       "          [-3.87468450e-02,  4.83938679e-02, -2.33938816e-04, ...,\n",
       "            5.55099919e-04, -2.86476873e-02, -3.56002040e-02],\n",
       "          [ 2.20521148e-02, -7.35574169e-03,  2.20865794e-02, ...,\n",
       "            2.09473725e-02,  1.89889688e-02, -3.52303982e-02],\n",
       "          ...,\n",
       "          [-2.36376625e-04, -4.00904231e-02, -2.43055951e-02, ...,\n",
       "            1.91871151e-02, -3.91462073e-03, -1.17171211e-02],\n",
       "          [-3.66402492e-02,  4.62108401e-05,  2.77993195e-02, ...,\n",
       "            2.51448862e-02, -4.72625308e-02, -1.39904236e-02],\n",
       "          [ 2.38611847e-02, -1.83429029e-02,  2.53732540e-02, ...,\n",
       "            5.02399132e-02, -3.65417898e-02, -3.32540870e-02]]]],\n",
       "       dtype=float32)>,\n",
       " <tf.Variable 'block2_conv2/bias:0' shape=(128,) dtype=float32, numpy=\n",
       " array([ 1.00455865e-04,  3.52026063e-06,  2.50267563e-04, -2.70817633e-04,\n",
       "         1.46998762e-04,  3.52225412e-04,  8.63830536e-08, -3.37353669e-07,\n",
       "         2.53335111e-05, -1.09664970e-05,  1.65626610e-04, -4.06833306e-06,\n",
       "         1.62028125e-04,  1.59813010e-06,  1.08783106e-05, -4.61890813e-05,\n",
       "        -2.92412238e-04,  1.29129476e-04,  1.95663620e-06,  9.10174094e-06,\n",
       "        -1.12140158e-04,  1.51994900e-04,  3.03003239e-04, -7.66192534e-05,\n",
       "         2.92341283e-04, -5.90154632e-05,  4.33606401e-05, -1.57371833e-05,\n",
       "        -1.88969716e-05,  7.37906248e-06,  2.17486202e-04,  2.80829001e-04,\n",
       "        -1.36189468e-04, -4.81671377e-05,  2.32941020e-05,  5.99197556e-05,\n",
       "        -2.68657118e-07,  1.19279743e-04,  2.73828307e-04,  2.22467611e-06,\n",
       "         6.86992935e-05,  2.28087538e-06,  8.09842240e-05, -1.07995547e-05,\n",
       "        -1.35410869e-06,  3.28517664e-04, -6.45672026e-06, -3.13093129e-04,\n",
       "        -1.62363413e-05,  9.84340113e-06, -6.06276990e-06,  1.84358752e-04,\n",
       "         1.19539844e-04, -1.54342397e-05,  7.76312618e-07,  3.07885216e-07,\n",
       "         1.99874499e-04,  6.97955038e-05, -1.87170258e-06, -6.50846732e-06,\n",
       "        -3.50717391e-06,  7.55376050e-07, -1.09665605e-04, -8.00496855e-06,\n",
       "        -1.52594785e-05,  2.76961247e-04,  1.79136205e-05,  1.78172704e-05,\n",
       "        -9.39372796e-07, -4.66418498e-07, -7.00814126e-05, -9.10758754e-05,\n",
       "         1.06804349e-04,  6.09117269e-05,  8.15736428e-07,  1.29574037e-04,\n",
       "         1.91054671e-04,  1.20928180e-05,  1.08218655e-05,  7.96764380e-06,\n",
       "         2.34992694e-04, -1.49077653e-06,  1.20857503e-05,  4.60663665e-04,\n",
       "         3.61832295e-04,  1.59314350e-05,  7.05702114e-05, -2.56970270e-05,\n",
       "         3.67239613e-06,  1.52017703e-04,  1.08115739e-06,  4.73724776e-06,\n",
       "         8.53223028e-05, -4.06184263e-05,  2.65217241e-04,  2.65696523e-04,\n",
       "        -1.57414237e-04,  4.71334806e-06,  2.71372992e-04,  2.04443268e-06,\n",
       "        -8.41165238e-05,  1.58197960e-04, -2.85775586e-05,  6.42849614e-07,\n",
       "         1.20046622e-07, -1.13750655e-04,  2.10563565e-04,  3.31776719e-05,\n",
       "         2.63578386e-06,  6.12757402e-04, -7.25130594e-05, -6.49597223e-06,\n",
       "        -2.23217216e-06,  1.11977752e-05,  3.87721229e-06, -8.27579584e-07,\n",
       "         2.07409088e-04,  3.38456775e-05,  2.16062501e-04,  3.73813191e-06,\n",
       "        -1.18305215e-04, -3.02574481e-05, -3.12217308e-05,  3.60986178e-06,\n",
       "         2.41111962e-07,  4.23149249e-05,  2.85497299e-05,  3.86333850e-05],\n",
       "       dtype=float32)>,\n",
       " <tf.Variable 'block3_conv1/kernel:0' shape=(3, 3, 128, 256) dtype=float32, numpy=\n",
       " array([[[[-0.03319179,  0.02673768, -0.03517393, ..., -0.03090367,\n",
       "           -0.03963515, -0.02587455],\n",
       "          [-0.0328889 ,  0.04017829,  0.03223556, ...,  0.00060295,\n",
       "           -0.01163077,  0.02180306],\n",
       "          [ 0.02631901, -0.0403115 ,  0.03610535, ...,  0.0221001 ,\n",
       "           -0.01690267, -0.02239881],\n",
       "          ...,\n",
       "          [ 0.01056947, -0.03928127, -0.02645787, ..., -0.02554982,\n",
       "           -0.01224845,  0.03243111],\n",
       "          [ 0.02700673,  0.0107611 , -0.01834988, ...,  0.0180206 ,\n",
       "           -0.03831459, -0.00911206],\n",
       "          [-0.02042451,  0.03053275, -0.03249964, ...,  0.02752653,\n",
       "           -0.03146529, -0.03193679]],\n",
       " \n",
       "         [[ 0.02414543,  0.03240186,  0.02985595, ...,  0.03270479,\n",
       "            0.02813678,  0.00998273],\n",
       "          [-0.01631663, -0.0351527 , -0.00082137, ...,  0.01469098,\n",
       "            0.04069122, -0.02670588],\n",
       "          [ 0.00411669,  0.03964672, -0.03031699, ...,  0.02247042,\n",
       "           -0.0135418 ,  0.03571651],\n",
       "          ...,\n",
       "          [-0.01600814, -0.00482548, -0.02206588, ...,  0.01537293,\n",
       "            0.00579212,  0.02796248],\n",
       "          [-0.02723973, -0.03839667, -0.03607496, ...,  0.04032904,\n",
       "            0.02141213, -0.03689473],\n",
       "          [-0.01209843, -0.02884915,  0.04129079, ..., -0.01478047,\n",
       "            0.01544309, -0.00221572]],\n",
       " \n",
       "         [[ 0.0037727 , -0.02087793, -0.04126094, ..., -0.00162083,\n",
       "            0.02734016, -0.02275835],\n",
       "          [ 0.02441402,  0.01059464,  0.0414073 , ..., -0.00292949,\n",
       "            0.00053149, -0.0034742 ],\n",
       "          [ 0.02110387,  0.04099793, -0.02221153, ..., -0.00513086,\n",
       "            0.02218584, -0.00315779],\n",
       "          ...,\n",
       "          [ 0.01973554,  0.04003052, -0.00016328, ..., -0.01086597,\n",
       "           -0.00159507, -0.02121061],\n",
       "          [-0.0307339 , -0.02585657,  0.01824879, ...,  0.03499187,\n",
       "            0.0349285 , -0.00595169],\n",
       "          [ 0.04131669, -0.00543908, -0.01051082, ...,  0.03385403,\n",
       "            0.02248775,  0.02606225]]],\n",
       " \n",
       " \n",
       "        [[[-0.03846548,  0.02916696, -0.00134717, ..., -0.03992614,\n",
       "           -0.02421288, -0.02891065],\n",
       "          [-0.00468359, -0.02191804, -0.01883742, ..., -0.02718003,\n",
       "           -0.01169723, -0.00165678],\n",
       "          [ 0.03197177,  0.00181371, -0.03321202, ..., -0.00615533,\n",
       "           -0.04119178, -0.01618729],\n",
       "          ...,\n",
       "          [ 0.0018194 ,  0.0318941 ,  0.02534482, ...,  0.02136237,\n",
       "           -0.00028013, -0.00035093],\n",
       "          [-0.00821726, -0.01568742,  0.00636339, ...,  0.02230621,\n",
       "           -0.02346438,  0.03742127],\n",
       "          [-0.03373346, -0.00614744, -0.02405457, ...,  0.01965987,\n",
       "           -0.03732625,  0.01768945]],\n",
       " \n",
       "         [[-0.00540945,  0.02068907,  0.02996995, ..., -0.01688213,\n",
       "           -0.03827918,  0.03733398],\n",
       "          [-0.03053214, -0.03494685, -0.01230231, ..., -0.01273879,\n",
       "           -0.00334625,  0.0221206 ],\n",
       "          [ 0.02213417, -0.01707409, -0.03064163, ...,  0.02202596,\n",
       "           -0.01511318,  0.03010144],\n",
       "          ...,\n",
       "          [ 0.00909621,  0.01281267,  0.03259591, ...,  0.01149348,\n",
       "            0.02574773, -0.01533448],\n",
       "          [ 0.02940061,  0.00954042,  0.02282306, ...,  0.00430986,\n",
       "            0.01318921, -0.01763882],\n",
       "          [ 0.04110216, -0.00620538, -0.01929666, ...,  0.03209724,\n",
       "            0.0213338 , -0.01924444]],\n",
       " \n",
       "         [[ 0.01742868,  0.01636735,  0.02972456, ...,  0.02072911,\n",
       "           -0.03960445,  0.02760297],\n",
       "          [-0.01376257, -0.0262091 ,  0.02716777, ...,  0.02223648,\n",
       "           -0.03505965, -0.01351323],\n",
       "          [-0.02472967, -0.02080048,  0.02566613, ...,  0.01435166,\n",
       "           -0.02652698,  0.01038721],\n",
       "          ...,\n",
       "          [ 0.03586099, -0.02723656,  0.00575019, ..., -0.03914731,\n",
       "            0.01430602,  0.01593118],\n",
       "          [-0.0046717 , -0.00162446, -0.00054566, ..., -0.03932084,\n",
       "           -0.01127283, -0.02992005],\n",
       "          [-0.02277259, -0.0100458 ,  0.03126817, ..., -0.0133191 ,\n",
       "           -0.00148816,  0.00651149]]],\n",
       " \n",
       " \n",
       "        [[[-0.01828064,  0.03209657,  0.00966861, ...,  0.00693141,\n",
       "            0.02590588, -0.04129175],\n",
       "          [ 0.00969949, -0.01021536,  0.01724293, ..., -0.02503599,\n",
       "            0.02552251, -0.01226375],\n",
       "          [ 0.00170776,  0.02343629,  0.03680803, ...,  0.02273844,\n",
       "            0.03027875, -0.00915699],\n",
       "          ...,\n",
       "          [ 0.0061927 ,  0.00234108, -0.02544561, ...,  0.02410799,\n",
       "            0.00045901,  0.01518382],\n",
       "          [ 0.01928231, -0.00203465, -0.02848854, ..., -0.00510723,\n",
       "            0.03234316, -0.01423058],\n",
       "          [-0.03808614,  0.04008404, -0.03383307, ..., -0.03801354,\n",
       "           -0.03368842,  0.00966085]],\n",
       " \n",
       "         [[ 0.02359552,  0.01955238,  0.01862242, ..., -0.01943504,\n",
       "            0.005345  ,  0.0301317 ],\n",
       "          [ 0.02594509,  0.00395965,  0.04038201, ...,  0.01018107,\n",
       "           -0.03745929, -0.02257603],\n",
       "          [-0.04079179, -0.04153862,  0.0334229 , ..., -0.0258386 ,\n",
       "            0.03465782,  0.01137786],\n",
       "          ...,\n",
       "          [-0.03246997,  0.00293651,  0.01397672, ...,  0.03901944,\n",
       "            0.02910085,  0.03260626],\n",
       "          [-0.0181222 , -0.00377484,  0.01643258, ..., -0.00683838,\n",
       "            0.03791904,  0.00847377],\n",
       "          [-0.02320991,  0.03937909, -0.02249378, ..., -0.03291013,\n",
       "           -0.03246906,  0.0206203 ]],\n",
       " \n",
       "         [[ 0.01704994, -0.03473362, -0.04109006, ...,  0.01529231,\n",
       "           -0.01701874, -0.01697203],\n",
       "          [ 0.00882936,  0.01032103, -0.01256828, ..., -0.03219739,\n",
       "            0.01099733,  0.03321256],\n",
       "          [ 0.00354588, -0.023797  , -0.0037042 , ..., -0.00846028,\n",
       "            0.02637369, -0.02346066],\n",
       "          ...,\n",
       "          [ 0.01595989, -0.03882241,  0.0192612 , ...,  0.00015977,\n",
       "            0.04134208,  0.03213879],\n",
       "          [ 0.01886746, -0.02052747, -0.01175193, ...,  0.01393309,\n",
       "            0.03026413,  0.00818217],\n",
       "          [ 0.00494681,  0.03111902,  0.01815273, ..., -0.02892628,\n",
       "            0.02529398,  0.0357727 ]]]], dtype=float32)>,\n",
       " <tf.Variable 'block3_conv1/bias:0' shape=(256,) dtype=float32, numpy=\n",
       " array([-1.13433248e-06, -8.98219866e-07, -2.78556809e-06, -3.09214033e-06,\n",
       "         2.86615250e-05,  6.70465452e-05,  9.54314237e-06, -1.89825587e-04,\n",
       "         1.75828900e-04, -7.61515594e-07,  9.15957389e-06, -9.80791901e-06,\n",
       "         2.05040237e-07,  1.97369554e-05, -3.60092577e-06,  3.26942420e-04,\n",
       "        -2.21097638e-04,  1.43624632e-08,  8.59402717e-05, -6.96303505e-06,\n",
       "         3.28001333e-05,  1.07848327e-05,  1.64201072e-06, -1.57671078e-04,\n",
       "         3.19198094e-04,  2.16174187e-04,  1.81224008e-04, -1.63665641e-06,\n",
       "         6.53926618e-05,  2.28860241e-04,  1.73304325e-05,  1.21653659e-06,\n",
       "         9.57007524e-06,  2.44904106e-04, -3.51768278e-04,  8.41655037e-06,\n",
       "        -2.14502143e-06, -1.12021280e-06,  4.13408881e-04, -9.77517743e-07,\n",
       "         6.08383452e-05,  8.46484227e-07,  4.47922957e-06, -4.63847800e-06,\n",
       "         1.88045946e-04, -2.71301957e-07, -2.76257750e-04,  1.49645439e-06,\n",
       "        -1.51237515e-07, -1.28147658e-04,  2.89825199e-04, -1.52741031e-05,\n",
       "        -1.01200792e-04, -2.90622438e-06, -3.22287565e-06,  3.08081100e-04,\n",
       "         5.25928663e-05, -3.55901167e-04,  3.89322668e-04,  3.09634233e-05,\n",
       "        -3.74466708e-06, -8.29258624e-06, -1.05409672e-05, -1.38788857e-06,\n",
       "         1.43213924e-06, -1.16525143e-05,  1.23852942e-06,  1.18383818e-04,\n",
       "        -1.79046707e-04,  2.58648033e-05,  6.47861307e-05, -7.65076256e-05,\n",
       "        -3.93682101e-04, -3.10367204e-06,  2.66799674e-04,  2.03043091e-04,\n",
       "         1.58835304e-04,  5.04393131e-04,  4.82963369e-04, -2.24928604e-04,\n",
       "        -2.93824769e-06,  9.47964600e-06,  3.59874066e-05,  5.75675676e-06,\n",
       "        -1.43647630e-04, -1.51028104e-07,  1.11588668e-06, -2.34241384e-07,\n",
       "         4.92390711e-07,  3.98498669e-04,  2.57976929e-08,  5.75857541e-07,\n",
       "         3.29539413e-04,  2.40427558e-04,  2.07505087e-04,  8.70176700e-06,\n",
       "        -2.53042316e-07, -6.19372202e-07,  3.20881372e-04,  3.29252973e-04,\n",
       "         3.47180176e-05, -5.21348229e-05, -2.93543562e-04,  6.41653241e-05,\n",
       "         1.21066747e-04,  7.64272190e-05,  5.15846693e-07,  2.92764071e-05,\n",
       "         6.15441240e-06, -1.14311464e-04, -1.80294210e-05,  1.08133816e-06,\n",
       "        -4.06757081e-08, -2.98271698e-06, -1.80196090e-04,  7.38883027e-05,\n",
       "        -6.23692858e-06,  6.89273566e-06,  3.68366345e-05, -3.02662284e-05,\n",
       "         1.61364605e-05, -2.81029230e-07,  5.15244828e-05,  3.00545281e-07,\n",
       "        -3.35380804e-07,  1.00331083e-04, -9.80475033e-06,  3.10444389e-04,\n",
       "        -3.20120511e-04, -1.21998946e-05, -1.13423164e-06,  8.23689261e-05,\n",
       "        -1.54286885e-04,  2.49743971e-06, -1.25960898e-04,  4.52853070e-04,\n",
       "        -4.81691022e-05, -1.59374821e-07,  5.13662410e-04, -8.48415402e-06,\n",
       "        -1.52633970e-06,  1.75825146e-04,  3.23157998e-08, -3.96358701e-06,\n",
       "        -9.03850596e-05, -9.08521761e-05, -1.90216338e-06, -1.37473908e-05,\n",
       "        -7.63571006e-06,  2.35645522e-04, -1.64495126e-04,  1.79325973e-04,\n",
       "         1.68453573e-06, -5.26122221e-06, -7.49063329e-05,  2.24097908e-04,\n",
       "         1.39316171e-06,  1.89901330e-04,  6.22276389e-07, -2.65091949e-04,\n",
       "         2.40731664e-04, -6.39308055e-05, -8.55713224e-05,  1.29478663e-04,\n",
       "         2.27603778e-05, -1.98580301e-06, -7.26168855e-06,  2.66734389e-07,\n",
       "        -1.80675896e-04,  4.98239351e-05,  9.03843975e-05, -2.53774942e-06,\n",
       "         2.01598654e-04,  5.33799648e-05, -4.13528051e-06,  7.79870049e-07,\n",
       "        -4.14346941e-05,  6.21794607e-05, -7.92323931e-07, -6.95536146e-05,\n",
       "         1.26415616e-04,  2.18634435e-04,  8.55092094e-06, -2.95581003e-06,\n",
       "        -6.61915874e-06, -2.12808004e-07, -1.06202802e-04,  3.43498075e-04,\n",
       "         3.99044889e-04,  1.18301323e-05, -1.35323207e-04, -2.62796093e-04,\n",
       "         5.26508575e-06,  6.99285301e-05,  1.69779327e-07, -5.98639758e-07,\n",
       "        -1.41099179e-06,  1.47404178e-04,  2.92797686e-05, -9.33257979e-06,\n",
       "        -5.79731823e-05,  4.94897176e-06, -2.52084865e-05, -4.08173451e-04,\n",
       "        -2.00273780e-06, -5.91664793e-05,  5.64116192e-07, -7.72270068e-05,\n",
       "         4.41462034e-04,  8.81416127e-05, -1.86592908e-04, -2.76899955e-04,\n",
       "         3.56319703e-07,  3.28711845e-04, -5.99009854e-06,  5.97975777e-05,\n",
       "         1.24717393e-04,  8.69560779e-07,  1.65515768e-04,  7.98548399e-07,\n",
       "         2.10594968e-04, -4.99879316e-05,  1.60416239e-05,  1.54067868e-06,\n",
       "         2.02452193e-05, -5.91028265e-06,  3.87069704e-05,  1.96311768e-04,\n",
       "         1.03247854e-04, -1.20449431e-05,  9.22267986e-07,  2.55037186e-04,\n",
       "         6.13455242e-09,  2.08898171e-04, -1.98922189e-05,  1.04635992e-05,\n",
       "         2.57665029e-04,  7.12612527e-05, -4.51861888e-06,  2.80443492e-04,\n",
       "         5.16387672e-07,  2.77630112e-04,  1.55764137e-04,  1.81931435e-04,\n",
       "         5.61214074e-05, -2.61552918e-06,  1.31050929e-05,  2.24460615e-04,\n",
       "         1.87235473e-05,  2.45610931e-06,  4.26505467e-05,  2.13474646e-04,\n",
       "         3.41408531e-06,  4.75668858e-05,  2.74879148e-05,  1.29899281e-05],\n",
       "       dtype=float32)>,\n",
       " <tf.Variable 'block3_conv2/kernel:0' shape=(3, 3, 256, 256) dtype=float32, numpy=\n",
       " array([[[[ 1.42639317e-02, -3.56645882e-02,  8.09171423e-03, ...,\n",
       "           -1.53915882e-02, -1.93108916e-02, -3.24528888e-02],\n",
       "          [ 3.49221081e-02,  1.05988123e-02,  1.71549991e-02, ...,\n",
       "           -7.56918825e-03,  1.66499913e-02,  1.27990060e-02],\n",
       "          [-1.23127215e-02, -2.84229144e-02, -7.11570680e-03, ...,\n",
       "           -1.06115649e-02, -8.40194523e-03, -2.25807987e-02],\n",
       "          ...,\n",
       "          [ 2.70623676e-02, -9.19716433e-03, -1.15320075e-03, ...,\n",
       "           -2.00879779e-02,  3.09092626e-02, -9.61201917e-03],\n",
       "          [-2.30419785e-02, -3.17009538e-02, -8.10730457e-03, ...,\n",
       "            2.38890052e-02, -7.73699349e-03, -2.06728987e-02],\n",
       "          [ 2.19904128e-02,  2.98978295e-04, -2.03827564e-02, ...,\n",
       "           -2.59864498e-02,  2.69519519e-02,  2.46702880e-02]],\n",
       " \n",
       "         [[ 9.10825655e-03, -1.61099061e-03,  3.38990167e-02, ...,\n",
       "           -2.75688269e-03,  1.69566721e-02, -3.47474292e-02],\n",
       "          [ 3.03430706e-02,  2.12279335e-03,  3.57527956e-02, ...,\n",
       "            3.22450474e-02,  2.30262056e-02,  1.32901892e-02],\n",
       "          [-3.42872962e-02,  1.59968920e-02,  8.28956719e-03, ...,\n",
       "            1.22052217e-02, -6.50748902e-04, -9.39629390e-04],\n",
       "          ...,\n",
       "          [-1.41915428e-02, -1.99767873e-02,  2.14948915e-02, ...,\n",
       "           -1.64106488e-02, -3.01861744e-02, -1.31948097e-02],\n",
       "          [ 1.81650966e-02,  2.09183022e-02,  1.81548074e-02, ...,\n",
       "           -6.32189913e-03, -6.16228068e-03, -5.40580694e-03],\n",
       "          [-3.04791629e-02,  3.39337066e-02, -1.65277589e-02, ...,\n",
       "            2.79206503e-02, -2.98090521e-02,  9.75812133e-03]],\n",
       " \n",
       "         [[-1.61254052e-02,  4.30925190e-03,  1.78008080e-02, ...,\n",
       "           -2.30119489e-02,  1.94490924e-02, -1.78711042e-02],\n",
       "          [-8.58953595e-03,  5.50146401e-03,  3.30116898e-02, ...,\n",
       "           -1.97604243e-02,  2.23036222e-02, -3.34284306e-02],\n",
       "          [ 2.72671208e-02, -4.20378521e-03, -1.11338766e-02, ...,\n",
       "           -2.23247856e-02, -9.77417454e-03, -7.77927740e-03],\n",
       "          ...,\n",
       "          [-3.43307108e-03,  1.95398014e-02,  2.35987641e-02, ...,\n",
       "           -1.32974619e-02,  8.30675941e-03,  2.15374120e-02],\n",
       "          [ 2.46418156e-02, -2.95637324e-02, -2.96115354e-02, ...,\n",
       "           -3.59368213e-02,  2.38043088e-02, -1.90367531e-02],\n",
       "          [-1.15430178e-02,  3.37260440e-02,  2.69419746e-03, ...,\n",
       "           -3.25989909e-02, -2.02294812e-02, -1.09643778e-02]]],\n",
       " \n",
       " \n",
       "        [[[ 2.08280385e-02,  1.67727098e-02, -2.23408523e-03, ...,\n",
       "            2.39955671e-02, -3.79221560e-03,  1.54724754e-02],\n",
       "          [ 1.63862780e-02, -1.81950480e-02, -5.20892069e-03, ...,\n",
       "            2.60168537e-02, -3.20334323e-02, -9.53346863e-03],\n",
       "          [ 3.17401439e-02, -1.98455192e-02,  3.16205472e-02, ...,\n",
       "            4.29844111e-03, -3.32586206e-02,  2.82807127e-02],\n",
       "          ...,\n",
       "          [ 1.09330053e-02, -6.95561897e-03, -3.60554876e-03, ...,\n",
       "            7.79523933e-03, -1.47676561e-02,  3.08180205e-03],\n",
       "          [ 1.82267912e-02, -2.50564534e-02, -6.19761925e-03, ...,\n",
       "            1.46880504e-02, -2.22563259e-02,  3.58781219e-02],\n",
       "          [ 5.34994761e-03, -1.01360288e-02, -3.03351320e-03, ...,\n",
       "           -7.33825006e-03, -1.66808069e-02, -3.49595174e-02]],\n",
       " \n",
       "         [[-3.05243470e-02, -1.36064086e-02, -6.87657995e-03, ...,\n",
       "            2.50700042e-02, -5.57038374e-03,  1.60815120e-02],\n",
       "          [-9.41318832e-03,  2.88972408e-02, -2.20083948e-02, ...,\n",
       "           -1.56506561e-02,  3.10929343e-02, -2.98727602e-02],\n",
       "          [ 3.50026414e-02, -2.66161766e-02,  1.39935566e-02, ...,\n",
       "           -1.85658541e-02, -2.52637044e-02,  2.70027369e-02],\n",
       "          ...,\n",
       "          [ 1.63620152e-02,  9.93437227e-03, -8.27841274e-03, ...,\n",
       "           -1.32462513e-02, -2.41637789e-02, -2.67369784e-02],\n",
       "          [ 1.26146842e-02,  1.65710412e-02, -2.20905431e-02, ...,\n",
       "           -3.04576848e-02,  1.55614913e-02, -3.41493413e-02],\n",
       "          [ 2.67967973e-02,  2.53657028e-02, -1.42558273e-02, ...,\n",
       "           -3.36509012e-02, -1.01178535e-03,  2.89951600e-02]],\n",
       " \n",
       "         [[-2.71338914e-02,  2.08899900e-02, -6.32826588e-04, ...,\n",
       "           -3.16344090e-02,  2.69348770e-02, -1.98939554e-02],\n",
       "          [ 2.05515660e-02,  6.90500438e-03,  3.57405916e-02, ...,\n",
       "           -2.57419907e-02, -1.47332791e-02, -8.77611339e-04],\n",
       "          [-3.15172747e-02,  1.55612417e-02, -1.78537164e-02, ...,\n",
       "           -1.03575494e-02, -1.79805104e-02, -2.15035416e-02],\n",
       "          ...,\n",
       "          [-2.29035504e-02,  2.41206884e-02,  1.52108911e-02, ...,\n",
       "            1.95402652e-02,  2.27774512e-02,  1.85473673e-02],\n",
       "          [-6.77373586e-03, -1.57018043e-02, -1.61330178e-02, ...,\n",
       "            1.60766728e-02, -7.94058107e-03, -7.53217191e-03],\n",
       "          [-2.05118600e-02, -3.57302167e-02, -3.60127538e-02, ...,\n",
       "           -2.01284345e-02, -1.87663566e-02, -1.07045807e-02]]],\n",
       " \n",
       " \n",
       "        [[[ 3.32107618e-02, -7.13197514e-03, -1.24289151e-02, ...,\n",
       "           -2.60272212e-02, -5.13789617e-03, -7.94082135e-03],\n",
       "          [-1.99835820e-04,  1.76505260e-02,  1.17577463e-02, ...,\n",
       "            1.21162497e-02,  2.29995772e-02,  2.27363892e-02],\n",
       "          [ 9.67010419e-05,  3.34581807e-02,  1.38677536e-02, ...,\n",
       "           -3.40968147e-02,  1.98487863e-02, -2.01260522e-02],\n",
       "          ...,\n",
       "          [ 1.74520500e-02,  1.43261617e-02,  1.75917026e-04, ...,\n",
       "            1.14193428e-02, -3.02582923e-02, -8.99497326e-03],\n",
       "          [ 7.96658918e-04,  2.50147060e-02, -3.36473919e-02, ...,\n",
       "            8.11712351e-03,  9.45884269e-03, -1.82082877e-02],\n",
       "          [ 1.20834997e-02,  2.08379067e-02,  3.27530056e-02, ...,\n",
       "           -3.29725929e-02,  3.11354212e-02,  1.39545333e-02]],\n",
       " \n",
       "         [[ 4.77816910e-03, -2.36762874e-02,  3.49544734e-02, ...,\n",
       "           -3.01038250e-02, -9.29199532e-03, -8.45983438e-03],\n",
       "          [ 2.53158323e-02, -1.43954158e-02,  3.38485166e-02, ...,\n",
       "           -1.27797797e-02,  2.07380839e-02, -1.25366542e-02],\n",
       "          [-7.54403882e-03, -1.85397957e-02, -2.25925855e-02, ...,\n",
       "            2.11998597e-02, -3.94133152e-03, -1.27630457e-02],\n",
       "          ...,\n",
       "          [ 2.79546212e-02, -1.27755953e-02, -1.32697553e-03, ...,\n",
       "           -3.48053463e-02, -1.01154326e-02,  1.42880622e-02],\n",
       "          [-3.03642917e-02,  3.05860559e-03,  8.67319852e-03, ...,\n",
       "            3.51393269e-03,  2.47806404e-02,  1.91939063e-02],\n",
       "          [-1.21174995e-02,  4.82366234e-03, -2.42437012e-02, ...,\n",
       "            1.15464795e-02,  1.01560066e-02,  1.79721192e-02]],\n",
       " \n",
       "         [[ 2.94378996e-02,  1.04678273e-02, -2.16639414e-02, ...,\n",
       "            1.51680352e-03,  2.06778944e-02,  2.96810195e-02],\n",
       "          [ 8.08204338e-03, -2.32432783e-02, -2.09689233e-02, ...,\n",
       "            3.52294222e-02, -1.46507751e-02, -3.13067436e-03],\n",
       "          [ 3.17586958e-02, -1.14741847e-02, -3.43138650e-02, ...,\n",
       "            3.30063254e-02,  2.65395846e-02, -1.37178879e-02],\n",
       "          ...,\n",
       "          [ 1.29007427e-02,  1.43953152e-02,  2.55734436e-02, ...,\n",
       "            3.27418037e-02, -2.85894796e-03, -1.25063385e-03],\n",
       "          [ 3.14291567e-02,  3.05303689e-02, -2.59017423e-02, ...,\n",
       "            3.40594277e-02, -3.99439782e-03, -9.85045359e-03],\n",
       "          [-1.27589256e-02, -5.44646429e-03, -1.47328600e-02, ...,\n",
       "            5.22865402e-03, -3.21573913e-02,  2.56631314e-03]]]],\n",
       "       dtype=float32)>,\n",
       " <tf.Variable 'block3_conv2/bias:0' shape=(256,) dtype=float32, numpy=\n",
       " array([-3.27026974e-05,  2.49192431e-06,  5.07247343e-04, -1.84027322e-05,\n",
       "         4.09976747e-05, -1.38160237e-06,  5.96088357e-05,  5.21435322e-06,\n",
       "         5.05251272e-08, -5.84191548e-05,  1.70826112e-04,  3.31851275e-04,\n",
       "         1.43318088e-04,  1.42591030e-04,  1.67350281e-05, -8.46696537e-07,\n",
       "        -1.25141287e-05,  2.49728066e-04,  9.45162384e-08,  8.62491434e-05,\n",
       "         6.38309648e-05, -7.31663240e-05, -2.47068078e-06, -2.51261663e-05,\n",
       "         3.43021275e-05, -2.36734604e-06, -4.77222272e-07,  1.70631974e-04,\n",
       "        -3.06400936e-04,  3.06203219e-05, -7.16958994e-06, -4.43323597e-06,\n",
       "         9.57380166e-07,  2.67854572e-04, -9.67661254e-06,  3.48536958e-07,\n",
       "        -7.92853484e-07,  5.24330935e-05, -4.31952176e-05,  5.07887444e-06,\n",
       "         8.10132860e-06,  7.21810511e-06,  1.85435274e-04, -9.64434150e-08,\n",
       "         2.05186425e-05, -9.71415102e-06,  7.90261838e-05,  1.41903627e-04,\n",
       "         1.52514913e-04, -2.07026023e-05,  2.28478784e-05,  2.77219101e-07,\n",
       "         5.26275326e-05, -4.02658770e-06,  5.68313999e-06, -1.49351774e-06,\n",
       "         1.36090457e-05, -3.78020417e-07, -3.74772435e-06, -1.14229101e-06,\n",
       "        -4.70027726e-06,  1.36398648e-05,  4.54539759e-06,  4.23761867e-06,\n",
       "         1.40423672e-05, -2.18203313e-05,  7.83869473e-05,  1.67540293e-05,\n",
       "        -4.87684429e-06, -8.58201529e-05,  7.80011669e-06,  4.49503306e-04,\n",
       "         6.91766327e-05, -5.31770202e-05,  2.92576849e-04,  3.53911287e-06,\n",
       "         1.91719955e-04, -5.95086613e-06,  3.42845160e-05,  2.60407163e-04,\n",
       "        -3.56333148e-05,  2.04826210e-04,  2.43630973e-04, -8.49127682e-05,\n",
       "         2.30152829e-04, -3.91987032e-06,  6.59571378e-04,  6.46636327e-05,\n",
       "         3.36778527e-07,  3.73693319e-06,  7.68342716e-07,  3.50292430e-06,\n",
       "        -2.22627477e-06,  3.92372924e-04,  1.40980887e-06, -1.45084714e-05,\n",
       "         1.85635057e-04,  7.85464435e-05,  2.21858354e-05,  1.63700330e-04,\n",
       "         2.42906128e-04,  4.42900891e-05,  2.90516211e-04,  2.20394359e-04,\n",
       "        -3.96746103e-08, -2.64581526e-04, -1.06332263e-04, -1.36803260e-06,\n",
       "         1.05026793e-07,  1.42650597e-05, -1.88250087e-05,  1.17657748e-06,\n",
       "         1.27227220e-04,  2.81860208e-04, -3.13201014e-07, -1.65619524e-04,\n",
       "         1.07432140e-06,  4.70959867e-06,  3.03451641e-04,  1.87318888e-04,\n",
       "        -9.09622941e-06, -5.72997997e-05,  4.30611317e-06,  3.18761086e-05,\n",
       "        -8.89163459e-07,  2.35841544e-05,  1.04146693e-06, -1.75245805e-04,\n",
       "         6.41820043e-06, -2.06285942e-04,  5.89629868e-04, -1.25649626e-06,\n",
       "        -8.98017447e-07,  3.22568929e-04,  4.73017235e-06, -6.61624726e-05,\n",
       "        -1.06233010e-05, -2.35336120e-06,  2.28645920e-04,  1.04327111e-04,\n",
       "         9.70463316e-06, -1.05108847e-04,  8.13970473e-05,  3.13678931e-04,\n",
       "         2.24433898e-04, -2.06535609e-04,  3.80056699e-05,  9.95002993e-05,\n",
       "         2.98197592e-05,  8.21379956e-07,  5.62316447e-04, -4.20612196e-05,\n",
       "         2.84267677e-04, -4.37683739e-05, -6.46440094e-06,  5.97861726e-05,\n",
       "         5.96892278e-05,  7.95871892e-06, -1.04848870e-04,  5.52358983e-07,\n",
       "         1.31034108e-06,  9.09087134e-07,  4.54823894e-05, -6.20329229e-05,\n",
       "        -5.34484161e-06,  4.96502209e-04,  6.95161953e-06, -8.13003135e-05,\n",
       "         1.70498926e-04,  9.45391730e-05, -2.01733769e-07,  1.47274604e-05,\n",
       "        -7.07430274e-07,  3.88620945e-04,  2.38896522e-04, -2.98745886e-06,\n",
       "         7.10959721e-04, -9.29592425e-05,  1.46572595e-04,  4.01270867e-04,\n",
       "         1.66022495e-04,  1.35156093e-04,  4.10713837e-04,  1.85695662e-05,\n",
       "        -1.38329360e-05,  1.31509471e-04, -2.03109412e-05,  7.21789547e-05,\n",
       "        -6.83270846e-05,  7.85665616e-05, -3.37841600e-04, -3.88613989e-06,\n",
       "         5.33594830e-05,  6.75860138e-05, -3.91776084e-05,  2.06277509e-05,\n",
       "         1.14976256e-05,  3.49419424e-05,  1.98982598e-04,  2.89009695e-05,\n",
       "         8.17355669e-07,  3.44945765e-05,  1.02747188e-04, -1.80250252e-04,\n",
       "         1.72612538e-08, -1.91659637e-05,  4.70238410e-06, -1.30567219e-04,\n",
       "        -1.87463211e-05,  4.24279919e-04,  1.51414224e-05,  8.16779732e-07,\n",
       "         3.87334039e-05,  4.01508674e-04, -1.20010850e-06, -1.59328294e-04,\n",
       "        -8.63686946e-05, -5.65066330e-06, -8.17439941e-05, -4.53570783e-06,\n",
       "         2.50474983e-07, -1.55306225e-07,  3.71044822e-04,  5.22061127e-05,\n",
       "         2.88815245e-05,  1.42073020e-07,  3.16543155e-04,  8.03240482e-07,\n",
       "        -1.90823903e-05,  2.94676283e-04,  4.08670167e-04, -3.33072785e-05,\n",
       "        -9.91985235e-06, -6.77161588e-05, -5.63410103e-05, -2.19023623e-05,\n",
       "         1.89568367e-04,  2.69730110e-04, -2.07840625e-04, -8.59856129e-07,\n",
       "         1.24603917e-04,  1.13848066e-04,  6.58964636e-05, -2.97372200e-04,\n",
       "        -3.21575062e-04,  3.78036239e-05,  4.86390054e-04,  1.82061296e-04,\n",
       "         5.12699247e-04,  1.26583463e-05, -6.64559320e-06,  6.84530998e-04,\n",
       "         3.00638785e-05,  1.55001217e-05,  3.93228082e-04,  7.77498190e-06],\n",
       "       dtype=float32)>,\n",
       " <tf.Variable 'block3_conv3/kernel:0' shape=(3, 3, 256, 256) dtype=float32, numpy=\n",
       " array([[[[ 0.02874433,  0.02301756, -0.03302079, ..., -0.00970655,\n",
       "           -0.03109097, -0.0066544 ],\n",
       "          [ 0.00298176, -0.01795924, -0.03108973, ...,  0.02964396,\n",
       "            0.03231625,  0.00160158],\n",
       "          [-0.0082102 , -0.03388458,  0.00642184, ..., -0.03343514,\n",
       "           -0.02381264, -0.00715956],\n",
       "          ...,\n",
       "          [ 0.02779375, -0.01395941,  0.01959122, ..., -0.02697981,\n",
       "           -0.02713258,  0.03583113],\n",
       "          [ 0.02095147, -0.03583363,  0.02971105, ..., -0.01422034,\n",
       "           -0.01301179,  0.00247102],\n",
       "          [ 0.03462487,  0.02082303,  0.02278822, ...,  0.00784121,\n",
       "           -0.02956336, -0.03207698]],\n",
       " \n",
       "         [[-0.01650328, -0.02723908, -0.0212188 , ...,  0.02205878,\n",
       "            0.00547846,  0.01831069],\n",
       "          [ 0.0228162 ,  0.03349221, -0.00453691, ..., -0.00079594,\n",
       "           -0.03358497,  0.02159747],\n",
       "          [-0.0166587 ,  0.01416304, -0.00511237, ...,  0.02399815,\n",
       "            0.02343297, -0.01780348],\n",
       "          ...,\n",
       "          [-0.01062839,  0.03593985,  0.00549317, ..., -0.03152212,\n",
       "            0.02841213, -0.00212009],\n",
       "          [-0.02209166,  0.0341883 ,  0.02209624, ...,  0.01537542,\n",
       "            0.02470301, -0.01094318],\n",
       "          [ 0.03097931,  0.03392689,  0.00564506, ...,  0.01903356,\n",
       "            0.03249055,  0.02294143]],\n",
       " \n",
       "         [[ 0.02783499, -0.0137388 ,  0.00475767, ...,  0.01308268,\n",
       "            0.03062793,  0.01557233],\n",
       "          [-0.00392949,  0.03421896, -0.02065755, ..., -0.02127461,\n",
       "            0.01392411, -0.0017151 ],\n",
       "          [ 0.02408593,  0.01397998, -0.01556302, ...,  0.01904031,\n",
       "           -0.02609879,  0.03178695],\n",
       "          ...,\n",
       "          [-0.03240351, -0.00617275, -0.0020222 , ..., -0.00191111,\n",
       "            0.02502839,  0.02941818],\n",
       "          [-0.03041611,  0.0244022 , -0.02302964, ...,  0.00722345,\n",
       "            0.03491793,  0.01970977],\n",
       "          [ 0.00216906, -0.00678743,  0.01283267, ...,  0.01642719,\n",
       "           -0.02770689, -0.03433007]]],\n",
       " \n",
       " \n",
       "        [[[-0.0009484 ,  0.01592084, -0.01522296, ..., -0.0109038 ,\n",
       "           -0.02378215, -0.01820421],\n",
       "          [ 0.02318205,  0.01984935,  0.01272316, ...,  0.0357559 ,\n",
       "            0.00756453, -0.03233729],\n",
       "          [-0.00065981, -0.02425842, -0.02506154, ...,  0.02552799,\n",
       "           -0.00183781,  0.01732126],\n",
       "          ...,\n",
       "          [ 0.00040608,  0.01473921, -0.02593048, ...,  0.0073373 ,\n",
       "            0.02184873, -0.02927157],\n",
       "          [-0.01257099,  0.03182863, -0.02069569, ..., -0.02922579,\n",
       "            0.00778266,  0.01372727],\n",
       "          [-0.01166391,  0.01403508,  0.02116384, ...,  0.0003707 ,\n",
       "            0.01687501,  0.02115015]],\n",
       " \n",
       "         [[ 0.00287354,  0.03532793,  0.008986  , ..., -0.03439663,\n",
       "            0.02158431, -0.01675678],\n",
       "          [ 0.02355403, -0.00453987,  0.00270879, ..., -0.02344495,\n",
       "            0.01494909,  0.01362093],\n",
       "          [-0.01243284,  0.00645975, -0.01680273, ...,  0.00152464,\n",
       "           -0.01438286,  0.00151333],\n",
       "          ...,\n",
       "          [-0.01455587, -0.00912187,  0.0140194 , ..., -0.0002016 ,\n",
       "           -0.01955787,  0.00443658],\n",
       "          [ 0.00380175,  0.01896079, -0.03031939, ..., -0.00904024,\n",
       "            0.03495568,  0.02311747],\n",
       "          [ 0.031534  , -0.02174721,  0.01757619, ...,  0.02739789,\n",
       "           -0.01116696, -0.01523916]],\n",
       " \n",
       "         [[ 0.03148448, -0.02702547,  0.03047981, ..., -0.02728966,\n",
       "            0.01764653,  0.01974778],\n",
       "          [-0.00127637,  0.01796139, -0.0334946 , ...,  0.02044724,\n",
       "            0.02673514, -0.01743589],\n",
       "          [ 0.01224572,  0.00529758, -0.0338957 , ...,  0.01093393,\n",
       "            0.02723431, -0.01807655],\n",
       "          ...,\n",
       "          [ 0.02283223, -0.01783288,  0.01310099, ...,  0.03149888,\n",
       "           -0.02024392,  0.03593456],\n",
       "          [ 0.00228017,  0.03219253,  0.00576985, ..., -0.0354461 ,\n",
       "            0.01499155,  0.0295733 ],\n",
       "          [-0.03201939,  0.03140805,  0.02104574, ...,  0.00367998,\n",
       "           -0.03514219, -0.0149012 ]]],\n",
       " \n",
       " \n",
       "        [[[ 0.02186906, -0.02010493, -0.00947778, ..., -0.02721697,\n",
       "            0.01970406, -0.01844611],\n",
       "          [-0.00920978,  0.0003713 , -0.03515771, ..., -0.00432986,\n",
       "            0.01667701, -0.01199909],\n",
       "          [-0.0206522 ,  0.00288177, -0.01420035, ...,  0.01628345,\n",
       "           -0.01789416, -0.01058729],\n",
       "          ...,\n",
       "          [ 0.01135569, -0.01854494, -0.00642018, ..., -0.01364751,\n",
       "            0.00635559, -0.02579935],\n",
       "          [ 0.02536721, -0.00617239,  0.00737035, ...,  0.01444852,\n",
       "           -0.01794056, -0.0306862 ],\n",
       "          [ 0.01131707,  0.02338721,  0.00898759, ..., -0.03384255,\n",
       "            0.00478765, -0.01096381]],\n",
       " \n",
       "         [[ 0.03322856, -0.01886205, -0.02634228, ...,  0.00306686,\n",
       "           -0.03353549, -0.03363324],\n",
       "          [-0.02850816, -0.03088635,  0.00249956, ...,  0.02675097,\n",
       "            0.02486299, -0.00482469],\n",
       "          [ 0.00369561, -0.03123174, -0.0129334 , ..., -0.02173286,\n",
       "            0.00056065, -0.01352188],\n",
       "          ...,\n",
       "          [ 0.00135461,  0.0166877 ,  0.02630073, ...,  0.00061203,\n",
       "           -0.01216037,  0.01438024],\n",
       "          [ 0.01739833, -0.02990558, -0.02615794, ..., -0.01497609,\n",
       "            0.03209331, -0.00486986],\n",
       "          [ 0.013299  ,  0.00355658, -0.03356753, ...,  0.02969852,\n",
       "           -0.00398948, -0.02330659]],\n",
       " \n",
       "         [[-0.00502091, -0.03153564,  0.02711439, ...,  0.0215414 ,\n",
       "            0.02186152,  0.01353237],\n",
       "          [ 0.03064776,  0.00918993, -0.02863467, ..., -0.01255149,\n",
       "           -0.02483644, -0.00573413],\n",
       "          [-0.02220633, -0.03200935,  0.02786263, ...,  0.00685114,\n",
       "            0.03031764, -0.03460295],\n",
       "          ...,\n",
       "          [ 0.02051308,  0.01339252, -0.00765542, ..., -0.00181076,\n",
       "            0.01336053,  0.00455551],\n",
       "          [-0.00657221, -0.01358147, -0.00043592, ...,  0.0258939 ,\n",
       "           -0.02975923,  0.0357071 ],\n",
       "          [-0.01915934, -0.00075915,  0.00428922, ...,  0.02598144,\n",
       "           -0.01001045, -0.03355146]]]], dtype=float32)>,\n",
       " <tf.Variable 'block3_conv3/bias:0' shape=(256,) dtype=float32, numpy=\n",
       " array([ 2.05774631e-04, -1.31224340e-04, -6.32005651e-07,  1.36158878e-05,\n",
       "        -5.68738906e-05,  3.14983277e-04,  8.19994057e-07, -1.62162155e-06,\n",
       "         1.96242399e-04,  8.44949900e-05, -1.99552902e-04,  2.34381718e-04,\n",
       "         3.86891998e-07, -2.56756786e-04,  8.13251336e-06, -3.28964001e-04,\n",
       "         1.40106582e-04, -1.42407252e-05,  9.90912326e-07, -2.92232107e-06,\n",
       "         1.76462927e-04,  7.60519761e-05, -2.60688057e-06,  1.64590354e-04,\n",
       "         4.84398857e-04,  3.31605581e-04,  1.96077643e-04,  5.95577527e-04,\n",
       "        -1.27837839e-05, -4.55520149e-06,  1.13028545e-04,  6.09829949e-05,\n",
       "        -2.76665378e-04,  3.68571762e-07, -1.36369704e-06, -1.27359017e-05,\n",
       "         3.53840878e-05,  9.73975330e-06,  5.17086810e-05,  1.42686963e-06,\n",
       "        -1.56428170e-04, -1.97257599e-04,  5.18641355e-06,  2.78409803e-04,\n",
       "         7.31679975e-05, -8.96087568e-06,  6.57507699e-05,  6.26236078e-06,\n",
       "        -8.73910267e-06, -6.05998612e-05,  4.02772450e-04,  4.69725463e-04,\n",
       "         3.83137522e-04, -1.09336952e-07,  1.93875003e-05,  9.26056873e-06,\n",
       "         1.71177016e-05, -2.93330299e-06,  4.54134752e-05,  4.55898444e-05,\n",
       "        -1.10981114e-06,  1.07526248e-05,  1.17591853e-05,  4.05928353e-04,\n",
       "         5.56930572e-05,  3.68121596e-06,  2.49220931e-04,  2.77258951e-04,\n",
       "        -1.77647133e-04,  3.39966100e-05, -1.86476929e-04, -1.29218442e-05,\n",
       "         1.23232079e-03,  1.96467052e-04,  1.55393337e-07, -9.80031982e-05,\n",
       "         3.73929972e-04,  2.83910867e-06, -3.49946481e-06, -2.32271268e-04,\n",
       "        -2.47264397e-05,  2.23137904e-04,  9.52139962e-05,  2.41224945e-04,\n",
       "         1.07179854e-04, -1.24972189e-06, -6.85098203e-05,  1.53637793e-05,\n",
       "        -9.48142679e-06,  6.25886096e-05,  3.40583036e-04, -2.94415531e-05,\n",
       "         1.87595113e-04,  4.00940335e-04, -1.12696716e-05,  7.60317344e-05,\n",
       "         7.63655407e-05,  2.43055297e-06, -2.00614857e-04,  8.80802054e-06,\n",
       "        -4.00838071e-05, -1.30568662e-06,  2.03453848e-04,  3.11882741e-06,\n",
       "         2.77781597e-04, -8.56218321e-05,  1.73758264e-04,  3.86585802e-04,\n",
       "        -2.80332119e-06,  3.94785093e-05,  1.25368151e-05,  4.03266691e-04,\n",
       "         2.75554426e-04,  1.87537618e-04,  1.19135921e-05,  1.96356694e-07,\n",
       "         7.46361562e-04,  2.06381105e-06, -6.27330292e-06,  1.50221633e-04,\n",
       "        -2.17338544e-04,  1.24176413e-05,  2.03475312e-04,  1.19833960e-04,\n",
       "         1.27621058e-06,  3.05900685e-05,  4.82373289e-04,  1.64308694e-05,\n",
       "        -1.52344086e-07, -3.82889790e-04,  3.71689093e-04, -4.56844145e-06,\n",
       "        -2.46517011e-05, -1.56362457e-05,  1.51969630e-07, -1.05928237e-04,\n",
       "        -2.99525036e-05,  6.28541675e-05,  7.98747078e-06,  2.59765920e-06,\n",
       "         2.25826720e-04, -4.14806018e-05,  4.26852261e-04,  1.98890164e-04,\n",
       "         3.83944338e-04,  4.63409495e-04, -3.52760395e-07,  3.06695758e-04,\n",
       "        -1.78909351e-04, -5.04477866e-05,  2.85017682e-04,  1.49805999e-06,\n",
       "         4.65496896e-07, -2.95258415e-05,  2.37932152e-04,  1.15952737e-07,\n",
       "         1.89088269e-06, -3.62356985e-07, -1.66356083e-04,  4.94929031e-04,\n",
       "         1.97707719e-04,  1.83131378e-05,  7.44469755e-04,  3.09376228e-05,\n",
       "         3.47876310e-04, -6.01155352e-06, -1.95464781e-05,  4.62213065e-04,\n",
       "        -2.13551448e-06,  6.49555295e-06, -2.20517322e-04,  2.62090816e-05,\n",
       "         3.95742041e-04,  2.32110397e-04,  4.65390680e-04,  6.52611925e-05,\n",
       "        -7.32303306e-05,  1.69848936e-04, -5.00143273e-04, -1.01517380e-05,\n",
       "         5.81385029e-05, -1.38960513e-06,  1.48389006e-06,  3.78638797e-05,\n",
       "         7.70413135e-06, -7.21949400e-05,  1.01790965e-05,  4.49100771e-04,\n",
       "         7.75273424e-04,  6.97663199e-05,  5.35652973e-04,  2.86457391e-04,\n",
       "         2.17966430e-04,  1.71419815e-04,  1.23356149e-04, -1.72310010e-05,\n",
       "         4.09859873e-04, -4.99996167e-06,  3.15620200e-05,  7.76861998e-05,\n",
       "         3.91529793e-05,  2.23988274e-04,  9.12747928e-05,  3.05079866e-05,\n",
       "        -2.53682174e-06,  2.02372787e-04, -2.25367748e-05, -7.30334286e-05,\n",
       "        -4.15175282e-06, -7.59492377e-06,  5.06650304e-06,  1.78466769e-04,\n",
       "         1.65871825e-04,  3.93942209e-05,  1.35930059e-05,  5.38789300e-06,\n",
       "        -3.25065935e-06, -2.88360141e-04,  1.36126403e-06,  2.70439428e-04,\n",
       "        -8.51367731e-05,  1.14256829e-04,  2.39862572e-07,  4.62801516e-04,\n",
       "        -2.39105997e-04,  4.07240514e-05,  3.57412573e-05, -1.59379579e-05,\n",
       "        -7.64158722e-06,  3.36397170e-06, -1.65873225e-05,  8.20556234e-05,\n",
       "        -5.27408010e-05,  1.94131528e-04,  4.62974567e-05,  4.08198139e-06,\n",
       "         1.20764053e-04,  4.21083329e-04,  3.82519283e-05, -5.79341322e-05,\n",
       "         1.51034355e-05,  4.72109212e-04,  9.80605819e-06,  2.64628743e-05,\n",
       "         1.29223408e-04,  6.17557021e-07,  1.88183854e-04,  1.78273913e-05,\n",
       "        -2.47655058e-04,  2.11645261e-06,  3.29823379e-04,  7.27290695e-04,\n",
       "         7.44978834e-08, -1.47604631e-04,  3.44380707e-04, -6.69620931e-05],\n",
       "       dtype=float32)>,\n",
       " <tf.Variable 'block4_conv1/kernel:0' shape=(3, 3, 256, 512) dtype=float32, numpy=\n",
       " array([[[[-2.66375002e-02,  3.24433623e-03, -2.28592940e-02, ...,\n",
       "            2.42011994e-03, -1.97080579e-02,  1.74916349e-02],\n",
       "          [-2.71983515e-03,  1.77949779e-02,  1.40011683e-02, ...,\n",
       "            4.29586181e-03,  8.53079278e-03, -1.61476173e-02],\n",
       "          [-8.23708251e-03,  2.55265255e-02,  2.68752594e-02, ...,\n",
       "            1.88744348e-02, -2.66994238e-02,  9.52239893e-03],\n",
       "          ...,\n",
       "          [ 6.60863752e-03,  3.80846788e-03, -7.84605183e-03, ...,\n",
       "           -2.50691827e-02,  1.04470719e-02,  8.44470691e-03],\n",
       "          [-1.73219964e-02,  1.81742348e-02, -6.38659671e-03, ...,\n",
       "            1.13348141e-02,  2.41367444e-02,  1.06748315e-02],\n",
       "          [ 1.09432125e-02, -1.21113530e-03,  1.85411200e-02, ...,\n",
       "            2.91217640e-02, -8.17619357e-03,  2.00607777e-02]],\n",
       " \n",
       "         [[ 2.13743430e-02, -1.43430335e-03, -1.77528653e-02, ...,\n",
       "           -2.05664895e-02, -1.67432316e-02, -9.59170703e-03],\n",
       "          [-2.65912563e-02,  5.74245956e-03,  2.11549969e-03, ...,\n",
       "           -1.47163328e-02,  2.42084414e-02, -1.60655100e-02],\n",
       "          [ 1.65781695e-02, -1.41787408e-02, -1.80889703e-02, ...,\n",
       "            2.29362864e-02, -2.14301213e-03, -1.00241005e-02],\n",
       "          ...,\n",
       "          [ 2.40654480e-02, -2.85078632e-03,  6.28842367e-03, ...,\n",
       "            2.62557045e-02,  2.36611236e-02,  8.06805864e-03],\n",
       "          [ 2.46185213e-02,  1.77523885e-02, -2.93986760e-02, ...,\n",
       "            7.49108894e-03,  1.04641495e-02, -1.31637780e-02],\n",
       "          [-1.99666116e-02,  2.63040084e-02, -1.98591053e-02, ...,\n",
       "           -7.78936641e-03, -1.20747220e-02,  6.12674700e-03]],\n",
       " \n",
       "         [[-7.10308831e-03, -1.14026573e-02,  1.03927660e-03, ...,\n",
       "            2.69757258e-03,  2.60558650e-02,  2.93380022e-03],\n",
       "          [ 1.69397779e-02, -2.35842615e-02,  1.88510511e-02, ...,\n",
       "            1.87108181e-02,  8.82721134e-03, -1.99926347e-02],\n",
       "          [-2.90068388e-02,  2.74966527e-02,  9.98972449e-04, ...,\n",
       "            1.06923264e-02,  1.82513334e-03,  3.05614504e-03],\n",
       "          ...,\n",
       "          [ 2.52605695e-02, -1.77562574e-03,  7.07970792e-03, ...,\n",
       "            1.37277571e-02,  1.14424984e-04,  8.71333107e-03],\n",
       "          [ 1.18094729e-03, -2.55435314e-02,  9.64915659e-03, ...,\n",
       "           -5.25740208e-04,  2.53497474e-02,  1.22700920e-02],\n",
       "          [ 2.19860468e-02,  1.63824055e-02, -2.66985241e-02, ...,\n",
       "            2.48098914e-02,  1.76144261e-02, -9.02592263e-04]]],\n",
       " \n",
       " \n",
       "        [[[-1.06828082e-02,  2.02778932e-02, -2.81579536e-03, ...,\n",
       "            1.10218087e-02, -1.30766099e-02,  8.26084986e-03],\n",
       "          [-1.41216684e-02,  2.70464011e-02, -2.07170956e-02, ...,\n",
       "           -4.36292868e-03, -2.16185339e-02, -1.32211437e-02],\n",
       "          [ 3.63125466e-03, -9.80245136e-03, -2.28063278e-02, ...,\n",
       "            1.53912362e-02, -3.28710856e-04, -2.02544965e-02],\n",
       "          ...,\n",
       "          [ 1.12516815e-02,  4.01208468e-04, -2.91902442e-02, ...,\n",
       "           -2.68139020e-02, -2.13821772e-02,  6.56070793e-03],\n",
       "          [ 1.37147456e-02,  3.40504874e-03,  2.91122664e-02, ...,\n",
       "           -9.59031004e-03, -2.07622703e-02, -8.35953187e-03],\n",
       "          [ 1.78242638e-03, -2.16312939e-03,  2.09138058e-02, ...,\n",
       "           -8.97403900e-03, -1.56755913e-02,  1.89563204e-02]],\n",
       " \n",
       "         [[ 1.71070378e-02, -2.73309294e-02, -2.38268431e-02, ...,\n",
       "            1.17799584e-02, -1.12404749e-02,  2.41655819e-02],\n",
       "          [ 1.69894043e-02,  1.75669082e-02,  2.29473319e-02, ...,\n",
       "           -1.83231793e-02, -1.17701991e-02,  1.94753930e-02],\n",
       "          [-2.91059110e-02, -2.53015887e-02,  1.02784839e-02, ...,\n",
       "           -9.13025066e-03,  2.67081838e-02, -5.94303571e-03],\n",
       "          ...,\n",
       "          [-8.97640362e-03, -2.81776674e-02, -1.62509438e-02, ...,\n",
       "           -7.15405168e-03,  7.14036589e-03, -7.45669426e-03],\n",
       "          [ 2.01835223e-02,  2.98635243e-03,  9.93735809e-03, ...,\n",
       "           -2.14210767e-02, -1.61261745e-02,  7.07648229e-03],\n",
       "          [-8.45750887e-03, -3.42146540e-03,  4.71745478e-03, ...,\n",
       "            1.10646077e-02,  2.18170844e-02, -3.39709362e-03]],\n",
       " \n",
       "         [[ 1.45150907e-02,  1.65882278e-02,  8.06156453e-03, ...,\n",
       "            2.73318915e-03, -2.61621196e-02,  1.28025608e-02],\n",
       "          [-2.06000376e-02,  8.65567476e-03, -2.29778178e-02, ...,\n",
       "           -5.26813418e-03, -1.63482334e-02, -1.38358166e-03],\n",
       "          [ 1.08824912e-02,  2.02612672e-02,  2.16330029e-03, ...,\n",
       "           -2.35543922e-02, -1.71747990e-02,  5.80222346e-03],\n",
       "          ...,\n",
       "          [-1.26062538e-02,  1.00447563e-02, -1.01889158e-02, ...,\n",
       "           -1.91076938e-02,  2.14496301e-03, -2.69986764e-02],\n",
       "          [-1.15034473e-03,  2.77158078e-02,  1.84404794e-02, ...,\n",
       "            1.33956168e-02,  2.32728068e-02, -2.24826057e-02],\n",
       "          [ 1.12607218e-02, -1.32308551e-03,  1.71606876e-02, ...,\n",
       "           -1.04565006e-02, -9.87447239e-03, -8.47480260e-03]]],\n",
       " \n",
       " \n",
       "        [[[-7.63270259e-03,  2.03289017e-02, -6.59371633e-03, ...,\n",
       "           -2.13381951e-03,  1.67043656e-02,  4.02485207e-03],\n",
       "          [ 3.63831827e-03,  2.23643314e-02,  2.37846505e-02, ...,\n",
       "            7.16109760e-03, -2.52837408e-02, -2.02965885e-02],\n",
       "          [ 1.54111516e-02,  3.72476852e-03, -1.86115839e-02, ...,\n",
       "           -2.76169125e-02, -2.03215946e-02,  6.94554858e-03],\n",
       "          ...,\n",
       "          [ 1.11053446e-02, -1.11819699e-03, -2.51246840e-02, ...,\n",
       "           -2.00728010e-02, -2.69684121e-02, -8.09065625e-03],\n",
       "          [-2.73318496e-02,  2.21587811e-02, -2.86539830e-02, ...,\n",
       "           -8.91317893e-03, -1.57330129e-02,  1.43386293e-02],\n",
       "          [ 6.40788255e-03, -1.17440792e-02, -3.01662163e-04, ...,\n",
       "           -1.59336608e-02,  1.55478092e-02, -2.03234609e-02]],\n",
       " \n",
       "         [[-2.31223442e-02, -2.00670920e-02, -2.67825369e-02, ...,\n",
       "            1.03739183e-02, -6.06601452e-03, -1.09514687e-02],\n",
       "          [ 1.76556259e-02, -2.02971566e-02,  1.76737574e-03, ...,\n",
       "           -1.05468091e-02,  1.66735202e-02,  2.52373889e-02],\n",
       "          [-2.78936140e-02, -2.63644271e-02,  2.20151339e-02, ...,\n",
       "           -1.33391619e-02, -1.57049261e-02,  1.03050712e-02],\n",
       "          ...,\n",
       "          [ 2.81970520e-02,  7.15775928e-03, -2.13500690e-02, ...,\n",
       "            2.31876168e-02,  1.97332297e-02, -2.12725382e-02],\n",
       "          [-1.83544215e-02, -8.78288224e-03, -6.79994002e-03, ...,\n",
       "           -4.18165844e-04,  2.24991031e-02, -1.01780510e-02],\n",
       "          [-1.84175130e-02,  9.63757560e-03,  8.98376293e-03, ...,\n",
       "           -1.24323331e-02, -8.35373939e-04,  4.90731420e-03]],\n",
       " \n",
       "         [[ 1.04357833e-02,  1.18268831e-02, -9.27410088e-03, ...,\n",
       "            1.86724681e-02,  2.48596687e-02, -2.13730205e-02],\n",
       "          [ 2.60069519e-02, -1.45493438e-02, -1.94733702e-02, ...,\n",
       "            2.11983435e-02,  6.52946671e-03,  5.37300156e-03],\n",
       "          [-4.26411629e-03,  8.54532234e-03,  2.56929565e-02, ...,\n",
       "           -1.57319792e-02, -1.21978037e-02, -1.10610053e-02],\n",
       "          ...,\n",
       "          [ 2.29236092e-02,  6.29329216e-03, -1.09106470e-02, ...,\n",
       "            3.75464605e-03, -1.62320454e-02, -2.33265851e-02],\n",
       "          [ 1.34806577e-02, -9.41137131e-03, -2.76357159e-02, ...,\n",
       "           -4.23374726e-03, -1.60866119e-02,  2.21458841e-02],\n",
       "          [ 9.41430117e-05, -2.76528541e-02,  2.02034749e-02, ...,\n",
       "            1.31867612e-02, -4.83056437e-03, -1.20707089e-02]]]],\n",
       "       dtype=float32)>,\n",
       " <tf.Variable 'block4_conv1/bias:0' shape=(512,) dtype=float32, numpy=\n",
       " array([ 1.86194549e-04,  2.63097143e-04, -4.76382520e-05,  1.79852126e-04,\n",
       "         3.48349613e-06,  6.70874200e-04,  1.64049736e-04, -4.39909272e-05,\n",
       "         1.30839035e-04, -1.87826037e-04,  1.69110528e-04, -5.29646859e-05,\n",
       "         4.45486134e-04, -2.01610910e-05,  2.42716036e-04, -6.72883107e-06,\n",
       "        -9.93799318e-08,  1.71478998e-04,  5.61116358e-05, -1.53035056e-04,\n",
       "         8.19085806e-04, -6.33367426e-06, -9.96297899e-07,  3.22121137e-04,\n",
       "        -7.51588345e-07, -1.41573168e-04, -2.67855485e-05,  2.21132592e-04,\n",
       "         4.99307680e-05, -1.29699372e-04, -1.80880652e-05,  7.49281957e-04,\n",
       "         3.85510648e-04,  2.61847017e-04, -4.76490550e-06, -3.18218576e-04,\n",
       "         1.64096564e-04,  1.74074114e-04,  1.35371438e-05,  8.02135037e-06,\n",
       "        -7.76397283e-05,  1.06499092e-05, -3.04977002e-05,  2.65759780e-07,\n",
       "         1.44998103e-06,  1.84763309e-07, -8.02634895e-06,  3.69500893e-04,\n",
       "        -3.11008102e-04,  3.22511041e-05, -2.19453559e-05, -3.70669550e-05,\n",
       "        -1.58864896e-05,  5.89705771e-04, -3.88274429e-06,  4.26399265e-06,\n",
       "         7.07087340e-04,  2.40707850e-05, -2.70528017e-06,  3.63303465e-04,\n",
       "        -1.20984441e-06, -7.21151025e-07, -8.68400093e-05,  7.48767980e-06,\n",
       "         2.49535278e-05,  8.92523094e-04, -3.48415961e-05, -7.32854323e-06,\n",
       "         4.92604217e-04,  2.63743044e-04,  4.22130433e-05, -3.16465303e-04,\n",
       "         3.27348185e-04,  2.64181610e-04,  7.19171076e-05,  5.49987135e-06,\n",
       "         4.59366303e-04,  1.99740884e-04, -6.23900860e-06,  6.98663411e-04,\n",
       "         4.74912056e-04,  3.53682663e-05,  5.43170027e-04, -4.04840921e-06,\n",
       "        -8.83077737e-04,  3.39478021e-04,  7.21529716e-07, -1.46763545e-04,\n",
       "         7.78887334e-05, -2.31529339e-04,  1.85437151e-04,  1.10834713e-04,\n",
       "        -2.82528399e-05,  1.58392111e-04, -2.01344528e-06, -1.53936835e-05,\n",
       "         5.10397425e-04,  1.13757349e-04, -1.02513899e-04,  2.72958016e-04,\n",
       "         2.93186827e-06,  9.15651326e-05, -4.67836508e-04,  2.59694702e-04,\n",
       "         3.69139852e-05,  2.47702574e-05, -2.52486570e-05, -5.28415316e-04,\n",
       "         4.60721549e-06,  3.16211924e-07, -1.84636796e-04,  1.07792941e-04,\n",
       "        -1.01860796e-05,  2.20513117e-04,  5.05424512e-04,  2.73907179e-04,\n",
       "        -1.68713494e-04,  1.90858409e-04,  1.80112784e-06,  5.09399106e-05,\n",
       "         3.85553467e-05,  7.43507735e-06,  2.21638365e-05,  5.75783633e-05,\n",
       "         1.58275274e-04,  6.57382552e-05, -4.41284064e-05,  5.64265181e-04,\n",
       "         2.82157824e-04, -2.13634308e-07,  5.09049073e-07, -6.57408009e-07,\n",
       "        -2.06971788e-04,  3.26653244e-04, -6.46221270e-06, -7.74839191e-06,\n",
       "        -2.36308750e-10,  1.18057187e-06,  1.32715832e-06, -5.04973559e-06,\n",
       "        -3.50365190e-05,  9.94483780e-05,  5.77708881e-04,  5.14663174e-04,\n",
       "        -1.89458915e-05,  3.50463786e-04,  2.36507440e-05, -1.65869191e-04,\n",
       "         7.91226569e-08, -3.40460019e-06,  5.37487758e-05, -2.02811512e-04,\n",
       "        -2.76948795e-05,  2.08703903e-04,  3.28846327e-05, -1.65941557e-04,\n",
       "         1.37931365e-05,  7.15070473e-06,  8.53304868e-04,  7.69224425e-05,\n",
       "        -1.30059983e-04, -6.03308872e-05,  9.62577906e-05,  8.06234141e-07,\n",
       "         2.55000865e-04,  4.52703443e-06,  2.98668485e-04,  3.77813674e-04,\n",
       "         2.81394314e-04,  6.94261689e-06,  6.33523143e-07,  1.59532428e-05,\n",
       "        -1.12500340e-04,  2.09236782e-06,  2.27209923e-04,  1.03992500e-06,\n",
       "        -6.94505297e-06,  5.15100721e-04,  1.32624191e-05, -9.28916634e-05,\n",
       "         1.57843278e-05,  5.73134515e-04, -4.24551690e-05, -1.18063426e-05,\n",
       "         2.53966937e-06, -4.20621102e-04,  1.48823419e-05, -1.57527887e-04,\n",
       "        -3.58673460e-05,  3.88387300e-04,  9.24237320e-05, -6.17921760e-05,\n",
       "        -1.44322723e-06, -4.30726141e-05,  3.59593920e-04, -5.36376956e-06,\n",
       "        -2.55783652e-06, -1.06464295e-05, -2.25407450e-04,  1.66316619e-04,\n",
       "         2.22416711e-05, -3.15023067e-06,  4.54540459e-05,  3.53194737e-05,\n",
       "         4.99383314e-04, -7.67613255e-06,  5.58415309e-07, -5.17251465e-05,\n",
       "        -9.06465793e-05, -4.18023446e-05,  5.76974999e-05, -1.63661054e-04,\n",
       "         7.35904166e-07,  1.26001999e-06, -1.74175295e-06,  2.16676533e-04,\n",
       "         2.16949469e-04, -2.64940709e-08, -3.22128151e-04, -1.27670006e-04,\n",
       "        -7.89012120e-05, -6.20419960e-05,  1.10719466e-05,  2.06389130e-04,\n",
       "         7.83715132e-06, -2.77329218e-06,  1.86236521e-05,  4.08101550e-06,\n",
       "        -2.25328753e-04,  2.96375831e-04, -5.49039305e-06,  3.29058385e-04,\n",
       "         4.94547596e-04,  2.11614157e-08, -3.08357194e-05, -8.90758965e-05,\n",
       "         4.13451489e-04, -7.05157936e-06, -5.37378328e-05,  6.07689835e-05,\n",
       "         5.93500226e-06, -1.17043774e-05, -9.30475653e-06, -3.52180268e-06,\n",
       "        -1.67034523e-05, -9.15412602e-05, -8.57660325e-06,  5.13916257e-06,\n",
       "         7.42287957e-04,  4.76729292e-06,  2.46406649e-04,  3.10803240e-04,\n",
       "         7.11013563e-05, -1.45770446e-06, -4.43991712e-06, -3.16520367e-04,\n",
       "        -2.33346902e-04, -2.31444883e-05,  3.92917864e-04,  7.21105898e-05,\n",
       "         1.94741096e-05,  1.14125003e-04, -6.26337351e-05, -2.04798431e-04,\n",
       "         2.25163674e-08,  7.70358020e-04, -5.94418234e-05,  2.31276019e-04,\n",
       "         2.69887416e-04, -7.88183115e-06,  3.18256672e-04, -3.37350248e-05,\n",
       "         1.79452963e-05,  9.52212929e-07, -8.14859595e-06, -2.31009526e-05,\n",
       "         7.80734932e-04,  3.61284649e-04,  1.83833508e-05,  1.06098538e-04,\n",
       "        -3.53177486e-04,  1.19712175e-04,  4.76173765e-04, -2.84092413e-04,\n",
       "         4.93317668e-04,  5.21272796e-06, -2.06370387e-07,  1.31043227e-04,\n",
       "        -8.02783575e-07,  2.46310083e-04,  3.87663400e-04, -4.18018244e-05,\n",
       "         2.06193159e-04,  1.78501054e-04, -9.55674659e-06, -7.26082799e-05,\n",
       "         2.56063940e-04,  2.84908201e-05,  9.35994758e-05,  1.20557328e-04,\n",
       "        -2.80085136e-04,  2.97767065e-06,  1.48103514e-04, -1.28776257e-04,\n",
       "        -2.84905695e-07, -1.44269070e-04,  4.35772759e-04,  3.96242336e-04,\n",
       "         1.23304817e-05,  3.48979549e-04, -1.62253320e-06, -7.33613415e-05,\n",
       "         6.51393202e-05, -5.14199899e-04, -9.32263356e-06, -2.34288367e-04,\n",
       "         2.43734339e-05,  6.35810837e-04, -1.46866924e-07, -1.88323099e-07,\n",
       "         3.89012785e-05,  4.18302690e-04, -1.01831538e-05, -4.23920501e-05,\n",
       "        -3.81784688e-04, -4.16684543e-06, -1.83427284e-04, -1.77441412e-04,\n",
       "         3.84082824e-07,  5.83092449e-04,  5.78027993e-06,  3.04156798e-04,\n",
       "         1.40557959e-05,  3.44276195e-04,  6.43539999e-04, -4.05644787e-05,\n",
       "         4.83704798e-06, -6.39648060e-05, -1.01318699e-04,  1.59494757e-05,\n",
       "         5.12464030e-04, -7.59198926e-08, -1.99120885e-04,  3.15783633e-04,\n",
       "        -4.71729581e-04, -4.82995762e-04,  4.86355157e-06,  5.64730271e-07,\n",
       "         1.07398693e-04,  2.58805667e-04, -1.11308225e-04,  6.46860371e-07,\n",
       "         1.93595872e-04,  8.52743324e-06, -2.77739559e-06,  1.60064083e-05,\n",
       "         1.42388144e-05,  1.96673573e-04,  1.78045928e-04, -1.62830096e-04,\n",
       "         4.43343655e-04,  1.39709309e-05,  1.41144716e-04,  2.63501919e-04,\n",
       "        -6.97489895e-06, -4.20400920e-06,  6.22933221e-05, -1.44126680e-05,\n",
       "        -2.39524525e-05, -2.92618934e-04,  3.56144883e-04,  4.50551248e-04,\n",
       "        -4.37436393e-06, -9.56451095e-06, -1.60961979e-04,  7.37630489e-06,\n",
       "         6.04393252e-04,  2.62305690e-07, -2.78336956e-04,  2.51903344e-04,\n",
       "         3.99582379e-04,  6.41209772e-06, -2.32961629e-05, -2.30509977e-06,\n",
       "         1.00156569e-04,  2.78863008e-05, -1.44531996e-05, -1.64291720e-04,\n",
       "         1.19952230e-04,  6.96766119e-06,  1.47280385e-04, -1.20045188e-04,\n",
       "        -1.12956084e-04, -3.96886151e-07, -2.09945620e-06,  2.46220210e-04,\n",
       "         6.38375175e-04, -1.02079212e-05, -3.78336081e-05,  2.60406814e-05,\n",
       "        -9.55217038e-05,  2.48733675e-04,  1.64133264e-04,  7.40279851e-04,\n",
       "        -7.98167166e-05, -6.54885707e-06, -1.31472177e-07,  1.54715715e-04,\n",
       "        -2.79282074e-04, -1.14940894e-06,  2.60421057e-05,  5.93104451e-05,\n",
       "         6.33511110e-04,  7.79782276e-05,  6.35040633e-04,  9.50654503e-05,\n",
       "         5.63362089e-04, -2.13596824e-04,  2.02830459e-04,  3.04722984e-04,\n",
       "         9.43574662e-07,  1.55956932e-05, -8.57737905e-05, -6.74231478e-06,\n",
       "        -2.08941383e-05, -1.36619870e-04,  3.79455159e-05,  2.11206006e-05,\n",
       "        -2.31346075e-05, -2.39174449e-04, -1.71434167e-05,  2.94001893e-06,\n",
       "         9.78124808e-05,  4.80731433e-05, -1.11059817e-04,  8.80325169e-05,\n",
       "        -3.88328135e-06, -1.59487085e-04,  5.79954985e-06,  4.18882228e-05,\n",
       "         4.50954860e-04, -1.71401582e-04,  4.28091516e-05, -2.43281393e-04,\n",
       "        -7.19530071e-05,  1.54858540e-07,  8.56678816e-05,  5.24739846e-07,\n",
       "         4.49125713e-04, -1.13582348e-04, -5.08604899e-05,  2.36613851e-05,\n",
       "         1.75096557e-06,  8.76772101e-05,  1.68935469e-04,  4.40012700e-05,\n",
       "         4.37731869e-05,  1.61071075e-05, -7.68643731e-05, -3.55534867e-05,\n",
       "         1.32124056e-04, -1.53959991e-04,  2.56868108e-04,  1.05829524e-04,\n",
       "        -5.16447879e-04, -9.11855241e-05, -2.21165392e-04,  4.34976886e-04,\n",
       "         8.14911473e-05,  5.06353623e-04, -1.28486994e-04,  1.74999570e-07,\n",
       "         1.49107931e-04,  2.78719643e-04, -4.70962232e-06, -2.21899136e-05,\n",
       "         1.76079324e-04,  2.21455193e-05,  4.60656622e-04, -8.76685954e-05,\n",
       "         2.53631122e-04,  5.85266775e-07, -9.26825014e-05, -3.67527624e-04,\n",
       "        -1.14666080e-04,  8.73226418e-06,  1.34001166e-05,  7.00260387e-07,\n",
       "        -4.81401912e-07,  4.22434738e-07, -3.37975100e-04,  3.48267669e-04,\n",
       "         1.55663802e-04, -1.64589816e-04, -2.01421099e-05,  3.38290643e-04,\n",
       "        -1.17737945e-04, -5.49252093e-07,  5.91504545e-07,  2.11031132e-04,\n",
       "         1.42235775e-04, -1.16933893e-06, -7.29150906e-06,  8.93046763e-06,\n",
       "         5.35758329e-04, -1.93553951e-05, -4.43871162e-04,  4.10491593e-05,\n",
       "        -2.52625032e-04,  2.40815802e-06,  9.19668455e-05, -6.35714459e-05],\n",
       "       dtype=float32)>,\n",
       " <tf.Variable 'block4_conv2/kernel:0' shape=(3, 3, 512, 512) dtype=float32, numpy=\n",
       " array([[[[-1.13678596e-03,  2.20980141e-02, -7.36954156e-03, ...,\n",
       "            6.75818371e-03, -7.98920728e-03, -9.38531477e-03],\n",
       "          [-1.87015161e-02, -1.22633427e-02,  2.03480963e-02, ...,\n",
       "           -6.98631769e-03, -1.40602905e-02, -7.99952354e-03],\n",
       "          [ 9.57689807e-03, -2.73638754e-03,  8.84989786e-05, ...,\n",
       "           -6.11311337e-03, -1.75887067e-02,  1.96837913e-02],\n",
       "          ...,\n",
       "          [-1.71251222e-02,  1.07324915e-02,  1.25380214e-02, ...,\n",
       "           -1.24409096e-03, -5.77386189e-03,  6.75708381e-03],\n",
       "          [ 9.32239462e-03, -1.03070270e-02,  1.57419052e-02, ...,\n",
       "           -9.64869838e-03, -2.12331247e-02, -2.84366845e-03],\n",
       "          [-1.63529906e-02, -5.81359537e-03, -7.20661925e-03, ...,\n",
       "            9.42607876e-03,  1.48696480e-02, -2.06197370e-02]],\n",
       " \n",
       "         [[ 7.41714099e-03, -2.06167214e-02,  2.21408787e-03, ...,\n",
       "            1.23375957e-03, -1.41390851e-02,  1.88901108e-02],\n",
       "          [-2.67228764e-03,  4.07774001e-03, -2.08387547e-03, ...,\n",
       "            1.37464888e-03,  1.98874660e-02,  2.34078238e-04],\n",
       "          [ 1.36252381e-02,  3.35938809e-03,  1.70742478e-02, ...,\n",
       "           -1.04949540e-02, -4.16591531e-03, -1.51291331e-02],\n",
       "          ...,\n",
       "          [ 1.03442185e-02, -4.13412042e-03, -1.70602314e-02, ...,\n",
       "           -2.61193421e-03, -1.59360971e-02,  1.34650348e-02],\n",
       "          [-5.57271065e-03,  1.81488190e-02,  4.32116725e-03, ...,\n",
       "           -1.89344212e-02,  3.59940954e-04, -8.83625448e-03],\n",
       "          [ 1.43722491e-02,  1.93782977e-03, -5.47319558e-03, ...,\n",
       "           -1.57033131e-02, -9.85510740e-03,  8.87209363e-03]],\n",
       " \n",
       "         [[ 8.71829747e-04, -2.29908642e-03, -1.88959818e-02, ...,\n",
       "           -4.55608126e-03, -1.76065154e-02,  2.40291730e-02],\n",
       "          [ 1.07624140e-02,  2.02707369e-02, -1.65194944e-02, ...,\n",
       "            2.40964792e-03, -8.43357109e-03,  1.26690576e-02],\n",
       "          [ 2.38162912e-02, -5.90271642e-03, -1.97718740e-02, ...,\n",
       "            9.26807709e-03,  3.50530143e-03,  9.79206618e-03],\n",
       "          ...,\n",
       "          [ 1.16218058e-02,  2.25306340e-02,  9.41552781e-03, ...,\n",
       "           -3.64321657e-03,  1.92820095e-02,  2.34243833e-03],\n",
       "          [-5.80121623e-03, -1.42041431e-03,  4.83010808e-04, ...,\n",
       "            7.17545860e-03,  1.77055988e-02,  1.81184690e-02],\n",
       "          [ 1.95478983e-02, -2.01686528e-02,  8.04321258e-04, ...,\n",
       "           -1.88852884e-02, -1.02464631e-02, -2.11910857e-03]]],\n",
       " \n",
       " \n",
       "        [[[ 1.57669082e-03,  1.07097449e-02, -1.50947226e-03, ...,\n",
       "            1.59397274e-02,  1.47901347e-03,  1.34280920e-02],\n",
       "          [-1.56602468e-02,  8.18384532e-03, -9.49412212e-03, ...,\n",
       "            2.31589042e-02,  1.45413475e-02,  9.44915693e-03],\n",
       "          [-5.45359822e-03,  1.51544204e-02, -3.78670375e-04, ...,\n",
       "           -2.04904322e-02, -1.64336748e-02,  3.81656946e-03],\n",
       "          ...,\n",
       "          [ 8.01963732e-03,  1.84961930e-02,  1.20346444e-02, ...,\n",
       "            1.52696325e-02, -1.73636768e-02,  1.38292033e-02],\n",
       "          [ 1.38339810e-02,  3.05347634e-03, -1.53001118e-02, ...,\n",
       "           -3.08427168e-03,  2.41647251e-02, -6.85827155e-03],\n",
       "          [ 1.48506686e-02,  1.61258336e-02,  1.61269344e-02, ...,\n",
       "           -1.22851813e-02, -1.60446316e-02,  4.91467072e-03]],\n",
       " \n",
       "         [[ 2.51776278e-02, -1.33557208e-02, -1.52258137e-02, ...,\n",
       "            1.90102588e-02, -2.20425557e-02,  8.50729458e-03],\n",
       "          [ 2.13720035e-02, -3.86752491e-03,  1.76931303e-02, ...,\n",
       "           -2.23294310e-02, -1.19988304e-02,  2.50537414e-02],\n",
       "          [-4.67405654e-03,  6.97872788e-03, -1.72311701e-02, ...,\n",
       "            2.50555370e-02,  4.13748156e-03, -8.17700010e-03],\n",
       "          ...,\n",
       "          [ 8.35014333e-04,  9.96821001e-03,  1.41458698e-02, ...,\n",
       "           -3.03534488e-03,  1.98059864e-02,  9.88883711e-03],\n",
       "          [ 1.11621525e-02,  2.25620959e-02,  1.06430277e-02, ...,\n",
       "           -9.08283459e-04, -9.44484398e-03,  7.97283091e-03],\n",
       "          [ 2.26893071e-02, -1.29527505e-02, -1.17110414e-02, ...,\n",
       "            2.35177130e-02,  4.47860966e-03, -3.76456324e-03]],\n",
       " \n",
       "         [[-7.70770619e-03,  1.05090672e-02,  1.78494006e-02, ...,\n",
       "           -1.94288176e-02,  5.23445080e-04, -8.16043373e-03],\n",
       "          [ 2.41174605e-02, -7.10131694e-03,  7.65320030e-04, ...,\n",
       "            2.47780103e-02,  1.27860932e-02,  1.90523639e-02],\n",
       "          [-2.10624170e-02,  1.74159873e-02,  4.06414783e-03, ...,\n",
       "           -1.03308400e-02, -9.55611095e-03,  5.49965817e-03],\n",
       "          ...,\n",
       "          [ 1.65465996e-02, -3.59104085e-03,  1.25313904e-02, ...,\n",
       "           -1.96460485e-02,  1.92775708e-02,  1.88268200e-02],\n",
       "          [ 1.26309721e-02,  5.69007301e-04, -1.32590309e-02, ...,\n",
       "           -1.34375254e-02,  1.87418405e-02,  2.03013793e-03],\n",
       "          [-8.02507252e-03, -1.19806267e-02, -2.04814989e-02, ...,\n",
       "           -3.12857213e-03, -6.71472913e-03, -7.55839003e-03]]],\n",
       " \n",
       " \n",
       "        [[[-2.62300484e-03, -2.46743932e-02,  4.93415492e-03, ...,\n",
       "            1.85909495e-02,  3.59142735e-03, -1.47612561e-02],\n",
       "          [ 1.95933431e-02,  1.34041824e-04, -3.35623743e-03, ...,\n",
       "            1.24057345e-02, -1.60000063e-02, -1.07224267e-02],\n",
       "          [-1.36644896e-02,  3.64704290e-03,  1.72710679e-02, ...,\n",
       "           -6.49504038e-03, -4.14272584e-03,  7.70998793e-03],\n",
       "          ...,\n",
       "          [-1.80989858e-02,  6.78599579e-04,  2.37675719e-02, ...,\n",
       "            1.79572739e-02, -4.84918384e-03, -4.40801261e-03],\n",
       "          [-1.93329509e-02,  4.88928286e-03,  2.47879047e-03, ...,\n",
       "            8.03981442e-03, -2.32058708e-02,  5.47886547e-03],\n",
       "          [ 1.70093658e-03, -2.14927923e-02, -1.43094966e-02, ...,\n",
       "           -9.84515902e-03,  5.45493886e-03, -2.44421331e-04]],\n",
       " \n",
       "         [[ 3.37568368e-03,  2.34758519e-02, -1.72799509e-02, ...,\n",
       "           -1.88223720e-02,  6.84005301e-03, -6.25646301e-03],\n",
       "          [ 1.64549090e-02, -5.84857166e-03,  8.45300406e-03, ...,\n",
       "            2.27465015e-02, -1.68383084e-02, -1.58309215e-03],\n",
       "          [ 1.97272543e-02,  1.79262981e-02, -1.11671947e-02, ...,\n",
       "            5.06036085e-05, -2.40686033e-02,  2.06789467e-02],\n",
       "          ...,\n",
       "          [-1.01939868e-02, -4.62034158e-03, -6.52872305e-03, ...,\n",
       "            1.67278536e-02, -1.58814564e-02, -1.65913142e-02],\n",
       "          [ 8.49093590e-03, -2.26802900e-02, -2.45316606e-02, ...,\n",
       "           -4.79459250e-03, -1.58890169e-02, -1.85314810e-03],\n",
       "          [-1.91809144e-02, -1.44646578e-02, -2.62912642e-03, ...,\n",
       "            2.75630411e-03,  2.42815800e-02,  1.99427549e-02]],\n",
       " \n",
       "         [[-1.78769734e-02, -1.72953382e-02,  2.41922196e-02, ...,\n",
       "            6.76959613e-03, -1.61165390e-02, -1.08909104e-02],\n",
       "          [ 2.39255726e-02, -8.90605710e-03,  2.28284579e-02, ...,\n",
       "           -1.07714171e-02,  2.04956569e-02, -1.64148901e-02],\n",
       "          [-1.46895666e-02, -1.73537049e-03,  1.18070729e-02, ...,\n",
       "           -1.97532377e-03, -2.02418119e-02,  1.50255831e-02],\n",
       "          ...,\n",
       "          [ 2.21777968e-02, -2.03229524e-02,  3.09133297e-03, ...,\n",
       "           -2.41638236e-02, -1.99156776e-02, -2.41304990e-02],\n",
       "          [-2.34500524e-02,  2.04184800e-02, -1.13661224e-02, ...,\n",
       "            2.03681830e-02,  8.04815348e-03,  6.11628359e-03],\n",
       "          [ 2.53642835e-02, -1.51359783e-02, -2.21232641e-02, ...,\n",
       "           -1.21269859e-02, -3.36554553e-03,  1.34788305e-02]]]],\n",
       "       dtype=float32)>,\n",
       " <tf.Variable 'block4_conv2/bias:0' shape=(512,) dtype=float32, numpy=\n",
       " array([-4.04086823e-05, -7.74513865e-06, -6.00244493e-05,  8.51683726e-05,\n",
       "         8.88789771e-04, -2.99395964e-04,  2.87377770e-06, -1.24853500e-07,\n",
       "        -3.54070835e-06,  6.64989755e-04,  4.65845042e-05,  6.45671389e-06,\n",
       "         1.79096514e-05,  1.00317644e-03,  7.16225244e-04,  9.55159485e-04,\n",
       "         2.43488330e-06,  4.16242692e-05,  7.22202763e-04, -1.34827409e-04,\n",
       "         4.90888197e-04,  1.92984677e-04, -2.11872277e-04,  1.56027647e-06,\n",
       "         1.36289782e-05,  1.26399857e-04, -5.90563541e-05,  1.92633248e-04,\n",
       "        -1.07003893e-06,  3.58384459e-05,  4.40806034e-05,  1.16360129e-03,\n",
       "        -9.95157679e-05, -1.94835840e-04,  3.80543963e-04,  8.88098904e-04,\n",
       "         4.83684387e-04,  5.02976240e-04,  1.11745467e-05, -1.90391675e-05,\n",
       "        -1.26017563e-04,  2.51636322e-07,  1.14427370e-04,  4.56198104e-05,\n",
       "         2.13695777e-04,  3.86465661e-04,  7.17876945e-04, -1.28261718e-05,\n",
       "         5.45016701e-06, -3.62693354e-05, -1.42451836e-05,  7.36167494e-05,\n",
       "         1.09932118e-03,  2.06104873e-04,  1.48010347e-03, -5.68708856e-07,\n",
       "        -1.17549707e-05,  6.00533058e-05,  3.99327750e-04, -1.23901543e-07,\n",
       "        -1.23009726e-04,  6.04729139e-05,  3.03977664e-04,  3.47152709e-05,\n",
       "        -1.87466194e-05,  1.90802559e-04,  2.80155073e-04,  4.50076564e-04,\n",
       "         4.12316003e-05,  6.59981684e-04,  6.43855747e-05,  4.50762570e-07,\n",
       "        -1.01495971e-04,  3.91025242e-04, -1.32550804e-05,  8.28964694e-05,\n",
       "         1.57343427e-04,  4.37161012e-04,  1.91059662e-05, -5.64765069e-05,\n",
       "        -1.21729769e-04,  3.06430855e-04,  2.71486031e-04, -2.02254341e-07,\n",
       "         1.57479895e-04, -7.84308304e-06,  6.89281267e-04,  2.19483933e-04,\n",
       "         5.67551120e-04,  2.89229065e-05, -8.45496800e-07,  3.22516396e-04,\n",
       "         9.77526070e-05, -1.21487965e-05,  3.35638970e-06, -7.16667128e-05,\n",
       "         1.81253534e-04, -3.69037252e-06,  2.56775034e-04, -9.92064161e-05,\n",
       "        -1.86751240e-05,  2.05237411e-05,  2.41503047e-04, -3.83436040e-04,\n",
       "         1.82748772e-04, -4.98604550e-06, -3.13935656e-04,  7.30606625e-05,\n",
       "        -4.41947668e-06, -2.15024966e-06, -2.83976817e-07,  4.42364726e-05,\n",
       "        -4.22481935e-05,  1.01958110e-04, -1.06407708e-04,  8.29609708e-05,\n",
       "        -1.64380544e-04,  8.06369717e-05,  9.18897513e-07, -1.15299626e-05,\n",
       "         6.77125005e-04,  5.16322209e-04, -4.41133685e-04,  2.44398307e-05,\n",
       "        -1.64175508e-04, -4.39657364e-04, -2.02071707e-04,  6.04249253e-05,\n",
       "        -5.81886206e-06,  3.90020869e-05,  1.21959555e-03,  8.18312576e-04,\n",
       "        -4.24922560e-04,  2.81435146e-04,  3.00878106e-04, -1.24358235e-06,\n",
       "        -4.09118715e-04, -2.65571638e-04,  2.93018347e-05,  2.41789952e-04,\n",
       "        -5.86319902e-06,  4.28969457e-07, -6.53503288e-04,  2.22719988e-04,\n",
       "        -1.00772886e-05, -3.39534781e-05,  7.57504095e-05, -2.46630341e-04,\n",
       "        -1.48448464e-06, -9.20143157e-06, -2.62389396e-04,  3.50712653e-04,\n",
       "        -1.02892496e-04,  5.04086667e-04, -9.66042717e-06, -1.09832814e-04,\n",
       "        -7.37678374e-06,  2.32753475e-04,  1.95694010e-04,  1.07359816e-03,\n",
       "        -8.76720151e-07,  6.67990171e-05, -2.62692134e-04, -1.15922721e-05,\n",
       "        -1.85209342e-06,  3.33973294e-04, -1.09169732e-05, -3.27220623e-05,\n",
       "        -1.68641083e-04, -7.83924634e-07,  1.55044854e-05, -1.38666685e-04,\n",
       "         4.99297421e-05, -2.18540270e-04,  1.84179022e-04,  1.37364477e-04,\n",
       "        -1.56625254e-06,  9.30760580e-04, -5.08103549e-05, -1.53324479e-04,\n",
       "        -1.38595016e-04, -1.30972879e-07, -2.90598337e-07, -3.97325755e-04,\n",
       "        -5.46856500e-05, -5.69722208e-04, -1.85977595e-04, -2.72865273e-05,\n",
       "         9.74023078e-06, -1.74991123e-06,  1.69633196e-07,  2.27960336e-05,\n",
       "         7.27491170e-06,  6.97046999e-05,  1.94414548e-04,  1.09290158e-04,\n",
       "         7.69037055e-04,  1.37505442e-04,  1.10736812e-06,  1.68479673e-04,\n",
       "         3.49938236e-05, -1.28980082e-05, -5.76872444e-05,  1.96403154e-04,\n",
       "        -8.98678612e-04, -7.77865498e-05,  5.17786946e-04, -1.73604421e-04,\n",
       "        -6.41520382e-05,  9.89828459e-06,  3.03779700e-07,  1.32772527e-07,\n",
       "         3.09621420e-04, -1.08666172e-04,  5.33275423e-04, -3.32377444e-04,\n",
       "         2.20835727e-06,  2.81223794e-04,  2.53877079e-04, -2.13973526e-05,\n",
       "         2.58809414e-05, -1.07075022e-04,  6.79624063e-05,  1.03337516e-04,\n",
       "         4.60930751e-05, -6.78196375e-05, -1.11588342e-04,  2.33201192e-07,\n",
       "         1.67479611e-05,  8.13547013e-05,  6.48545101e-04,  1.07886241e-04,\n",
       "         3.65374523e-04,  3.68963988e-08,  4.00649296e-04, -2.07328820e-04,\n",
       "        -2.11720893e-04, -1.48001898e-04, -6.10569550e-05,  4.78695612e-04,\n",
       "        -2.81867342e-05,  4.29314823e-04,  7.94059015e-04,  1.18063654e-05,\n",
       "         2.46572454e-04,  6.76398704e-05, -2.37874454e-04,  1.10209103e-05,\n",
       "        -4.21598088e-06,  5.47836593e-04,  2.82509049e-04, -1.25922510e-04,\n",
       "        -2.45017553e-04,  4.01032821e-06,  2.22370290e-05, -1.07896340e-05,\n",
       "         2.88534298e-04,  2.23253301e-04,  6.91907917e-06, -3.52830510e-04,\n",
       "        -4.84287921e-05, -2.98571482e-04,  1.43341722e-05, -9.39250385e-05,\n",
       "        -2.24573931e-04,  4.42115706e-04,  7.80083337e-06,  3.47862195e-04,\n",
       "        -1.22218669e-04,  7.00781238e-04,  1.22122467e-04, -1.05507497e-04,\n",
       "        -1.14644554e-05, -1.21590339e-04,  1.74817353e-04, -9.96089730e-05,\n",
       "        -3.45579138e-05, -9.06382920e-05, -2.12148677e-07, -1.41010396e-05,\n",
       "        -1.02129625e-03,  1.81363532e-04, -2.39108358e-05,  1.66029224e-06,\n",
       "        -2.72563120e-05,  4.61675299e-05,  1.37598749e-04,  5.73414654e-05,\n",
       "        -6.73797185e-05,  9.84746384e-06,  4.05906285e-05, -3.11375392e-04,\n",
       "         2.19197274e-04, -1.23271306e-07,  1.15266026e-04,  4.46870545e-05,\n",
       "         9.08268266e-04,  2.97859282e-04, -1.26145969e-05,  3.22616834e-05,\n",
       "        -6.23842876e-04,  5.75749553e-04,  3.29440154e-05,  7.73134070e-06,\n",
       "        -8.58992098e-06,  3.00159620e-04, -6.31647345e-05,  3.49030270e-05,\n",
       "        -6.45319669e-05, -1.58307612e-05,  1.20694473e-04, -6.28327980e-05,\n",
       "         1.09126006e-06,  1.50111868e-04,  5.34344406e-04, -3.60990205e-04,\n",
       "         3.96027303e-07,  2.13523472e-05,  4.19520395e-04,  9.02121974e-05,\n",
       "         3.33862496e-04, -8.98319627e-07,  6.19506609e-05,  1.47390558e-04,\n",
       "         6.22122607e-05, -2.16648388e-09,  2.22908857e-04,  5.85401431e-04,\n",
       "         4.03196958e-04, -3.70215748e-05,  4.56662558e-04,  4.20013122e-04,\n",
       "        -3.57235558e-06, -2.20000089e-04, -1.38698433e-05, -5.30905527e-05,\n",
       "         5.53023012e-04,  1.23740108e-07, -3.84104569e-05,  2.49560653e-05,\n",
       "         3.73964540e-05,  9.63795173e-04,  2.86253254e-07,  7.39517738e-04,\n",
       "         6.87452033e-04,  5.89567571e-06,  3.82646977e-05,  6.95125316e-04,\n",
       "         4.20125143e-04,  1.87475089e-04,  1.05231038e-05,  1.19125893e-04,\n",
       "         1.26483610e-06,  6.92086587e-06,  2.96716607e-04,  5.13612933e-04,\n",
       "         7.51745611e-05, -2.45812727e-04, -4.45282873e-04, -1.09112116e-04,\n",
       "         3.59429716e-04,  7.97063054e-04,  8.78938295e-07,  4.57650516e-04,\n",
       "         2.81705288e-04,  4.05837112e-04,  5.02477633e-04,  1.02570468e-07,\n",
       "         2.88230410e-07,  4.76687710e-04,  8.35702110e-07, -1.04364972e-06,\n",
       "        -2.74129503e-04,  2.03764168e-04, -9.21068277e-05, -8.13897714e-05,\n",
       "         7.62526062e-04,  3.98511329e-04,  2.56225303e-05,  6.84790029e-06,\n",
       "         1.85098048e-04,  2.88839859e-04,  7.84349031e-05, -4.75975685e-05,\n",
       "        -4.03717286e-06,  1.25822541e-03, -3.90386907e-04,  1.23323131e-04,\n",
       "         1.73556837e-05, -8.53143574e-05, -3.03054844e-06, -2.33082828e-04,\n",
       "         6.05404726e-04, -6.58018980e-04,  1.56839465e-04, -3.23475324e-05,\n",
       "         2.56358500e-04, -4.47607163e-05, -5.14362822e-04, -5.43139584e-04,\n",
       "         3.45386957e-06, -6.78377284e-04,  1.09340704e-06,  6.30882801e-04,\n",
       "         4.61208310e-06,  3.32444499e-04,  4.05112514e-05, -4.15961171e-04,\n",
       "         5.03721472e-04, -6.55994736e-05, -1.48098712e-04, -3.25979636e-06,\n",
       "        -7.08347306e-06,  1.07007530e-04,  1.28545187e-04,  6.41150973e-06,\n",
       "         7.08493099e-05, -4.30868618e-04, -4.34004105e-05, -1.19411368e-06,\n",
       "        -8.65764923e-06, -1.16360320e-06,  4.24789672e-04,  2.51006422e-05,\n",
       "         6.11301730e-05,  1.67031802e-04,  3.45137560e-05,  3.73700197e-04,\n",
       "         2.59867156e-05,  1.12994812e-05, -1.21719713e-04,  1.73583874e-04,\n",
       "         1.75806810e-04,  4.45482874e-04,  3.62425897e-04, -1.84174096e-05,\n",
       "         1.69376406e-04,  8.61909881e-04, -1.75871646e-05,  5.51395176e-04,\n",
       "        -3.24991241e-04, -4.14851784e-05,  1.01512851e-04, -4.27328160e-07,\n",
       "         3.49759903e-05, -2.87193980e-04,  3.44588916e-04, -1.43989027e-07,\n",
       "         3.84884152e-06,  1.58996219e-04,  1.41344659e-04,  9.22579056e-06,\n",
       "        -8.09965150e-06, -6.87835782e-05, -5.90219533e-05,  1.49919957e-04,\n",
       "         1.26916944e-04, -4.91940627e-05, -3.20877007e-04, -2.01357889e-05,\n",
       "         2.96591315e-04,  6.85512729e-04, -2.47516378e-04,  1.03471335e-03,\n",
       "        -1.04667437e-04,  1.04287457e-04, -5.13142382e-04,  4.85555972e-07,\n",
       "        -2.33555747e-05,  5.52318897e-06,  6.60492442e-05, -1.35544047e-04,\n",
       "         1.27733758e-04, -5.72596182e-05,  5.27071708e-04, -9.74124196e-05,\n",
       "        -3.10263888e-04,  6.91689347e-05,  5.61836932e-04,  1.03954582e-04,\n",
       "         2.43476643e-05,  1.47512299e-06,  8.10848178e-06,  6.15573372e-05,\n",
       "         2.82228320e-05,  9.23428433e-06,  1.54784910e-04,  1.84819626e-04,\n",
       "        -1.85533190e-05,  8.00911857e-06, -5.28737000e-05,  1.03998922e-04,\n",
       "         1.05449573e-04,  1.49731466e-04,  2.25180731e-04,  2.15550315e-07,\n",
       "        -4.03475024e-05,  1.85895548e-08,  1.25501351e-03, -3.57026547e-05,\n",
       "         6.20850551e-05,  3.18105704e-05, -3.57425830e-04, -5.83988731e-06,\n",
       "        -5.71664532e-06, -3.88347908e-05, -4.31755732e-04,  5.47190984e-06,\n",
       "         1.81622482e-07, -3.35243385e-04,  3.40350125e-05, -8.25606257e-05],\n",
       "       dtype=float32)>,\n",
       " <tf.Variable 'block4_conv3/kernel:0' shape=(3, 3, 512, 512) dtype=float32, numpy=\n",
       " array([[[[ 0.01241842,  0.00380523,  0.01244807, ...,  0.01369836,\n",
       "           -0.02483936,  0.0016161 ],\n",
       "          [-0.00985115,  0.0184183 ,  0.00963476, ...,  0.01845138,\n",
       "            0.01895721,  0.00281454],\n",
       "          [-0.01567789,  0.01562071,  0.01343284, ...,  0.02182888,\n",
       "            0.01260245, -0.01103064],\n",
       "          ...,\n",
       "          [-0.02104261,  0.01584524, -0.02401488, ...,  0.00674422,\n",
       "            0.01051121, -0.00741737],\n",
       "          [ 0.00396117, -0.02365463, -0.01090368, ..., -0.02533229,\n",
       "           -0.01837428, -0.01510489],\n",
       "          [ 0.01936904, -0.00629927,  0.01669004, ..., -0.02286928,\n",
       "            0.00976629,  0.02230335]],\n",
       " \n",
       "         [[-0.00252856,  0.00498053, -0.00172632, ..., -0.00907573,\n",
       "           -0.02504175, -0.00365798],\n",
       "          [ 0.00217855,  0.01863077, -0.02482018, ...,  0.00488056,\n",
       "            0.02106779,  0.01729088],\n",
       "          [ 0.02319011, -0.01484325,  0.00261936, ..., -0.00402876,\n",
       "            0.01411314, -0.00292167],\n",
       "          ...,\n",
       "          [-0.01283484,  0.02458517, -0.01426589, ...,  0.00882425,\n",
       "           -0.00764017, -0.00450609],\n",
       "          [ 0.01930171,  0.02466249, -0.01234196, ...,  0.01461681,\n",
       "            0.02345087,  0.0004141 ],\n",
       "          [ 0.00545127, -0.02226684,  0.00425209, ...,  0.00305499,\n",
       "           -0.01258502, -0.00476045]],\n",
       " \n",
       "         [[ 0.018314  , -0.02344263, -0.01876548, ...,  0.02429141,\n",
       "            0.01779283,  0.00583404],\n",
       "          [ 0.00734367,  0.00356936, -0.01275474, ..., -0.00310592,\n",
       "           -0.00016846,  0.01205657],\n",
       "          [ 0.01058872, -0.0152162 ,  0.00995521, ..., -0.02145744,\n",
       "            0.01847462,  0.02119662],\n",
       "          ...,\n",
       "          [ 0.00754205, -0.01006845,  0.01844698, ..., -0.01195471,\n",
       "            0.01825769, -0.01792873],\n",
       "          [-0.02162788,  0.00704497, -0.0253992 , ...,  0.00281523,\n",
       "            0.02081904, -0.00817056],\n",
       "          [-0.00320474,  0.01907943, -0.01410857, ..., -0.00453096,\n",
       "            0.01600926, -0.00637322]]],\n",
       " \n",
       " \n",
       "        [[[-0.02514818, -0.00193342,  0.00532418, ...,  0.00975344,\n",
       "            0.01629385, -0.01521946],\n",
       "          [-0.01133084, -0.01294466, -0.0054182 , ..., -0.0188887 ,\n",
       "            0.02258686,  0.00873858],\n",
       "          [ 0.01372759,  0.02370721, -0.01744144, ..., -0.02074652,\n",
       "            0.02293796,  0.0127297 ],\n",
       "          ...,\n",
       "          [-0.01595211, -0.00473472,  0.0063272 , ...,  0.01172433,\n",
       "            0.0211524 ,  0.00612168],\n",
       "          [ 0.00818314,  0.01283606, -0.02509335, ..., -0.00881805,\n",
       "            0.01393601,  0.0139666 ],\n",
       "          [-0.00827177,  0.0217142 , -0.02031275, ..., -0.01486065,\n",
       "           -0.00669695,  0.00382235]],\n",
       " \n",
       "         [[-0.00554054, -0.01321123, -0.00932155, ...,  0.02229794,\n",
       "            0.00274502,  0.01076587],\n",
       "          [-0.0064419 ,  0.00606285, -0.00116321, ...,  0.00775065,\n",
       "           -0.00236134,  0.00624716],\n",
       "          [ 0.00604242,  0.01770402, -0.01057368, ..., -0.00361278,\n",
       "           -0.00920491, -0.01559712],\n",
       "          ...,\n",
       "          [ 0.00053657,  0.00422769, -0.01717314, ..., -0.00148196,\n",
       "            0.02152219,  0.00331573],\n",
       "          [ 0.01235351, -0.00816919,  0.02377768, ..., -0.00025139,\n",
       "           -0.02148499, -0.02205187],\n",
       "          [ 0.02197962,  0.01157131, -0.00733797, ...,  0.02474252,\n",
       "            0.0094518 , -0.01754171]],\n",
       " \n",
       "         [[-0.00069355, -0.02521145,  0.00985356, ...,  0.01011505,\n",
       "            0.00519877, -0.00971557],\n",
       "          [-0.015034  , -0.00096772, -0.01709516, ...,  0.02537773,\n",
       "           -0.02483574,  0.00161069],\n",
       "          [ 0.00318326, -0.00176259, -0.00941958, ..., -0.01416672,\n",
       "           -0.00208762,  0.01727507],\n",
       "          ...,\n",
       "          [-0.01456676,  0.01981625,  0.00322417, ...,  0.01928421,\n",
       "            0.02487275, -0.0023895 ],\n",
       "          [ 0.00669927,  0.00876845,  0.00077042, ..., -0.0187633 ,\n",
       "            0.01596437, -0.01181383],\n",
       "          [-0.00911392, -0.00520812,  0.02120836, ...,  0.00440908,\n",
       "           -0.02447887, -0.00610802]]],\n",
       " \n",
       " \n",
       "        [[[ 0.00971422, -0.01590807, -0.00902494, ...,  0.00302118,\n",
       "           -0.01128683,  0.00382002],\n",
       "          [ 0.00659871, -0.02051806,  0.00481264, ...,  0.02024208,\n",
       "            0.0192828 ,  0.00355442],\n",
       "          [ 0.01024544, -0.00477026,  0.01882869, ..., -0.00238884,\n",
       "           -0.02401439, -0.02212209],\n",
       "          ...,\n",
       "          [-0.01001593, -0.02008468,  0.01588581, ..., -0.01286895,\n",
       "            0.02409832, -0.01801829],\n",
       "          [ 0.01478734,  0.02037213,  0.00577808, ...,  0.01347418,\n",
       "            0.00588417,  0.01911224],\n",
       "          [ 0.00251873,  0.00247169, -0.01860882, ..., -0.02398515,\n",
       "           -0.0240065 , -0.01077277]],\n",
       " \n",
       "         [[-0.01774302, -0.02471657, -0.00039939, ...,  0.01021405,\n",
       "            0.00336361,  0.00339538],\n",
       "          [-0.00892822,  0.00498636,  0.01152785, ..., -0.01175756,\n",
       "            0.01348279, -0.00729774],\n",
       "          [-0.01556937,  0.00487918,  0.00634546, ...,  0.00915877,\n",
       "            0.01035601,  0.01564753],\n",
       "          ...,\n",
       "          [ 0.00816831, -0.01408645,  0.00999429, ..., -0.00698093,\n",
       "            0.00135861, -0.01428749],\n",
       "          [-0.01758213, -0.01478614,  0.00011768, ...,  0.00081279,\n",
       "           -0.01057924, -0.0061868 ],\n",
       "          [-0.02138921, -0.01042817,  0.00239999, ..., -0.0200941 ,\n",
       "           -0.00659297,  0.01272528]],\n",
       " \n",
       "         [[ 0.01327558,  0.00147717, -0.00324781, ...,  0.02164757,\n",
       "            0.01121907, -0.00618924],\n",
       "          [-0.01984504,  0.01662   ,  0.00697286, ...,  0.01443772,\n",
       "            0.02325166,  0.00920398],\n",
       "          [-0.00459101,  0.01572355,  0.01583418, ..., -0.00934021,\n",
       "            0.00889772,  0.01243632],\n",
       "          ...,\n",
       "          [-0.01566116, -0.0081021 ,  0.01823255, ..., -0.02542189,\n",
       "            0.01790085, -0.01021662],\n",
       "          [-0.02114189,  0.00058162,  0.0139102 , ..., -0.01176586,\n",
       "            0.01842293,  0.01677475],\n",
       "          [-0.01675528, -0.00035513,  0.00654707, ..., -0.00482589,\n",
       "           -0.01764072, -0.01144981]]]], dtype=float32)>,\n",
       " <tf.Variable 'block4_conv3/bias:0' shape=(512,) dtype=float32, numpy=\n",
       " array([ 9.01908497e-04,  4.74197662e-07,  1.00509683e-03, -3.93080816e-04,\n",
       "         4.49971412e-05, -3.51790863e-04, -6.37361954e-04,  4.49957624e-05,\n",
       "        -2.54513143e-04,  2.87400544e-05,  9.88810905e-04, -1.12814705e-04,\n",
       "        -1.17716463e-05,  7.29902822e-04,  7.88600068e-04,  2.42871033e-06,\n",
       "         4.97804722e-04, -2.30604608e-04, -2.38405584e-04,  4.94252949e-04,\n",
       "        -1.17280451e-05, -2.24906744e-05,  4.33994224e-04, -5.45995368e-04,\n",
       "        -7.06666060e-06,  4.48955652e-05, -5.46485280e-05,  2.21717361e-04,\n",
       "         1.02689921e-06,  3.19233222e-04, -1.00203470e-05,  2.02925821e-05,\n",
       "         1.72013242e-04,  2.70357486e-05,  4.14847891e-05,  1.74895060e-04,\n",
       "        -1.06219923e-05,  6.79046731e-04, -8.91678042e-07,  8.18133587e-04,\n",
       "        -1.98860726e-04,  1.53400877e-04, -1.12140307e-03,  5.80661617e-05,\n",
       "         5.92722732e-04,  4.12412774e-04, -3.66027525e-05,  7.31297536e-04,\n",
       "         7.47145095e-04,  1.93263913e-05, -3.06839764e-04, -4.93791769e-04,\n",
       "        -1.89490074e-05,  3.64700014e-07,  1.04921983e-05,  3.58668694e-05,\n",
       "        -5.39823144e-04,  3.27178277e-05, -7.01633471e-05,  7.62546551e-06,\n",
       "         1.33511901e-04, -5.45736519e-04,  4.60383767e-08,  1.12215457e-05,\n",
       "         3.86230560e-04,  2.06412387e-05, -9.20735474e-05, -9.05366207e-04,\n",
       "         1.85752040e-04,  3.55376222e-04, -1.45622747e-04, -1.48989362e-04,\n",
       "         8.03117416e-07,  3.61808372e-04,  1.55730493e-04,  4.47583479e-05,\n",
       "        -4.93115978e-04, -4.97671590e-06,  1.12279136e-04, -1.67217644e-04,\n",
       "        -6.43201638e-04, -1.98810885e-04, -9.15498313e-05,  2.12608691e-04,\n",
       "        -5.41908184e-06,  2.46957025e-05, -2.38713765e-04,  8.23939452e-04,\n",
       "        -2.15101536e-05, -7.02355392e-05, -4.81901458e-04,  4.47304308e-04,\n",
       "         1.82013810e-05,  4.98581852e-04,  8.70792792e-06, -5.12122933e-05,\n",
       "         2.05691438e-04, -6.83477481e-07,  1.87446873e-04,  7.75115841e-05,\n",
       "         4.46768739e-04,  5.84042340e-04,  4.09924223e-06,  1.05890576e-04,\n",
       "         9.83060570e-04,  1.07574766e-03,  2.93939422e-07,  1.55056819e-06,\n",
       "        -6.53262076e-04,  6.06649963e-04, -5.45384712e-04, -1.16384103e-06,\n",
       "        -1.89137019e-04,  8.44828028e-04,  6.34550233e-04,  1.51247019e-04,\n",
       "         5.94943180e-04,  5.21651004e-04,  2.95945792e-04,  1.74632332e-05,\n",
       "         2.71679106e-04, -2.89182790e-05,  4.11904388e-04,  2.83562287e-04,\n",
       "         4.82138159e-04,  5.20361937e-05, -5.87678980e-04, -1.37493800e-04,\n",
       "         4.79006878e-04,  8.72662233e-04,  8.12681246e-05, -1.64407189e-04,\n",
       "        -4.51094325e-04,  6.28081625e-06,  4.44881298e-04,  4.58665745e-05,\n",
       "         3.25592680e-07, -4.23143792e-05, -2.67290889e-04, -1.57075527e-04,\n",
       "        -5.15538377e-05,  3.99472861e-04, -1.38464447e-05, -4.31363005e-05,\n",
       "        -6.90892339e-04, -2.25036274e-04, -8.29269193e-05,  6.07390830e-04,\n",
       "         3.05236637e-04,  4.77683818e-04,  1.27058229e-06,  2.39878318e-05,\n",
       "        -2.51087244e-04,  5.44297625e-04,  2.02449064e-06,  7.90005724e-04,\n",
       "        -1.71796593e-04,  6.06528483e-04,  1.13731029e-03, -4.09290988e-06,\n",
       "        -2.65378349e-05,  4.34946560e-04, -1.73872809e-06,  1.34019443e-04,\n",
       "         4.68434766e-04,  1.35446040e-04,  1.41148530e-05, -6.64720937e-05,\n",
       "         3.31507636e-06,  1.57098650e-04,  5.39939327e-04,  5.07377263e-04,\n",
       "        -2.18644229e-04,  6.83199032e-05, -1.15734569e-04,  1.20490491e-04,\n",
       "         5.48726297e-04,  2.59671418e-04,  6.59322541e-06,  1.13218382e-03,\n",
       "         1.67296064e-04,  4.00789868e-04, -3.54533877e-05,  6.38389902e-04,\n",
       "         7.43343776e-07, -6.86513551e-04,  1.97217902e-04,  2.69433531e-05,\n",
       "         2.53301318e-04,  8.68659990e-05,  6.05350760e-06,  1.20784016e-03,\n",
       "        -4.04887163e-04,  4.66954865e-04,  8.84542023e-05,  2.56003877e-05,\n",
       "        -1.00557278e-04, -1.32977992e-04, -8.10898055e-05,  9.84876882e-04,\n",
       "         1.59262141e-04, -3.59423302e-06,  9.30438167e-04,  8.76506892e-05,\n",
       "         3.36777448e-05,  5.67083916e-05, -7.64143533e-06, -7.62025738e-05,\n",
       "         1.00584014e-03,  8.96938673e-06, -5.90405671e-06, -1.20748948e-04,\n",
       "        -2.42030183e-06,  1.30264147e-03,  6.63302490e-04, -7.61001604e-04,\n",
       "         1.61124917e-05,  4.16709401e-04, -3.24909488e-04,  1.06189045e-05,\n",
       "        -2.38711611e-04, -7.35416485e-04, -1.50696942e-04,  1.00303872e-03,\n",
       "         7.01184661e-07,  5.19088237e-04,  1.13489987e-04, -4.40792064e-04,\n",
       "        -2.45839910e-04,  2.54468032e-05, -1.88123871e-04,  4.79109549e-05,\n",
       "        -2.02805240e-04, -2.86999948e-05,  5.10033860e-04,  9.11438954e-04,\n",
       "         4.39542200e-05, -5.84366333e-08,  1.24374754e-04,  1.29688109e-04,\n",
       "         1.84327496e-06, -9.42004262e-05, -1.40819204e-04,  4.36087612e-05,\n",
       "        -3.42125975e-04,  1.20064222e-04,  1.89188845e-03, -3.18507577e-04,\n",
       "        -8.06697017e-07, -7.35716661e-04,  2.80705244e-05,  4.53071290e-04,\n",
       "        -3.36332073e-06, -4.97388055e-06, -1.35534708e-06, -2.67810217e-04,\n",
       "        -2.05147680e-05, -9.75335752e-06, -5.23169467e-04,  9.56033706e-04,\n",
       "        -3.91831345e-05,  1.67725681e-04, -2.55713210e-04,  8.20682908e-04,\n",
       "         5.67820052e-06, -5.34458486e-05, -2.03027594e-06,  5.00863942e-04,\n",
       "        -4.58790091e-05,  3.01098975e-04,  1.35708933e-05,  2.45726464e-04,\n",
       "         1.56466504e-05,  2.19588910e-04, -8.21199283e-05,  3.94113478e-04,\n",
       "        -8.10676429e-05, -4.78472466e-05, -1.17393512e-07, -1.12500704e-04,\n",
       "         4.58539638e-04,  6.98208227e-04,  6.33598302e-06,  6.53474999e-05,\n",
       "        -2.33894042e-07,  1.10125903e-03, -5.14989224e-05,  3.32038726e-05,\n",
       "        -2.04319716e-04,  3.50535556e-04,  1.04079860e-04,  6.34647033e-04,\n",
       "         1.96905312e-05, -2.69046694e-04,  9.34642623e-04, -3.10471980e-04,\n",
       "        -4.12439898e-04,  5.59422304e-04,  9.41789243e-04,  3.96616784e-08,\n",
       "         4.32084431e-04, -5.98894258e-04,  2.07540332e-04, -3.87211621e-05,\n",
       "         6.13660959e-04, -3.14325705e-04,  5.42728056e-04,  5.34379797e-04,\n",
       "        -1.45424783e-04,  2.47067583e-05, -4.11519111e-04,  5.87086950e-04,\n",
       "         4.14428097e-04,  9.61615569e-06,  1.09082740e-03,  2.42143833e-05,\n",
       "        -1.01138889e-04,  1.01507067e-04, -1.19229605e-06, -9.71628688e-05,\n",
       "         3.13088181e-04,  1.19085074e-03,  8.71807686e-04,  2.99373551e-06,\n",
       "        -3.90018831e-05,  5.03002724e-04,  5.13330975e-04, -8.45986942e-04,\n",
       "        -2.19025424e-05,  2.08183905e-04, -8.19963985e-04, -1.32652858e-04,\n",
       "         2.26375869e-06,  7.38326577e-04,  1.05476662e-04,  4.25055850e-06,\n",
       "         2.14915763e-05, -5.15230386e-06, -3.59656542e-06, -2.35525746e-04,\n",
       "         5.59504144e-04, -6.16581703e-04, -6.85700856e-04,  2.13923151e-04,\n",
       "         1.10203051e-04, -2.08785525e-04,  2.49036559e-04,  4.86373096e-07,\n",
       "         4.42388737e-05,  5.16001543e-04,  8.16639731e-05, -1.03569562e-06,\n",
       "         8.46454168e-06,  3.81137681e-04,  6.47438690e-04,  1.17797987e-04,\n",
       "         2.67639771e-05,  8.71695420e-07, -1.35693190e-04, -4.47791826e-05,\n",
       "         4.77602618e-04,  1.47909537e-04,  1.38262521e-06, -5.17687804e-05,\n",
       "        -1.41046221e-05, -1.58227365e-07,  2.68077070e-04,  3.90692992e-04,\n",
       "        -1.65027115e-04, -1.95959524e-06,  4.45527956e-04,  9.19845697e-05,\n",
       "        -1.21261819e-05,  1.07981548e-04, -1.29074411e-04,  9.39473452e-04,\n",
       "         3.20423496e-05,  1.79999734e-05,  6.20564679e-04,  5.68854506e-04,\n",
       "        -1.04047422e-05,  5.37287502e-04, -6.71432703e-04, -1.63881532e-06,\n",
       "        -2.82905439e-05, -1.81005034e-05, -3.66040331e-06, -2.32094637e-04,\n",
       "         1.07474232e-04,  4.26557177e-04,  9.76108247e-04,  6.14008924e-04,\n",
       "        -3.56851349e-04,  2.14406336e-05,  1.01108322e-04,  9.69225075e-04,\n",
       "        -5.82845269e-06,  6.89238193e-04,  3.73573566e-04, -5.29148267e-04,\n",
       "         1.45831075e-06,  1.60482741e-04,  6.37384255e-06,  1.88532140e-05,\n",
       "        -2.17651206e-04, -1.97598740e-04,  3.56034434e-04,  9.03705950e-05,\n",
       "         4.76731611e-06,  1.85748358e-04,  1.14844064e-03,  3.45127119e-05,\n",
       "         5.50274039e-04, -3.89976371e-08,  3.82347353e-05,  9.61019134e-04,\n",
       "         1.14554634e-04,  8.72932360e-05,  8.86852562e-04, -5.71131714e-05,\n",
       "         3.36389377e-04, -1.40153315e-06, -1.96383000e-04,  3.51478840e-04,\n",
       "         6.93098933e-04,  4.80759154e-05,  1.08492910e-04, -2.71491899e-05,\n",
       "        -2.80972654e-05, -2.09826627e-04,  2.00281240e-04, -2.47157062e-04,\n",
       "        -1.95365370e-04,  1.62497468e-04,  6.15446712e-04,  2.84488196e-04,\n",
       "         3.39789731e-05, -4.35266775e-05,  1.69001636e-04, -1.42475721e-04,\n",
       "         6.43354142e-05,  3.65195330e-04, -7.36660950e-05, -2.20195989e-06,\n",
       "        -9.70159526e-05,  4.29057662e-04,  1.53820869e-03,  4.86053643e-04,\n",
       "        -8.84748079e-05,  1.16572737e-04, -5.61922070e-06,  1.80463743e-04,\n",
       "         5.45235467e-04,  9.34334676e-05,  6.74657989e-04,  1.37147159e-04,\n",
       "         1.42483768e-04,  8.11965947e-07,  7.56127934e-04, -1.09673820e-04,\n",
       "         9.05117253e-04, -2.40195386e-05,  3.26084177e-04,  1.30834605e-03,\n",
       "        -1.03778466e-05,  1.12288364e-03,  4.84248420e-04, -2.97349587e-04,\n",
       "        -3.05114154e-05, -6.64193591e-04,  7.38625124e-04,  9.10939125e-05,\n",
       "         6.50277187e-04, -2.35835196e-05,  8.17033724e-05,  1.21788900e-04,\n",
       "        -2.23102237e-04,  9.75582007e-05, -1.39686759e-04,  6.75035408e-04,\n",
       "        -4.60124254e-04, -1.29918044e-05, -1.60420277e-05,  2.25375097e-05,\n",
       "         3.51593742e-04, -2.21420458e-04, -1.18965954e-05,  8.10878992e-05,\n",
       "         1.04349165e-03, -1.07070191e-04,  1.49093068e-03,  2.55691411e-04,\n",
       "        -2.76417646e-04, -1.81685209e-05, -7.75488786e-07,  6.40069891e-04,\n",
       "         9.38956873e-06, -4.74992936e-04, -1.04370440e-04, -2.18650806e-04,\n",
       "         4.71494452e-04,  1.54773772e-07,  2.14221709e-05,  6.11065421e-04,\n",
       "        -2.50002468e-05,  3.65706801e-05, -1.00721962e-04, -9.64233459e-06,\n",
       "         9.18213162e-04,  1.81596144e-04,  1.92247808e-05,  1.44826708e-05],\n",
       "       dtype=float32)>,\n",
       " <tf.Variable 'block5_conv1/kernel:0' shape=(3, 3, 512, 512) dtype=float32, numpy=\n",
       " array([[[[ 2.10322998e-02,  1.86230037e-02, -2.45661456e-02, ...,\n",
       "            2.53131203e-02, -7.30134826e-03,  1.11943651e-02],\n",
       "          [-7.70944729e-03,  2.14948952e-02,  2.43394636e-02, ...,\n",
       "           -1.84399523e-02, -1.03726452e-02,  1.89853199e-02],\n",
       "          [-1.72255933e-02, -2.12291270e-04, -1.82518791e-02, ...,\n",
       "           -6.51569059e-03, -7.89798424e-03,  5.91379358e-04],\n",
       "          ...,\n",
       "          [-2.53339875e-02,  1.46470582e-02, -1.23828705e-02, ...,\n",
       "            7.91586004e-03,  9.50234476e-03, -4.99841990e-05],\n",
       "          [ 1.20260185e-02, -2.20626015e-02,  2.11656131e-02, ...,\n",
       "            1.52407177e-02, -1.53552424e-02, -2.44858656e-02],\n",
       "          [-4.42713266e-03, -4.53632325e-03, -2.17662454e-02, ...,\n",
       "            5.96260652e-03,  4.36189864e-03,  1.57871656e-02]],\n",
       " \n",
       "         [[-2.06257775e-02,  8.05582758e-03, -6.43119495e-03, ...,\n",
       "            1.81658138e-02, -2.24828348e-03,  2.28705145e-02],\n",
       "          [ 1.00721382e-02, -9.47369821e-03, -2.96907499e-03, ...,\n",
       "           -9.29338112e-03, -1.39792953e-02, -2.48689968e-02],\n",
       "          [-5.33485785e-03,  2.29818970e-02, -1.90506224e-02, ...,\n",
       "           -8.77438113e-03,  6.73665246e-03, -1.48219857e-02],\n",
       "          ...,\n",
       "          [-5.33152511e-03,  6.22973405e-03, -2.40573157e-02, ...,\n",
       "           -1.57024711e-02,  3.69081972e-04, -7.30978325e-03],\n",
       "          [ 1.94839984e-02,  7.92101026e-03, -2.19015032e-02, ...,\n",
       "           -2.02279594e-02, -4.42408770e-03,  4.71633114e-03],\n",
       "          [-1.32601680e-02,  1.08890794e-02,  2.09199637e-02, ...,\n",
       "           -1.62292097e-04,  1.82164293e-02, -1.38193695e-02]],\n",
       " \n",
       "         [[-2.04280801e-02,  1.41362855e-02,  2.34896317e-02, ...,\n",
       "            4.20932705e-03, -1.97915435e-02, -4.94018430e-03],\n",
       "          [ 2.28003040e-02, -2.49062814e-02,  1.98442191e-02, ...,\n",
       "            7.56586343e-03, -1.65406875e-02, -1.99460313e-02],\n",
       "          [ 1.66391302e-02, -9.17574950e-03, -6.00237679e-03, ...,\n",
       "            1.05513623e-02,  1.02424975e-02,  2.15835497e-02],\n",
       "          ...,\n",
       "          [-1.71175767e-02, -1.60678923e-02, -2.15179827e-02, ...,\n",
       "           -2.16243248e-02,  2.46171430e-02,  2.30058674e-02],\n",
       "          [ 1.31244222e-02,  1.25335827e-02,  1.83369964e-02, ...,\n",
       "            2.48615742e-02, -2.33872626e-02, -3.23167024e-03],\n",
       "          [ 4.54275357e-03, -2.45921779e-02,  9.67764854e-03, ...,\n",
       "           -1.18756276e-02,  6.75606215e-03, -1.95018854e-02]]],\n",
       " \n",
       " \n",
       "        [[[ 7.05599925e-03,  1.39391515e-02,  1.32311240e-03, ...,\n",
       "            4.51174518e-03,  9.37730260e-03,  3.40533466e-03],\n",
       "          [-2.01253220e-03,  1.55769214e-02, -6.79445267e-03, ...,\n",
       "           -2.12671831e-02, -2.39393413e-02, -1.12238675e-02],\n",
       "          [-3.71557800e-03, -1.72306187e-02, -1.47566712e-02, ...,\n",
       "           -1.41169187e-02, -7.66842393e-03, -1.17626023e-02],\n",
       "          ...,\n",
       "          [ 2.25938614e-02,  1.82203706e-02, -3.44434590e-03, ...,\n",
       "           -1.29572334e-04, -1.02167949e-02,  9.32917185e-03],\n",
       "          [ 7.69694522e-03,  1.97802968e-02, -1.19053461e-02, ...,\n",
       "            2.36445516e-02,  1.24028390e-02, -2.76016630e-03],\n",
       "          [ 7.16936542e-03, -3.32831033e-03, -2.09741481e-02, ...,\n",
       "            1.94273256e-02,  2.19686124e-02,  2.43155248e-02]],\n",
       " \n",
       "         [[-2.24970486e-02, -1.65819228e-02,  2.25114562e-02, ...,\n",
       "            2.28271689e-02,  4.41839965e-03,  1.94137022e-02],\n",
       "          [ 1.63935013e-02,  1.69393793e-02,  1.65751614e-02, ...,\n",
       "            1.64580308e-02,  2.27971748e-02,  2.38609463e-02],\n",
       "          [-1.53777506e-02, -1.96210183e-02,  7.32737826e-03, ...,\n",
       "            1.00038983e-02,  7.45707611e-03,  2.87870900e-03],\n",
       "          ...,\n",
       "          [-9.42997076e-03, -2.46707741e-02, -9.32877045e-03, ...,\n",
       "            2.42930260e-02, -1.10582598e-02, -1.04498062e-02],\n",
       "          [ 1.76095087e-02,  1.98075697e-02,  9.92535613e-04, ...,\n",
       "           -4.13400540e-03,  1.93906948e-02, -1.21832760e-02],\n",
       "          [-6.81417435e-03, -1.15692811e-02, -2.04622000e-02, ...,\n",
       "            2.16314308e-02,  5.92947239e-03, -8.12938809e-03]],\n",
       " \n",
       "         [[-4.86520166e-03, -6.42221142e-03,  1.25449514e-02, ...,\n",
       "           -1.57595030e-03, -1.56602543e-02, -1.16560115e-02],\n",
       "          [-1.65585354e-02,  5.83815947e-03, -1.58985816e-02, ...,\n",
       "            7.62106676e-04, -1.00114206e-02, -2.03400459e-02],\n",
       "          [-8.48382898e-03, -1.91965699e-02, -1.14466408e-02, ...,\n",
       "           -1.59647595e-02,  1.32132061e-02, -5.20153344e-03],\n",
       "          ...,\n",
       "          [-2.23236233e-02, -2.43795812e-02, -2.32897494e-02, ...,\n",
       "           -8.41722824e-03, -6.02542982e-03,  1.64136440e-02],\n",
       "          [ 3.97642236e-03,  1.97595097e-02,  1.12601544e-03, ...,\n",
       "            1.55553743e-02, -8.62799305e-03,  2.24727988e-02],\n",
       "          [ 8.47502239e-03, -1.25909718e-02, -4.17187670e-03, ...,\n",
       "           -2.10079942e-02,  8.03278480e-03, -2.46103499e-02]]],\n",
       " \n",
       " \n",
       "        [[[-1.67157222e-02,  1.68604497e-02, -1.01744076e-02, ...,\n",
       "            1.58570297e-02,  2.05825660e-02, -2.22573187e-02],\n",
       "          [-1.61708072e-02, -1.39340591e-02,  1.51653588e-02, ...,\n",
       "            9.45455581e-03,  1.43404268e-02,  9.36467201e-03],\n",
       "          [ 1.20614702e-03, -5.92714222e-03,  2.15564575e-02, ...,\n",
       "           -1.35249309e-02,  1.63456649e-02,  2.23093200e-02],\n",
       "          ...,\n",
       "          [-2.03653481e-02, -8.07487592e-03,  1.80702657e-02, ...,\n",
       "           -1.22094965e-02, -5.80986636e-03, -7.31985644e-03],\n",
       "          [ 1.52239241e-02, -6.68972172e-03,  2.21404284e-02, ...,\n",
       "           -2.16537025e-02,  3.74230230e-03, -1.87717397e-02],\n",
       "          [ 1.85495466e-02,  1.94648355e-02, -1.30966464e-02, ...,\n",
       "           -7.65167293e-04,  7.44330138e-03,  2.10154057e-02]],\n",
       " \n",
       "         [[ 1.12788985e-02, -1.19704138e-02,  8.52075964e-03, ...,\n",
       "           -1.07134897e-02,  1.50340386e-02, -1.67390909e-02],\n",
       "          [-2.35351175e-03, -2.49630641e-02,  5.97469509e-03, ...,\n",
       "           -2.16198172e-02,  1.05764456e-02, -2.13949215e-02],\n",
       "          [-1.07850609e-02, -1.41839804e-02, -1.90865365e-03, ...,\n",
       "           -6.31638430e-03,  4.34663519e-03, -1.62195116e-02],\n",
       "          ...,\n",
       "          [-8.19659035e-04, -1.43083162e-03, -1.88027304e-02, ...,\n",
       "            7.18767056e-03, -2.12675147e-03, -5.88798430e-03],\n",
       "          [ 2.26776698e-03,  1.29126236e-02,  9.85488296e-03, ...,\n",
       "           -1.65985040e-02, -6.86376495e-03, -1.81027818e-02],\n",
       "          [-1.02707185e-02, -2.36026868e-02,  2.53134815e-04, ...,\n",
       "            1.85135938e-02, -7.75478035e-03, -1.58280935e-02]],\n",
       " \n",
       "         [[-1.07067348e-02,  8.30629189e-03, -1.12988940e-02, ...,\n",
       "            6.33684639e-03, -1.96620896e-02,  2.31297538e-02],\n",
       "          [-2.32714470e-02,  1.55451745e-02, -1.20717678e-02, ...,\n",
       "           -1.26121659e-02, -2.29824334e-02, -1.02338837e-02],\n",
       "          [ 1.23611726e-02, -9.00237821e-03,  4.99900943e-03, ...,\n",
       "           -7.59940362e-03, -4.40669293e-03, -4.18323185e-03],\n",
       "          ...,\n",
       "          [ 1.67572945e-02, -2.09816289e-03,  1.39467502e-02, ...,\n",
       "            2.01873779e-02,  1.75415054e-02, -1.86233968e-02],\n",
       "          [ 1.60854752e-03,  1.98825821e-02,  1.27838887e-02, ...,\n",
       "           -6.20229775e-03, -1.74703859e-02, -1.55320149e-02],\n",
       "          [-3.86358984e-03, -1.82337090e-02, -5.27202152e-03, ...,\n",
       "           -1.30748916e-02,  1.03027709e-02,  1.08955055e-03]]]],\n",
       "       dtype=float32)>,\n",
       " <tf.Variable 'block5_conv1/bias:0' shape=(512,) dtype=float32, numpy=\n",
       " array([ 1.10064793e-04, -2.68720087e-05,  1.16507130e-04, -4.75881767e-04,\n",
       "         1.14444956e-04,  8.23254348e-04,  4.77748908e-05,  1.59922591e-03,\n",
       "         1.13637163e-03, -1.21052217e-04, -2.65004463e-04,  3.20918645e-07,\n",
       "        -1.95742527e-04,  9.95352049e-04,  5.47331620e-05,  1.68406375e-04,\n",
       "         2.28250236e-03,  9.96322837e-04, -8.57968480e-05, -2.30759852e-05,\n",
       "         2.12694192e-03,  1.94451376e-03,  2.32172060e-05,  1.73634500e-03,\n",
       "        -1.66667116e-04,  1.21458829e-03,  6.90389192e-04,  7.38031886e-05,\n",
       "        -3.84504645e-04,  9.50611546e-04,  4.01106314e-04,  1.63174306e-07,\n",
       "        -3.11307260e-04,  2.45727831e-04, -5.79199521e-04, -1.01741734e-05,\n",
       "         1.13775504e-05, -5.22913353e-04, -4.70233907e-04,  9.06851317e-04,\n",
       "         6.85206731e-04,  5.71824785e-04,  3.50919913e-06,  9.82571975e-04,\n",
       "        -3.57660901e-04,  3.98581382e-04, -1.14790106e-04,  8.67532450e-04,\n",
       "        -1.19080092e-03, -2.22285278e-04,  2.83195463e-04,  4.70904866e-04,\n",
       "        -2.73659767e-04,  1.27872243e-03,  1.34209811e-03,  1.53530959e-06,\n",
       "         6.97853044e-04,  3.87806504e-04, -1.28672837e-04, -1.20433891e-04,\n",
       "        -4.70852799e-04, -6.79686607e-04,  4.62599739e-04,  7.32227563e-05,\n",
       "         1.12413301e-03, -2.36343811e-04, -1.08528275e-05, -4.23676425e-07,\n",
       "        -7.12213165e-04,  1.85557990e-03, -3.19381536e-04,  4.78440430e-04,\n",
       "        -4.80325572e-04, -2.54976862e-06,  5.11653256e-04,  1.15793018e-05,\n",
       "         2.18957812e-05, -2.69177217e-05, -3.02756433e-07,  6.26942376e-04,\n",
       "        -5.12482892e-08, -1.37738098e-04, -2.58954882e-04, -3.31477670e-04,\n",
       "         1.38435862e-04, -1.40362170e-06,  6.31309696e-04, -1.68252845e-05,\n",
       "        -3.46871966e-05, -8.40381763e-05,  6.74067123e-05, -5.61517882e-05,\n",
       "         2.12214087e-04,  3.33781732e-04,  1.02019301e-04,  5.62744215e-04,\n",
       "        -2.43342970e-06,  1.06879952e-05, -1.17820036e-06, -5.99589875e-05,\n",
       "         2.56332532e-05, -4.73847002e-04, -4.08374717e-06, -1.42198360e-05,\n",
       "        -1.08720335e-04,  3.07254348e-04, -2.12500338e-04, -7.52552733e-05,\n",
       "        -7.31571985e-04, -4.50474801e-07,  4.87376674e-05, -1.35326176e-04,\n",
       "        -5.64874654e-06, -1.78534276e-04, -3.23622400e-04,  1.73165536e-05,\n",
       "         5.30332836e-05, -1.17605443e-04, -3.62743362e-04, -1.30608794e-04,\n",
       "        -2.15816865e-04,  4.46363178e-04, -8.59664433e-05, -7.70378534e-08,\n",
       "        -1.82332777e-04,  2.91320088e-04, -6.55225711e-04,  8.01197952e-04,\n",
       "        -4.67925041e-04,  1.03226661e-07,  6.58719218e-04,  4.08675463e-04,\n",
       "         7.94171356e-04,  1.31424027e-03,  2.08860176e-04, -4.93685150e-07,\n",
       "        -8.32560727e-06,  5.45799092e-04,  5.02850278e-04,  1.04897328e-04,\n",
       "         7.71657797e-05,  4.47273313e-04,  1.55673508e-04, -6.42729749e-04,\n",
       "         2.62908376e-04,  1.32682995e-04,  2.46845681e-04,  1.08134106e-03,\n",
       "         6.92381524e-04,  5.58592263e-04,  1.11328351e-04,  3.10046715e-04,\n",
       "        -4.52580978e-04, -8.18186408e-08,  1.35081355e-03,  8.76895327e-04,\n",
       "        -5.77884675e-05, -4.17521544e-04, -2.87026432e-06,  4.13399994e-06,\n",
       "        -6.24379260e-04,  3.08545394e-04,  6.07110036e-04,  9.99776312e-05,\n",
       "        -7.65133009e-05, -9.91460169e-04,  6.91547873e-04, -1.13976153e-03,\n",
       "         6.23285014e-04,  7.73495936e-04, -8.83764369e-05,  1.60388488e-04,\n",
       "         5.34075720e-04,  7.06707579e-05,  3.09696661e-05, -2.21864990e-04,\n",
       "        -6.10859250e-04,  1.78520312e-03,  1.49610569e-04, -5.77661151e-04,\n",
       "        -6.49461344e-06, -1.03776605e-04,  8.06277327e-04, -9.49427485e-05,\n",
       "        -1.26064045e-03,  1.92131760e-04, -1.58719986e-03, -7.08305088e-05,\n",
       "        -3.71711280e-06,  8.96329177e-04,  6.41706109e-04, -1.45602957e-04,\n",
       "        -3.69270565e-05,  1.02027284e-03, -2.04087925e-07, -8.67439230e-05,\n",
       "         1.69458246e-04,  9.00267856e-04, -4.24450875e-04, -4.01858793e-04,\n",
       "         5.18079796e-05,  1.17734680e-03,  1.86605484e-05,  4.71880958e-05,\n",
       "        -6.69019282e-05,  3.78601981e-04,  1.50135720e-05,  7.88243851e-05,\n",
       "         9.24398657e-04,  2.09139287e-03,  1.21358971e-06, -1.25854638e-06,\n",
       "         8.69319658e-04,  1.51588916e-04, -2.82302266e-04,  7.62995114e-05,\n",
       "         1.59904987e-04,  1.54931797e-04,  1.14676123e-03,  1.90653256e-04,\n",
       "         2.85052258e-04,  2.96106620e-04, -7.21583783e-04,  2.50233832e-04,\n",
       "         2.58356187e-04,  6.94926013e-04,  1.32068014e-03, -3.71346687e-04,\n",
       "         5.25690848e-06, -5.76895429e-04, -1.04412349e-04, -4.22733487e-04,\n",
       "        -9.31411691e-04, -2.73356301e-04,  2.40694702e-04, -2.69920492e-05,\n",
       "         1.10109639e-03,  2.03878575e-04, -3.71595706e-05,  4.19068878e-04,\n",
       "         2.14832562e-05, -4.01826488e-04, -5.31009282e-05, -5.20774862e-04,\n",
       "        -8.13326892e-07,  3.83528561e-04,  1.07869459e-03, -1.01022260e-05,\n",
       "        -2.50826910e-04,  5.41406858e-04,  8.27002397e-04,  2.36466673e-04,\n",
       "         3.29164992e-04,  1.21511302e-05, -1.14851253e-04, -6.91504800e-04,\n",
       "        -2.86597151e-06, -4.95191489e-04, -3.57018842e-04,  7.64723882e-05,\n",
       "        -2.22941526e-04,  4.32484521e-04,  5.21403097e-04,  6.94504924e-05,\n",
       "        -7.84228905e-04,  7.68147991e-04, -1.67166509e-05,  5.38287859e-05,\n",
       "         5.13566483e-04,  3.33515491e-04, -3.44817847e-04, -2.43092421e-04,\n",
       "        -3.21484404e-04,  3.60908780e-05, -6.20812178e-04, -2.89449099e-06,\n",
       "        -1.43632133e-04, -2.15682812e-04,  1.02897920e-03,  3.87257678e-05,\n",
       "         4.20017495e-05, -1.39401509e-05,  1.97460206e-04, -1.25867955e-03,\n",
       "         7.58285460e-04,  2.76211213e-05,  8.18239467e-04,  2.81237626e-05,\n",
       "        -2.80036562e-04, -1.22017715e-04,  2.83643676e-05,  1.28333364e-03,\n",
       "         7.55947316e-04, -7.59762656e-07,  1.04879491e-05, -4.21959499e-04,\n",
       "         4.11282701e-04, -1.93829510e-05,  1.62685069e-03,  1.05309661e-03,\n",
       "         8.71033189e-05, -3.03652778e-04,  7.57002388e-04,  7.68753409e-04,\n",
       "         1.45543949e-03, -4.02108599e-05, -8.42915324e-05,  1.12742849e-03,\n",
       "        -1.38861051e-05, -5.00269001e-04, -1.52965868e-07,  1.69669758e-04,\n",
       "        -6.39513950e-04, -7.13482732e-05, -2.36168504e-04,  1.90951801e-06,\n",
       "         9.40171187e-04,  6.26764086e-04, -3.87130800e-04,  1.07108359e-03,\n",
       "         2.23799580e-04, -1.63245495e-04,  9.52528440e-04, -4.13699570e-04,\n",
       "         2.34270759e-04,  3.03712208e-04, -1.53056517e-05, -4.67018754e-06,\n",
       "        -2.71981789e-05,  7.34533474e-04,  2.52184918e-07,  3.62581777e-05,\n",
       "         1.49478321e-03,  9.10438190e-04,  1.36526724e-04,  1.21685013e-03,\n",
       "         6.10608140e-06,  2.36618189e-06, -3.05842195e-06,  5.43834176e-04,\n",
       "        -7.87838653e-04,  1.36713243e-05,  7.78008143e-07, -1.16608702e-04,\n",
       "         1.41117244e-03,  1.65686372e-03,  3.56770877e-04, -6.82407175e-04,\n",
       "        -1.32094249e-06,  1.12293812e-03,  1.68913230e-03,  1.48485895e-04,\n",
       "        -4.79893613e-04,  1.41520984e-04, -1.56093214e-04,  1.05022864e-05,\n",
       "        -2.65824056e-05, -9.34123392e-08, -2.55179521e-06,  5.37069427e-05,\n",
       "        -3.83222323e-06, -5.52891506e-05,  1.09847337e-04,  1.52196258e-03,\n",
       "         3.49293782e-06, -7.31060514e-04,  1.45995204e-04,  3.53688316e-04,\n",
       "         2.85065966e-04,  4.71001840e-04, -5.46719202e-05,  9.68456152e-05,\n",
       "         2.99573776e-06,  4.81839757e-04, -1.29363380e-05, -6.97369687e-04,\n",
       "        -3.21540540e-07, -1.12370681e-03,  2.21794457e-04,  1.97130401e-04,\n",
       "         1.26857439e-03,  4.12702593e-06,  3.31756281e-04, -1.27516587e-05,\n",
       "        -3.35941411e-04, -1.15838826e-04, -2.93313715e-05, -5.22607297e-05,\n",
       "         1.51833141e-04,  2.53306120e-04,  1.22968893e-04, -1.34081871e-03,\n",
       "         7.11708970e-04,  3.77841672e-04,  1.29487409e-04, -4.53492976e-05,\n",
       "         1.11594463e-05, -2.50853958e-07,  1.70574305e-04, -2.02334457e-04,\n",
       "         9.56283591e-04, -1.10759602e-05,  4.45594669e-05, -1.23210775e-04,\n",
       "        -3.94052222e-05, -5.69598633e-05, -1.24541973e-03, -1.43668600e-04,\n",
       "         5.26325130e-06, -3.23139357e-05,  6.13355718e-04,  1.12643158e-06,\n",
       "         8.24473973e-04, -2.95223319e-04, -3.58887279e-04, -1.48255230e-08,\n",
       "        -1.46786329e-06, -5.50758326e-04,  4.81252093e-04,  3.60256556e-04,\n",
       "        -2.16992646e-10, -5.73203324e-05, -1.91489908e-05,  3.52924049e-04,\n",
       "         1.09021179e-03, -9.64644641e-05,  7.47152299e-05, -7.22815385e-05,\n",
       "        -5.74923542e-05,  1.54598524e-07, -8.05068645e-04,  8.54814542e-04,\n",
       "         2.02018942e-04,  1.74373679e-03,  1.19804393e-03, -4.62811295e-05,\n",
       "         1.24087805e-04,  1.36734464e-03,  3.01174373e-06,  3.44011263e-04,\n",
       "         3.23868939e-04,  7.97033194e-04,  3.38588361e-05,  5.02936891e-04,\n",
       "         6.59563811e-04,  1.01755746e-03, -2.83669273e-04, -5.16555592e-05,\n",
       "        -8.99631414e-06,  1.77477801e-03,  1.57356466e-04,  4.21830518e-05,\n",
       "        -3.35578254e-04, -7.57989706e-04, -5.87683689e-06,  6.06423069e-04,\n",
       "        -1.23041566e-04,  4.99111484e-04,  9.89346183e-04, -5.73383120e-04,\n",
       "         5.81362929e-06,  6.29410322e-04, -4.61403542e-05,  1.51616496e-05,\n",
       "         3.95967727e-05,  5.53409918e-04, -2.11290580e-06,  6.84820814e-04,\n",
       "         2.20242839e-07,  1.68599236e-05, -4.83727490e-05,  1.29121100e-03,\n",
       "         1.38833059e-03, -2.09010468e-04, -2.55156169e-06,  5.74326123e-07,\n",
       "        -2.44267358e-05,  8.58191697e-07,  4.96834051e-04, -8.51335571e-05,\n",
       "        -2.05114135e-04,  3.52198025e-04,  1.93554206e-05, -8.38246706e-06,\n",
       "         8.74505087e-04, -5.88560579e-06, -4.54288602e-05,  3.62559862e-04,\n",
       "         3.31612900e-05, -6.13819924e-04,  5.94022968e-05, -3.73326184e-04,\n",
       "        -5.97409206e-04,  6.78433164e-04,  1.40816451e-03,  9.51878690e-07,\n",
       "         2.19487765e-06,  1.00755948e-03, -9.46495202e-05,  6.20607869e-04,\n",
       "         1.75683563e-05,  3.37278179e-04, -2.86702671e-05,  1.97454356e-03,\n",
       "        -2.81214743e-05,  7.82082323e-04,  9.44431464e-04, -2.27104552e-04,\n",
       "         1.41634901e-05, -7.70691477e-05,  3.88465851e-04,  2.71338140e-05],\n",
       "       dtype=float32)>,\n",
       " <tf.Variable 'block5_conv2/kernel:0' shape=(3, 3, 512, 512) dtype=float32, numpy=\n",
       " array([[[[-1.42252808e-02, -2.34830733e-02,  8.48805811e-03, ...,\n",
       "            2.03291252e-02,  7.66249700e-03, -1.59699228e-02],\n",
       "          [ 5.72669972e-03, -1.51894214e-02,  6.02519605e-03, ...,\n",
       "           -1.16610453e-02,  2.18411908e-02,  1.51146799e-02],\n",
       "          [-2.43476816e-02, -1.06676295e-02, -1.98977180e-02, ...,\n",
       "            1.39880236e-02,  1.16354774e-03,  3.24383075e-03],\n",
       "          ...,\n",
       "          [ 3.40786926e-03, -1.24121513e-02,  1.41068231e-02, ...,\n",
       "            1.66352876e-02,  1.72471311e-02,  2.10580206e-03],\n",
       "          [-9.00677289e-04,  2.33900510e-02,  9.28103738e-03, ...,\n",
       "            7.13252695e-03, -1.24982549e-02, -2.44317278e-02],\n",
       "          [-9.41159949e-03,  6.55446574e-03, -1.28630809e-02, ...,\n",
       "           -2.02471539e-02,  1.51205659e-02, -1.45045784e-03]],\n",
       " \n",
       "         [[-1.03443386e-02, -3.20333475e-03,  5.40523033e-04, ...,\n",
       "           -1.50712533e-02, -6.42245356e-03, -1.59195103e-02],\n",
       "          [ 7.89713115e-03, -1.04705375e-02, -1.42613444e-02, ...,\n",
       "            9.76767391e-03, -1.19998502e-02, -1.27339343e-04],\n",
       "          [-2.31246534e-03, -1.86192226e-02, -2.53220368e-02, ...,\n",
       "            1.56962723e-02, -1.90702882e-02, -1.87432766e-02],\n",
       "          ...,\n",
       "          [ 2.04411745e-02, -1.55148003e-02,  4.65332763e-03, ...,\n",
       "           -1.03733269e-02, -1.96995819e-03, -6.21456653e-03],\n",
       "          [-7.60400807e-03,  1.82955433e-02,  1.21525479e-02, ...,\n",
       "            1.97032262e-02, -7.61305774e-03,  1.84973460e-02],\n",
       "          [-1.07999868e-03,  4.42588329e-03,  1.09262876e-02, ...,\n",
       "           -1.94455686e-04,  4.88002785e-03, -1.97404111e-03]],\n",
       " \n",
       "         [[ 1.79369580e-02,  2.54600495e-02,  8.33126716e-03, ...,\n",
       "            2.35616397e-02,  3.75661487e-03,  4.60811332e-03],\n",
       "          [-1.60418320e-02,  2.15156749e-02,  1.06237605e-02, ...,\n",
       "            1.53526478e-02, -2.00571157e-02, -3.18425265e-03],\n",
       "          [-2.31934898e-02, -7.60727515e-03,  3.50431679e-03, ...,\n",
       "           -1.69696771e-02, -2.82522314e-03, -5.14625711e-03],\n",
       "          ...,\n",
       "          [-8.96388851e-03,  7.19487108e-03,  1.06773339e-02, ...,\n",
       "            1.27345789e-02,  8.63401219e-03,  4.99804318e-03],\n",
       "          [ 1.53161054e-02, -2.73306435e-03,  1.47674084e-02, ...,\n",
       "            7.06926163e-04, -1.64269768e-02,  1.46068288e-02],\n",
       "          [-2.34352369e-02,  5.67748724e-03, -5.54613955e-03, ...,\n",
       "            1.08798780e-02, -6.42712042e-03, -7.42565934e-03]]],\n",
       " \n",
       " \n",
       "        [[[-1.00909863e-02,  2.38187890e-02, -6.11029245e-05, ...,\n",
       "           -1.01313405e-02, -3.15678422e-03, -8.05871654e-03],\n",
       "          [ 1.69909224e-02,  1.68184855e-03, -3.70588503e-03, ...,\n",
       "           -2.25385632e-02,  7.38788280e-04, -2.46962290e-02],\n",
       "          [ 1.55584160e-02, -2.10350342e-02, -1.26785254e-02, ...,\n",
       "           -1.03456862e-02,  2.43894756e-02, -3.78187222e-04],\n",
       "          ...,\n",
       "          [-2.00674888e-02, -2.00501387e-03,  1.94954500e-02, ...,\n",
       "            1.70542784e-02, -1.80006549e-02,  6.59028394e-03],\n",
       "          [ 4.63151885e-03,  1.45933991e-02,  2.09378302e-02, ...,\n",
       "            1.09213991e-02, -1.81787685e-02,  1.90984774e-02],\n",
       "          [ 1.86515637e-02,  1.22320504e-04, -6.15513558e-03, ...,\n",
       "           -1.88286267e-02, -1.30433561e-02,  2.71947985e-03]],\n",
       " \n",
       "         [[-2.19143741e-02,  1.44274170e-02,  1.60693713e-02, ...,\n",
       "            5.77925378e-03, -3.78772314e-03,  2.84238625e-03],\n",
       "          [ 1.80677250e-02,  9.94314905e-03, -2.39822902e-02, ...,\n",
       "            2.50472352e-02,  2.21057087e-02,  1.84640717e-02],\n",
       "          [ 2.28755996e-02, -4.07886505e-03,  2.10811161e-02, ...,\n",
       "           -1.90775283e-02, -8.42362270e-03,  1.25625888e-02],\n",
       "          ...,\n",
       "          [ 1.47265075e-02,  8.85397822e-05, -1.25659211e-02, ...,\n",
       "           -4.94891778e-03,  1.55847101e-03,  2.30119675e-02],\n",
       "          [-2.41277576e-03, -2.27010865e-02,  2.38009319e-02, ...,\n",
       "           -1.28836082e-02,  2.23482028e-02, -2.05048230e-02],\n",
       "          [ 5.11130458e-03,  2.49497667e-02, -5.57560986e-03, ...,\n",
       "           -1.02035981e-02,  4.11913544e-03,  1.41725652e-02]],\n",
       " \n",
       "         [[ 3.69232357e-03, -2.47126892e-02, -1.66259017e-02, ...,\n",
       "            1.01063144e-03, -1.08639076e-02, -2.21987404e-02],\n",
       "          [-1.99135896e-02, -2.36171782e-02,  2.87770107e-03, ...,\n",
       "            2.40685586e-02, -1.31346732e-02, -6.32622454e-04],\n",
       "          [-1.49449622e-02,  1.29071875e-02, -1.03223417e-02, ...,\n",
       "           -2.19665151e-02, -8.73943046e-03, -1.70273613e-02],\n",
       "          ...,\n",
       "          [-2.36432459e-02,  2.44416879e-03,  2.03472283e-02, ...,\n",
       "            1.57014877e-02,  1.37784220e-02, -2.40651630e-02],\n",
       "          [ 2.48671342e-02,  1.84546802e-02, -2.59157177e-03, ...,\n",
       "            2.30331458e-02,  9.02918749e-04, -2.27029659e-02],\n",
       "          [ 1.78338587e-02,  4.98413865e-04, -1.14376545e-02, ...,\n",
       "            6.66167494e-03,  1.38494205e-02,  1.42437499e-02]]],\n",
       " \n",
       " \n",
       "        [[[-2.21442636e-02, -2.38855574e-02, -1.71478409e-02, ...,\n",
       "            3.61718587e-03,  2.39014719e-02,  1.05935184e-03],\n",
       "          [ 1.39426179e-02, -4.65134997e-03, -1.70172229e-02, ...,\n",
       "            5.95140224e-03, -3.56157124e-03,  2.11769976e-02],\n",
       "          [-2.38448363e-02,  2.19758600e-02, -1.48982313e-02, ...,\n",
       "           -4.12068283e-03, -2.16608979e-02,  2.26114988e-02],\n",
       "          ...,\n",
       "          [ 2.32253335e-02, -1.43022016e-02, -1.06327806e-03, ...,\n",
       "           -2.02056002e-02,  2.23023407e-02, -9.66946653e-04],\n",
       "          [-4.15179785e-03, -9.06119123e-03,  2.00245976e-02, ...,\n",
       "            1.03952065e-02,  1.08442036e-02,  1.36632044e-02],\n",
       "          [ 8.53958353e-03,  7.61527847e-03, -2.24653333e-02, ...,\n",
       "           -4.17050021e-03,  1.03252567e-02,  2.07952317e-02]],\n",
       " \n",
       "         [[-1.43525959e-03,  3.71945184e-03, -1.60186775e-02, ...,\n",
       "            1.56630743e-02, -5.69726992e-03, -6.33390620e-03],\n",
       "          [-2.51648910e-02,  1.64640807e-02,  3.20374034e-03, ...,\n",
       "            2.30672136e-02, -1.31821847e-02,  2.54210811e-02],\n",
       "          [ 1.11302850e-03,  1.62921026e-02,  2.20127180e-02, ...,\n",
       "            5.56508685e-03,  2.19080783e-02,  1.65234953e-02],\n",
       "          ...,\n",
       "          [ 1.65171567e-02,  5.81263914e-04,  6.04099082e-03, ...,\n",
       "            1.90789960e-02,  2.12692935e-02,  9.80270468e-03],\n",
       "          [ 1.43618602e-02,  8.32791347e-03,  2.00429112e-02, ...,\n",
       "           -3.18490947e-03,  4.75870026e-03,  2.24568956e-02],\n",
       "          [ 9.86919971e-04, -3.76793370e-03, -1.21969860e-02, ...,\n",
       "            9.61936748e-05, -2.03469694e-02, -2.42475197e-02]],\n",
       " \n",
       "         [[-2.54011173e-02,  1.02338158e-02, -1.35399885e-02, ...,\n",
       "            1.90982576e-02, -2.04935819e-02, -2.24740319e-02],\n",
       "          [-8.66042078e-03, -1.13920518e-03, -1.92406531e-02, ...,\n",
       "           -2.37970101e-03, -2.01597693e-03, -2.34294608e-02],\n",
       "          [-6.70214836e-03, -1.50525598e-02, -2.25459561e-02, ...,\n",
       "            5.73642552e-03,  1.94432475e-02,  1.67189315e-02],\n",
       "          ...,\n",
       "          [-1.60966441e-02, -2.11425647e-02, -4.23465576e-03, ...,\n",
       "            1.55490485e-03, -1.71915733e-03,  3.22816032e-03],\n",
       "          [-1.94429066e-02,  4.63216007e-03, -1.05683776e-02, ...,\n",
       "           -2.34080702e-02, -6.47581741e-03,  4.74488921e-03],\n",
       "          [ 2.34930515e-02,  1.28783640e-02,  1.56123703e-03, ...,\n",
       "            1.83610320e-02,  2.06334703e-02, -1.22898258e-02]]]],\n",
       "       dtype=float32)>,\n",
       " <tf.Variable 'block5_conv2/bias:0' shape=(512,) dtype=float32, numpy=\n",
       " array([-3.61918355e-05,  8.55546328e-04, -5.19956229e-04,  9.82191530e-04,\n",
       "        -2.88978924e-07, -2.54152954e-04, -7.26488070e-04,  6.37266436e-04,\n",
       "         8.87956703e-04,  2.87861703e-03,  1.36414194e-03,  1.12334760e-07,\n",
       "         2.21493095e-03,  2.11281423e-03, -1.40181440e-03,  2.47829812e-05,\n",
       "         8.23415467e-04,  6.95897499e-04, -4.88952617e-04,  6.15560421e-05,\n",
       "        -2.60968159e-06,  2.14561028e-03,  5.02524141e-04,  4.43492492e-04,\n",
       "         2.14064203e-05,  1.93947321e-03,  1.69600395e-03, -2.37929446e-04,\n",
       "         6.57431665e-04, -2.13291511e-04,  2.57943920e-03,  5.63393660e-05,\n",
       "         3.02660192e-05, -1.71110302e-03,  5.68546762e-04,  1.01589772e-03,\n",
       "         1.14726077e-03, -9.04683548e-05,  7.64807977e-04,  5.14428422e-04,\n",
       "         1.05084924e-04, -9.97707684e-05, -1.72264423e-04,  2.98560277e-04,\n",
       "         6.10004145e-06, -3.52038660e-05, -2.13610329e-05,  2.69956916e-04,\n",
       "        -4.88198944e-04,  5.68990363e-04,  2.43922556e-03,  1.48091407e-03,\n",
       "        -1.71225096e-04, -6.38660509e-04, -5.32615581e-04,  1.81703991e-03,\n",
       "         1.39528175e-03, -6.77262578e-05, -8.62650108e-04,  7.09712622e-04,\n",
       "        -2.42260125e-04,  2.82236520e-04, -4.46462887e-04, -3.43223765e-05,\n",
       "         2.87376843e-05, -4.71298627e-05,  9.67107335e-05,  5.49348188e-04,\n",
       "        -5.41139278e-04,  1.35596973e-04, -6.83594553e-05,  1.85827685e-06,\n",
       "         6.09849121e-05,  3.74192663e-04, -1.99124275e-04,  6.06409449e-04,\n",
       "        -5.22818368e-07,  1.64295852e-04, -9.95065639e-05, -8.70200020e-05,\n",
       "         1.94289093e-03,  4.95772285e-04,  2.92620156e-04, -2.85073038e-04,\n",
       "         1.93423417e-03, -1.37100957e-04,  5.25902084e-04,  5.23064635e-04,\n",
       "        -5.81123051e-04,  5.27408156e-05, -1.03431824e-03,  1.73400261e-03,\n",
       "         5.46051131e-04, -2.16641245e-04, -5.22983435e-04,  1.74827019e-05,\n",
       "        -5.42209367e-04,  2.86191244e-05,  4.85777593e-04, -3.48396134e-04,\n",
       "        -5.74236619e-05, -4.13343114e-05,  9.15820710e-04,  2.25827284e-03,\n",
       "        -1.58016395e-04,  2.11181445e-03, -2.99198466e-04,  5.44353621e-04,\n",
       "         7.51660536e-06, -2.42594729e-06, -3.58557809e-05, -6.24808541e-04,\n",
       "        -1.17384079e-04,  7.23259800e-05, -1.00879435e-04,  1.62055378e-03,\n",
       "        -1.32263958e-04, -9.41826438e-05,  6.35576085e-04, -5.36178821e-04,\n",
       "        -1.26695464e-04, -2.27577621e-04,  1.56405513e-05, -1.99300295e-04,\n",
       "         5.46081923e-04,  1.15877701e-04,  7.28943676e-04,  1.67864154e-03,\n",
       "         1.14888744e-03,  6.87587308e-05, -1.01524103e-03, -2.96000712e-06,\n",
       "         1.43052341e-04,  5.74872189e-04, -1.28697988e-03,  2.82656343e-04,\n",
       "         1.00658997e-03,  1.63407729e-03, -5.24874718e-04, -4.68174112e-04,\n",
       "        -5.95148187e-04,  2.16645814e-04,  1.84202327e-05,  2.83354864e-04,\n",
       "        -4.79506940e-04, -1.94248219e-04, -8.26234827e-05, -9.45756619e-05,\n",
       "        -4.30740329e-05,  1.58489143e-04,  5.68937103e-05, -7.65289704e-04,\n",
       "        -8.36585823e-04, -8.33553640e-05,  1.14133982e-04, -6.63516286e-04,\n",
       "         8.68586183e-04,  2.43210190e-04, -7.87837052e-06, -9.58201475e-04,\n",
       "         7.32296467e-05, -7.13230867e-04,  2.19631521e-03,  1.05555216e-03,\n",
       "         9.84203303e-04,  9.17028286e-04,  1.58293103e-03, -4.05350962e-04,\n",
       "        -8.74142046e-04,  4.24871017e-04,  2.53540260e-04,  1.34560702e-04,\n",
       "        -8.34100065e-04,  1.33429351e-03,  1.31291206e-04,  1.50091934e-03,\n",
       "         5.32687191e-05, -6.57132259e-05,  1.13416428e-03,  3.72754002e-04,\n",
       "         1.60269366e-04,  1.60322723e-03,  3.67964822e-05, -8.16859313e-07,\n",
       "         1.30800949e-03,  1.31658482e-04, -3.57425539e-04, -3.29109957e-04,\n",
       "         1.02560525e-03,  1.67742476e-03,  2.19358826e-05,  2.36986089e-04,\n",
       "         4.03606828e-04, -1.67182100e-03, -7.81846757e-05, -2.08818426e-04,\n",
       "        -5.59224361e-07, -2.22287897e-04,  3.99222190e-05,  1.29334081e-03,\n",
       "        -3.27400048e-05, -4.46162856e-04, -2.15133492e-04,  6.13743439e-04,\n",
       "         1.38269411e-03, -4.18182644e-05, -6.31680945e-04, -1.13786978e-03,\n",
       "        -2.49923003e-04, -2.58269836e-04,  3.64477019e-04, -3.51459894e-05,\n",
       "        -7.06985011e-05,  5.84587979e-04,  9.13334487e-04,  1.40731907e-04,\n",
       "         9.88285639e-04,  1.35821319e-04, -9.23506741e-05, -1.28338346e-03,\n",
       "        -3.21545085e-04,  5.78636536e-04, -1.72669036e-06,  4.35325434e-04,\n",
       "         5.93747303e-04, -1.70762511e-03,  1.02474284e-03,  1.47095509e-03,\n",
       "        -2.64443661e-04,  1.22581702e-03, -8.96142010e-05, -2.82050780e-04,\n",
       "         3.33403936e-04, -1.04518309e-04,  8.71867873e-04, -9.34086915e-04,\n",
       "         1.67668180e-03, -3.39321596e-05,  2.97536934e-03, -1.92188945e-05,\n",
       "         1.82294403e-03,  1.48935721e-03,  1.54398987e-03, -1.21269807e-07,\n",
       "         3.49665133e-05,  1.32426485e-05,  1.44724862e-03,  1.66509766e-03,\n",
       "        -9.66986234e-04, -5.25089621e-04, -2.11460574e-04,  5.04123047e-04,\n",
       "         1.02926593e-03, -6.93774084e-04, -5.73653488e-05,  7.77972513e-04,\n",
       "         1.33154828e-07, -2.39933797e-04,  7.49568339e-04,  4.62276163e-04,\n",
       "         1.53826503e-03,  1.40454897e-04,  1.48113933e-03,  6.32905518e-04,\n",
       "         8.68225470e-05,  1.12780079e-03,  4.80820134e-04, -2.52794911e-04,\n",
       "        -2.19165668e-04, -2.57099484e-04,  2.45008152e-04, -7.70547893e-04,\n",
       "         6.57931028e-04, -4.94505744e-04,  4.65621386e-04, -5.11601211e-05,\n",
       "         9.75648218e-05, -3.04610057e-05,  8.39070126e-04, -2.21790513e-04,\n",
       "         4.91281215e-04,  4.66800266e-04,  1.64584417e-05,  1.90079899e-03,\n",
       "         8.98144353e-05,  2.86341121e-04, -4.39921605e-05,  2.45486945e-03,\n",
       "        -3.77500081e-04,  1.39571828e-04, -2.12562241e-04, -1.00167340e-03,\n",
       "         1.10401388e-03, -4.18433599e-04,  6.20084734e-07,  7.94843727e-05,\n",
       "        -3.42166459e-04, -9.33041592e-05, -2.87475850e-04, -7.89671147e-04,\n",
       "        -5.80514679e-05,  4.78599337e-04,  1.00440660e-03,  5.88522991e-04,\n",
       "        -2.30504680e-04,  1.02513272e-03, -3.39923630e-04,  3.50908493e-04,\n",
       "        -5.01149771e-05,  6.82123529e-04,  1.71440101e-04, -1.83642303e-04,\n",
       "        -1.20250425e-05,  1.66626080e-04,  7.09672691e-04, -1.71490677e-03,\n",
       "        -2.99207040e-05,  8.90529947e-04,  4.99537855e-04,  1.01113576e-03,\n",
       "        -3.28002789e-04,  2.00180846e-04, -4.78798984e-06,  6.20563969e-06,\n",
       "        -5.23880008e-04,  6.69853471e-05, -1.18236378e-04,  9.92186484e-04,\n",
       "        -4.04571801e-05,  1.39469397e-03,  3.69798829e-04, -2.08159050e-04,\n",
       "         5.51039877e-04,  2.48151657e-04,  3.59815516e-04,  3.71981673e-06,\n",
       "         6.81595702e-05, -6.01517153e-04,  1.00769859e-03,  8.55635153e-04,\n",
       "         1.70340051e-03, -5.40124202e-05,  2.46408570e-04, -2.13164045e-03,\n",
       "         1.93173287e-03,  7.68319296e-07,  3.78736469e-04, -1.65235833e-04,\n",
       "        -3.86098254e-04,  5.37887099e-04,  1.54604728e-03, -2.86909606e-04,\n",
       "         9.55572104e-05, -3.06463538e-04,  3.87825348e-05,  6.42896630e-04,\n",
       "         4.31183114e-04,  1.33106939e-03,  7.82346324e-05,  9.73838105e-05,\n",
       "        -4.64286059e-05, -3.56881392e-05,  9.08768125e-05, -2.78771913e-04,\n",
       "         2.09408259e-04,  3.42579419e-03, -1.94740915e-05, -7.68538739e-04,\n",
       "         1.51484623e-03, -2.05318880e-04, -3.30768926e-05, -6.48167115e-05,\n",
       "         1.26399085e-04,  6.90385757e-04, -5.30576035e-05,  4.56214737e-04,\n",
       "        -3.57107579e-04,  1.00325316e-03,  1.16089650e-03,  3.12666874e-04,\n",
       "         3.60035046e-05, -8.30658711e-04,  1.02571095e-03,  3.85347619e-07,\n",
       "         3.82827129e-04,  1.01070595e-03,  2.94034777e-04,  7.37298746e-04,\n",
       "        -1.62425262e-04, -4.42819669e-07,  6.93713839e-04, -7.98887777e-05,\n",
       "         2.70164473e-05,  1.26378427e-06, -1.07133051e-03,  2.66766944e-03,\n",
       "        -5.55130129e-04, -7.12980342e-04, -3.45461391e-04, -1.22566067e-03,\n",
       "         1.05211348e-03,  2.68717005e-04, -3.62854894e-06, -1.67599152e-04,\n",
       "        -1.62550772e-04,  7.21696357e-04,  4.04887433e-05, -8.08900862e-04,\n",
       "        -1.88008172e-03,  1.93470914e-04,  1.02549279e-03, -1.05852494e-03,\n",
       "         1.51058973e-03, -5.54461614e-04, -2.75336875e-04,  1.65438757e-03,\n",
       "         3.07139635e-05,  1.76449737e-03,  1.81442627e-03,  9.38566445e-05,\n",
       "         2.79346496e-05,  5.08986937e-04,  2.57179927e-04, -7.35856975e-06,\n",
       "        -1.55813072e-03, -4.15898889e-04,  3.17991537e-04,  1.18806981e-03,\n",
       "         1.65748424e-04,  2.59455759e-04, -2.56817711e-05,  1.88056627e-04,\n",
       "        -1.17133704e-05,  7.19016418e-04,  1.58946926e-03, -4.01896570e-04,\n",
       "        -7.87920435e-05,  1.94188469e-04,  3.18011647e-04, -2.34618579e-04,\n",
       "         1.56036040e-04, -1.38750693e-07, -7.73082837e-04,  1.92856253e-03,\n",
       "        -3.99919918e-05,  1.21661788e-03,  3.57224490e-04, -6.99878554e-04,\n",
       "        -6.66815089e-04,  1.10192818e-03,  1.29525177e-03,  4.55150512e-05,\n",
       "         2.99491745e-04,  4.12751542e-04,  3.18558268e-05, -1.13619014e-03,\n",
       "         2.57656240e-04, -3.74141557e-04,  3.40506260e-04, -4.17784671e-04,\n",
       "         5.20719565e-04,  3.23169632e-04, -3.49639013e-04,  1.51624507e-03,\n",
       "         2.87988863e-04,  6.04974048e-04, -5.69385629e-05,  3.01303138e-04,\n",
       "        -5.43994189e-04,  8.22700851e-04,  4.50344050e-05, -1.49988831e-04,\n",
       "        -2.77276529e-04, -1.51121465e-03, -1.43605037e-04, -3.36792036e-05,\n",
       "        -6.86695043e-04, -1.03944633e-03, -1.57613729e-04,  1.76035112e-03,\n",
       "        -4.80261719e-04,  3.20777485e-06,  1.52383605e-03, -1.84083037e-04,\n",
       "         5.96258906e-04, -3.74441042e-05,  6.43776671e-04, -1.89993407e-05,\n",
       "        -1.45620987e-07, -8.65482980e-06,  1.37207808e-03,  1.47538594e-04,\n",
       "         5.17207482e-05, -1.96645604e-04, -6.07882394e-04,  1.56558887e-03,\n",
       "         3.91144911e-03, -2.57624546e-04, -5.03325544e-04, -1.97927700e-04,\n",
       "         1.56713839e-04,  5.61518864e-05, -4.25050675e-04,  4.03113139e-04,\n",
       "        -5.12323342e-04,  3.02060915e-04, -1.12948459e-04, -5.23884082e-05,\n",
       "         2.86637631e-04,  7.35737791e-04,  7.25048039e-06,  1.30249758e-03],\n",
       "       dtype=float32)>,\n",
       " <tf.Variable 'block5_conv3/kernel:0' shape=(3, 3, 512, 512) dtype=float32, numpy=\n",
       " array([[[[ 7.09757616e-04,  6.67861057e-03,  1.14956573e-02, ...,\n",
       "            1.28922891e-02,  2.50466075e-02,  1.56016443e-02],\n",
       "          [ 8.16305634e-03,  1.91885792e-02,  1.40154343e-02, ...,\n",
       "           -2.46125143e-02, -7.06633972e-03, -2.38926634e-02],\n",
       "          [-4.94626537e-03, -2.19126344e-02,  2.24285554e-02, ...,\n",
       "            9.34350304e-03, -8.83302838e-03, -1.18761044e-02],\n",
       "          ...,\n",
       "          [-2.28034034e-02, -3.47362226e-03, -3.89897334e-03, ...,\n",
       "           -2.18872465e-02,  1.00640841e-02,  8.65039602e-03],\n",
       "          [ 1.73569284e-02, -6.16776757e-03, -4.85904934e-03, ...,\n",
       "           -1.34520736e-02,  3.80038237e-03,  1.70174539e-02],\n",
       "          [-1.30497366e-02, -6.21535769e-03,  1.93851851e-02, ...,\n",
       "           -1.70452949e-02,  9.89870541e-03, -1.17389867e-02]],\n",
       " \n",
       "         [[-1.56167988e-02, -5.77553874e-03,  7.26014515e-03, ...,\n",
       "            2.08477816e-03, -7.02328607e-03,  2.24250890e-02],\n",
       "          [ 9.59520694e-03, -2.21777223e-02, -1.08814612e-02, ...,\n",
       "           -1.93365142e-02,  4.79413802e-03,  1.15850959e-02],\n",
       "          [-2.05112882e-02, -6.48781518e-03,  2.49703526e-02, ...,\n",
       "            1.15158567e-02,  1.98602024e-02,  1.80547107e-02],\n",
       "          ...,\n",
       "          [ 2.22558924e-03,  5.66987088e-03, -5.93064865e-03, ...,\n",
       "            1.17905485e-02,  2.13826876e-02, -1.22831261e-03],\n",
       "          [ 1.03902668e-02, -5.85687160e-03,  2.06505284e-02, ...,\n",
       "           -2.21838262e-02, -8.32330249e-03,  1.10985348e-02],\n",
       "          [-1.69585478e-02,  7.92408362e-03, -1.29750266e-03, ...,\n",
       "            2.45334059e-02,  9.56043135e-03,  2.47461535e-02]],\n",
       " \n",
       "         [[-1.16961561e-02, -1.81418960e-04,  2.18954235e-02, ...,\n",
       "            2.50634030e-02, -4.98674251e-03,  7.46531552e-03],\n",
       "          [-8.74567870e-03, -1.77508290e-03,  2.34195814e-02, ...,\n",
       "           -2.08569653e-02,  2.11277083e-02, -4.88214847e-03],\n",
       "          [-1.22045400e-03, -9.60286055e-03, -1.89367658e-03, ...,\n",
       "            1.38855688e-02,  1.36988191e-02,  9.56893433e-03],\n",
       "          ...,\n",
       "          [ 2.27602124e-02, -9.24727879e-03,  7.45877065e-03, ...,\n",
       "           -1.63483042e-02,  1.82881895e-02,  1.89243630e-02],\n",
       "          [ 1.72332674e-02, -2.11811941e-02,  1.67832486e-02, ...,\n",
       "            2.18642615e-02,  1.65713280e-02, -1.45082837e-02],\n",
       "          [-2.15485543e-02, -1.83276832e-02, -1.80241652e-02, ...,\n",
       "            3.62630840e-03, -2.80875014e-03, -1.41853709e-02]]],\n",
       " \n",
       " \n",
       "        [[[-1.22809876e-02, -4.88658715e-03, -1.17542800e-02, ...,\n",
       "           -9.54749249e-03,  3.93907493e-03, -1.76751893e-02],\n",
       "          [-4.41376399e-03, -1.30935805e-03,  1.07765011e-02, ...,\n",
       "           -7.68272672e-03,  2.21380182e-02, -7.77187897e-03],\n",
       "          [-3.78739857e-03, -6.17914554e-03, -1.40577797e-02, ...,\n",
       "           -1.30276885e-02, -1.16320904e-02, -1.86297614e-02],\n",
       "          ...,\n",
       "          [ 1.32805379e-02,  1.97589416e-02,  1.63766071e-02, ...,\n",
       "           -1.15689319e-02, -1.22008212e-02, -1.02407495e-02],\n",
       "          [-7.60355173e-03,  1.26899555e-02, -4.41544503e-03, ...,\n",
       "            2.07650140e-02, -2.51662359e-02, -2.31772400e-02],\n",
       "          [ 1.57403192e-04,  2.03615259e-02, -3.03099700e-03, ...,\n",
       "           -8.44454765e-03,  1.42239556e-02, -6.77818758e-03]],\n",
       " \n",
       "         [[ 1.93996076e-02, -2.54270751e-02,  1.02426866e-02, ...,\n",
       "           -1.60530694e-02, -2.51290053e-02, -2.01129634e-02],\n",
       "          [-2.30403859e-02,  8.52004159e-03, -7.81193469e-03, ...,\n",
       "           -2.34085340e-02,  8.47654790e-03, -2.09267382e-02],\n",
       "          [-6.25238474e-03, -2.06245296e-02, -5.93938818e-03, ...,\n",
       "            2.36900244e-02,  9.48209222e-03,  6.24281168e-03],\n",
       "          ...,\n",
       "          [ 6.66894019e-03, -2.19465010e-02, -5.79980714e-03, ...,\n",
       "            1.96582861e-02,  1.50931980e-02,  9.03322175e-03],\n",
       "          [-5.75834746e-03, -6.76836492e-03,  1.32701863e-02, ...,\n",
       "            2.25464832e-02,  5.47078717e-03,  6.51991740e-03],\n",
       "          [ 1.35669438e-02,  3.92202428e-03, -6.64879056e-03, ...,\n",
       "            9.26541630e-03, -1.29004032e-03,  1.50846215e-02]],\n",
       " \n",
       "         [[ 1.05567789e-02, -2.48148944e-02,  3.70607525e-03, ...,\n",
       "           -6.24815281e-03,  8.26485828e-03,  1.98365692e-02],\n",
       "          [ 2.42007524e-02,  5.06714627e-04,  2.03429610e-02, ...,\n",
       "           -2.02626102e-02,  3.63404863e-04, -1.55624701e-04],\n",
       "          [ 1.16974802e-03,  3.79513809e-03, -5.02286421e-04, ...,\n",
       "           -6.28671888e-03, -1.68709867e-02, -2.17259672e-04],\n",
       "          ...,\n",
       "          [ 2.47036237e-02,  2.98666698e-03,  5.43212052e-03, ...,\n",
       "            2.75463657e-03,  2.37738192e-02, -1.30286254e-02],\n",
       "          [-1.17071187e-02, -1.76258162e-02, -1.26008578e-02, ...,\n",
       "           -8.88307020e-03,  7.06789223e-03,  2.23656148e-02],\n",
       "          [-2.53671147e-02,  1.85852905e-03,  1.13277351e-02, ...,\n",
       "            2.48719100e-02,  7.82514364e-03, -1.94357224e-02]]],\n",
       " \n",
       " \n",
       "        [[[ 1.95288174e-02,  2.08381750e-03, -1.64021309e-02, ...,\n",
       "           -3.99499433e-03, -3.56774515e-04,  1.42489513e-02],\n",
       "          [ 1.10391555e-02, -3.36283352e-04, -1.05564781e-02, ...,\n",
       "           -2.18980405e-02, -1.50533365e-02,  1.07022293e-03],\n",
       "          [ 1.46492058e-03,  2.24487372e-02,  6.03205431e-03, ...,\n",
       "            1.59833534e-03,  3.07157682e-03,  2.42457259e-03],\n",
       "          ...,\n",
       "          [-1.55854914e-02,  8.31875857e-03,  1.54035650e-02, ...,\n",
       "           -1.31137939e-02,  1.55454250e-02, -3.79254692e-04],\n",
       "          [-1.09468065e-02, -4.90183569e-03,  2.25071982e-02, ...,\n",
       "           -7.40333833e-03,  1.67103447e-02,  2.19490333e-03],\n",
       "          [ 7.38841668e-03,  6.82139955e-03, -2.35293191e-02, ...,\n",
       "            1.11388396e-02, -1.98414805e-03, -1.72950048e-02]],\n",
       " \n",
       "         [[-4.59263611e-05, -6.90088258e-04,  1.35350050e-02, ...,\n",
       "            2.01855358e-02, -1.28445029e-03, -1.57486915e-03],\n",
       "          [-2.00883560e-02,  6.23973599e-03, -1.09383957e-02, ...,\n",
       "           -1.09286059e-03, -1.61350351e-02,  1.95140578e-02],\n",
       "          [-7.92753883e-03,  1.92297213e-02,  2.47013178e-02, ...,\n",
       "            2.38764752e-02,  4.63697407e-03, -2.32397746e-02],\n",
       "          ...,\n",
       "          [ 2.36240327e-02,  2.39878353e-02,  1.29276905e-02, ...,\n",
       "            1.95077471e-02, -1.89814940e-02, -1.71751790e-02],\n",
       "          [ 2.40870230e-02, -4.20338102e-03, -1.74152497e-02, ...,\n",
       "            2.31428817e-02,  2.27220895e-04, -2.32113469e-02],\n",
       "          [ 2.22172085e-02, -1.13312313e-02, -1.54522844e-02, ...,\n",
       "            4.74517437e-05, -2.52333172e-02, -9.30599496e-03]],\n",
       " \n",
       "         [[ 1.45573489e-04,  2.58899340e-03,  1.09204976e-02, ...,\n",
       "           -2.41483264e-02,  2.29714513e-02, -8.94381665e-03],\n",
       "          [-4.44533955e-03, -9.54371411e-03, -4.53693233e-03, ...,\n",
       "            9.21005942e-03,  7.72542146e-04, -7.76788918e-03],\n",
       "          [ 1.61967706e-02, -1.79860666e-02, -8.69031344e-03, ...,\n",
       "           -2.13276199e-03, -1.84811726e-02,  6.52640825e-04],\n",
       "          ...,\n",
       "          [ 1.28138419e-02,  1.40886270e-02, -9.87874903e-03, ...,\n",
       "           -2.48657018e-02, -1.75116062e-02,  1.22100348e-02],\n",
       "          [-1.27919903e-02,  3.19479499e-03, -1.46356383e-02, ...,\n",
       "           -3.52319563e-04, -1.06824161e-02,  2.07832828e-02],\n",
       "          [-1.49684716e-02,  8.55796970e-03,  2.23036166e-02, ...,\n",
       "            2.36151181e-02,  5.87824872e-03,  2.83896620e-03]]]],\n",
       "       dtype=float32)>,\n",
       " <tf.Variable 'block5_conv3/bias:0' shape=(512,) dtype=float32, numpy=\n",
       " array([ 5.92284661e-04,  8.11127364e-04, -1.05254725e-03, -1.43789710e-03,\n",
       "         1.10379106e-03,  9.00647319e-06, -1.08419708e-03,  1.24655751e-04,\n",
       "        -7.31127686e-04,  1.76658016e-03,  2.19391449e-03,  1.00316061e-03,\n",
       "         2.17060966e-04,  1.63691107e-03, -5.26790624e-04, -1.25485036e-04,\n",
       "         2.06909957e-03,  1.40207967e-05,  1.22713228e-03,  1.19301525e-03,\n",
       "         1.15042552e-03, -3.73350427e-04, -1.58685900e-03,  1.04464975e-03,\n",
       "         1.93565863e-03, -6.42331725e-04,  8.29438854e-04,  2.49587768e-03,\n",
       "        -5.39166969e-04,  1.75348332e-03,  1.16126542e-03,  7.66426558e-04,\n",
       "        -1.26673514e-03,  2.13430054e-03, -6.09361974e-04, -4.39657233e-05,\n",
       "        -1.37753948e-03,  2.19874331e-04, -7.74336688e-04, -1.85269595e-03,\n",
       "         6.01032050e-04,  1.45895779e-03, -2.27286611e-04,  4.72920132e-04,\n",
       "        -3.89033026e-04,  1.88804697e-03,  2.17811810e-03, -8.76530481e-04,\n",
       "        -3.39043647e-04, -7.33888301e-05, -1.07822742e-03, -4.40434349e-04,\n",
       "         7.34507455e-04,  3.49514594e-04,  7.84150732e-04,  1.83359522e-03,\n",
       "        -2.80383509e-04,  2.30102567e-03, -6.01347594e-04,  1.84758741e-03,\n",
       "         1.08475634e-03, -5.06818003e-04,  8.84576584e-05,  1.05105442e-04,\n",
       "         2.51728878e-03,  2.59300832e-05,  1.09233355e-04, -7.64967408e-04,\n",
       "         1.39875070e-03, -4.39929194e-04, -2.70137168e-03, -1.44200597e-03,\n",
       "         9.01702908e-04,  2.28712033e-03, -2.11592691e-04, -1.16096737e-04,\n",
       "        -2.28515407e-03,  3.10334959e-03,  2.93703447e-03, -1.18820800e-03,\n",
       "        -8.20510468e-06,  7.06286585e-07,  2.13385583e-03,  1.38792471e-04,\n",
       "         3.60407634e-04, -8.38387277e-05,  1.57341571e-03, -1.11971376e-03,\n",
       "         2.11980034e-04,  2.08380734e-04, -5.21094538e-04,  1.33959390e-03,\n",
       "         1.72206294e-03,  7.02158024e-04,  4.54360433e-03,  1.40165736e-03,\n",
       "         2.40750122e-03, -1.21335150e-03,  5.02007140e-04,  1.05823354e-04,\n",
       "         8.83613073e-04,  4.40353854e-03,  4.66874131e-04, -5.00213820e-04,\n",
       "         2.87507870e-03, -1.15657470e-03, -1.29034941e-03, -1.71130197e-03,\n",
       "        -6.32501149e-04,  4.95847722e-04, -1.59778271e-03,  3.58541001e-04,\n",
       "        -1.41075516e-05,  1.66133419e-03,  1.84094033e-03,  1.66720740e-04,\n",
       "        -2.32678620e-04, -8.81343847e-04, -6.55573560e-04,  8.23436203e-05,\n",
       "         7.35672620e-06, -1.97422385e-04, -7.14251597e-04,  3.11417738e-04,\n",
       "        -2.69437325e-04,  7.02950871e-04,  1.58033182e-03,  5.54901962e-05,\n",
       "        -1.83676486e-04, -3.30428447e-05,  4.23022034e-03, -2.09896057e-03,\n",
       "         3.74328869e-04, -2.11075787e-03,  1.62986177e-03,  9.55281197e-04,\n",
       "        -1.71585009e-04, -1.39064004e-03, -6.70806447e-04, -3.49936949e-04,\n",
       "         3.57907178e-04, -2.07985495e-03,  4.81889350e-03,  5.24165844e-05,\n",
       "        -5.08261845e-04, -7.99489790e-04,  2.27474468e-03,  1.43873226e-03,\n",
       "         2.61455984e-03,  7.22326164e-04,  1.30381878e-03, -9.15604469e-04,\n",
       "         1.90267002e-03, -8.19758061e-05,  3.30922310e-04,  8.80692023e-05,\n",
       "         6.40302547e-04, -1.30121829e-03,  2.33256351e-03, -2.27971934e-04,\n",
       "         2.42781756e-03,  1.04269024e-03,  2.29470455e-03, -4.65320772e-04,\n",
       "        -5.69587050e-04, -6.26610243e-04, -9.65936633e-04,  4.67882404e-04,\n",
       "         1.68312050e-03, -7.86756791e-05,  5.26732882e-04, -8.55524093e-04,\n",
       "         9.69538873e-04,  1.80920237e-03,  2.75542913e-03,  3.69900302e-03,\n",
       "        -2.99945328e-04,  2.36047388e-04, -3.87502980e-04,  4.07199732e-05,\n",
       "         6.40285725e-04,  1.13406197e-04, -4.84420423e-04,  2.06353469e-03,\n",
       "        -1.56513788e-03,  2.56464176e-04,  3.64383421e-04, -9.79291741e-04,\n",
       "         3.18019744e-03, -3.07601353e-04,  5.04965894e-04,  6.94230257e-05,\n",
       "         8.36757827e-04, -5.36862528e-04,  1.10562867e-03,  8.37467145e-04,\n",
       "         1.04250957e-03,  7.79937021e-04,  2.26058663e-04, -4.16944647e-04,\n",
       "         2.52810656e-03,  4.19294694e-03, -8.70780088e-04, -7.04268983e-04,\n",
       "         8.11509322e-04,  4.17669164e-03, -1.60361896e-03, -2.04278878e-03,\n",
       "         4.21375211e-04,  1.83490978e-04,  1.04201667e-03,  9.43386636e-04,\n",
       "         3.87964491e-03,  6.45179674e-03, -4.85816883e-04,  1.67527737e-03,\n",
       "         1.03855075e-03,  1.88042723e-05,  1.42718037e-03,  4.77875030e-04,\n",
       "         8.84145673e-04,  6.08467206e-04, -1.23965554e-04,  1.10343797e-03,\n",
       "         3.55390919e-04, -1.23903365e-03, -9.57193493e-04, -2.57866457e-04,\n",
       "         3.27753864e-04, -2.57255044e-04, -3.15014302e-04,  2.48141726e-03,\n",
       "         1.38437783e-04,  2.95408572e-05,  1.74206027e-04, -9.74343566e-04,\n",
       "         1.04035763e-03,  1.22794998e-03,  2.95782415e-03,  2.01184745e-03,\n",
       "         1.33545545e-03,  4.41011245e-04,  8.11207574e-04,  1.40003022e-03,\n",
       "         2.44453287e-04, -4.96627879e-04,  1.20482255e-04,  1.63679547e-03,\n",
       "        -1.83132506e-04,  9.08945745e-04,  1.37808413e-04, -3.68063571e-04,\n",
       "         5.54446829e-04, -2.15736814e-04,  8.08820885e-04, -3.89218098e-04,\n",
       "         1.64404395e-03, -1.23907754e-03,  3.53358570e-03, -5.70795033e-04,\n",
       "         4.85030608e-03,  2.47253865e-05,  4.37306764e-04,  2.18157773e-03,\n",
       "        -9.62951963e-05, -8.17932363e-04, -5.24147836e-05, -1.90536561e-03,\n",
       "        -1.07550422e-05, -6.11464260e-04,  7.57121370e-06, -1.85037090e-03,\n",
       "         2.25778739e-03, -1.89395112e-04, -6.88894361e-04,  3.37666553e-03,\n",
       "         2.42265919e-03,  6.41114275e-06, -2.64741771e-04, -3.19949002e-04,\n",
       "         6.64238934e-04,  2.82743480e-04,  2.37050597e-04,  4.86682809e-04,\n",
       "        -4.37513110e-04, -2.26377797e-05, -7.69487349e-04,  9.93208727e-04,\n",
       "        -5.25493415e-05,  4.59363182e-05, -6.06401241e-04,  2.98752682e-04,\n",
       "         2.03250784e-05,  1.13046134e-03,  4.33764566e-04,  1.45743747e-04,\n",
       "        -1.85161814e-04, -5.38071268e-04,  3.46321287e-03, -6.56654418e-04,\n",
       "        -4.58004943e-05,  3.79671017e-03, -4.23535792e-04, -4.16973053e-04,\n",
       "         1.06058375e-03,  2.43219547e-03, -6.17567915e-04, -8.43399539e-05,\n",
       "         3.26899812e-03,  9.37922741e-04,  2.79012802e-05, -1.10970670e-03,\n",
       "         4.02948260e-03, -2.21286013e-04, -1.75906607e-04,  1.26647914e-03,\n",
       "         1.21686702e-04, -1.16049596e-04,  2.23577663e-04, -8.39209592e-04,\n",
       "         1.56182342e-03, -9.43820924e-05,  2.71864148e-04, -1.84434437e-04,\n",
       "         2.61750910e-03,  9.40307393e-04,  8.91663833e-04,  2.65202834e-04,\n",
       "         3.01316148e-03,  8.80732958e-04, -1.59930569e-05,  2.32820935e-03,\n",
       "        -9.14784323e-04,  1.48512446e-03,  7.68424361e-04, -1.95011508e-03,\n",
       "         2.74197874e-03, -5.18438872e-04, -7.19565141e-04, -1.65631340e-04,\n",
       "         3.18816863e-03,  4.08762041e-03,  1.09373196e-03,  3.52363946e-04,\n",
       "        -1.92859850e-03,  2.59373512e-04,  2.54720449e-04, -9.49924637e-04,\n",
       "        -3.72110779e-04,  3.24382354e-03,  8.64779940e-05,  2.94747483e-03,\n",
       "         1.22107577e-03,  9.82641592e-04, -6.24724373e-04,  5.80557855e-04,\n",
       "         1.69752003e-03, -7.49070081e-04,  2.81620421e-03,  1.93468455e-04,\n",
       "         1.34280510e-03, -2.21248192e-04, -9.78371609e-05,  5.80554071e-04,\n",
       "         1.24299200e-03,  3.24257795e-04, -4.90679755e-04, -7.61779898e-04,\n",
       "        -1.10616791e-03,  1.75108225e-03, -6.09508133e-04,  1.73940591e-03,\n",
       "         2.15101136e-05,  3.16398335e-03,  3.30404087e-04,  2.97285260e-05,\n",
       "        -2.22201739e-03,  2.61253212e-03,  1.95163047e-05,  2.88002891e-04,\n",
       "        -5.19380264e-04,  5.01584364e-05, -4.25778504e-04, -8.19758861e-04,\n",
       "         8.08594807e-04,  1.32140325e-04, -8.37859290e-04,  9.48647270e-04,\n",
       "         1.09396479e-03,  3.25817964e-04, -7.27744889e-04, -1.56325241e-05,\n",
       "         8.99207022e-04,  3.08493647e-04, -4.41082811e-05, -1.48183166e-03,\n",
       "         1.24399678e-03,  4.00321296e-04, -2.10650018e-04,  6.08583156e-04,\n",
       "        -1.81395895e-04,  8.38242588e-04,  6.38180121e-04,  3.64889536e-04,\n",
       "         1.26198737e-03, -1.06992891e-04,  1.03198830e-03, -1.29398295e-05,\n",
       "         1.58286968e-03,  2.35907547e-03, -6.37498597e-05, -5.30324003e-04,\n",
       "         4.78112197e-04,  2.27683699e-06,  1.27956620e-03, -8.91531963e-05,\n",
       "         2.56377796e-04, -1.34240487e-04,  1.71851949e-04, -1.11544377e-03,\n",
       "         7.02891964e-04, -2.71591038e-04,  4.45746817e-04, -1.25774543e-03,\n",
       "         1.50069327e-03, -6.85354229e-04,  9.32349667e-06, -1.20416400e-03,\n",
       "         5.60512010e-04,  2.79693026e-03,  2.00345367e-03,  5.77168939e-05,\n",
       "        -7.15838542e-05, -7.15304282e-04, -2.84175796e-04,  7.19774340e-04,\n",
       "         3.54688498e-03,  1.05735601e-03,  1.73234497e-03,  2.64927791e-03,\n",
       "         1.76260993e-03,  2.21636830e-04,  9.46068263e-04, -9.55995871e-04,\n",
       "        -2.03209813e-04, -3.80963291e-04,  4.36531205e-04, -3.14485538e-03,\n",
       "         1.38848281e-05, -1.37281269e-04,  3.04132613e-04,  8.42758673e-05,\n",
       "         5.67080395e-04,  3.14226927e-04,  1.00546377e-03,  1.62213121e-03,\n",
       "         4.11201996e-04, -2.67490977e-03, -5.55571751e-04, -8.83218891e-04,\n",
       "        -1.11255632e-03,  5.51647681e-04,  1.65005086e-03, -9.32722323e-05,\n",
       "         1.07977388e-03, -6.37677207e-04, -1.49647112e-03, -3.95574025e-04,\n",
       "         1.23423501e-03,  2.22401810e-04, -5.94324782e-04,  2.93674483e-03,\n",
       "        -8.08683981e-04,  4.91323415e-04,  2.77113426e-03,  2.32584687e-04,\n",
       "         9.70775960e-04,  1.44860996e-06, -5.37231215e-04, -1.09085115e-03,\n",
       "        -1.83650671e-04,  2.35779164e-03, -9.16895224e-04, -6.46514891e-05,\n",
       "        -6.62913999e-06,  4.71236126e-04, -3.26616602e-04,  9.26591107e-04,\n",
       "         1.10118615e-03, -5.09067431e-05, -2.75824550e-05, -1.16442470e-03,\n",
       "         1.29165489e-03,  9.68949462e-04,  3.08157504e-03,  1.03931226e-04,\n",
       "        -8.53519305e-04, -1.92435356e-04,  8.83837117e-07, -3.19621322e-04,\n",
       "         2.14628759e-04, -2.88289419e-04, -4.68004757e-04, -3.36317782e-04,\n",
       "         4.57960926e-03, -1.45370467e-03, -5.08048630e-04, -2.14289088e-04,\n",
       "        -1.42511167e-03, -2.95874215e-05, -5.94537880e-04,  9.42303741e-04],\n",
       "       dtype=float32)>,\n",
       " <tf.Variable 'fc1/kernel:0' shape=(41472, 4096) dtype=float32, numpy=\n",
       " array([[-0.00701097, -0.00510254, -0.00488495, ..., -0.00192026,\n",
       "          0.01020574,  0.00744724],\n",
       "        [ 0.00406521, -0.01058334, -0.00391656, ..., -0.0046655 ,\n",
       "          0.00271025, -0.00652269],\n",
       "        [-0.0087348 ,  0.00287628,  0.00138599, ...,  0.00199908,\n",
       "          0.00251371, -0.00218952],\n",
       "        ...,\n",
       "        [ 0.00563554, -0.00494287, -0.00763405, ..., -0.00266529,\n",
       "          0.00062826, -0.00775514],\n",
       "        [-0.00398392, -0.00679811, -0.00800301, ..., -0.00206321,\n",
       "          0.01128666,  0.00614572],\n",
       "        [-0.01091369, -0.0048689 ,  0.01134221, ..., -0.00349196,\n",
       "          0.00856082,  0.0019736 ]], dtype=float32)>,\n",
       " <tf.Variable 'fc1/bias:0' shape=(4096,) dtype=float32, numpy=\n",
       " array([ 0.        ,  0.00089562,  0.        , ...,  0.        ,\n",
       "         0.        , -0.00010173], dtype=float32)>,\n",
       " <tf.Variable 'fc2/kernel:0' shape=(4096, 4096) dtype=float32, numpy=\n",
       " array([[-0.0070926 , -0.0137289 ,  0.01984611, ...,  0.02286484,\n",
       "          0.01870577,  0.00376349],\n",
       "        [-0.02475363, -0.00449468, -0.02301282, ...,  0.02028811,\n",
       "          0.02477759, -0.00513218],\n",
       "        [ 0.00293841,  0.00530924,  0.00380712, ...,  0.0147318 ,\n",
       "          0.01280501, -0.01421946],\n",
       "        ...,\n",
       "        [ 0.01892808,  0.00503521, -0.00558778, ..., -0.01955513,\n",
       "         -0.01062569, -0.00244677],\n",
       "        [ 0.02097495, -0.01198611, -0.02540686, ...,  0.02260846,\n",
       "          0.01393727,  0.00501988],\n",
       "        [ 0.0132432 ,  0.02249814, -0.0093985 , ..., -0.01213443,\n",
       "          0.0213727 , -0.02668922]], dtype=float32)>,\n",
       " <tf.Variable 'fc2/bias:0' shape=(4096,) dtype=float32, numpy=\n",
       " array([-0.00283896,  0.        ,  0.        , ...,  0.00018274,\n",
       "         0.        ,  0.00047902], dtype=float32)>,\n",
       " <tf.Variable 'predictio/kernel:0' shape=(4096, 10) dtype=float32, numpy=\n",
       " array([[-0.01954783, -0.01994863, -0.00867439, ...,  0.03103826,\n",
       "         -0.02771362,  0.02987356],\n",
       "        [ 0.01412214, -0.02127224,  0.01851936, ...,  0.01222215,\n",
       "         -0.00116782,  0.03171626],\n",
       "        [ 0.0265341 , -0.01063686, -0.00486838, ..., -0.00027625,\n",
       "          0.03105582, -0.03625613],\n",
       "        ...,\n",
       "        [-0.03615411, -0.03787845, -0.02503508, ...,  0.0338444 ,\n",
       "         -0.03710618, -0.01514809],\n",
       "        [-0.01276202, -0.01912727,  0.00441385, ..., -0.03183383,\n",
       "          0.01657178,  0.02415976],\n",
       "        [ 0.03705912,  0.01290321,  0.0361012 , ...,  0.00822082,\n",
       "         -0.01067324, -0.02741319]], dtype=float32)>,\n",
       " <tf.Variable 'predictio/bias:0' shape=(10,) dtype=float32, numpy=\n",
       " array([-0.01299243,  0.03212032,  0.0089006 ,  0.02687605,  0.03009099,\n",
       "        -0.0214453 , -0.01669262, -0.01006119, -0.02543017, -0.01136627],\n",
       "       dtype=float32)>]"
      ]
     },
     "execution_count": 23,
     "metadata": {},
     "output_type": "execute_result"
    }
   ],
   "source": [
    "# look at model weights\n",
    "model.weights"
   ]
  },
  {
   "cell_type": "code",
   "execution_count": null,
   "metadata": {},
   "outputs": [],
   "source": [
    "#########################################\n",
    "# evaluate the model\n",
    "#########################################"
   ]
  },
  {
   "cell_type": "code",
   "execution_count": 27,
   "metadata": {},
   "outputs": [
    {
     "name": "stdout",
     "output_type": "stream",
     "text": [
      "dict_keys(['loss', 'accuracy', 'val_loss', 'val_accuracy'])\n"
     ]
    },
    {
     "data": {
      "text/plain": [
       "<matplotlib.legend.Legend at 0x1390aaca0>"
      ]
     },
     "execution_count": 27,
     "metadata": {},
     "output_type": "execute_result"
    },
    {
     "data": {
      "image/png": "[encoded data removed]",
      "text/plain": [
       "<Figure size 432x288 with 1 Axes>"
      ]
     },
     "metadata": {
      "needs_background": "light"
     },
     "output_type": "display_data"
    }
   ],
   "source": [
    "# printing a graph showing the accuracy changes during the training phase\n",
    "print(history.history.keys())\n",
    "plt.figure(1)\n",
    "plt.plot(history.history[\"accuracy\"])\n",
    "plt.plot(history.history[\"val_accuracy\"])\n",
    "plt.title(\"model acc\")\n",
    "plt.ylabel(\"accuracy\")\n",
    "plt.xlabel(\"epoch\")\n",
    "plt.legend([\"train\", \"validation\"], loc=\"upper left\")"
   ]
  },
  {
   "cell_type": "code",
   "execution_count": 28,
   "metadata": {},
   "outputs": [
    {
     "data": {
      "image/png": "[encoded data removed]",
      "text/plain": [
       "<Figure size 432x288 with 1 Axes>"
      ]
     },
     "metadata": {
      "needs_background": "light"
     },
     "output_type": "display_data"
    }
   ],
   "source": [
    "# visualize the loss function of model\n",
    "acc = history.history[\"accuracy\"]\n",
    "val_acc = history.history[\"val_accuracy\"]\n",
    "loss = history.history[\"loss\"]\n",
    "val_loss = history.history[\"val_loss\"]\n",
    "\n",
    "epochs = range(len(acc))\n",
    "plt.plot(epochs, loss, \"bo\", label=\"Training loss\")\n",
    "plt.plot(epochs, val_loss, \"b\", label=\"Validation loss\")\n",
    "plt.title(\"Training and validation loss\")\n",
    "plt.legend()\n",
    "\n",
    "plt.show()"
   ]
  },
  {
   "cell_type": "code",
   "execution_count": 31,
   "metadata": {},
   "outputs": [
    {
     "name": "stdout",
     "output_type": "stream",
     "text": [
      "Accuracy: 18.22%\n",
      "Loss = [0.0961475  0.10794386 0.10252418 0.1078522  0.10910279 0.09386655\n",
      " 0.09505761 0.09692644 0.09391245 0.09666646]\n"
     ]
    }
   ],
   "source": [
    "# evaluate the model's performance with test data\n",
    "# this is a dataset the model has never seen before; this is another good check for overfitting\n",
    "scores = model.evaluate(test_x, test_y, verbose=1)\n",
    "print(\"Accuracy: %.2f%%\" % (scores[1] * 100))\n",
    "print(\"Loss = \" + str(y_pred[0]))"
   ]
  },
  {
   "cell_type": "code",
   "execution_count": 30,
   "metadata": {},
   "outputs": [
    {
     "name": "stdout",
     "output_type": "stream",
     "text": [
      "22/22 [==============================] - 150s 7s/step\n"
     ]
    }
   ],
   "source": [
    "# predicting values\n",
    "y_pred = model.predict(test_x)"
   ]
  },
  {
   "cell_type": "code",
   "execution_count": 36,
   "metadata": {},
   "outputs": [
    {
     "name": "stdout",
     "output_type": "stream",
     "text": [
      "[0.0961475  0.10794386 0.10252418 0.1078522  0.10910279 0.09386655\n",
      " 0.09505761 0.09692644 0.09391245 0.09666646]\n",
      "[0.09619007 0.10838489 0.10235485 0.10751452 0.10877624 0.09410159\n",
      " 0.09526902 0.09686358 0.09392279 0.09662245]\n",
      "[0.09620972 0.10788199 0.10244542 0.10803989 0.10913809 0.09391394\n",
      " 0.09502465 0.09687536 0.09383199 0.09663893]\n",
      "[0.09612342 0.10783418 0.10239353 0.10812313 0.10915951 0.09382177\n",
      " 0.09505828 0.09692156 0.09388395 0.09668065]\n",
      "[0.09627409 0.10796294 0.10241117 0.10782134 0.10898051 0.09402884\n",
      " 0.09512824 0.09684353 0.09389438 0.09665495]\n",
      "[0.09612756 0.10797695 0.10248969 0.10803953 0.10917921 0.09384254\n",
      " 0.09504272 0.09682445 0.09384247 0.09663486]\n",
      "[0.09618876 0.10836009 0.1023878  0.10756838 0.10880831 0.0940726\n",
      " 0.09524186 0.09683824 0.09392359 0.09661033]\n",
      "[0.09612218 0.10801022 0.10241853 0.10798699 0.10909642 0.09395403\n",
      " 0.09506386 0.09684517 0.09387323 0.09662931]\n",
      "[0.09619421 0.10838229 0.10238242 0.10753983 0.10876988 0.0940995\n",
      " 0.09523921 0.0968703  0.09391035 0.09661204]\n",
      "[0.09617762 0.10807166 0.10238639 0.10784601 0.10900138 0.09398765\n",
      " 0.09517716 0.09685985 0.093854   0.09663827]\n",
      "[0.09613549 0.10795808 0.10252243 0.10803396 0.10921009 0.09382571\n",
      " 0.0950022  0.09684226 0.09384861 0.09662115]\n",
      "[0.09618954 0.10804234 0.10251064 0.10788162 0.10903422 0.09392715\n",
      " 0.09506484 0.09681252 0.09390229 0.09663481]\n",
      "[0.09611611 0.10781647 0.10247387 0.10812251 0.10922889 0.09382498\n",
      " 0.09498832 0.09689861 0.0938575  0.0966728 ]\n",
      "[0.09618498 0.10806312 0.10247199 0.10793582 0.10909879 0.0938486\n",
      " 0.09504999 0.09685525 0.09389243 0.09659901]\n",
      "[0.09610743 0.10785903 0.1024716  0.10800287 0.10909384 0.09389807\n",
      " 0.09504433 0.09690121 0.09392118 0.0967005 ]\n",
      "[0.09614849 0.10835711 0.10238186 0.10759127 0.10885287 0.09405752\n",
      " 0.09522913 0.09684781 0.09392868 0.09660529]\n",
      "[0.09616195 0.10807426 0.1024636  0.10785741 0.10905208 0.0939415\n",
      " 0.09510934 0.09685063 0.09387158 0.09661764]\n",
      "[0.09612552 0.10790621 0.10253561 0.10811435 0.10924221 0.09379765\n",
      " 0.09497114 0.09681732 0.0938156  0.09667436]\n",
      "[0.09621596 0.10798726 0.10244738 0.10795669 0.10910193 0.09390794\n",
      " 0.09506157 0.09685937 0.09384192 0.09661998]\n",
      "[0.09619591 0.10798036 0.10237192 0.10792001 0.10898557 0.09397964\n",
      " 0.09514923 0.09688217 0.0938633  0.09667184]\n",
      "[0.09610976 0.10796785 0.10249645 0.10800751 0.10916562 0.09384792\n",
      " 0.09505479 0.09684692 0.09385447 0.09664875]\n",
      "[0.096193   0.10796143 0.10234296 0.1079092  0.10909028 0.09400509\n",
      " 0.09510291 0.09685619 0.09388594 0.09665309]\n",
      "[0.09615255 0.10829324 0.10247472 0.10765741 0.10892231 0.09400628\n",
      " 0.09520121 0.09682745 0.09388125 0.09658365]\n",
      "[0.09611627 0.10808402 0.10243759 0.10789283 0.10904425 0.09394749\n",
      " 0.09510719 0.09685937 0.0938691  0.09664193]\n",
      "[0.09615096 0.10830611 0.10242122 0.10769288 0.10893191 0.09399591\n",
      " 0.09518401 0.09684157 0.09391265 0.0965628 ]\n",
      "[0.09620753 0.10785434 0.10250735 0.10803545 0.1091306  0.09384695\n",
      " 0.09495541 0.09691454 0.09389552 0.09665227]\n",
      "[0.09621625 0.10838048 0.10241133 0.10752521 0.10878664 0.09408808\n",
      " 0.09525003 0.09682629 0.09390197 0.09661376]\n",
      "[0.0961186  0.10787621 0.10247046 0.10806909 0.10923668 0.09382948\n",
      " 0.0950055  0.09688486 0.09385262 0.09665651]\n",
      "[0.0961114  0.10808237 0.10246815 0.10796567 0.10916883 0.09387285\n",
      " 0.09501514 0.09682235 0.09386113 0.09663212]\n",
      "[0.09615263 0.10796503 0.10253592 0.10793996 0.10910235 0.09387492\n",
      " 0.09503223 0.09687719 0.09385318 0.09666663]\n",
      "[0.09618364 0.10797997 0.10241535 0.10792445 0.10903465 0.09392305\n",
      " 0.09511639 0.0969255  0.09387101 0.09662594]\n",
      "[0.096131   0.10793259 0.10246771 0.10808121 0.10917548 0.09381738\n",
      " 0.09502552 0.09686765 0.09385841 0.09664315]\n",
      "[0.09618074 0.10779423 0.10244092 0.10811421 0.10913606 0.09388639\n",
      " 0.0950218  0.09686586 0.09388565 0.09667417]\n",
      "[0.09619429 0.10839008 0.10236317 0.10753953 0.1087778  0.09409602\n",
      " 0.09527139 0.09684256 0.09391209 0.09661307]\n",
      "[0.09619407 0.1083639  0.10232981 0.1075316  0.10877515 0.09410412\n",
      " 0.09527426 0.09686816 0.09392795 0.09663103]\n",
      "[0.09616511 0.10784819 0.10245944 0.10808259 0.10919976 0.09383551\n",
      " 0.09500402 0.09684723 0.09385124 0.09670694]\n",
      "[0.0961364  0.10817644 0.10242554 0.10784598 0.10902556 0.09396285\n",
      " 0.0951291  0.0968332  0.09386255 0.09660242]\n",
      "[0.09614325 0.10794625 0.10248043 0.10804035 0.10915171 0.09381422\n",
      " 0.09505581 0.09688907 0.09383707 0.09664182]\n",
      "[0.09614545 0.10825663 0.10246746 0.10769101 0.108936   0.09395719\n",
      " 0.09519493 0.09687812 0.09388251 0.0965907 ]\n",
      "[0.09617985 0.10841089 0.10237179 0.10753433 0.10878514 0.09409901\n",
      " 0.09526754 0.09684093 0.09390596 0.09660453]\n",
      "[0.09623336 0.1081089  0.10234568 0.10770417 0.10888217 0.09413853\n",
      " 0.09519643 0.09688743 0.09390905 0.0965942 ]\n",
      "[0.09621997 0.10830095 0.10232954 0.10760389 0.10883959 0.09407473\n",
      " 0.09526825 0.09684016 0.09390023 0.09662267]\n",
      "[0.09617095 0.10798108 0.10242345 0.10799998 0.10909959 0.09385328\n",
      " 0.09507746 0.0969117  0.09385177 0.09663079]\n",
      "[0.09605949 0.10800225 0.10246041 0.10800478 0.10920451 0.09387056\n",
      " 0.09507916 0.09680597 0.09387457 0.09663829]\n",
      "[0.09614033 0.10831719 0.10239363 0.10766616 0.10890158 0.09402157\n",
      " 0.09522754 0.0968489  0.093917   0.09656608]\n",
      "[0.09618653 0.10794547 0.10242352 0.10790115 0.10901397 0.09400458\n",
      " 0.09511147 0.09685245 0.0938719  0.09668901]\n",
      "[0.09620732 0.10807364 0.10241384 0.10786113 0.10900192 0.09390721\n",
      " 0.09511792 0.0968855  0.09387548 0.09665602]\n",
      "[0.09613387 0.10791998 0.10243672 0.10802215 0.10916708 0.09387638\n",
      " 0.09505439 0.09687953 0.09385613 0.09665374]\n",
      "[0.09605964 0.10808757 0.10244773 0.1079268  0.10907862 0.09395658\n",
      " 0.09510632 0.09684676 0.09385289 0.09663706]\n",
      "[0.09619539 0.10786678 0.102437   0.10800027 0.10913569 0.09386329\n",
      " 0.09508765 0.09690322 0.09384632 0.09666443]\n",
      "[0.09609964 0.10782261 0.10249861 0.10815154 0.10922183 0.093792\n",
      " 0.09498741 0.09687508 0.09386604 0.09668523]\n",
      "[0.0962061  0.10791648 0.10239218 0.10800424 0.10904869 0.09391391\n",
      " 0.09508117 0.09689646 0.09388295 0.09665778]\n",
      "[0.09619091 0.10837337 0.10234381 0.10752399 0.10882384 0.09408253\n",
      " 0.09527331 0.09684318 0.09391174 0.0966334 ]\n",
      "[0.09611157 0.10793694 0.1024615  0.10806766 0.10919659 0.09382513\n",
      " 0.095011   0.09687499 0.09386706 0.09664752]\n",
      "[0.09611389 0.10789368 0.10252985 0.10812608 0.10925592 0.09378719\n",
      " 0.09493161 0.0968452  0.09383443 0.09668222]\n",
      "[0.09612367 0.10804162 0.10253718 0.10798278 0.1091328  0.09386071\n",
      " 0.09501111 0.09682708 0.09383692 0.09664612]\n",
      "[0.09619346 0.10798392 0.10238538 0.10795564 0.10904977 0.09397274\n",
      " 0.09511691 0.09688538 0.09382735 0.09662944]\n",
      "[0.09629935 0.10796642 0.10231076 0.10726143 0.10853899 0.09431207\n",
      " 0.09544197 0.09701368 0.09414463 0.0967107 ]\n",
      "[0.09616615 0.107953   0.10244227 0.10794784 0.10907694 0.09386612\n",
      " 0.09508847 0.09692674 0.09389076 0.09664179]\n",
      "[0.0961849  0.10840584 0.10235626 0.10753135 0.10878444 0.09410351\n",
      " 0.09526083 0.09684952 0.09391505 0.09660828]\n",
      "[0.09620339 0.10809265 0.10248649 0.10780042 0.10897968 0.09390472\n",
      " 0.09512669 0.09686144 0.0938853  0.09665918]\n",
      "[0.09609435 0.10808901 0.10249121 0.10790106 0.10908992 0.09389663\n",
      " 0.09506832 0.09686857 0.09386904 0.09663187]\n",
      "[0.09611586 0.10799188 0.10244201 0.10792227 0.10904384 0.0939666\n",
      " 0.09510095 0.09687069 0.09391534 0.0966306 ]\n",
      "[0.09628715 0.10806669 0.10239055 0.10761868 0.10885427 0.09405463\n",
      " 0.09520567 0.09686784 0.09396102 0.09669352]\n",
      "[0.09612668 0.10781708 0.10251157 0.10809713 0.1092208  0.09381079\n",
      " 0.09498845 0.09688098 0.09386657 0.09667993]\n",
      "[0.09618474 0.1083845  0.10237291 0.10753584 0.10876979 0.0940993\n",
      " 0.09526481 0.09686213 0.0939169  0.09660907]\n",
      "[0.09612973 0.1080602  0.10243817 0.10789223 0.10901628 0.09395399\n",
      " 0.095134   0.09688945 0.09383814 0.09664785]\n",
      "[0.09615923 0.10835059 0.10237362 0.10764848 0.10885654 0.09404605\n",
      " 0.0952346  0.09681967 0.09391084 0.0966004 ]\n",
      "[0.09616506 0.10838019 0.10237905 0.1075584  0.10882674 0.09407716\n",
      " 0.09526169 0.0968428  0.09390993 0.09659905]\n",
      "[0.09616794 0.10828859 0.10243984 0.10766365 0.10890601 0.09405784\n",
      " 0.09516858 0.0968237  0.09390623 0.09657766]\n",
      "[0.09611151 0.10785985 0.10248481 0.1081166  0.1092089  0.09376851\n",
      " 0.09499535 0.09690367 0.09387644 0.09667443]\n",
      "[0.0964634  0.10787158 0.10220616 0.10753008 0.10862821 0.09424786\n",
      " 0.09536385 0.09692498 0.09402698 0.09673693]\n",
      "[0.09616518 0.1078111  0.10239454 0.10811036 0.10913118 0.09388761\n",
      " 0.0950614  0.09690707 0.09386244 0.09666919]\n",
      "[0.0962074  0.10785272 0.1025259  0.10808782 0.10918496 0.09380773\n",
      " 0.09494734 0.09685921 0.09385649 0.09667039]\n",
      "[0.0961834  0.10814566 0.10239644 0.10780847 0.1089984  0.09397791\n",
      " 0.09518705 0.09683029 0.09385336 0.09661897]\n",
      "[0.09609668 0.1079102  0.10254705 0.10810243 0.10922954 0.09375124\n",
      " 0.09496865 0.0968565  0.09385453 0.09668312]\n",
      "[0.09609534 0.10804495 0.10241967 0.10801541 0.10913657 0.09391838\n",
      " 0.09505684 0.09681964 0.09385327 0.09663995]\n",
      "[0.09612592 0.10802852 0.10249826 0.1079493  0.10913718 0.09388669\n",
      " 0.09503832 0.09685933 0.09384585 0.0966307 ]\n",
      "[0.09617603 0.10833234 0.10245996 0.1075688  0.10884171 0.09405729\n",
      " 0.09521365 0.09682547 0.09390462 0.09662013]\n",
      "[0.09609975 0.10797372 0.10250061 0.10805476 0.10919424 0.09381682\n",
      " 0.09498368 0.09682927 0.09387929 0.09666789]\n",
      "[0.09610292 0.10790514 0.10247765 0.10809039 0.10918817 0.0938438\n",
      " 0.09498536 0.09687697 0.09385798 0.09667165]\n",
      "[0.09615345 0.10782517 0.10243195 0.10810028 0.10915138 0.09387159\n",
      " 0.09500132 0.09691241 0.09388141 0.0966711 ]\n",
      "[0.09616057 0.10826194 0.10244697 0.10771351 0.10892157 0.09398558\n",
      " 0.09518091 0.09679392 0.09391011 0.09662491]\n",
      "[0.09615412 0.10831925 0.10242657 0.10765567 0.10890868 0.09401325\n",
      " 0.0952013  0.09682108 0.093903   0.09659706]\n",
      "[0.0961457  0.10815493 0.10248259 0.10788145 0.10905611 0.09386075\n",
      " 0.09512894 0.09684404 0.09381991 0.09662558]\n",
      "[0.09613509 0.10824198 0.10244685 0.1077858  0.10899735 0.0939633\n",
      " 0.0951321  0.09684318 0.09386068 0.09659369]\n",
      "[0.09614106 0.10792249 0.10247853 0.10808977 0.10916395 0.09375788\n",
      " 0.0949882  0.09691724 0.09386884 0.09667207]\n",
      "[0.0961815  0.10798402 0.1024702  0.10801413 0.10914049 0.093853\n",
      " 0.0950506  0.09686101 0.09380842 0.09663659]\n",
      "[0.09614618 0.10788863 0.1024293  0.10801631 0.10910782 0.09389424\n",
      " 0.0950896  0.09688474 0.09388634 0.09665687]\n",
      "[0.09612697 0.10781288 0.10246813 0.10804646 0.10921956 0.09380941\n",
      " 0.09507154 0.09689808 0.09387188 0.09667509]\n",
      "[0.09615196 0.10808128 0.1024694  0.10791622 0.10905396 0.09390577\n",
      " 0.09508147 0.09686144 0.09385647 0.096622  ]\n",
      "[0.09613288 0.10796329 0.10242651 0.10803447 0.10908656 0.09387442\n",
      " 0.0950561  0.09689623 0.09385739 0.09667221]\n",
      "[0.09614298 0.10789447 0.10243592 0.10802145 0.10912729 0.09382677\n",
      " 0.0950429  0.09693999 0.09387632 0.09669194]\n",
      "[0.09612035 0.1078269  0.10246758 0.10804778 0.10919723 0.09382992\n",
      " 0.09505225 0.09690794 0.09385145 0.09669863]\n",
      "[0.09615791 0.1079854  0.10244633 0.10793    0.10910571 0.09390757\n",
      " 0.09511328 0.09686207 0.0938417  0.09664998]\n",
      "[0.09613122 0.10806663 0.10244697 0.10793253 0.10909092 0.09390101\n",
      " 0.09509589 0.09683498 0.09386679 0.09663308]\n",
      "[0.09613874 0.10821622 0.10249786 0.10773698 0.10900217 0.09396575\n",
      " 0.09516047 0.0968298  0.0938553  0.09659668]\n",
      "[0.09611491 0.10802395 0.10247201 0.10790562 0.10906305 0.09392206\n",
      " 0.09510479 0.096858   0.09388306 0.09665258]\n",
      "[0.09618299 0.10835244 0.1023785  0.1075326  0.10876825 0.09410287\n",
      " 0.09527537 0.09686982 0.09392575 0.09661146]\n",
      "[0.09619103 0.10841452 0.10234784 0.10754329 0.10880835 0.09408835\n",
      " 0.09525622 0.09684323 0.09389846 0.09660871]\n",
      "[0.09616761 0.10796206 0.1024003  0.10798375 0.10907707 0.09392785\n",
      " 0.0950812  0.09688272 0.09385209 0.09666533]\n",
      "[0.09611876 0.10789747 0.10247701 0.10806991 0.10918039 0.09386344\n",
      " 0.09499148 0.09688031 0.09386043 0.09666081]\n",
      "[0.09613092 0.10794628 0.10243405 0.10796892 0.10905491 0.09395416\n",
      " 0.09508738 0.09688574 0.09388606 0.09665157]\n",
      "[0.09616417 0.10788949 0.10255827 0.10804316 0.1091699  0.09383707\n",
      " 0.09496555 0.09688    0.09384941 0.09664293]\n",
      "[0.09616261 0.1083902  0.10242851 0.10759971 0.10885534 0.09405312\n",
      " 0.09520663 0.09680346 0.09391681 0.09658362]\n",
      "[0.09615622 0.10807338 0.10240152 0.10785803 0.10902708 0.09397732\n",
      " 0.09514584 0.09682719 0.09384664 0.09668679]\n",
      "[0.09614082 0.10805257 0.1024837  0.10793861 0.10910458 0.09385272\n",
      " 0.09507457 0.0968444  0.09386721 0.09664083]\n",
      "[0.09618175 0.1081137  0.10244197 0.10786161 0.10901121 0.09395626\n",
      " 0.095106   0.09686505 0.09383814 0.09662434]\n",
      "[0.0961966  0.10835986 0.10236515 0.10752507 0.10877319 0.09410749\n",
      " 0.09526666 0.0968684  0.09391664 0.09662087]\n",
      "[0.09619144 0.10793958 0.10246194 0.10803859 0.10914296 0.09385297\n",
      " 0.09499659 0.09686682 0.09387631 0.09663285]\n",
      "[0.09630298 0.1078399  0.10242767 0.10775422 0.10895316 0.09413625\n",
      " 0.09513322 0.09685422 0.09394399 0.09665442]\n",
      "[0.09614282 0.10820574 0.10242646 0.10776802 0.10902073 0.09399924\n",
      " 0.09518311 0.09680112 0.09386989 0.0965829 ]\n",
      "[0.09618311 0.10792591 0.10240314 0.10802913 0.10909257 0.0938803\n",
      " 0.09507672 0.0968837  0.09381725 0.09670808]\n",
      "[0.09617539 0.1079201  0.10246996 0.10807391 0.10916835 0.0938608\n",
      " 0.09498864 0.0968658  0.093829   0.09664802]\n",
      "[0.09620742 0.10830267 0.10233261 0.10754786 0.10874493 0.09411456\n",
      " 0.09527986 0.0969009  0.09392779 0.09664135]\n",
      "[0.09615145 0.10799825 0.10245474 0.1079625  0.10909261 0.09396068\n",
      " 0.09506324 0.09684192 0.09382951 0.09664511]\n",
      "[0.09618267 0.10835385 0.10232145 0.1075629  0.1087988  0.09407459\n",
      " 0.0952792  0.09686804 0.09392162 0.09663682]\n",
      "[0.09613191 0.10802852 0.10257217 0.10803864 0.10922498 0.09375513\n",
      " 0.09497189 0.09678651 0.09386011 0.09663014]\n",
      "[0.09613532 0.10802839 0.10255179 0.10805856 0.10919344 0.09376369\n",
      " 0.09498216 0.09683608 0.09384362 0.09660698]\n",
      "[0.09611414 0.1080639  0.10251074 0.10794275 0.10912711 0.09384304\n",
      " 0.09507842 0.09685344 0.0938498  0.09661666]\n",
      "[0.09619071 0.10836506 0.10237088 0.10753593 0.1087726  0.09409535\n",
      " 0.09525876 0.09686884 0.09392338 0.09661853]\n",
      "[0.09622107 0.10807742 0.10242865 0.10779565 0.10898449 0.09397272\n",
      " 0.09516742 0.09685898 0.09386794 0.09662562]\n",
      "[0.09618419 0.10833769 0.10239964 0.10760029 0.10882396 0.09407972\n",
      " 0.09521677 0.0968446  0.09389454 0.09661859]\n",
      "[0.09615256 0.10810257 0.10236314 0.10786831 0.10903525 0.09389904\n",
      " 0.09517302 0.09685139 0.09386928 0.09668545]\n",
      "[0.09616671 0.10800613 0.10238653 0.10794864 0.10903941 0.09393777\n",
      " 0.09511897 0.09685579 0.0938674  0.0966727 ]\n",
      "[0.09618665 0.10835446 0.10237582 0.10753483 0.10876741 0.09410977\n",
      " 0.09526221 0.09687353 0.09392839 0.09660684]\n",
      "[0.09617893 0.10823862 0.10240278 0.10766251 0.10890051 0.09402998\n",
      " 0.09521791 0.09684083 0.09392405 0.09660389]\n",
      "[0.09608978 0.10826043 0.10247051 0.10770785 0.10898599 0.09401661\n",
      " 0.09516662 0.09680498 0.0938914  0.09660585]\n",
      "[0.09613423 0.10800112 0.10247344 0.10796229 0.10913478 0.09391221\n",
      " 0.09506756 0.09686688 0.09383838 0.09660911]\n",
      "[0.0961512  0.10797454 0.10242251 0.10794578 0.10908576 0.09392645\n",
      " 0.09513178 0.09687151 0.09385047 0.09663991]\n",
      "[0.09620944 0.10803555 0.10239489 0.10789209 0.109054   0.09394055\n",
      " 0.09513336 0.09685284 0.09386447 0.09662279]\n",
      "[0.09619509 0.10839639 0.10235387 0.10755519 0.10881709 0.09408333\n",
      " 0.09524775 0.0968182  0.0939192  0.09661388]\n",
      "[0.09618531 0.108371   0.10235026 0.1075578  0.10882057 0.0940865\n",
      " 0.09525884 0.09681686 0.09393062 0.0966223 ]\n",
      "[0.09608811 0.1079087  0.10244326 0.10806517 0.10919652 0.09389073\n",
      " 0.09503178 0.0968434  0.09384547 0.09668687]\n",
      "[0.096181   0.10838612 0.10234391 0.10754872 0.10882653 0.09408929\n",
      " 0.09526569 0.09684522 0.09391937 0.0965941 ]\n",
      "[0.09609624 0.1080442  0.10248361 0.10799637 0.10911346 0.09384009\n",
      " 0.09506067 0.09684902 0.09384055 0.09667583]\n",
      "[0.09613348 0.10786926 0.1025322  0.1081325  0.10925696 0.09378336\n",
      " 0.09494785 0.09684508 0.09384778 0.09665146]\n",
      "[0.09614629 0.10795878 0.10242464 0.10795484 0.10911403 0.09392649\n",
      " 0.09509837 0.09685647 0.09388047 0.09663965]\n",
      "[0.09614038 0.10787298 0.10245478 0.10802903 0.10914903 0.09387874\n",
      " 0.09504416 0.09692818 0.09383502 0.09666771]\n",
      "[0.09614766 0.10784301 0.10246044 0.10811277 0.10915729 0.09378275\n",
      " 0.09502977 0.09689444 0.09387369 0.09669811]\n",
      "[0.09616405 0.10793848 0.1024142  0.10800137 0.10912202 0.09390572\n",
      " 0.09503664 0.09689023 0.09387363 0.09665364]\n",
      "[0.09619717 0.10827604 0.10245182 0.1076085  0.10886727 0.09402015\n",
      " 0.09519853 0.09686662 0.09389777 0.09661612]\n",
      "[0.09619881 0.10789385 0.10246893 0.10801306 0.10908838 0.09388898\n",
      " 0.09503061 0.09689938 0.09387844 0.09663951]\n",
      "[0.09610374 0.10800935 0.10241608 0.10788422 0.10906441 0.09394263\n",
      " 0.09515332 0.09686632 0.09390081 0.09665906]\n",
      "[0.09610355 0.10793616 0.10251781 0.10798654 0.10907727 0.09387171\n",
      " 0.09507069 0.09688116 0.09389368 0.09666137]\n",
      "[0.09614533 0.10800605 0.10239679 0.10794006 0.10904525 0.0939692\n",
      " 0.09516678 0.09686998 0.09383452 0.096626  ]\n",
      "[0.0961272  0.10799317 0.10250287 0.10800405 0.10907563 0.09387405\n",
      " 0.0950201  0.09688538 0.09387217 0.09664535]\n",
      "[0.09609463 0.10828945 0.10245316 0.1077898  0.109066   0.09390751\n",
      " 0.09513868 0.09680662 0.0938657  0.09658842]\n",
      "[0.09614876 0.10815243 0.10242893 0.10773426 0.10892335 0.09402506\n",
      " 0.09519298 0.0968386  0.09390589 0.09664971]\n",
      "[0.09613166 0.10796392 0.10242458 0.10796041 0.10904402 0.09394492\n",
      " 0.09511433 0.09690206 0.09387977 0.09663434]\n",
      "[0.09612531 0.10806154 0.10254598 0.1079585  0.10918029 0.09379993\n",
      " 0.09505214 0.09680235 0.09385702 0.09661692]\n",
      "[0.09614599 0.10800394 0.10250366 0.10796706 0.10911323 0.09385373\n",
      " 0.09504023 0.09688168 0.09383056 0.09665993]\n",
      "[0.09616441 0.10816894 0.10238796 0.10779616 0.10899694 0.09401442\n",
      " 0.095167   0.09682867 0.09386823 0.09660734]\n",
      "[0.09618173 0.10840472 0.10236412 0.1075283  0.10878437 0.09410178\n",
      " 0.09525941 0.09685609 0.09392067 0.09659887]\n",
      "[0.09617172 0.1080261  0.10237751 0.10777753 0.10893169 0.0940208\n",
      " 0.0951766  0.09691929 0.09390783 0.09669095]\n",
      "[0.09635911 0.10776909 0.10239874 0.10760989 0.10877482 0.09420218\n",
      " 0.09523974 0.09691535 0.09403124 0.09669975]\n",
      "[0.09619303 0.10836316 0.1023921  0.10754239 0.10878821 0.09409699\n",
      " 0.09524829 0.09685957 0.09390576 0.0966105 ]\n",
      "[0.09620376 0.10836971 0.10235693 0.10753787 0.10879798 0.09410311\n",
      " 0.09526601 0.09682808 0.09392541 0.09661118]\n",
      "[0.0961163  0.10791653 0.10248388 0.10805178 0.1091863  0.09380873\n",
      " 0.09503404 0.09689324 0.09386364 0.09664556]\n",
      "[0.0961929  0.10791104 0.10239006 0.10796402 0.10906718 0.09395073\n",
      " 0.09512143 0.09687616 0.09387065 0.09665585]\n",
      "[0.09616769 0.10820897 0.10238802 0.10774475 0.10892214 0.09402707\n",
      " 0.09521058 0.09684375 0.09388556 0.09660147]\n",
      "[0.09609494 0.10808057 0.10247248 0.10794366 0.10913924 0.09392987\n",
      " 0.09506409 0.09680277 0.09389147 0.09658086]\n",
      "[0.09615172 0.10797046 0.10240378 0.1079829  0.10909571 0.09388854\n",
      " 0.09509537 0.09688067 0.09385372 0.09667706]\n",
      "[0.09617642 0.10813742 0.10237439 0.10783681 0.10900588 0.09397679\n",
      " 0.09514663 0.09686129 0.09387361 0.09661075]\n",
      "[0.0961502  0.10811267 0.10247377 0.1078813  0.10908491 0.09386901\n",
      " 0.09508324 0.09687426 0.09384426 0.09662632]\n",
      "[0.09610623 0.10809668 0.1024835  0.10798685 0.10915924 0.09385914\n",
      " 0.09502181 0.0968465  0.09381274 0.09662735]\n",
      "[0.09613463 0.10812578 0.10249218 0.10786609 0.10906911 0.09388273\n",
      " 0.09509392 0.09683887 0.09386973 0.09662694]\n",
      "[0.09616628 0.10791717 0.10242902 0.10806216 0.10913116 0.09383669\n",
      " 0.09503768 0.09688533 0.09385339 0.09668103]\n",
      "[0.0961045  0.10794684 0.10245614 0.10806103 0.10920175 0.09385043\n",
      " 0.09502123 0.09687689 0.09384628 0.09663482]\n",
      "[0.09612395 0.1079283  0.10250811 0.10805562 0.10912076 0.09392473\n",
      " 0.0949892  0.09686041 0.0938382  0.0966507 ]\n",
      "[0.09617849 0.10792156 0.10243405 0.10809741 0.10913216 0.09387425\n",
      " 0.09503031 0.0968555  0.09384943 0.09662684]\n",
      "[0.09619934 0.1083817  0.10237697 0.10753082 0.10878819 0.0940897\n",
      " 0.0952548  0.09684696 0.09391724 0.09661421]\n",
      "[0.09621201 0.10838862 0.10243171 0.10754079 0.10879764 0.09409608\n",
      " 0.0952245  0.09680135 0.09390091 0.09660634]\n",
      "[0.0961343  0.10810345 0.10241579 0.10791093 0.10906859 0.09394741\n",
      " 0.09512132 0.09685671 0.09383015 0.09661133]\n",
      "[0.09613583 0.108274   0.10241067 0.10770317 0.1089581  0.09401961\n",
      " 0.09518117 0.09682648 0.09392349 0.0965675 ]\n",
      "[0.09620523 0.10797259 0.10240878 0.10789944 0.10900521 0.09401098\n",
      " 0.09510302 0.09685451 0.09389032 0.09665   ]\n",
      "[0.0961682  0.10806719 0.1024614  0.10790934 0.10903578 0.09392096\n",
      " 0.09508457 0.09685312 0.09387399 0.09662545]\n",
      "[0.09615781 0.10800517 0.10246901 0.10795555 0.10906618 0.09387548\n",
      " 0.0950823  0.09686532 0.09386668 0.09665653]\n",
      "[0.09618815 0.10798751 0.10255999 0.10800708 0.10911923 0.09382435\n",
      " 0.09503284 0.09682886 0.09382051 0.09663141]\n",
      "[0.09612188 0.10787939 0.10241919 0.1081013  0.10919169 0.09380724\n",
      " 0.09505015 0.09688969 0.09387513 0.09666436]\n",
      "[0.09620176 0.10815137 0.1023438  0.10765586 0.10886922 0.0940422\n",
      " 0.09523052 0.09691996 0.09393007 0.09665523]\n",
      "[0.09614974 0.10837197 0.10245636 0.1075806  0.10886694 0.09407941\n",
      " 0.09520184 0.09683618 0.09387391 0.09658297]\n",
      "[0.09614259 0.10791251 0.10253116 0.10809512 0.10926081 0.09378109\n",
      " 0.09499808 0.09681268 0.09382317 0.09664284]\n",
      "[0.09614644 0.10818692 0.10242457 0.10779415 0.10897151 0.0939787\n",
      " 0.09517109 0.09684474 0.09388332 0.09659858]\n",
      "[0.0961758  0.10797279 0.10237384 0.107911   0.10902213 0.09397212\n",
      " 0.09513321 0.09689273 0.09387137 0.09667501]\n",
      "[0.09618238 0.10800967 0.10247257 0.1079354  0.10906672 0.09389234\n",
      " 0.09505422 0.09688436 0.09384225 0.09666001]\n",
      "[0.09615915 0.10801693 0.10246992 0.107965   0.10910059 0.09387659\n",
      " 0.09506419 0.09686119 0.0938328  0.09665358]\n",
      "[0.09615839 0.10818864 0.10243454 0.10782788 0.10897141 0.09394591\n",
      " 0.09514982 0.09684659 0.09388138 0.09659539]\n",
      "[0.0961317  0.10795482 0.10240732 0.10795148 0.10902758 0.09398124\n",
      " 0.09510692 0.09687766 0.09388547 0.09667581]\n",
      "[0.09613237 0.10805507 0.10248826 0.10792646 0.10909674 0.09390343\n",
      " 0.09511162 0.09684093 0.09382021 0.09662485]\n",
      "[0.0961211  0.10803434 0.10248314 0.10799079 0.1091494  0.09385553\n",
      " 0.0950494  0.09682946 0.09384037 0.09664655]\n",
      "[0.09612399 0.10796123 0.10244974 0.10796505 0.10911774 0.09388594\n",
      " 0.09512493 0.09686463 0.09387223 0.09663446]\n",
      "[0.09619682 0.10804392 0.10235491 0.10787585 0.10897384 0.09399811\n",
      " 0.0951494  0.09688999 0.09387225 0.09664487]\n",
      "[0.09611742 0.1082255  0.10243366 0.10773376 0.10890615 0.09403997\n",
      " 0.09518456 0.09686173 0.09389414 0.09660307]\n",
      "[0.096131   0.10799103 0.10252328 0.10806835 0.10920008 0.09382435\n",
      " 0.09497421 0.09683578 0.09382591 0.09662604]\n",
      "[0.09619454 0.10820277 0.10239934 0.10771779 0.1088893  0.09401078\n",
      " 0.09520284 0.09686651 0.09389313 0.09662296]\n",
      "[0.09615922 0.10824879 0.1025084  0.10769939 0.10893508 0.09398185\n",
      " 0.09513205 0.09685524 0.09390132 0.09657867]\n",
      "[0.09615166 0.10786776 0.10247984 0.10806463 0.10916097 0.09385389\n",
      " 0.09504075 0.09687525 0.09383801 0.09666722]\n",
      "[0.09610626 0.10788009 0.102442   0.10812252 0.10914201 0.09386003\n",
      " 0.09503095 0.09686641 0.09386302 0.09668669]\n",
      "[0.09616825 0.10805073 0.10251369 0.1078926  0.10906909 0.09388875\n",
      " 0.09504592 0.0968857  0.09388269 0.09660258]\n",
      "[0.09616415 0.10812178 0.10248135 0.10778262 0.10899788 0.0939505\n",
      " 0.09510399 0.09687998 0.09385142 0.09666623]\n",
      "[0.09613992 0.10797951 0.10252979 0.10795295 0.10907447 0.09391868\n",
      " 0.09504329 0.09684408 0.09385636 0.09666092]\n",
      "[0.09619852 0.10836668 0.10239832 0.1075774  0.10883541 0.09405173\n",
      " 0.09522928 0.09682471 0.09389666 0.09662126]\n",
      "[0.09614103 0.10789025 0.10242575 0.10805198 0.10915083 0.09379901\n",
      " 0.0950598  0.09689767 0.09387103 0.09671259]\n",
      "[0.09613001 0.10803234 0.10246824 0.10798644 0.1091015  0.09384993\n",
      " 0.09507252 0.09688164 0.09383454 0.09664288]\n",
      "[0.09617829 0.10781179 0.10242407 0.10809039 0.10919961 0.09385336\n",
      " 0.09503917 0.09688647 0.09383529 0.09668157]\n",
      "[0.0960938  0.10802216 0.10250399 0.1079879  0.10912395 0.09383593\n",
      " 0.09504761 0.09688319 0.0938464  0.09665512]\n",
      "[0.09614225 0.10834511 0.10242212 0.10763527 0.10889398 0.09403341\n",
      " 0.09521537 0.09681913 0.09391769 0.09657563]\n",
      "[0.09615181 0.1078481  0.10241687 0.10811669 0.1091671  0.09380584\n",
      " 0.09501721 0.09691992 0.093873   0.09668344]\n",
      "[0.09617341 0.10840109 0.10239926 0.10753842 0.10877679 0.09407407\n",
      " 0.09525052 0.09685606 0.09392542 0.09660503]\n",
      "[0.09629118 0.10785792 0.10246837 0.10786373 0.10895465 0.09399929\n",
      " 0.09514517 0.09679902 0.09389596 0.0967247 ]\n",
      "[0.09611871 0.10815679 0.10245666 0.10781515 0.10904547 0.09397604\n",
      " 0.0951528  0.0968226  0.09385584 0.09659996]\n",
      "[0.09616123 0.10807063 0.10242327 0.10792835 0.10904043 0.09395933\n",
      " 0.09511782 0.09685485 0.09383987 0.09660412]\n",
      "[0.09618863 0.10840507 0.10236292 0.10752236 0.10878275 0.09410684\n",
      " 0.09525162 0.09686137 0.09391385 0.0966046 ]\n",
      "[0.09615527 0.10777435 0.10248779 0.1081934  0.10918868 0.09377608\n",
      " 0.09498342 0.09689505 0.09385933 0.09668667]\n",
      "[0.09615099 0.10797812 0.10247659 0.10800636 0.10913999 0.09387348\n",
      " 0.09507769 0.09685338 0.09384053 0.09660286]\n",
      "[0.09615257 0.10801331 0.10238373 0.10794035 0.10904412 0.09394222\n",
      " 0.09511013 0.09689617 0.09386214 0.09665526]\n",
      "[0.09615009 0.10838572 0.10242079 0.10758418 0.10885234 0.09405942\n",
      " 0.095226   0.0968251  0.09391432 0.09658203]\n",
      "[0.0961511  0.10818999 0.10240382 0.10779623 0.10899302 0.09399947\n",
      " 0.09513351 0.09683846 0.09386912 0.09662522]\n",
      "[0.09615029 0.10791993 0.10246697 0.10807046 0.10913561 0.093906\n",
      " 0.09499845 0.09681976 0.09386197 0.09667056]\n",
      "[0.09611573 0.10807759 0.10249636 0.10793284 0.1090982  0.0938836\n",
      " 0.09506713 0.0968428  0.09387583 0.09660999]\n",
      "[0.0961904  0.10840119 0.10236415 0.10752518 0.10877468 0.09409571\n",
      " 0.09525422 0.09686287 0.09392714 0.0966045 ]\n",
      "[0.09612858 0.10802519 0.10248119 0.10798524 0.10912493 0.09385588\n",
      " 0.09504934 0.09687643 0.09383969 0.09663362]\n",
      "[0.09617053 0.10786311 0.10238155 0.10802078 0.10911845 0.09388278\n",
      " 0.0950717  0.09693013 0.0938892  0.09667177]\n",
      "[0.09619626 0.10825889 0.10234269 0.10756723 0.1087877  0.09408176\n",
      " 0.09527844 0.09689815 0.0939557  0.09663317]\n",
      "[0.09609321 0.1080404  0.10245461 0.10799523 0.10908454 0.09388161\n",
      " 0.09505901 0.09688481 0.09384657 0.09665995]\n",
      "[0.09612821 0.10783318 0.10252342 0.10810252 0.10922686 0.09381923\n",
      " 0.09494461 0.09688392 0.09385797 0.09668006]\n",
      "[0.09611887 0.10807254 0.10243    0.10792264 0.10904005 0.09392381\n",
      " 0.09509019 0.09687287 0.09386714 0.09666195]\n",
      "[0.09616191 0.10820245 0.10239087 0.10776971 0.10895842 0.09403771\n",
      " 0.09519009 0.09682913 0.09385267 0.09660704]\n",
      "[0.09611172 0.10806504 0.10252215 0.10794942 0.10912445 0.09381763\n",
      " 0.09507883 0.09682182 0.09385038 0.09665853]\n",
      "[0.09615093 0.10802881 0.10254037 0.10801796 0.10914008 0.09377673\n",
      " 0.09498329 0.09684902 0.09386287 0.09664989]\n",
      "[0.09613909 0.10830736 0.10240787 0.10766547 0.10893082 0.09402902\n",
      " 0.0952015  0.09684606 0.09390764 0.09656521]\n",
      "[0.09608477 0.10794087 0.1024588  0.10805284 0.10917615 0.09391118\n",
      " 0.09501015 0.09685852 0.09383789 0.09666886]\n",
      "[0.09607147 0.10802108 0.10250655 0.10804675 0.10924091 0.09382368\n",
      " 0.09501376 0.09677895 0.09385065 0.09664613]\n",
      "[0.09615351 0.10799349 0.10245883 0.10799862 0.10912558 0.09389576\n",
      " 0.09507184 0.09684722 0.09382638 0.09662876]\n",
      "[0.09615324 0.10790345 0.10247581 0.10802931 0.10917673 0.09388833\n",
      " 0.0949697  0.09689487 0.09385005 0.09665854]\n",
      "[0.09619539 0.10821027 0.10237367 0.1075675  0.1087878  0.09406334\n",
      " 0.09527097 0.09690242 0.09395895 0.09666972]\n",
      "[0.09612965 0.10788322 0.10250364 0.10806146 0.10913363 0.09387305\n",
      " 0.09500995 0.09688584 0.09388412 0.09663542]\n",
      "[0.09613223 0.10781354 0.10256125 0.10808808 0.10920521 0.09384404\n",
      " 0.09496021 0.09685785 0.09385834 0.09667923]\n",
      "[0.09620803 0.10815981 0.10243344 0.10775316 0.10897154 0.09392471\n",
      " 0.09514178 0.09687737 0.0938834  0.09664676]\n",
      "[0.09622336 0.10801868 0.10239433 0.10787101 0.10903354 0.09396992\n",
      " 0.0951049  0.09690053 0.09384378 0.09663994]\n",
      "[0.09619112 0.10840024 0.10239206 0.1075416  0.10877778 0.09409983\n",
      " 0.09525695 0.09683078 0.09391199 0.09659763]\n",
      "[0.09615242 0.10812119 0.1024608  0.10786703 0.10907587 0.09387611\n",
      " 0.09509088 0.09685279 0.09387484 0.09662803]\n",
      "[0.09613815 0.10792286 0.10244371 0.10804063 0.109122   0.09392922\n",
      " 0.09506562 0.09687784 0.09382893 0.09663109]\n",
      "[0.09615077 0.10782757 0.10248007 0.108097   0.10918824 0.09383786\n",
      " 0.09500406 0.09689289 0.09387101 0.09665044]\n",
      "[0.09617405 0.1078812  0.10257061 0.10814758 0.10924757 0.09373781\n",
      " 0.09492299 0.09681782 0.09384369 0.09665667]\n",
      "[0.09612052 0.10809936 0.1024372  0.10788915 0.10908675 0.0939435\n",
      " 0.09511746 0.09685063 0.09384732 0.09660818]\n",
      "[0.09614954 0.10781588 0.10250513 0.1081458  0.10919784 0.09381994\n",
      " 0.09497765 0.09689414 0.09383187 0.0966622 ]\n",
      "[0.09615497 0.10816859 0.10246831 0.10776568 0.10901105 0.09399517\n",
      " 0.09515494 0.09683563 0.09385148 0.09659418]\n",
      "[0.09613131 0.10828811 0.10244545 0.10764955 0.1089533  0.09400079\n",
      " 0.09521247 0.09678742 0.09390607 0.09662557]\n",
      "[0.09612393 0.10810047 0.10241605 0.10781437 0.10900636 0.09398473\n",
      " 0.09514464 0.09688058 0.09389069 0.09663817]\n",
      "[0.09618612 0.10838205 0.10238649 0.10754585 0.10879479 0.09408887\n",
      " 0.09525237 0.09684417 0.09391124 0.09660805]\n",
      "[0.09618061 0.10840105 0.10239036 0.10753856 0.10879237 0.09408932\n",
      " 0.09523469 0.09684237 0.09391815 0.09661257]\n",
      "[0.0961892  0.10814226 0.10238716 0.10776906 0.10891182 0.09400158\n",
      " 0.09520661 0.09687276 0.09389171 0.09662786]\n",
      "[0.09616914 0.10828388 0.10247844 0.10767035 0.10896217 0.09400509\n",
      " 0.09515572 0.09682149 0.09386771 0.096586  ]\n",
      "[0.09612882 0.10827296 0.10243115 0.10773764 0.10895401 0.09400725\n",
      " 0.09518201 0.09680634 0.09388129 0.09659861]\n",
      "[0.09616943 0.10791989 0.10247375 0.10798647 0.10913651 0.09387408\n",
      " 0.09507836 0.09686505 0.09386688 0.09662953]\n",
      "[0.09613287 0.10805599 0.10240693 0.10790236 0.10903674 0.09390306\n",
      " 0.09514941 0.09689065 0.09387887 0.09664308]\n",
      "[0.09617809 0.10780494 0.10244798 0.10804932 0.10913095 0.09385156\n",
      " 0.09501788 0.09692312 0.09387153 0.09672462]\n",
      "[0.09614988 0.10821392 0.10239846 0.10769804 0.1088897  0.09403299\n",
      " 0.09522732 0.09687374 0.09389483 0.09662111]\n",
      "[0.09619026 0.108414   0.10235539 0.10752681 0.10878111 0.09409522\n",
      " 0.09526408 0.09685024 0.09391762 0.09660525]\n",
      "[0.09610145 0.10820895 0.10249456 0.10780285 0.10897136 0.09394465\n",
      " 0.0951349  0.09683365 0.09389756 0.09661008]\n",
      "[0.09618898 0.10807552 0.1024309  0.1078494  0.10899966 0.09395407\n",
      " 0.09513801 0.09688578 0.09387545 0.09660225]\n",
      "[0.09607069 0.10792246 0.10247338 0.10795211 0.10908324 0.09395344\n",
      " 0.09513724 0.09686045 0.09386536 0.09668165]\n",
      "[0.0961328  0.10820454 0.10246474 0.10786457 0.10903174 0.09394758\n",
      " 0.09510326 0.09682864 0.09383062 0.09659158]\n",
      "[0.09613679 0.10810158 0.10242949 0.1079373  0.10908999 0.09390301\n",
      " 0.09508835 0.09681682 0.09384201 0.09665463]\n",
      "[0.09610652 0.10817988 0.10243302 0.10787061 0.1090591  0.09393487\n",
      " 0.09510634 0.09682851 0.09385794 0.09662324]\n",
      "[0.09611496 0.10784417 0.10246982 0.10808497 0.10921054 0.09385157\n",
      " 0.09499804 0.09689248 0.09384958 0.09668384]\n",
      "[0.09620338 0.10818025 0.10234596 0.10764211 0.10881933 0.09408226\n",
      " 0.09526876 0.09689943 0.09392892 0.09662962]\n",
      "[0.09618361 0.10837825 0.10239177 0.10753519 0.10878007 0.09410928\n",
      " 0.09523534 0.09685585 0.09392562 0.09660508]\n",
      "[0.09616811 0.10777959 0.1025137  0.10809635 0.10919472 0.09384929\n",
      " 0.09494678 0.09689746 0.09386918 0.09668484]\n",
      "[0.09608305 0.10799171 0.10248899 0.10802805 0.10916612 0.09388412\n",
      " 0.095024   0.09685422 0.09384859 0.09663105]\n",
      "[0.09613524 0.10794883 0.10246902 0.10801408 0.1091132  0.09390523\n",
      " 0.09501675 0.0968702  0.09386957 0.09665792]\n",
      "[0.09609893 0.10804179 0.10242225 0.10780511 0.10900334 0.09396511\n",
      " 0.09518359 0.0968999  0.09387629 0.09670371]\n",
      "[0.09617194 0.10796454 0.10238595 0.10794329 0.10906231 0.09394298\n",
      " 0.09513474 0.09688944 0.09385586 0.096649  ]\n",
      "[0.09614661 0.10805961 0.10245249 0.10785327 0.10902565 0.09392101\n",
      " 0.09513378 0.09689113 0.09387232 0.09664413]\n",
      "[0.09618786 0.10837324 0.10234595 0.10753064 0.1087668  0.09410747\n",
      " 0.09526289 0.09687375 0.09392729 0.09662417]\n",
      "[0.09618722 0.10807259 0.102363   0.10787456 0.10904944 0.09398921\n",
      " 0.09514307 0.09682932 0.09384702 0.09664456]\n",
      "[0.09616629 0.10809003 0.10242724 0.10795725 0.10907875 0.09388503\n",
      " 0.09508179 0.09685948 0.09383678 0.09661739]\n",
      "[0.09611182 0.10786095 0.10243697 0.10808445 0.1091867  0.09384957\n",
      " 0.09502681 0.0969152  0.09385347 0.09667407]\n",
      "[0.096173   0.10818194 0.10240021 0.10781644 0.10898418 0.09397962\n",
      " 0.09515046 0.09684988 0.09384383 0.0966205 ]\n",
      "[0.09613927 0.1079333  0.10249325 0.10804091 0.10917512 0.09383777\n",
      " 0.09501787 0.09685802 0.0938585  0.09664595]\n",
      "[0.09616643 0.10789146 0.10247782 0.10802332 0.10916188 0.09383215\n",
      " 0.09504636 0.09690715 0.09385017 0.09664324]\n",
      "[0.09614173 0.10809501 0.10238747 0.10787604 0.10901974 0.09400947\n",
      " 0.0951453  0.09684619 0.09386331 0.09661569]\n",
      "[0.09616451 0.10777156 0.10239443 0.10811219 0.10913983 0.09380901\n",
      " 0.09505387 0.0969236  0.09390659 0.0967244 ]\n",
      "[0.09614215 0.10832323 0.1024152  0.1076268  0.10887752 0.09405535\n",
      " 0.09519034 0.09684215 0.09392246 0.09660483]\n",
      "[0.09611191 0.10828674 0.10247057 0.10768747 0.10896471 0.09399644\n",
      " 0.09516968 0.0968042  0.09388477 0.09662348]\n",
      "[0.09612861 0.10789792 0.10250222 0.10807065 0.10920892 0.09380445\n",
      " 0.09501645 0.09689094 0.09383558 0.09664427]\n",
      "[0.09616337 0.10831363 0.10243329 0.10767344 0.10891955 0.09399621\n",
      " 0.09518553 0.09685007 0.09390408 0.09656078]\n",
      "[0.09609528 0.1080916  0.10243    0.10792274 0.10906298 0.09393462\n",
      " 0.09513985 0.096848   0.09384588 0.09662902]\n",
      "[0.09625174 0.10806791 0.10240711 0.10785925 0.1089623  0.09391501\n",
      " 0.09509717 0.09691096 0.09386376 0.09666474]\n",
      "[0.09616704 0.10837817 0.10238873 0.10756097 0.10879956 0.09408262\n",
      " 0.09523396 0.09685056 0.09392169 0.0966167 ]\n",
      "[0.09613665 0.10795709 0.10245068 0.10799966 0.10913758 0.09387238\n",
      " 0.09504484 0.09687537 0.09386603 0.09665965]\n",
      "[0.09616996 0.10834284 0.10241585 0.107634   0.10888002 0.09404824\n",
      " 0.0952099  0.09680791 0.09390185 0.09658948]\n",
      "[0.09611403 0.1080192  0.10254505 0.10798032 0.10914409 0.09384836\n",
      " 0.0950032  0.09686888 0.09383079 0.09664604]\n",
      "[0.09613932 0.1083167  0.1024571  0.10770682 0.10892788 0.093963\n",
      " 0.09514903 0.09682685 0.09390035 0.09661295]\n",
      "[0.09610436 0.10791016 0.10257147 0.10803789 0.10922059 0.09383243\n",
      " 0.09496062 0.09684362 0.09382946 0.09668943]\n",
      "[0.0961216  0.10782269 0.10246912 0.10813289 0.10916949 0.09387523\n",
      " 0.09501034 0.09688155 0.09384798 0.09666907]\n",
      "[0.09611667 0.10793962 0.10250858 0.10808579 0.10917649 0.09377331\n",
      " 0.09500846 0.09688373 0.09385116 0.09665626]\n",
      "[0.09612208 0.10800035 0.1025149  0.10798155 0.10908951 0.0939118\n",
      " 0.09503789 0.09687404 0.09386402 0.09660383]\n",
      "[0.09615479 0.10803037 0.10242788 0.10790575 0.10903019 0.09395642\n",
      " 0.09515331 0.09686747 0.0938461  0.09662767]\n",
      "[0.09612525 0.10797596 0.10252065 0.10803203 0.10920237 0.09381476\n",
      " 0.09499923 0.09681809 0.09384193 0.09666972]\n",
      "[0.09614278 0.10796797 0.10251241 0.10808526 0.10923111 0.09376903\n",
      " 0.09501917 0.09682906 0.09382447 0.09661879]\n",
      "[0.09620259 0.10808039 0.10246255 0.10784718 0.1089994  0.09392226\n",
      " 0.0951291  0.09687164 0.09385753 0.09662736]\n",
      "[0.09619437 0.10778762 0.10237838 0.10804899 0.10914442 0.09387633\n",
      " 0.09507909 0.09696551 0.09386346 0.09666182]\n",
      "[0.09617516 0.10810367 0.10249633 0.10798407 0.10911757 0.09385089\n",
      " 0.09501568 0.0968445  0.09384332 0.09656882]\n",
      "[0.09619351 0.1080637  0.10234853 0.10769096 0.10887329 0.09408733\n",
      " 0.09520318 0.09692881 0.09397832 0.09663247]\n",
      "[0.09619445 0.10783184 0.10247522 0.10807636 0.10918379 0.09385323\n",
      " 0.09501246 0.09685826 0.09386428 0.09665011]\n",
      "[0.09615794 0.10785002 0.10240179 0.10803116 0.10910377 0.09390842\n",
      " 0.09505667 0.09693033 0.09386346 0.09669645]\n",
      "[0.09612068 0.10792831 0.10248844 0.10793614 0.10911052 0.09388801\n",
      " 0.09507143 0.09691752 0.09388141 0.09665756]\n",
      "[0.09612595 0.10786743 0.10251407 0.10807908 0.10922389 0.09382828\n",
      " 0.09498434 0.09687084 0.09382589 0.09668016]\n",
      "[0.09616674 0.10798765 0.10245115 0.10788009 0.1090664  0.09390903\n",
      " 0.09508599 0.09688932 0.09391187 0.09665169]\n",
      "[0.0962164  0.10834758 0.10238849 0.10759659 0.10881703 0.09406587\n",
      " 0.09520862 0.09685359 0.09389833 0.09660745]\n",
      "[0.09619106 0.10804141 0.10238561 0.10784484 0.10896087 0.09398965\n",
      " 0.09513757 0.09691557 0.09390856 0.09662485]\n",
      "[0.09610162 0.10789983 0.10248643 0.10807784 0.10918893 0.0938689\n",
      " 0.0950078  0.0968441  0.09386281 0.09666179]\n",
      "[0.09618596 0.10835987 0.10238893 0.10755375 0.10878503 0.0940958\n",
      " 0.09526415 0.09685666 0.0939119  0.09659796]\n",
      "[0.09615505 0.10836942 0.10239807 0.10756531 0.10883933 0.09409464\n",
      " 0.09522643 0.09682471 0.0939117  0.09661538]\n",
      "[0.09612255 0.1079668  0.10248069 0.10804444 0.10917421 0.09381835\n",
      " 0.09502377 0.0968883  0.09384973 0.0966312 ]\n",
      "[0.09618713 0.10805605 0.10239816 0.10791545 0.10897218 0.09395628\n",
      " 0.09511479 0.09688064 0.0938835  0.09663584]\n",
      "[0.0961254  0.10790546 0.10240005 0.10801076 0.10914584 0.09392663\n",
      " 0.09506675 0.09687459 0.09384428 0.09670025]\n",
      "[0.09611733 0.10792795 0.10245212 0.10807948 0.10921718 0.09385327\n",
      " 0.09505345 0.09682425 0.09384699 0.096628  ]\n",
      "[0.09619472 0.10793983 0.1024856  0.10804472 0.10915087 0.09386498\n",
      " 0.09501122 0.09678705 0.09392451 0.09659646]\n",
      "[0.09615481 0.10800666 0.10240095 0.10794595 0.10909195 0.09391954\n",
      " 0.09513476 0.09683017 0.09384733 0.09666795]\n",
      "[0.09614553 0.1079902  0.10240968 0.10793446 0.10905381 0.09394787\n",
      " 0.09513451 0.0968744  0.09384646 0.09666307]\n",
      "[0.09617846 0.10816721 0.10245336 0.10781568 0.10898615 0.09396253\n",
      " 0.09510031 0.09684665 0.09388014 0.09660955]\n",
      "[0.09614908 0.10830159 0.10242763 0.10768941 0.10893687 0.09402548\n",
      " 0.09521509 0.09679671 0.09388784 0.09657028]\n",
      "[0.09615272 0.10841431 0.10240832 0.10753791 0.10880787 0.09408797\n",
      " 0.0952279  0.0968346  0.0939339  0.09659445]\n",
      "[0.09615119 0.10809516 0.10241462 0.1078631  0.10905611 0.093969\n",
      " 0.09515653 0.09683123 0.09383918 0.09662383]\n",
      "[0.09616831 0.10840947 0.10242072 0.10756563 0.10881948 0.09406282\n",
      " 0.09522185 0.096816   0.09392362 0.09659218]\n",
      "[0.09614931 0.10811469 0.1024064  0.10784724 0.10904167 0.09393468\n",
      " 0.09512219 0.09687728 0.09385113 0.09665541]\n",
      "[0.09617975 0.10839465 0.1023578  0.10753092 0.10877854 0.09410434\n",
      " 0.09526157 0.09686404 0.09392399 0.09660444]\n",
      "[0.0962071  0.10781477 0.10239497 0.1080654  0.10911092 0.09388266\n",
      " 0.09508826 0.09689125 0.09385404 0.09669075]\n",
      "[0.09616277 0.1082449  0.10235966 0.10776532 0.1089575  0.09402057\n",
      " 0.09518197 0.09682828 0.09386273 0.09661632]\n",
      "[0.09619191 0.10809    0.10244941 0.1078511  0.10905732 0.09393027\n",
      " 0.09512709 0.09685305 0.09382646 0.09662338]\n",
      "[0.09613718 0.10797182 0.10250687 0.10792603 0.1091129  0.09389271\n",
      " 0.09504808 0.09686525 0.09389307 0.09664606]\n",
      "[0.09615161 0.10796255 0.10244851 0.10799653 0.10911468 0.09390347\n",
      " 0.09506971 0.09686836 0.09382155 0.09666309]\n",
      "[0.09614811 0.10808393 0.1024354  0.10789178 0.10904753 0.09389602\n",
      " 0.0951229  0.09686652 0.0938536  0.09665422]\n",
      "[0.09609544 0.10787448 0.10255634 0.1080513  0.10922033 0.09386832\n",
      " 0.09494265 0.09683395 0.09387363 0.09668356]\n",
      "[0.09610897 0.1081628  0.10253508 0.10780332 0.10901686 0.09386819\n",
      " 0.09511451 0.09685797 0.09391546 0.09661684]\n",
      "[0.09609845 0.1079784  0.10246503 0.10806145 0.10917133 0.09384584\n",
      " 0.09502216 0.09685463 0.09384247 0.0966602 ]\n",
      "[0.09618444 0.10814746 0.10239351 0.10779943 0.10898975 0.09400277\n",
      " 0.09517375 0.09683891 0.09388059 0.09658939]\n",
      "[0.096058   0.10798015 0.10251171 0.10809096 0.10920935 0.09380509\n",
      " 0.09498378 0.09686765 0.09383668 0.09665668]\n",
      "[0.09618262 0.10838767 0.10238228 0.10753765 0.10877282 0.09409281\n",
      " 0.09524636 0.09685888 0.09392906 0.09660983]\n",
      "[0.09612859 0.10795651 0.1024272  0.107945   0.10909851 0.09390616\n",
      " 0.09512502 0.0968667  0.09390184 0.09664447]\n",
      "[0.09614013 0.10789931 0.10247793 0.10798804 0.10908742 0.09387061\n",
      " 0.09507339 0.09694027 0.09382942 0.09669343]\n",
      "[0.0961735  0.10838252 0.10236344 0.10756312 0.10882532 0.0940783\n",
      " 0.09525341 0.09682768 0.09392802 0.09660473]\n",
      "[0.09612022 0.10796098 0.10251149 0.10808159 0.1091952  0.09381555\n",
      " 0.09497289 0.09684612 0.09386101 0.09663498]\n",
      "[0.09618121 0.1083865  0.10236038 0.10753551 0.10877275 0.09410832\n",
      " 0.09526207 0.09686519 0.09391718 0.09661087]\n",
      "[0.09631368 0.1075753  0.10224276 0.10749901 0.10862876 0.09432491\n",
      " 0.09537876 0.09707715 0.09415103 0.0968086 ]\n",
      "[0.09617729 0.10809799 0.10234911 0.10777041 0.10889596 0.09404309\n",
      " 0.09520921 0.0968989  0.09391135 0.09664677]\n",
      "[0.0961851  0.10785261 0.10242833 0.10803337 0.10910676 0.09386343\n",
      " 0.09506483 0.09691415 0.09383792 0.09671345]\n",
      "[0.09618599 0.10840406 0.10236694 0.10753699 0.10877718 0.09409488\n",
      " 0.09526027 0.09684619 0.09392463 0.09660287]\n",
      "[0.09612529 0.10793427 0.10254791 0.10811898 0.10927662 0.09374024\n",
      " 0.094942   0.09684149 0.09383422 0.09663905]\n",
      "[0.09616759 0.10804158 0.10247008 0.10793783 0.10905869 0.09392829\n",
      " 0.09507068 0.09687095 0.09383428 0.09662014]\n",
      "[0.09615539 0.10798209 0.10240922 0.10795309 0.10907249 0.09392989\n",
      " 0.095135   0.09686146 0.09385572 0.09664565]\n",
      "[0.09617203 0.10837441 0.1024099  0.10757867 0.10882831 0.0940555\n",
      " 0.09522627 0.09684177 0.09391123 0.09660199]\n",
      "[0.09616754 0.10792806 0.10240614 0.10780302 0.10901443 0.09405881\n",
      " 0.09513282 0.096907   0.09389284 0.09668937]\n",
      "[0.09616599 0.10812426 0.10239647 0.10791357 0.10903028 0.09393674\n",
      " 0.09509499 0.09684996 0.09387111 0.0966166 ]\n",
      "[0.09613649 0.10823864 0.10244131 0.10773347 0.10894644 0.09396889\n",
      " 0.09517132 0.09686548 0.09389839 0.09659952]\n",
      "[0.09612668 0.10789064 0.10247332 0.10807808 0.10918195 0.09382652\n",
      " 0.09501137 0.09688815 0.09386252 0.09666079]\n",
      "[0.09618866 0.10793191 0.10248814 0.10797949 0.10914039 0.09381729\n",
      " 0.09503873 0.09688982 0.09386924 0.09665634]\n",
      "[0.09618459 0.10786522 0.10244466 0.10802637 0.10909575 0.09390885\n",
      " 0.09502769 0.09691027 0.09389447 0.09664217]\n",
      "[0.09610173 0.10794493 0.10243496 0.10804068 0.10917222 0.09383553\n",
      " 0.09505313 0.09686916 0.09387914 0.09666848]\n",
      "[0.09614179 0.10807294 0.1024995  0.10790084 0.1091096  0.09388565\n",
      " 0.09507796 0.09682236 0.09384333 0.09664604]\n",
      "[0.09612817 0.10821194 0.10245994 0.10773698 0.10895208 0.09398627\n",
      " 0.09519032 0.09683426 0.09388972 0.09661034]\n",
      "[0.09621321 0.10822678 0.10240278 0.10756467 0.10880771 0.09409685\n",
      " 0.09525348 0.09686426 0.09392997 0.09664021]\n",
      "[0.09608351 0.10807604 0.10250872 0.10799874 0.10922289 0.09381825\n",
      " 0.09499773 0.09683529 0.09385215 0.09660666]\n",
      "[0.09613612 0.10807965 0.10246713 0.10787302 0.10903376 0.09396902\n",
      " 0.09511893 0.09685422 0.09384023 0.09662788]\n",
      "[0.09613414 0.10797191 0.10247348 0.10804144 0.10918419 0.0938348\n",
      " 0.0950143  0.09685116 0.09385207 0.09664249]\n",
      "[0.09614301 0.10816969 0.10236961 0.10782792 0.10905637 0.09395212\n",
      " 0.09514708 0.09682693 0.09389286 0.09661438]\n",
      "[0.09618355 0.10837287 0.10237545 0.10755885 0.10883027 0.09405916\n",
      " 0.09525251 0.09682643 0.09391838 0.09662244]\n",
      "[0.09607338 0.10805123 0.10247624 0.1080157  0.1091608  0.09384678\n",
      " 0.0950083  0.09685119 0.09386413 0.09665223]\n",
      "[0.09619661 0.10793414 0.10238744 0.10790493 0.10901497 0.09398251\n",
      " 0.0951195  0.09686928 0.09390648 0.09668409]\n",
      "[0.09616673 0.10807152 0.10247681 0.10795016 0.10914768 0.09384882\n",
      " 0.09508106 0.09684218 0.09383835 0.09657671]\n",
      "[0.09609625 0.10802864 0.10247926 0.10799553 0.10914576 0.09386335\n",
      " 0.09506179 0.0968481  0.09386782 0.09661352]\n",
      "[0.09619775 0.10834396 0.10231656 0.10753727 0.10876434 0.09410619\n",
      " 0.09528612 0.09687342 0.09393826 0.0966361 ]\n",
      "[0.09613691 0.10800557 0.10241159 0.10793132 0.10905444 0.09390435\n",
      " 0.09513707 0.09688238 0.09387538 0.09666094]\n",
      "[0.09612024 0.10810108 0.10246988 0.10785548 0.10909798 0.09392889\n",
      " 0.09513927 0.09686738 0.09382278 0.09659707]\n",
      "[0.096108   0.10810775 0.10245641 0.1078893  0.10906824 0.09388571\n",
      " 0.09513551 0.09685529 0.09385933 0.09663446]\n",
      "[0.09620874 0.10836276 0.10237041 0.10754473 0.10878532 0.09409554\n",
      " 0.09525604 0.09685771 0.09390961 0.09660915]\n",
      "[0.09613704 0.10791569 0.10253441 0.10809966 0.10923057 0.09375653\n",
      " 0.09497956 0.09685609 0.09385692 0.09663354]\n",
      "[0.09615311 0.10812163 0.102422   0.10781451 0.1089772  0.0939814\n",
      " 0.09512956 0.09686761 0.09389292 0.09664003]\n",
      "[0.09613048 0.10812512 0.10244168 0.10788904 0.10908213 0.09396056\n",
      " 0.09511659 0.09682051 0.09385419 0.09657968]\n",
      "[0.0962043  0.10835782 0.10234384 0.10754189 0.10877172 0.09410342\n",
      " 0.09526477 0.09688088 0.09391615 0.09661526]\n",
      "[0.09616925 0.10817022 0.10241293 0.10774222 0.10894164 0.09401456\n",
      " 0.09517766 0.09688146 0.09385981 0.09663022]\n",
      "[0.09607655 0.10808583 0.10241853 0.10791238 0.10908721 0.09392744\n",
      " 0.09511769 0.09685684 0.09385629 0.09666121]\n",
      "[0.09613415 0.10802976 0.10242186 0.10794906 0.10904329 0.09391681\n",
      " 0.09513627 0.09686814 0.09387254 0.09662818]\n",
      "[0.096157   0.10801566 0.10252056 0.1079396  0.10911479 0.09387924\n",
      " 0.09505341 0.09685288 0.09382364 0.09664318]\n",
      "[0.09622797 0.10824416 0.10236    0.10755076 0.10877267 0.09408557\n",
      " 0.09527598 0.09689433 0.09393743 0.09665112]\n",
      "[0.09615771 0.10840917 0.10240797 0.10757615 0.10882217 0.09407738\n",
      " 0.0952261  0.09681571 0.09391657 0.09659108]\n",
      "[0.09607756 0.10807928 0.10246922 0.10793064 0.10916253 0.09388299\n",
      " 0.09507641 0.09686136 0.09384362 0.09661636]\n",
      "[0.09628326 0.10777019 0.10236231 0.10792223 0.10901204 0.09401353\n",
      " 0.09519071 0.09681368 0.09394427 0.0966878 ]\n",
      "[0.09617916 0.1080433  0.10240114 0.10789543 0.10900362 0.09400795\n",
      " 0.09514665 0.09685143 0.09382126 0.09665011]\n",
      "[0.09616097 0.10792864 0.1023882  0.10800462 0.10912977 0.09391423\n",
      " 0.09509844 0.0968765  0.09385674 0.09664197]\n",
      "[0.09614747 0.10823762 0.10240941 0.10776674 0.10897123 0.09400883\n",
      " 0.09514257 0.09684043 0.09387489 0.09660084]\n",
      "[0.09612264 0.10795178 0.10248937 0.10806437 0.10919775 0.09384289\n",
      " 0.09501582 0.09684373 0.09383679 0.09663482]\n",
      "[0.09610955 0.10799242 0.10246829 0.10802449 0.10916722 0.09384062\n",
      " 0.09502795 0.09686644 0.09385459 0.09664839]\n",
      "[0.09617019 0.10837729 0.10236366 0.10761476 0.10883434 0.09405683\n",
      " 0.09524335 0.09680297 0.09390496 0.09663159]\n",
      "[0.09617481 0.10838833 0.10238765 0.10755387 0.10882272 0.09407017\n",
      " 0.09524663 0.0968477  0.09391473 0.09659339]\n",
      "[0.09623665 0.10794675 0.10240173 0.10779978 0.10894018 0.09402788\n",
      " 0.09518705 0.09691548 0.09389836 0.09664618]\n",
      "[0.09619206 0.1082424  0.10247873 0.10774812 0.10901336 0.09393582\n",
      " 0.09509234 0.09685952 0.09384575 0.09659188]\n",
      "[0.0961021  0.10791899 0.10248873 0.108109   0.10919244 0.093798\n",
      " 0.09497378 0.09685432 0.09388851 0.09667416]\n",
      "[0.09613162 0.10784701 0.10250409 0.1080673  0.10918776 0.09382065\n",
      " 0.09503188 0.09685695 0.09385847 0.09669434]\n",
      "[0.09615131 0.10801654 0.10247623 0.10800949 0.1091642  0.09386799\n",
      " 0.09506442 0.09681378 0.09382531 0.09661072]\n",
      "[0.09614416 0.10804753 0.10250483 0.10799127 0.1091192  0.0938523\n",
      " 0.09505547 0.09685416 0.0938248  0.09660631]\n",
      "[0.09618923 0.10836064 0.10237417 0.10756021 0.10877731 0.09409089\n",
      " 0.09526029 0.09685607 0.09392111 0.09661007]\n",
      "[0.0961424  0.10806241 0.1024534  0.10791057 0.10912625 0.09386183\n",
      " 0.09510616 0.09685469 0.09383058 0.09665173]\n",
      "[0.09620386 0.107919   0.10243239 0.107988   0.10907613 0.09393362\n",
      " 0.09505586 0.09691795 0.09385077 0.09662238]\n",
      "[0.09620251 0.10833291 0.10233536 0.10756885 0.10878146 0.0940834\n",
      " 0.09526543 0.09686687 0.09393106 0.0966322 ]\n",
      "[0.09619396 0.10826014 0.10245231 0.10769464 0.10887423 0.09403247\n",
      " 0.09514303 0.09685136 0.09386107 0.09663676]\n",
      "[0.09617537 0.10806013 0.10244551 0.10793053 0.10908777 0.09391288\n",
      " 0.09509042 0.09684979 0.09380429 0.0966433 ]\n",
      "[0.09634344 0.10797954 0.10245708 0.10754023 0.1086878  0.09410881\n",
      " 0.09519599 0.09699467 0.09405152 0.09664095]\n",
      "[0.0961293  0.10821313 0.10246982 0.10777615 0.10902197 0.09392704\n",
      " 0.09513401 0.09684706 0.09391242 0.09656914]\n",
      "[0.09617316 0.10798054 0.10249135 0.10791559 0.10911756 0.09388984\n",
      " 0.09505438 0.09687503 0.093858   0.09664451]\n",
      "[0.09610879 0.10787082 0.10244397 0.1080585  0.10911511 0.09387735\n",
      " 0.09502426 0.09690016 0.09387286 0.09672822]\n",
      "[0.09613948 0.10812964 0.10239342 0.10785653 0.1090014  0.0939665\n",
      " 0.09516036 0.09685419 0.09387125 0.0966272 ]\n",
      "[0.0961567  0.10786319 0.1024873  0.10804521 0.10921995 0.09385874\n",
      " 0.09501518 0.09686619 0.09380236 0.09668515]\n",
      "[0.09613952 0.10803787 0.10246852 0.1079133  0.109082   0.09385474\n",
      " 0.09510839 0.09686664 0.09386763 0.09666137]\n",
      "[0.09617046 0.10786291 0.10244385 0.1080979  0.10913684 0.0938625\n",
      " 0.09500521 0.096875   0.09386617 0.09667912]\n",
      "[0.09618691 0.10836194 0.10239748 0.10755852 0.10879432 0.09408617\n",
      " 0.09523273 0.09683651 0.09393846 0.09660703]\n",
      "[0.09609089 0.10793217 0.10248111 0.10804364 0.10917323 0.09388432\n",
      " 0.0950051  0.09688577 0.09386044 0.09664335]\n",
      "[0.09620184 0.10806609 0.10240718 0.10783839 0.10893283 0.09398094\n",
      " 0.09513743 0.09692621 0.093876   0.09663306]\n",
      "[0.09617204 0.1078544  0.10256653 0.10804284 0.10915147 0.09379933\n",
      " 0.09500024 0.09689827 0.09386628 0.09664864]\n",
      "[0.09622714 0.10800552 0.10244173 0.10786744 0.10894036 0.09396314\n",
      " 0.09508175 0.09691476 0.09394624 0.09661195]\n",
      "[0.09616413 0.10797501 0.10244767 0.1079869  0.10909304 0.09393314\n",
      " 0.09506347 0.09686445 0.09382115 0.09665097]\n",
      "[0.09619804 0.10812947 0.10245822 0.10785213 0.1090264  0.09391848\n",
      " 0.09510437 0.09685399 0.09381589 0.09664303]\n",
      "[0.09611911 0.10814849 0.10247765 0.10788175 0.10908595 0.09392714\n",
      " 0.09509822 0.0968143  0.09383819 0.09660915]\n",
      "[0.09612349 0.10827856 0.1024608  0.10770685 0.10896315 0.09399937\n",
      " 0.09518959 0.09682349 0.09388172 0.09657302]\n",
      "[0.09620159 0.10807934 0.10237587 0.10787392 0.10900327 0.09394592\n",
      " 0.09513153 0.09686245 0.09387514 0.09665103]\n",
      "[0.09619222 0.10805044 0.10253768 0.10798167 0.10912302 0.09383916\n",
      " 0.0950068  0.096833   0.09383271 0.09660334]\n",
      "[0.09614027 0.10807319 0.10252447 0.10796247 0.10911973 0.09384335\n",
      " 0.09505142 0.0968401  0.09384206 0.09660298]\n",
      "[0.09609038 0.10803957 0.10251785 0.10798229 0.1091746  0.09383657\n",
      " 0.09500292 0.09685075 0.09387368 0.09663142]\n",
      "[0.096141   0.10790686 0.10249987 0.10803387 0.10915597 0.09382389\n",
      " 0.09504503 0.096899   0.09384181 0.09665269]\n",
      "[0.09615017 0.10840996 0.10239449 0.10756034 0.10881157 0.0940862\n",
      " 0.09523436 0.09684553 0.09392409 0.09658332]\n",
      "[0.09611744 0.1080635  0.10246355 0.10790475 0.10912003 0.09389816\n",
      " 0.09511295 0.09684838 0.09384357 0.09662768]\n",
      "[0.09616381 0.10790393 0.1023875  0.10803331 0.1091119  0.09388003\n",
      " 0.09505487 0.09692191 0.09387594 0.09666681]\n",
      "[0.09616277 0.107887   0.10241475 0.10801506 0.10915513 0.09389824\n",
      " 0.09505239 0.09690846 0.09384521 0.096661  ]\n",
      "[0.09608496 0.10792705 0.10249367 0.10804038 0.10920487 0.09382814\n",
      " 0.09502425 0.09684647 0.09383924 0.09671099]\n",
      "[0.09620135 0.10801451 0.10243348 0.10788462 0.1090461  0.09393065\n",
      " 0.09512175 0.09687477 0.09387158 0.09662127]\n",
      "[0.09617957 0.10839193 0.10235346 0.10753809 0.10879026 0.09410591\n",
      " 0.09526972 0.09684809 0.09392016 0.0966028 ]\n",
      "[0.09613603 0.10795105 0.10249998 0.10798252 0.10908984 0.093857\n",
      " 0.0950583  0.09687848 0.0938614  0.09668545]\n",
      "[0.09618452 0.10796389 0.10244866 0.10798294 0.1090328  0.09394511\n",
      " 0.09505837 0.0968699  0.0938786  0.09663512]\n",
      "[0.09616686 0.10790494 0.10248746 0.10807076 0.10917981 0.09379418\n",
      " 0.09500433 0.0968789  0.0938606  0.09665222]\n",
      "[0.09611144 0.10787786 0.10251524 0.10812499 0.10925501 0.09376179\n",
      " 0.09500945 0.09681991 0.09385684 0.09666754]\n",
      "[0.09611437 0.10786581 0.10243184 0.10795131 0.10907934 0.09390759\n",
      " 0.09512736 0.09692046 0.09390569 0.09669627]\n",
      "[0.0961229  0.1079729  0.10252266 0.10804297 0.10917613 0.09383228\n",
      " 0.09494291 0.09685031 0.09385011 0.09668679]\n",
      "[0.09610509 0.1081287  0.10249108 0.10790554 0.10907888 0.09394071\n",
      " 0.09509221 0.09682066 0.09382121 0.09661586]\n",
      "[0.09617267 0.1080679  0.10234842 0.10771054 0.10888635 0.09406005\n",
      " 0.09524252 0.09690873 0.09389972 0.09670307]\n",
      "[0.09614071 0.1078368  0.10247447 0.10810788 0.10923362 0.09380901\n",
      " 0.09501667 0.09684097 0.09383465 0.09670527]\n",
      "[0.0961446  0.1079013  0.10243455 0.10805435 0.10914208 0.09386071\n",
      " 0.09505177 0.09688507 0.09387454 0.09665105]\n",
      "[0.0961616  0.10797241 0.10245833 0.10804935 0.10921209 0.09381699\n",
      " 0.09498581 0.09680983 0.09387265 0.09666102]\n",
      "[0.096315   0.10789902 0.10252448 0.10772385 0.10901856 0.09399721\n",
      " 0.09517209 0.0967786  0.09393641 0.09663485]\n",
      "[0.09615874 0.10801582 0.10239369 0.10793046 0.10909317 0.09397012\n",
      " 0.09510876 0.09685455 0.09384281 0.09663192]\n",
      "[0.09615073 0.10803701 0.10250287 0.10796461 0.10908907 0.09390648\n",
      " 0.09504895 0.09685282 0.09381933 0.09662813]\n",
      "[0.0961552  0.10785638 0.10247838 0.10805084 0.10921174 0.09381638\n",
      " 0.09503083 0.09684169 0.09385145 0.09670717]\n",
      "[0.09609251 0.10820041 0.10242888 0.10781673 0.10902012 0.09398711\n",
      " 0.09514664 0.09683259 0.09389652 0.09657852]\n",
      "[0.09616452 0.10810827 0.10240793 0.10786008 0.10901126 0.09396439\n",
      " 0.09513252 0.0968484  0.09387976 0.09662291]\n",
      "[0.09615169 0.10785841 0.10245783 0.10806666 0.10908403 0.09385988\n",
      " 0.09504334 0.09692772 0.09386928 0.09668116]\n",
      "[0.09615397 0.10789179 0.10241394 0.1080657  0.10914047 0.09386943\n",
      " 0.09505641 0.09692457 0.09384906 0.09663472]\n",
      "[0.09612807 0.1080824  0.10252742 0.10794002 0.10915269 0.09387548\n",
      " 0.09505876 0.09682637 0.09380317 0.09660554]\n",
      "[0.09611204 0.10803488 0.10250723 0.10799116 0.10919031 0.093865\n",
      " 0.09504246 0.09683307 0.09381255 0.09661133]\n",
      "[0.09620397 0.10817503 0.10238094 0.10776585 0.10892946 0.09404632\n",
      " 0.09518265 0.09683301 0.09388376 0.09659902]\n",
      "[0.09621006 0.10836265 0.10236715 0.10754448 0.10878032 0.09408514\n",
      " 0.09524297 0.09685847 0.09393297 0.0966158 ]\n",
      "[0.09617803 0.10839106 0.10236903 0.1075559  0.10881336 0.09407923\n",
      " 0.095249   0.09681797 0.09391729 0.09662922]\n",
      "[0.0961942  0.10794954 0.10241012 0.10788046 0.10905325 0.09396254\n",
      " 0.09514154 0.09688214 0.09385265 0.0966735 ]\n",
      "[0.09622012 0.10795523 0.10245461 0.10804897 0.1091426  0.09387567\n",
      " 0.09500203 0.09683342 0.09380265 0.09666471]\n",
      "[0.09613766 0.10804582 0.10239757 0.10791054 0.1090687  0.09396666\n",
      " 0.09514579 0.09686196 0.09383987 0.09662547]\n",
      "[0.0961462  0.10833509 0.10246506 0.10764255 0.10891538 0.09400955\n",
      " 0.09518542 0.09681999 0.09388756 0.09659318]\n",
      "[0.09616385 0.10836755 0.10237991 0.10756901 0.10883095 0.09408031\n",
      " 0.09524301 0.09684461 0.09391218 0.09660864]\n",
      "[0.09617882 0.10817799 0.10241931 0.10780617 0.10898375 0.09397973\n",
      " 0.09514085 0.09687354 0.09384801 0.09659188]\n",
      "[0.09618653 0.10794547 0.10242352 0.10790115 0.10901397 0.09400458\n",
      " 0.09511147 0.09685245 0.0938719  0.09668901]\n",
      "[0.09608017 0.10781175 0.1025693  0.10811356 0.10926797 0.09380662\n",
      " 0.09497602 0.09684157 0.09388063 0.09665245]\n",
      "[0.09617826 0.10804403 0.10248537 0.10793682 0.10909583 0.09389456\n",
      " 0.09503426 0.09685156 0.09385496 0.09662439]\n",
      "[0.09615906 0.10799947 0.10244639 0.10799833 0.1091479  0.09387394\n",
      " 0.09503417 0.09683873 0.09384497 0.09665713]\n",
      "[0.0961367  0.10799657 0.1023994  0.10798432 0.10907599 0.09393319\n",
      " 0.09510224 0.09686982 0.09383689 0.09666494]\n",
      "[0.09619354 0.10839392 0.10237734 0.10753266 0.10878045 0.09409083\n",
      " 0.09524257 0.09685679 0.0939211  0.09661082]\n",
      "[0.09619252 0.10805362 0.10242348 0.10791928 0.10905198 0.09394042\n",
      " 0.09512096 0.09684829 0.09380172 0.09664764]\n",
      "[0.09618802 0.10826273 0.1023972  0.1076818  0.10892691 0.09401835\n",
      " 0.09521108 0.09681758 0.09388576 0.09661054]\n",
      "[0.09611311 0.10797871 0.10241279 0.10798506 0.10909051 0.09392348\n",
      " 0.09506177 0.09687601 0.09387533 0.0966832 ]\n",
      "[0.09618814 0.10783494 0.10250342 0.10806355 0.10917105 0.09383021\n",
      " 0.09501405 0.09690118 0.0938497  0.09664375]\n",
      "[0.09615456 0.10817986 0.10247356 0.10782195 0.10902043 0.09392898\n",
      " 0.09513304 0.09683441 0.09384832 0.09660487]\n",
      "[0.09612991 0.10799953 0.1024722  0.10798914 0.10912409 0.09387036\n",
      " 0.09504354 0.09686295 0.09382562 0.09668263]\n",
      "[0.09620473 0.10833938 0.1023443  0.10762757 0.10884701 0.09406406\n",
      " 0.09523726 0.09682692 0.09389561 0.09661317]\n",
      "[0.096149   0.10819534 0.10243099 0.10777878 0.10898114 0.09394603\n",
      " 0.09517146 0.09685145 0.09388255 0.09661333]\n",
      "[0.09612879 0.10797159 0.10252628 0.10806832 0.10923535 0.09378541\n",
      " 0.09496309 0.09684764 0.0938337  0.09663985]\n",
      "[0.09610642 0.10820285 0.10244244 0.10778144 0.10904919 0.09394734\n",
      " 0.09516808 0.09682421 0.09389506 0.09658298]\n",
      "[0.09619244 0.10809263 0.10237589 0.10775714 0.10889534 0.09403009\n",
      " 0.09518544 0.09690756 0.09390742 0.09665602]\n",
      "[0.09620319 0.10834219 0.10235995 0.10754462 0.1087652  0.09410552\n",
      " 0.09526943 0.0968738  0.09391394 0.09662221]\n",
      "[0.09617531 0.10837475 0.10246307 0.10756314 0.10881844 0.0940752\n",
      " 0.09521083 0.09680952 0.09390612 0.09660369]\n",
      "[0.09614295 0.10808803 0.10241795 0.10782931 0.10899294 0.09395364\n",
      " 0.09513855 0.09689109 0.09386561 0.09667996]\n",
      "[0.09618644 0.10811607 0.10238116 0.10786022 0.10899813 0.09398187\n",
      " 0.09512077 0.09687369 0.09384432 0.09663729]\n",
      "[0.09616753 0.10798811 0.10241789 0.10799532 0.10910051 0.09389851\n",
      " 0.09507118 0.09687316 0.09384117 0.09664655]\n",
      "[0.09617463 0.10839642 0.10239612 0.10754242 0.10878869 0.09409188\n",
      " 0.09523952 0.09686107 0.09390548 0.0966038 ]\n",
      "[0.09623373 0.10772675 0.10239823 0.10779596 0.10897858 0.0940505\n",
      " 0.09518377 0.09691139 0.09401874 0.09670231]\n",
      "[0.09622166 0.1081259  0.10234845 0.10774013 0.1089112  0.09399875\n",
      " 0.09521421 0.09688909 0.09389246 0.09665816]\n",
      "[0.09611049 0.10785019 0.10245055 0.10811903 0.10919448 0.09383789\n",
      " 0.09503331 0.09689377 0.09387816 0.09663218]\n",
      "[0.0961443  0.1078464  0.10246481 0.10812878 0.10922863 0.09382932\n",
      " 0.09496387 0.09686951 0.09386413 0.09666026]\n",
      "[0.09620092 0.10837504 0.1023728  0.10754392 0.10876325 0.09408931\n",
      " 0.09525506 0.09687065 0.09392054 0.0966085 ]\n",
      "[0.09620129 0.10839863 0.10240805 0.10753217 0.10877065 0.09408493\n",
      " 0.09524792 0.09682529 0.09391118 0.09661985]\n",
      "[0.09618906 0.10839383 0.10237378 0.10753631 0.10878247 0.09408483\n",
      " 0.09525502 0.09684835 0.09392008 0.09661624]\n",
      "[0.09616339 0.10800811 0.10247371 0.10793848 0.1091062  0.09389186\n",
      " 0.09508537 0.09686005 0.09383316 0.09663977]\n",
      "[0.09612805 0.10803153 0.10251266 0.10797738 0.10914177 0.09385307\n",
      " 0.09502947 0.09686442 0.0938573  0.09660428]\n",
      "[0.09613973 0.10812323 0.10241234 0.1077482  0.10889123 0.09401682\n",
      " 0.0952078  0.09689172 0.09392363 0.09664537]\n",
      "[0.09612639 0.10816755 0.10243689 0.10783944 0.10905066 0.09396223\n",
      " 0.09513363 0.09683535 0.09385156 0.09659627]\n",
      "[0.09617135 0.10802553 0.1024882  0.10791723 0.10907251 0.09393964\n",
      " 0.0951004  0.09684078 0.09380455 0.09663978]\n",
      "[0.09614538 0.10814199 0.10245969 0.10785399 0.10907909 0.09392574\n",
      " 0.0951344  0.09681814 0.09383763 0.09660397]\n",
      "[0.0961551  0.10788043 0.10248582 0.10809445 0.10919963 0.09382733\n",
      " 0.09499846 0.09687446 0.09384279 0.0966415 ]\n",
      "[0.096145   0.10805059 0.1024302  0.10795156 0.10908029 0.09390716\n",
      " 0.09508862 0.09686434 0.0938745  0.09660772]\n",
      "[0.09611454 0.10817423 0.10244685 0.10792906 0.1090467  0.09392241\n",
      " 0.09508175 0.09684565 0.09384659 0.0965922 ]\n",
      "[0.09620175 0.10791551 0.10244761 0.10795844 0.10906006 0.0939385\n",
      " 0.0950444  0.09689904 0.09388831 0.09664638]\n",
      "[0.09617621 0.10840436 0.10244473 0.10755865 0.10884311 0.09404939\n",
      " 0.0952077  0.0968314  0.09389479 0.09658963]\n",
      "[0.0962659  0.10784682 0.10245284 0.10791183 0.10903776 0.09396977\n",
      " 0.09508877 0.09693792 0.0938381  0.09665037]\n",
      "[0.09623349 0.10829128 0.1023289  0.10762826 0.10884596 0.09402268\n",
      " 0.0952579  0.09685282 0.09391952 0.09661914]\n",
      "[0.09618237 0.10801341 0.10246454 0.10799358 0.1091256  0.09385681\n",
      " 0.0950321  0.09685125 0.09383515 0.09664512]\n",
      "[0.09634674 0.10782329 0.10239667 0.10751931 0.10876885 0.09416489\n",
      " 0.09522841 0.09697969 0.09408181 0.09669028]\n",
      "[0.09613564 0.10800417 0.10248485 0.10784839 0.10910279 0.09390941\n",
      " 0.09512771 0.0968982  0.09385259 0.0966363 ]\n",
      "[0.09616804 0.10839754 0.10239473 0.10755353 0.10879358 0.09408318\n",
      " 0.09523416 0.09685752 0.09392591 0.09659186]\n",
      "[0.09624999 0.10783838 0.10243789 0.10805327 0.10911433 0.09383982\n",
      " 0.09499646 0.09689838 0.09390865 0.0966628 ]\n",
      "[0.09618067 0.10816659 0.10243519 0.10784498 0.10900369 0.09390934\n",
      " 0.09512669 0.09683108 0.09388679 0.09661499]\n",
      "[0.09613276 0.10788208 0.10237978 0.10813798 0.10915454 0.09386194\n",
      " 0.0950487  0.0968554  0.09387439 0.09667245]\n",
      "[0.09615254 0.10795201 0.10241184 0.10798146 0.10909388 0.09391426\n",
      " 0.0951096  0.09686145 0.09386423 0.09665874]\n",
      "[0.09619053 0.10836554 0.10237247 0.10752775 0.10878251 0.09410361\n",
      " 0.09526643 0.096866   0.09391298 0.0966122 ]\n",
      "[0.09609348 0.10788019 0.10249361 0.10813553 0.109222   0.09379535\n",
      " 0.09496251 0.09687957 0.09386256 0.0966752 ]\n",
      "[0.09619363 0.10794371 0.10237341 0.10790516 0.1090316  0.09394023\n",
      " 0.095122   0.09694926 0.09388247 0.09665848]\n",
      "[0.09611318 0.10800831 0.10242684 0.10792173 0.10907805 0.09395313\n",
      " 0.09513151 0.09687117 0.09383956 0.09665657]\n",
      "[0.09615017 0.10795236 0.10253382 0.10804495 0.10919546 0.0937884\n",
      " 0.09500817 0.0968653  0.09380808 0.09665332]\n",
      "[0.09615577 0.10790215 0.10245261 0.10798517 0.10909764 0.0938615\n",
      " 0.09508107 0.09692207 0.09385931 0.09668268]\n",
      "[0.09613632 0.1081248  0.10248416 0.10780371 0.10906548 0.0939494\n",
      " 0.09511031 0.0968214  0.09390628 0.09659811]\n",
      "[0.09615297 0.10836604 0.1024388  0.10753819 0.10880213 0.09409285\n",
      " 0.09524641 0.09684123 0.09390356 0.09661786]\n",
      "[0.09614975 0.10801522 0.1024419  0.10795546 0.10906058 0.0938826\n",
      " 0.09507804 0.09688988 0.09387794 0.09664869]\n",
      "[0.09621424 0.10804958 0.102405   0.10797726 0.10909031 0.09389447\n",
      " 0.09508996 0.09681865 0.09383072 0.0966299 ]\n",
      "[0.09619923 0.10830303 0.10234475 0.10760678 0.10884424 0.09407812\n",
      " 0.09525157 0.09683561 0.09391537 0.09662133]\n",
      "[0.09617459 0.10802675 0.1024754  0.10795972 0.10913281 0.09379606\n",
      " 0.09506398 0.09687524 0.09386261 0.09663279]\n",
      "[0.09620459 0.10800169 0.10238326 0.10787628 0.1089492  0.09398466\n",
      " 0.09512307 0.09692396 0.0938969  0.09665636]\n",
      "[0.09605388 0.10799849 0.10251372 0.10804049 0.10916595 0.09386322\n",
      " 0.09502426 0.0968634  0.09385112 0.09662545]\n",
      "[0.0961904  0.10798764 0.10244422 0.10791021 0.10899911 0.09396604\n",
      " 0.09511118 0.09688885 0.09387602 0.09662633]\n",
      "[0.09618367 0.10792615 0.1024203  0.10799441 0.10911299 0.09389903\n",
      " 0.09507509 0.09686756 0.09386496 0.09665582]\n",
      "[0.09620569 0.10830498 0.10232785 0.10755133 0.10874969 0.09410036\n",
      " 0.0952836  0.09689948 0.09393961 0.09663738]\n",
      "[0.09620227 0.10787255 0.10251018 0.10803625 0.10922451 0.0938239\n",
      " 0.09499542 0.09686855 0.09380615 0.09666026]\n",
      "[0.09617579 0.10819298 0.10240653 0.1077153  0.10886794 0.09403512\n",
      " 0.0951867  0.0968897  0.09390251 0.09662736]\n",
      "[0.09617186 0.10785674 0.10247139 0.10804047 0.10910248 0.09388043\n",
      " 0.09507181 0.09687337 0.09382815 0.09670332]\n",
      "[0.09618393 0.10835157 0.10239176 0.10762016 0.10886966 0.09403801\n",
      " 0.09521388 0.09682754 0.09390958 0.09659401]\n",
      "[0.09619631 0.10835712 0.10237067 0.10754477 0.10878906 0.09409033\n",
      " 0.09525552 0.09685325 0.09392592 0.09661709]\n",
      "[0.0961246  0.1080688  0.10247399 0.10795204 0.10914914 0.09381045\n",
      " 0.09507664 0.09682655 0.09386691 0.09665082]\n",
      "[0.09611906 0.10788669 0.10245912 0.10808253 0.10919468 0.09388163\n",
      " 0.09504289 0.09684711 0.09384031 0.09664595]\n",
      "[0.09616519 0.10802045 0.10252587 0.10793538 0.10906269 0.09395076\n",
      " 0.09506787 0.09682927 0.09386829 0.09657428]\n",
      "[0.09616718 0.10794829 0.10241132 0.10801078 0.10911375 0.09388428\n",
      " 0.09508264 0.09687985 0.09385091 0.09665097]\n",
      "[0.09619541 0.10836492 0.10232335 0.1075354  0.10875544 0.09410828\n",
      " 0.09527758 0.09687676 0.0939308  0.09663214]\n",
      "[0.09612611 0.10791101 0.10248438 0.10804322 0.10919444 0.0938966\n",
      " 0.09502427 0.09682612 0.09382183 0.0966721 ]\n",
      "[0.09651736 0.1074809  0.10209877 0.106764   0.10800132 0.09481037\n",
      " 0.09580807 0.09714504 0.09451054 0.0968636 ]\n",
      "[0.09621734 0.10807691 0.10240532 0.1078105  0.10895211 0.09398928\n",
      " 0.09515096 0.09688472 0.0938896  0.09662322]\n",
      "[0.0961979  0.10838371 0.10233024 0.10753364 0.10877904 0.09410822\n",
      " 0.09527496 0.0968518  0.09391787 0.09662269]\n",
      "[0.09615966 0.10810843 0.10244377 0.10788524 0.10904273 0.09393293\n",
      " 0.09510009 0.09680488 0.09388851 0.09663377]\n",
      "[0.09616333 0.10808457 0.10240248 0.1078781  0.10903768 0.09392294\n",
      " 0.095138   0.09685784 0.09386119 0.0966539 ]\n",
      "[0.09619006 0.10819805 0.1023696  0.10772276 0.10892598 0.09403497\n",
      " 0.09521636 0.09683768 0.09386979 0.0966347 ]\n",
      "[0.09614491 0.107959   0.10250087 0.10802345 0.10910835 0.09384723\n",
      " 0.09499872 0.09687716 0.0938664  0.09667389]\n",
      "[0.09612624 0.10798683 0.10253764 0.10802917 0.10922432 0.09382179\n",
      " 0.0949841  0.09686987 0.09378057 0.09663939]\n",
      "[0.09616648 0.10809653 0.10242347 0.10782059 0.10900016 0.09393179\n",
      " 0.09515294 0.09689923 0.09385806 0.09665077]\n",
      "[0.09611101 0.10790875 0.10251874 0.10809791 0.10920627 0.09382868\n",
      " 0.09496424 0.09685563 0.09384309 0.09666562]\n",
      "[0.09614998 0.10810523 0.10238865 0.10775451 0.10894176 0.09399851\n",
      " 0.09520055 0.09689189 0.09388748 0.09668146]\n",
      "[0.09619605 0.1083413  0.1023202  0.10752819 0.10875316 0.09410682\n",
      " 0.09528708 0.09689444 0.09393883 0.09663389]\n",
      "[0.0961631  0.10809826 0.10238716 0.10782982 0.10900449 0.09400056\n",
      " 0.09520099 0.09684442 0.09385681 0.09661444]\n",
      "[0.09613062 0.10803925 0.10248777 0.10787337 0.10906273 0.09391379\n",
      " 0.09509444 0.09688699 0.09385681 0.09665427]\n",
      "[0.0961892  0.10840263 0.1023843  0.10759079 0.10879674 0.09406225\n",
      " 0.09522809 0.09684369 0.09389712 0.09660521]\n",
      "[0.09620245 0.10780591 0.1025518  0.10803897 0.10917237 0.09387332\n",
      " 0.09496491 0.09686539 0.09382384 0.09670101]\n",
      "[0.0961953  0.10830688 0.10234131 0.10755093 0.10874835 0.09409926\n",
      " 0.09527431 0.09690437 0.09393202 0.09664726]\n",
      "[0.09618129 0.10820959 0.10240384 0.10767973 0.10888251 0.0940577\n",
      " 0.09520489 0.09686793 0.09387904 0.09663345]\n",
      "[0.09622778 0.10783737 0.10244076 0.10800216 0.10911001 0.09392805\n",
      " 0.09504001 0.09687001 0.09389026 0.09665363]\n",
      "[0.09609688 0.10791283 0.1025236  0.10809501 0.10921495 0.09380524\n",
      " 0.09497739 0.09686253 0.0938523  0.09665924]\n",
      "[0.09615804 0.10816935 0.10247923 0.1078728  0.10908419 0.09387938\n",
      " 0.09510526 0.09683771 0.09383273 0.09658132]\n",
      "[0.09618083 0.10838523 0.1023283  0.10753073 0.10877346 0.09411328\n",
      " 0.09526384 0.09686001 0.09393331 0.09663101]\n",
      "[0.0961918  0.10788202 0.10240658 0.1079996  0.1090702  0.09389456\n",
      " 0.09508797 0.09691694 0.09388749 0.09666285]\n",
      "[0.09604831 0.10829694 0.1024907  0.10771616 0.10899104 0.09394605\n",
      " 0.0951545  0.09681963 0.09391234 0.09662433]\n",
      "[0.09616502 0.10790358 0.10247854 0.10805751 0.10915255 0.09383195\n",
      " 0.09502389 0.09686913 0.09387328 0.09664453]\n",
      "[0.09614227 0.10809164 0.10244108 0.10788372 0.10911522 0.09389801\n",
      " 0.09511244 0.09683371 0.09385914 0.09662274]\n",
      "[0.09608416 0.1079225  0.10251021 0.10807337 0.10917354 0.09381135\n",
      " 0.09500824 0.09688158 0.09386587 0.0966692 ]\n",
      "[0.09613766 0.10790396 0.10244247 0.10806968 0.10913388 0.09389238\n",
      " 0.09502488 0.09689621 0.09383616 0.09666267]\n",
      "[0.09610339 0.10778292 0.1025665  0.10810724 0.10926103 0.09379513\n",
      " 0.0949745  0.09686835 0.09386304 0.09667795]\n",
      "[0.0961291  0.10829775 0.10246111 0.10766488 0.10894606 0.09401543\n",
      " 0.09518848 0.09682781 0.09387016 0.09659927]\n",
      "[0.09611713 0.10798969 0.10246538 0.10798695 0.10912587 0.09395957\n",
      " 0.0950239  0.09680881 0.0938542  0.09666851]\n",
      "[0.09617154 0.10791754 0.10251826 0.10807829 0.10922604 0.09377959\n",
      " 0.09496766 0.09684274 0.09383141 0.09666702]\n",
      "[0.09614899 0.10819455 0.10248205 0.10781468 0.10900152 0.09395321\n",
      " 0.09508298 0.09686702 0.09385119 0.09660386]\n",
      "[0.09618554 0.10838828 0.1023579  0.10757935 0.10881214 0.09405518\n",
      " 0.09525479 0.0968181  0.09391447 0.09663424]\n",
      "[0.09617461 0.10831118 0.1023823  0.10763963 0.10889449 0.09405388\n",
      " 0.09524424 0.0968301  0.09388387 0.09658562]\n",
      "[0.09609977 0.1081059  0.10246443 0.10792344 0.10908233 0.09388671\n",
      " 0.09510617 0.09682299 0.09387282 0.09663542]\n",
      "[0.09617326 0.10786445 0.10246699 0.10802781 0.10911644 0.09388793\n",
      " 0.09501674 0.09687062 0.09388437 0.09669139]\n",
      "[0.09611963 0.10812808 0.10244711 0.10789647 0.10908534 0.09391382\n",
      " 0.09512796 0.09685101 0.09384981 0.09658074]\n",
      "[0.09618108 0.10837297 0.10240049 0.10761844 0.10883671 0.09405433\n",
      " 0.09521512 0.09683823 0.09387346 0.09660918]\n",
      "[0.09611664 0.10786551 0.10250662 0.108104   0.10924993 0.09379211\n",
      " 0.09498881 0.09683712 0.09386808 0.09667118]\n",
      "[0.0961073  0.10793094 0.10243799 0.1080739  0.1091485  0.09384244\n",
      " 0.09504575 0.09684865 0.09385728 0.09670723]\n",
      "[0.09617422 0.1081254  0.10253775 0.10783855 0.10905924 0.09388868\n",
      " 0.09508567 0.09680559 0.09385246 0.09663241]\n",
      "[0.09616409 0.10826138 0.10243714 0.10754268 0.10881168 0.09406862\n",
      " 0.09523841 0.09690104 0.09391772 0.09665725]\n",
      "[0.09624624 0.10794336 0.10237889 0.10797815 0.10906393 0.09392515\n",
      " 0.09507708 0.09689865 0.0938527  0.09663578]\n",
      "[0.09619124 0.10814568 0.1024178  0.10780237 0.10901336 0.09395569\n",
      " 0.0951684  0.09684961 0.09386866 0.09658723]\n",
      "[0.09625874 0.10803798 0.10236895 0.10777648 0.10895596 0.09401786\n",
      " 0.09517854 0.09686898 0.0938778  0.09665875]\n",
      "[0.09615386 0.10813887 0.10240103 0.10782386 0.10896803 0.09397046\n",
      " 0.09515141 0.0968601  0.09388701 0.09664538]\n",
      "[0.09617788 0.10819415 0.10242493 0.10773379 0.10890442 0.09401881\n",
      " 0.09517423 0.09684695 0.09390588 0.09661891]\n",
      "[0.09612551 0.10801175 0.10244891 0.10795902 0.10908668 0.09396155\n",
      " 0.09508186 0.09683128 0.09384863 0.09664483]\n",
      "[0.09614054 0.10816256 0.1024294  0.10786386 0.10902964 0.09393498\n",
      " 0.09513482 0.09682004 0.09389265 0.09659161]\n",
      "[0.09615723 0.10789289 0.1024968  0.10805047 0.10920767 0.09381534\n",
      " 0.09497613 0.09687625 0.09387647 0.09665063]\n",
      "[0.09618022 0.10785051 0.10242223 0.10801638 0.10913892 0.09387924\n",
      " 0.09507146 0.09688513 0.09386256 0.09669325]\n",
      "[0.09611232 0.10805355 0.10250051 0.1079194  0.10912645 0.09391179\n",
      " 0.09508259 0.09682474 0.09382632 0.09664232]\n",
      "[0.09612758 0.10796598 0.10249105 0.1079767  0.10913015 0.09386391\n",
      " 0.09507755 0.09686831 0.09384433 0.09665436]\n",
      "[0.09612917 0.1082808  0.10250181 0.10777455 0.10900473 0.09396787\n",
      " 0.09513284 0.09680911 0.09382375 0.09657538]\n",
      "[0.0961832  0.10833386 0.1023663  0.10759322 0.10881273 0.0940505\n",
      " 0.09525456 0.09687606 0.09390438 0.09662521]\n",
      "[0.09613915 0.10814962 0.10249714 0.10780885 0.1089974  0.09395678\n",
      " 0.09513918 0.09685052 0.09385531 0.09660608]\n",
      "[0.09610779 0.10796567 0.10247155 0.10800686 0.10916725 0.09393223\n",
      " 0.09506231 0.09684782 0.09385043 0.09658808]\n",
      "[0.09623059 0.10786027 0.10247298 0.1079843  0.10907662 0.09383736\n",
      " 0.09502719 0.096943   0.09387527 0.09669243]\n",
      "[0.09613038 0.10792635 0.10239141 0.10797122 0.10904762 0.09396635\n",
      " 0.09511451 0.09687996 0.09387454 0.09669764]\n",
      "[0.09619138 0.10840213 0.102367   0.1075379  0.10879906 0.09408038\n",
      " 0.09527192 0.09684114 0.09389989 0.09660921]\n",
      "[0.09613244 0.10789458 0.10247836 0.10801218 0.109082   0.09384096\n",
      " 0.09504649 0.09691929 0.0938909  0.09670284]\n",
      "[0.09620804 0.10779036 0.10247822 0.10810158 0.10916566 0.09381048\n",
      " 0.09498773 0.09689567 0.09390819 0.09665409]\n",
      "[0.09617253 0.10810228 0.10242547 0.10779851 0.10895448 0.09397124\n",
      " 0.09519374 0.096881   0.09386788 0.09663285]\n",
      "[0.09619661 0.10793414 0.10238744 0.10790493 0.10901497 0.09398251\n",
      " 0.0951195  0.09686928 0.09390648 0.09668409]\n",
      "[0.09618554 0.10820337 0.1024643  0.10777031 0.10894026 0.09398238\n",
      " 0.09515878 0.09685145 0.09383746 0.09660617]\n",
      "[0.09615231 0.10810936 0.10244102 0.10787563 0.10903962 0.09394031\n",
      " 0.09511125 0.09680951 0.09387882 0.09664211]\n",
      "[0.09609196 0.10791278 0.10246629 0.10807888 0.10919466 0.09383502\n",
      " 0.09500836 0.09688728 0.09384401 0.09668075]\n",
      "[0.09620784 0.10797386 0.10245175 0.10789992 0.10901393 0.09396338\n",
      " 0.09504341 0.09689203 0.09391519 0.09663862]\n",
      "[0.09611984 0.10805755 0.10240816 0.10786084 0.10901307 0.09398088\n",
      " 0.09516086 0.09686461 0.09388829 0.09664582]\n",
      "[0.09612583 0.10791385 0.10243481 0.10809685 0.10923308 0.09383667\n",
      " 0.09501686 0.09685561 0.09385566 0.09663079]\n",
      "[0.09608411 0.10793106 0.10255051 0.10807382 0.10922709 0.09379096\n",
      " 0.09497017 0.09686459 0.09384634 0.09666138]\n",
      "[0.09612779 0.10785902 0.1024917  0.10810409 0.10920555 0.09376776\n",
      " 0.09500159 0.09686958 0.09386805 0.09670489]\n",
      "[0.09619198 0.10809632 0.1024069  0.10792945 0.1090343  0.09392944\n",
      " 0.09508137 0.09688185 0.09384768 0.09660072]\n",
      "[0.09611988 0.10797344 0.10239648 0.1080484  0.10912803 0.09387559\n",
      " 0.09506736 0.09688701 0.09383885 0.09666499]\n",
      "[0.09616833 0.10797688 0.10242266 0.10802872 0.10908079 0.09389561\n",
      " 0.09506726 0.09686583 0.09384015 0.09665372]\n",
      "[0.09612413 0.10789305 0.10249211 0.10804497 0.10917436 0.09387331\n",
      " 0.09502494 0.09684387 0.0938848  0.09664443]\n",
      "[0.09617253 0.1080081  0.10253163 0.1078419  0.10905444 0.09389161\n",
      " 0.09505706 0.09686944 0.09390152 0.09667177]\n",
      "[0.09633348 0.10778613 0.10235159 0.10782045 0.10886426 0.09406526\n",
      " 0.0951921  0.09692691 0.09395431 0.09670556]\n",
      "[0.09610873 0.10793416 0.10250994 0.10805224 0.10923681 0.09380601\n",
      " 0.09498224 0.09684719 0.09384643 0.09667617]\n",
      "[0.09615884 0.10805612 0.10251009 0.10787603 0.10905259 0.09393502\n",
      " 0.09511097 0.09684315 0.09387036 0.09658685]\n",
      "[0.0961397  0.10789057 0.10240131 0.10796916 0.10908274 0.09392507\n",
      " 0.09512937 0.0968972  0.0938727  0.09669217]\n",
      "[0.09613667 0.10789836 0.10246614 0.10803729 0.10917583 0.09387457\n",
      " 0.09504968 0.09688199 0.09383335 0.0966461 ]\n",
      "[0.09618336 0.10839337 0.102364   0.10752597 0.10877219 0.09409372\n",
      " 0.09526017 0.09686494 0.09392463 0.09661768]\n",
      "[0.09612893 0.10809063 0.10244375 0.10786384 0.10906052 0.09391524\n",
      " 0.09512865 0.09687258 0.09387731 0.09661853]\n",
      "[0.09620225 0.10818349 0.10234313 0.10761397 0.10880586 0.09408512\n",
      " 0.09527107 0.09690098 0.09393407 0.09666002]\n",
      "[0.09616185 0.10815517 0.10243703 0.10778414 0.10894937 0.09401655\n",
      " 0.09514127 0.0968518  0.09387327 0.09662957]\n",
      "[0.09611276 0.10794122 0.10248039 0.10805897 0.10919943 0.09384868\n",
      " 0.0950261  0.09684174 0.09383138 0.09665938]\n",
      "[0.09614607 0.10831158 0.10246971 0.10759962 0.10889034 0.0940603\n",
      " 0.09519746 0.09682264 0.09391484 0.09658738]\n",
      "[0.09611531 0.10794223 0.10241196 0.10802857 0.10918777 0.09387781\n",
      " 0.09506167 0.09686819 0.09383453 0.09667195]\n",
      "[0.09614155 0.10814774 0.10244908 0.10778759 0.10898878 0.09394638\n",
      " 0.09513973 0.09689981 0.09387933 0.09661999]\n",
      "[0.09617721 0.10806527 0.10237835 0.10790855 0.10900497 0.09397011\n",
      " 0.09512682 0.09687392 0.09384409 0.09665069]\n",
      "[0.09617899 0.10827456 0.10245585 0.10767667 0.10898334 0.09397908\n",
      " 0.0951536  0.09680966 0.09390923 0.09657894]\n",
      "[0.09618329 0.1083972  0.10241766 0.10753828 0.10880664 0.09410159\n",
      " 0.09524048 0.09682219 0.09390212 0.09659051]\n",
      "[0.09611969 0.10812958 0.10248531 0.10796003 0.10912557 0.093892\n",
      " 0.09506197 0.09681466 0.09382327 0.0965879 ]\n",
      "[0.09619321 0.10791699 0.10246529 0.1081045  0.10919384 0.09380033\n",
      " 0.09501361 0.09680367 0.09386685 0.09664165]\n",
      "[0.09618526 0.10801742 0.10242283 0.10797495 0.10909335 0.09386733\n",
      " 0.09508482 0.0968631  0.09383877 0.09665224]\n",
      "[0.0962633  0.10818282 0.10251069 0.10752477 0.10880688 0.09405808\n",
      " 0.09519888 0.09688604 0.0940017  0.09656677]\n",
      "[0.09617207 0.10801944 0.10245459 0.10795889 0.10909317 0.09386272\n",
      " 0.09505069 0.09686826 0.09386693 0.09665332]\n",
      "[0.0960954  0.10822222 0.10252427 0.10773725 0.10900778 0.09394053\n",
      " 0.09513593 0.09683324 0.09390658 0.09659679]\n",
      "[0.09609137 0.10788692 0.10247923 0.10805203 0.1091933  0.0938858\n",
      " 0.09500504 0.09687198 0.09386176 0.09667248]\n",
      "[0.09617136 0.10839679 0.10238428 0.10754977 0.10881049 0.09409118\n",
      " 0.0952453  0.09683137 0.09391899 0.09660039]\n",
      "[0.09620134 0.10791126 0.1025433  0.10799811 0.10922596 0.09386565\n",
      " 0.09499546 0.0967862  0.09382831 0.09664442]\n",
      "[0.09618475 0.10795632 0.10245997 0.10792328 0.10911757 0.09392367\n",
      " 0.09505564 0.09683699 0.09388483 0.096657  ]\n",
      "[0.09618949 0.10806654 0.10241813 0.10780249 0.10892879 0.09401278\n",
      " 0.0951594  0.09689897 0.09388481 0.09663853]\n",
      "[0.09619536 0.10836352 0.10234702 0.10752752 0.10876977 0.09410276\n",
      " 0.09527239 0.09687082 0.09392799 0.09662285]\n",
      "[0.09610703 0.10820394 0.1024707  0.10777593 0.10903652 0.09396505\n",
      " 0.09511122 0.09684978 0.09390048 0.09657929]\n",
      "[0.09610825 0.10810632 0.10251997 0.10803153 0.1092068  0.09380972\n",
      " 0.09499421 0.09679832 0.09386908 0.09655585]\n",
      "[0.09613092 0.10818915 0.10236409 0.10779551 0.10895342 0.09398761\n",
      " 0.09519584 0.09687497 0.09390628 0.09660216]\n",
      "[0.09613956 0.10804532 0.10243683 0.10796735 0.10908908 0.09386765\n",
      " 0.09508198 0.09687081 0.09385355 0.09664787]\n",
      "[0.09609984 0.10789559 0.10246968 0.10807859 0.10920123 0.09387987\n",
      " 0.09503639 0.0968437  0.09383561 0.09665941]\n",
      "[0.09614619 0.10796379 0.10247868 0.10797499 0.10910306 0.09392854\n",
      " 0.09504844 0.09686569 0.09385488 0.09663573]\n",
      "[0.09616364 0.10796357 0.10253505 0.10799724 0.10918984 0.09385125\n",
      " 0.09499456 0.09683619 0.09385764 0.09661108]\n",
      "[0.0961078  0.10800979 0.10244294 0.10796075 0.10909846 0.09391589\n",
      " 0.09509347 0.09686039 0.09385122 0.09665936]\n",
      "[0.09612991 0.10792273 0.10243325 0.10807796 0.10913039 0.09387843\n",
      " 0.09503402 0.09688048 0.09384548 0.0966673 ]\n",
      "[0.09609827 0.10796414 0.10250691 0.10804195 0.10920262 0.09382622\n",
      " 0.09498448 0.09685872 0.09387935 0.09663732]\n",
      "[0.09610754 0.10795048 0.10241589 0.1080424  0.10915428 0.09390732\n",
      " 0.09508037 0.09684361 0.09381171 0.09668636]\n",
      "[0.09631287 0.10785227 0.10244821 0.10787503 0.10891609 0.09405243\n",
      " 0.0951012  0.09689387 0.0938821  0.09666604]\n",
      "[0.09612568 0.10807709 0.10245319 0.10795575 0.10910898 0.09392021\n",
      " 0.09508277 0.09683278 0.09382891 0.09661456]\n",
      "[0.096201   0.10792752 0.10238633 0.10802601 0.10911097 0.09387498\n",
      " 0.09506798 0.09688197 0.09385968 0.09666362]\n",
      "[0.09608468 0.10787985 0.10248282 0.10806347 0.1092523  0.09383971\n",
      " 0.09498341 0.09686992 0.09384527 0.09669849]\n",
      "[0.09611677 0.10784736 0.10242452 0.10804563 0.10912332 0.09390675\n",
      " 0.09504646 0.09688913 0.09391867 0.09668133]\n",
      "[0.09613936 0.10809052 0.10250494 0.10791293 0.10914069 0.0938454\n",
      " 0.09507655 0.09683089 0.09383969 0.09661897]\n",
      "[0.09622616 0.10817987 0.10233161 0.10767356 0.10891745 0.09402228\n",
      " 0.0952253  0.09687343 0.09390096 0.09664939]\n",
      "[0.09618265 0.1081546  0.10243192 0.10785088 0.10899404 0.09393233\n",
      " 0.09510896 0.09684525 0.09386535 0.09663405]\n",
      "[0.09614984 0.10807562 0.10245431 0.10791371 0.10906553 0.09393124\n",
      " 0.09512161 0.09685712 0.09385121 0.09657985]\n",
      "[0.09615836 0.10796175 0.10239685 0.10799252 0.10908028 0.09392049\n",
      " 0.09510207 0.09687399 0.09384541 0.09666828]\n",
      "[0.09618983 0.1079521  0.10251904 0.10798091 0.10917009 0.09386895\n",
      " 0.09499538 0.09686498 0.09383243 0.09662634]\n",
      "[0.09615419 0.10790652 0.10249859 0.10807543 0.10917456 0.09383999\n",
      " 0.09499707 0.09685341 0.0938452  0.09665503]\n",
      "[0.09617022 0.10790309 0.10246953 0.10801761 0.10916485 0.09383807\n",
      " 0.09505097 0.09689196 0.0938476  0.09664612]\n",
      "[0.09609195 0.10801823 0.10251172 0.10805875 0.10920419 0.09379476\n",
      " 0.09499568 0.0968523  0.09383864 0.09663372]\n",
      "[0.09616822 0.10810046 0.10237507 0.10775357 0.10892294 0.09403501\n",
      " 0.09521586 0.09688647 0.09389511 0.09664726]\n",
      "[0.09613709 0.1081614  0.10241905 0.1078796  0.10903209 0.09395517\n",
      " 0.09510996 0.09684607 0.093868   0.09659159]\n",
      "[0.0961459  0.10805666 0.10234869 0.10789423 0.10900879 0.09394605\n",
      " 0.09515689 0.0968852  0.09388074 0.09667692]\n",
      "[0.09608835 0.10792371 0.10244147 0.10805481 0.10915478 0.09387253\n",
      " 0.0950528  0.09689125 0.09383313 0.09668716]\n",
      "[0.09613978 0.10807077 0.10250216 0.10791457 0.10905604 0.09388413\n",
      " 0.09508595 0.09687696 0.09383418 0.09663549]\n",
      "[0.09615064 0.10829709 0.10244261 0.10772751 0.10898685 0.09398793\n",
      " 0.09514698 0.09682398 0.09387769 0.09655867]\n",
      "[0.0961578  0.10804281 0.1024529  0.10789154 0.10903145 0.09396154\n",
      " 0.09512065 0.09685954 0.09383618 0.09664562]\n",
      "[0.09627914 0.10798215 0.10243797 0.10777868 0.10885563 0.0939925\n",
      " 0.0951464  0.09694567 0.09391932 0.09666253]\n",
      "[0.09611057 0.10788942 0.10249166 0.10806716 0.10917915 0.09385537\n",
      " 0.0950051  0.09687763 0.09385515 0.09666878]\n",
      "[0.09617704 0.10794487 0.10235676 0.10789831 0.10901112 0.09399217\n",
      " 0.09515853 0.09691869 0.09388379 0.09665868]\n",
      "[0.09611935 0.1079715  0.10241415 0.10805269 0.10914024 0.09384266\n",
      " 0.09506477 0.09685388 0.09387194 0.09666881]\n",
      "[0.09612194 0.10813495 0.10246228 0.1078315  0.10902751 0.09394565\n",
      " 0.09513541 0.09683764 0.09386975 0.09663347]\n",
      "[0.09614079 0.10806672 0.10242745 0.1079487  0.10909317 0.09388898\n",
      " 0.09512217 0.09684391 0.09381817 0.09664997]\n",
      "[0.09609868 0.10808032 0.10254338 0.1078916  0.10905418 0.09395258\n",
      " 0.09509079 0.09683014 0.09383183 0.09662647]\n",
      "[0.09615768 0.10802715 0.1023769  0.10768096 0.10886324 0.09403858\n",
      " 0.09527354 0.096883   0.09395537 0.09674347]\n",
      "[0.09617757 0.10839356 0.10240094 0.10758308 0.10882764 0.09407508\n",
      " 0.09522167 0.09681931 0.09390736 0.09659386]\n",
      "[0.09618907 0.10838962 0.10236824 0.10756564 0.10880715 0.09407832\n",
      " 0.09524786 0.09683499 0.09390157 0.09661753]\n"
     ]
    }
   ],
   "source": [
    "# look at values\n",
    "for i in y_pred:\n",
    "    print(i)"
   ]
  },
  {
   "cell_type": "code",
   "execution_count": 34,
   "metadata": {},
   "outputs": [
    {
     "ename": "ValueError",
     "evalue": "Classification metrics can't handle a mix of multilabel-indicator and continuous-multioutput targets",
     "output_type": "error",
     "traceback": [
      "\u001b[0;31m---------------------------------------------------------------------------\u001b[0m",
      "\u001b[0;31mValueError\u001b[0m                                Traceback (most recent call last)",
      "\u001b[1;32m/Users/there/Doktorand/Workshops/DSSG Summer Fellowship/OCCRP/OCCRP_Repo/dssgxdfki2022-occrp/Notebook/Theresa/VGG16_customized.ipynb Cell 38'\u001b[0m in \u001b[0;36m<cell line: 2>\u001b[0;34m()\u001b[0m\n\u001b[1;32m      <a href='vscode-notebook-cell:/Users/there/Doktorand/Workshops/DSSG%20Summer%20Fellowship/OCCRP/OCCRP_Repo/dssgxdfki2022-occrp/Notebook/Theresa/VGG16_customized.ipynb#ch0000034?line=0'>1</a>\u001b[0m \u001b[39m#confusion matrix as another check\u001b[39;00m\n\u001b[0;32m----> <a href='vscode-notebook-cell:/Users/there/Doktorand/Workshops/DSSG%20Summer%20Fellowship/OCCRP/OCCRP_Repo/dssgxdfki2022-occrp/Notebook/Theresa/VGG16_customized.ipynb#ch0000034?line=1'>2</a>\u001b[0m confusion_matrix(test_y, y_pred)\n",
      "File \u001b[0;32m~/.local/share/virtualenvs/VRR-16-sShwgRB7/lib/python3.8/site-packages/sklearn/metrics/_classification.py:307\u001b[0m, in \u001b[0;36mconfusion_matrix\u001b[0;34m(y_true, y_pred, labels, sample_weight, normalize)\u001b[0m\n\u001b[1;32m    222\u001b[0m \u001b[39mdef\u001b[39;00m \u001b[39mconfusion_matrix\u001b[39m(\n\u001b[1;32m    223\u001b[0m     y_true, y_pred, \u001b[39m*\u001b[39m, labels\u001b[39m=\u001b[39m\u001b[39mNone\u001b[39;00m, sample_weight\u001b[39m=\u001b[39m\u001b[39mNone\u001b[39;00m, normalize\u001b[39m=\u001b[39m\u001b[39mNone\u001b[39;00m\n\u001b[1;32m    224\u001b[0m ):\n\u001b[1;32m    225\u001b[0m     \u001b[39m\"\"\"Compute confusion matrix to evaluate the accuracy of a classification.\u001b[39;00m\n\u001b[1;32m    226\u001b[0m \n\u001b[1;32m    227\u001b[0m \u001b[39m    By definition a confusion matrix :math:`C` is such that :math:`C_{i, j}`\u001b[39;00m\n\u001b[0;32m   (...)\u001b[0m\n\u001b[1;32m    305\u001b[0m \u001b[39m    (0, 2, 1, 1)\u001b[39;00m\n\u001b[1;32m    306\u001b[0m \u001b[39m    \"\"\"\u001b[39;00m\n\u001b[0;32m--> 307\u001b[0m     y_type, y_true, y_pred \u001b[39m=\u001b[39m _check_targets(y_true, y_pred)\n\u001b[1;32m    308\u001b[0m     \u001b[39mif\u001b[39;00m y_type \u001b[39mnot\u001b[39;00m \u001b[39min\u001b[39;00m (\u001b[39m\"\u001b[39m\u001b[39mbinary\u001b[39m\u001b[39m\"\u001b[39m, \u001b[39m\"\u001b[39m\u001b[39mmulticlass\u001b[39m\u001b[39m\"\u001b[39m):\n\u001b[1;32m    309\u001b[0m         \u001b[39mraise\u001b[39;00m \u001b[39mValueError\u001b[39;00m(\u001b[39m\"\u001b[39m\u001b[39m%s\u001b[39;00m\u001b[39m is not supported\u001b[39m\u001b[39m\"\u001b[39m \u001b[39m%\u001b[39m y_type)\n",
      "File \u001b[0;32m~/.local/share/virtualenvs/VRR-16-sShwgRB7/lib/python3.8/site-packages/sklearn/metrics/_classification.py:93\u001b[0m, in \u001b[0;36m_check_targets\u001b[0;34m(y_true, y_pred)\u001b[0m\n\u001b[1;32m     90\u001b[0m     y_type \u001b[39m=\u001b[39m {\u001b[39m\"\u001b[39m\u001b[39mmulticlass\u001b[39m\u001b[39m\"\u001b[39m}\n\u001b[1;32m     92\u001b[0m \u001b[39mif\u001b[39;00m \u001b[39mlen\u001b[39m(y_type) \u001b[39m>\u001b[39m \u001b[39m1\u001b[39m:\n\u001b[0;32m---> 93\u001b[0m     \u001b[39mraise\u001b[39;00m \u001b[39mValueError\u001b[39;00m(\n\u001b[1;32m     94\u001b[0m         \u001b[39m\"\u001b[39m\u001b[39mClassification metrics can\u001b[39m\u001b[39m'\u001b[39m\u001b[39mt handle a mix of \u001b[39m\u001b[39m{0}\u001b[39;00m\u001b[39m and \u001b[39m\u001b[39m{1}\u001b[39;00m\u001b[39m targets\u001b[39m\u001b[39m\"\u001b[39m\u001b[39m.\u001b[39mformat(\n\u001b[1;32m     95\u001b[0m             type_true, type_pred\n\u001b[1;32m     96\u001b[0m         )\n\u001b[1;32m     97\u001b[0m     )\n\u001b[1;32m     99\u001b[0m \u001b[39m# We can't have more than one value on y_type => The set is no more needed\u001b[39;00m\n\u001b[1;32m    100\u001b[0m y_type \u001b[39m=\u001b[39m y_type\u001b[39m.\u001b[39mpop()\n",
      "\u001b[0;31mValueError\u001b[0m: Classification metrics can't handle a mix of multilabel-indicator and continuous-multioutput targets"
     ]
    }
   ],
   "source": [
    "# confusion matrix as another check\n",
    "confusion_matrix(test_y, y_pred)"
   ]
  },
  {
   "cell_type": "code",
   "execution_count": 35,
   "metadata": {},
   "outputs": [
    {
     "ename": "NameError",
     "evalue": "name 'skplt' is not defined",
     "output_type": "error",
     "traceback": [
      "\u001b[0;31m---------------------------------------------------------------------------\u001b[0m",
      "\u001b[0;31mNameError\u001b[0m                                 Traceback (most recent call last)",
      "\u001b[1;32m/Users/there/Doktorand/Workshops/DSSG Summer Fellowship/OCCRP/OCCRP_Repo/dssgxdfki2022-occrp/Notebook/Theresa/VGG16_customized.ipynb Cell 39'\u001b[0m in \u001b[0;36m<cell line: 2>\u001b[0;34m()\u001b[0m\n\u001b[1;32m      <a href='vscode-notebook-cell:/Users/there/Doktorand/Workshops/DSSG%20Summer%20Fellowship/OCCRP/OCCRP_Repo/dssgxdfki2022-occrp/Notebook/Theresa/VGG16_customized.ipynb#ch0000035?line=0'>1</a>\u001b[0m \u001b[39m#plot absolute confucion matrix \u001b[39;00m\n\u001b[0;32m----> <a href='vscode-notebook-cell:/Users/there/Doktorand/Workshops/DSSG%20Summer%20Fellowship/OCCRP/OCCRP_Repo/dssgxdfki2022-occrp/Notebook/Theresa/VGG16_customized.ipynb#ch0000035?line=1'>2</a>\u001b[0m skplt\u001b[39m.\u001b[39mmetrics\u001b[39m.\u001b[39mplot_confusion_matrix(test_y, y_pred)\n",
      "\u001b[0;31mNameError\u001b[0m: name 'skplt' is not defined"
     ]
    }
   ],
   "source": [
    "# plot absolute confucion matrix\n",
    "skplt.metrics.plot_confusion_matrix(test_y, y_pred)"
   ]
  },
  {
   "cell_type": "code",
   "execution_count": null,
   "metadata": {},
   "outputs": [],
   "source": [
    "# plot relative confusion matrix\n",
    "skplt.metrics.plot_confusion_matrix(test_y, y_pred, normalize=True)"
   ]
  },
  {
   "cell_type": "code",
   "execution_count": null,
   "metadata": {},
   "outputs": [],
   "source": [
    "# precision score\n",
    "precision_score(test_y, y_pred)"
   ]
  },
  {
   "cell_type": "code",
   "execution_count": null,
   "metadata": {},
   "outputs": [],
   "source": [
    "# recall score\n",
    "recall_score(test_y, y_pred)"
   ]
  },
  {
   "cell_type": "code",
   "execution_count": null,
   "metadata": {},
   "outputs": [],
   "source": [
    "# F1 score\n",
    "f1_score(test_y, y_pred)"
   ]
  },
  {
   "cell_type": "code",
   "execution_count": null,
   "metadata": {},
   "outputs": [],
   "source": [
    "# Cohen's Kappa score\n",
    "cohen_kappa_score(test_y, y_pred)"
   ]
  },
  {
   "cell_type": "code",
   "execution_count": null,
   "metadata": {},
   "outputs": [],
   "source": [
    "# precision, recall, fscore, count of each category\n",
    "precision_recall_fscore_support(test_y, y_pred)"
   ]
  },
  {
   "cell_type": "code",
   "execution_count": null,
   "metadata": {},
   "outputs": [],
   "source": [
    "# ROC Curve value\n",
    "roc_auc_score(test_y, y_pred)"
   ]
  },
  {
   "cell_type": "code",
   "execution_count": null,
   "metadata": {},
   "outputs": [],
   "source": [
    "# plotting roc curve\n",
    "fpr, tpr, thresholds = skplt.metrics.roc_curve(test_y, y_pred)  # false positve rate and true positive rate\n",
    "auc = roc_auc_score(test_y, y_pred)\n",
    "plt.plot(fpr, tpr, label=\"ROC Curve, AUC=\" + str(auc))\n",
    "plt.plot([0, 1], [0, 1], color=\"navy\", lw=2, linestyle=\"--\", label=\"Random chances\")\n",
    "plt.legend(loc=4)\n",
    "plt.title(\"Receiver Operating Characteristic (ROC) Curve\")\n",
    "plt.xlabel(\"False Positive Rate\")\n",
    "plt.ylabel(\"True Positive Rate\")\n",
    "plt.show()\n",
    "print(auc)"
   ]
  },
  {
   "cell_type": "code",
   "execution_count": null,
   "metadata": {},
   "outputs": [],
   "source": [
    "# look at false positive rate\n",
    "fpr"
   ]
  },
  {
   "cell_type": "code",
   "execution_count": null,
   "metadata": {},
   "outputs": [],
   "source": [
    "#########################################\n",
    "# testing own dataset\n",
    "#########################################"
   ]
  },
  {
   "cell_type": "code",
   "execution_count": 1,
   "metadata": {},
   "outputs": [
    {
     "ename": "NameError",
     "evalue": "name 'image' is not defined",
     "output_type": "error",
     "traceback": [
      "\u001b[0;31m---------------------------------------------------------------------------\u001b[0m",
      "\u001b[0;31mNameError\u001b[0m                                 Traceback (most recent call last)",
      "\u001b[1;32m/Users/there/Doktorand/Workshops/DSSG Summer Fellowship/OCCRP/OCCRP_Repo/dssgxdfki2022-occrp/Notebook/Theresa/VGG16_customized.ipynb Cell 40'\u001b[0m in \u001b[0;36m<cell line: 4>\u001b[0;34m()\u001b[0m\n\u001b[1;32m      <a href='vscode-notebook-cell:/Users/there/Doktorand/Workshops/DSSG%20Summer%20Fellowship/OCCRP/OCCRP_Repo/dssgxdfki2022-occrp/Notebook/Theresa/VGG16_customized.ipynb#ch0000021?line=0'>1</a>\u001b[0m \u001b[39m#apply model to own data\u001b[39;00m\n\u001b[1;32m      <a href='vscode-notebook-cell:/Users/there/Doktorand/Workshops/DSSG%20Summer%20Fellowship/OCCRP/OCCRP_Repo/dssgxdfki2022-occrp/Notebook/Theresa/VGG16_customized.ipynb#ch0000021?line=1'>2</a>\u001b[0m img_path \u001b[39m=\u001b[39m \u001b[39m'\u001b[39m\u001b[39mTobacco3482/\u001b[39m\u001b[39m'\u001b[39m\n\u001b[0;32m----> <a href='vscode-notebook-cell:/Users/there/Doktorand/Workshops/DSSG%20Summer%20Fellowship/OCCRP/OCCRP_Repo/dssgxdfki2022-occrp/Notebook/Theresa/VGG16_customized.ipynb#ch0000021?line=3'>4</a>\u001b[0m img \u001b[39m=\u001b[39m image\u001b[39m.\u001b[39mload_img(img_path, target_size\u001b[39m=\u001b[39m(\u001b[39m300\u001b[39m, \u001b[39m300\u001b[39m))\n\u001b[1;32m      <a href='vscode-notebook-cell:/Users/there/Doktorand/Workshops/DSSG%20Summer%20Fellowship/OCCRP/OCCRP_Repo/dssgxdfki2022-occrp/Notebook/Theresa/VGG16_customized.ipynb#ch0000021?line=5'>6</a>\u001b[0m x \u001b[39m=\u001b[39m image\u001b[39m.\u001b[39mimg_to_array(img)\n\u001b[1;32m      <a href='vscode-notebook-cell:/Users/there/Doktorand/Workshops/DSSG%20Summer%20Fellowship/OCCRP/OCCRP_Repo/dssgxdfki2022-occrp/Notebook/Theresa/VGG16_customized.ipynb#ch0000021?line=6'>7</a>\u001b[0m x \u001b[39m=\u001b[39m np\u001b[39m.\u001b[39mexpand_dims(x, axis\u001b[39m=\u001b[39m\u001b[39m0\u001b[39m)\n",
      "\u001b[0;31mNameError\u001b[0m: name 'image' is not defined"
     ]
    }
   ],
   "source": [
    "# apply model to own data\n",
    "img = image.keras.utils.load_img(DATA_PATH_ABS, target_size=(300, 300))\n",
    "\n",
    "x = image.keras.utils.img_to_array(img)\n",
    "x = np.expand_dims(x, axis=0)\n",
    "x = preprocess_input(x)\n",
    "\n",
    "print(\"Input image shape:\", x.shape)\n",
    "\n",
    "my_image = imread(DATA_PATH_ABS)\n",
    "imshow(my_image)"
   ]
  }
 ],
 "metadata": {
  "kernelspec": {
   "display_name": "Python 3.8.12 ('dssgxdfki2022-occrp-CY4k_1kg')",
   "language": "python",
   "name": "python3"
  },
  "language_info": {
   "codemirror_mode": {
    "name": "ipython",
    "version": 3
   },
   "file_extension": ".py",
   "mimetype": "text/x-python",
   "name": "python",
   "nbconvert_exporter": "python",
   "pygments_lexer": "ipython3",
   "version": "3.8.12"
  },
  "orig_nbformat": 4,
  "vscode": {
   "interpreter": {
    "hash": "a3c48176900a8dc9b418c12bf6710b126294bd248a313704f07b556b87a08de4"
   }
  }
 },
 "nbformat": 4,
 "nbformat_minor": 2
}
