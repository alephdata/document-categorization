{
 "cells": [
  {
   "cell_type": "code",
   "execution_count": null,
   "metadata": {},
   "outputs": [],
   "source": [
    "# The VGG16 model - Convolutional Network for Classification and Detection\n",
    "# By default VGG-16 model expects color input images (224x224)\n",
    "# https://www.youtube.com/watch?v=mjk4vDYOwq0"
   ]
  },
  {
   "cell_type": "code",
   "execution_count": 23,
   "metadata": {},
   "outputs": [],
   "source": [
    "# install all necessary packages\n",
    "import os\n",
    "import pandas as pd\n",
    "import numpy as np\n",
    "import seaborn\n",
    "import scipy\n",
    "import matplotlib\n",
    "from matplotlib.pyplot import imread\n",
    "import tensorflow\n",
    "import keras\n",
    "from keras.applications.vgg16 import VGG16\n",
    "from tensorflow.keras.utils import load_img\n",
    "from keras.applications.imagenet_utils import preprocess_input\n",
    "from keras.applications.vgg16 import preprocess_input, decode_predictions"
   ]
  },
  {
   "cell_type": "code",
   "execution_count": 3,
   "metadata": {},
   "outputs": [
    {
     "name": "stderr",
     "output_type": "stream",
     "text": [
      "2022-06-20 10:25:38.745418: I tensorflow/core/platform/cpu_feature_guard.cc:193] This TensorFlow binary is optimized with oneAPI Deep Neural Network Library (oneDNN) to use the following CPU instructions in performance-critical operations:  AVX2 FMA\n",
      "To enable them in other operations, rebuild TensorFlow with the appropriate compiler flags.\n"
     ]
    },
    {
     "name": "stdout",
     "output_type": "stream",
     "text": [
      "Downloading data from https://storage.googleapis.com/tensorflow/keras-applications/vgg16/vgg16_weights_tf_dim_ordering_tf_kernels.h5\n",
      "553467096/553467096 [==============================] - 21s 0us/step\n"
     ]
    }
   ],
   "source": [
    "# load empty model (224x224)\n",
    "# model is trained on ImageNet dataset\n",
    "model = VGG16()"
   ]
  },
  {
   "cell_type": "code",
   "execution_count": 4,
   "metadata": {},
   "outputs": [
    {
     "name": "stdout",
     "output_type": "stream",
     "text": [
      "Model: \"vgg16\"\n",
      "_________________________________________________________________\n",
      " Layer (type)                Output Shape              Param #   \n",
      "=================================================================\n",
      " input_1 (InputLayer)        [(None, 224, 224, 3)]     0         \n",
      "                                                                 \n",
      " block1_conv1 (Conv2D)       (None, 224, 224, 64)      1792      \n",
      "                                                                 \n",
      " block1_conv2 (Conv2D)       (None, 224, 224, 64)      36928     \n",
      "                                                                 \n",
      " block1_pool (MaxPooling2D)  (None, 112, 112, 64)      0         \n",
      "                                                                 \n",
      " block2_conv1 (Conv2D)       (None, 112, 112, 128)     73856     \n",
      "                                                                 \n",
      " block2_conv2 (Conv2D)       (None, 112, 112, 128)     147584    \n",
      "                                                                 \n",
      " block2_pool (MaxPooling2D)  (None, 56, 56, 128)       0         \n",
      "                                                                 \n",
      " block3_conv1 (Conv2D)       (None, 56, 56, 256)       295168    \n",
      "                                                                 \n",
      " block3_conv2 (Conv2D)       (None, 56, 56, 256)       590080    \n",
      "                                                                 \n",
      " block3_conv3 (Conv2D)       (None, 56, 56, 256)       590080    \n",
      "                                                                 \n",
      " block3_pool (MaxPooling2D)  (None, 28, 28, 256)       0         \n",
      "                                                                 \n",
      " block4_conv1 (Conv2D)       (None, 28, 28, 512)       1180160   \n",
      "                                                                 \n",
      " block4_conv2 (Conv2D)       (None, 28, 28, 512)       2359808   \n",
      "                                                                 \n",
      " block4_conv3 (Conv2D)       (None, 28, 28, 512)       2359808   \n",
      "                                                                 \n",
      " block4_pool (MaxPooling2D)  (None, 14, 14, 512)       0         \n",
      "                                                                 \n",
      " block5_conv1 (Conv2D)       (None, 14, 14, 512)       2359808   \n",
      "                                                                 \n",
      " block5_conv2 (Conv2D)       (None, 14, 14, 512)       2359808   \n",
      "                                                                 \n",
      " block5_conv3 (Conv2D)       (None, 14, 14, 512)       2359808   \n",
      "                                                                 \n",
      " block5_pool (MaxPooling2D)  (None, 7, 7, 512)         0         \n",
      "                                                                 \n",
      " flatten (Flatten)           (None, 25088)             0         \n",
      "                                                                 \n",
      " fc1 (Dense)                 (None, 4096)              102764544 \n",
      "                                                                 \n",
      " fc2 (Dense)                 (None, 4096)              16781312  \n",
      "                                                                 \n",
      " predictions (Dense)         (None, 1000)              4097000   \n",
      "                                                                 \n",
      "=================================================================\n",
      "Total params: 138,357,544\n",
      "Trainable params: 138,357,544\n",
      "Non-trainable params: 0\n",
      "_________________________________________________________________\n"
     ]
    }
   ],
   "source": [
    "# look at model summary\n",
    "model.summary()"
   ]
  },
  {
   "cell_type": "code",
   "execution_count": 11,
   "metadata": {},
   "outputs": [],
   "source": [
    "# load test image\n",
    "image = load_img(\"phone.jpg\", target_size=(224, 224))"
   ]
  },
  {
   "cell_type": "code",
   "execution_count": 12,
   "metadata": {},
   "outputs": [],
   "source": [
    "# convert image to numpy array\n",
    "image = np.array(image)"
   ]
  },
  {
   "cell_type": "code",
   "execution_count": 13,
   "metadata": {},
   "outputs": [],
   "source": [
    "# reshape data for the model\n",
    "image = image.reshape((1, image.shape[0], image.shape[1], image.shape[2]))"
   ]
  },
  {
   "cell_type": "code",
   "execution_count": 14,
   "metadata": {},
   "outputs": [
    {
     "data": {
      "text/plain": [
       "array([[[[78.061   , 55.221   , 41.32    ],\n",
       "         [78.061   , 55.221   , 41.32    ],\n",
       "         [74.061   , 53.221   , 39.32    ],\n",
       "         ...,\n",
       "         [86.061   , 64.221   , 47.32    ],\n",
       "         [87.061   , 64.221   , 47.32    ],\n",
       "         [89.061   , 66.221   , 49.32    ]],\n",
       "\n",
       "        [[76.061   , 53.221   , 39.32    ],\n",
       "         [80.061   , 57.221   , 43.32    ],\n",
       "         [76.061   , 55.221   , 41.32    ],\n",
       "         ...,\n",
       "         [85.061   , 63.221   , 46.32    ],\n",
       "         [85.061   , 63.221   , 46.32    ],\n",
       "         [87.061   , 65.221   , 48.32    ]],\n",
       "\n",
       "        [[82.061   , 59.221   , 45.32    ],\n",
       "         [80.061   , 57.221   , 43.32    ],\n",
       "         [76.061   , 55.221   , 41.32    ],\n",
       "         ...,\n",
       "         [85.061   , 63.221   , 47.32    ],\n",
       "         [84.061   , 62.221   , 45.32    ],\n",
       "         [87.061   , 65.221   , 48.32    ]],\n",
       "\n",
       "        ...,\n",
       "\n",
       "        [[89.061   , 67.221   , 47.32    ],\n",
       "         [89.061   , 67.221   , 47.32    ],\n",
       "         [87.061   , 64.221   , 47.32    ],\n",
       "         ...,\n",
       "         [65.061   , 50.221   , 33.32    ],\n",
       "         [74.061   , 52.221   , 36.32    ],\n",
       "         [77.061   , 55.221   , 39.32    ]],\n",
       "\n",
       "        [[89.061   , 67.221   , 47.32    ],\n",
       "         [89.061   , 67.221   , 47.32    ],\n",
       "         [87.061   , 64.221   , 47.32    ],\n",
       "         ...,\n",
       "         [64.061   , 48.221   , 33.32    ],\n",
       "         [67.061   , 49.221   , 33.32    ],\n",
       "         [70.061   , 52.221   , 36.32    ]],\n",
       "\n",
       "        [[89.061   , 67.221   , 47.32    ],\n",
       "         [89.061   , 67.221   , 47.32    ],\n",
       "         [87.061   , 64.221   , 47.32    ],\n",
       "         ...,\n",
       "         [62.060997, 47.221   , 32.32    ],\n",
       "         [66.061   , 49.221   , 31.32    ],\n",
       "         [69.061   , 52.221   , 34.32    ]]]], dtype=float32)"
      ]
     },
     "execution_count": 14,
     "metadata": {},
     "output_type": "execute_result"
    }
   ],
   "source": [
    "# prepare the image for the VGG16 model\n",
    "image = preprocess_input(image)\n",
    "image"
   ]
  },
  {
   "cell_type": "code",
   "execution_count": 21,
   "metadata": {},
   "outputs": [
    {
     "data": {
      "text/plain": [
       "<matplotlib.image.AxesImage at 0x138f69be0>"
      ]
     },
     "execution_count": 21,
     "metadata": {},
     "output_type": "execute_result"
    },
    {
     "data": {
      "image/png": "[encoded data removed]",
      "text/plain": [
       "<Figure size 432x288 with 1 Axes>"
      ]
     },
     "metadata": {
      "needs_background": "light"
     },
     "output_type": "display_data"
    }
   ],
   "source": [
    "# display image\n",
    "my_image = imread(\"phone.jpg\")\n",
    "matplotlib.pyplot.imshow(my_image)"
   ]
  },
  {
   "cell_type": "code",
   "execution_count": 22,
   "metadata": {},
   "outputs": [
    {
     "name": "stdout",
     "output_type": "stream",
     "text": [
      "1/1 [==============================] - 1s 895ms/step\n"
     ]
    },
    {
     "data": {
      "text/plain": [
       "array([[5.48107358e-11, 2.65882139e-09, 7.55279284e-10, 1.51547952e-09,\n",
       "        5.42003165e-10, 2.90516100e-09, 1.60315032e-08, 4.46465975e-10,\n",
       "        1.44246382e-09, 7.15681681e-10, 5.99685412e-10, 2.37919617e-09,\n",
       "        8.20257695e-10, 1.00471942e-08, 1.17538401e-09, 1.84474477e-10,\n",
       "        8.85645099e-11, 9.63617186e-10, 8.06412981e-09, 5.97582472e-09,\n",
       "        1.93899993e-10, 2.30969133e-11, 2.35744479e-10, 1.92960425e-09,\n",
       "        2.10794759e-09, 8.92591778e-10, 7.18988591e-10, 5.57289725e-09,\n",
       "        3.45132678e-09, 2.23336993e-08, 3.12652057e-11, 2.63108513e-09,\n",
       "        3.66387393e-10, 6.47613282e-11, 1.49333879e-10, 8.04853961e-11,\n",
       "        6.24057195e-10, 1.71224535e-10, 2.39187142e-10, 4.15469742e-11,\n",
       "        2.07763118e-09, 5.45630430e-10, 2.21089619e-10, 4.67394352e-11,\n",
       "        5.46059364e-10, 1.38362066e-09, 3.02897840e-09, 5.40365738e-11,\n",
       "        3.75349959e-11, 1.13868470e-09, 7.03511749e-10, 1.83645876e-11,\n",
       "        3.80292562e-08, 4.08667269e-08, 4.24695112e-10, 2.09210885e-10,\n",
       "        1.57654090e-09, 6.48280665e-11, 2.16661633e-10, 2.31809114e-10,\n",
       "        6.79265644e-10, 8.83522630e-11, 3.53403799e-11, 1.17856447e-10,\n",
       "        1.38999012e-09, 4.72415496e-10, 1.28523159e-09, 5.66088176e-10,\n",
       "        5.82573545e-10, 3.77184335e-07, 6.32166035e-08, 2.48806611e-08,\n",
       "        6.25271612e-09, 5.37308011e-08, 3.75700582e-09, 6.05408786e-06,\n",
       "        1.12867804e-08, 6.87582755e-08, 2.82277892e-06, 1.37374784e-07,\n",
       "        1.01152524e-10, 2.81802304e-10, 1.71248377e-10, 1.88942112e-10,\n",
       "        2.55461263e-10, 8.72166062e-10, 2.41727527e-10, 1.10285612e-08,\n",
       "        1.08034255e-10, 7.37663597e-10, 2.32235300e-10, 6.68979178e-11,\n",
       "        2.55421295e-10, 6.44511736e-11, 4.71122419e-10, 3.38791391e-11,\n",
       "        3.85211141e-10, 6.18433291e-11, 1.71031952e-10, 1.51356225e-08,\n",
       "        3.95510158e-09, 6.39989034e-11, 9.48589096e-10, 1.19664079e-09,\n",
       "        3.56051004e-07, 2.14988405e-09, 3.41918955e-08, 3.56551166e-09,\n",
       "        2.74780226e-10, 1.38408858e-08, 1.28787692e-09, 4.19181447e-07,\n",
       "        1.49041146e-09, 5.08383668e-10, 1.99209471e-09, 3.48921336e-09,\n",
       "        1.40852252e-09, 4.45186421e-09, 3.62669061e-10, 1.10274984e-10,\n",
       "        2.43416703e-10, 4.38539864e-11, 1.69940750e-09, 2.00658934e-09,\n",
       "        3.77222831e-09, 4.07848449e-10, 5.95535488e-09, 6.45428433e-10,\n",
       "        1.90317262e-10, 1.26123867e-09, 1.05535114e-09, 9.25904284e-11,\n",
       "        1.65379599e-09, 2.33235740e-11, 2.36257303e-09, 4.86982919e-11,\n",
       "        5.71717618e-10, 3.75247750e-10, 3.24066135e-10, 7.13647544e-11,\n",
       "        1.57859603e-09, 1.17839599e-10, 3.39721390e-10, 4.54430188e-10,\n",
       "        2.30215833e-10, 3.09985211e-08, 2.20841079e-09, 3.56599784e-11,\n",
       "        1.80324922e-10, 7.44808881e-10, 5.99854721e-10, 1.82075865e-09,\n",
       "        2.89805901e-10, 5.04125630e-09, 6.03053341e-09, 1.12103538e-09,\n",
       "        2.80143242e-09, 1.84323701e-09, 5.13036003e-10, 4.13972551e-10,\n",
       "        3.25851790e-10, 3.77418585e-09, 2.30627761e-09, 1.20216792e-09,\n",
       "        3.09026937e-09, 3.61161462e-10, 2.17615570e-09, 4.09210527e-10,\n",
       "        7.20076943e-10, 1.25006139e-09, 2.10563278e-09, 2.83072038e-10,\n",
       "        3.67889674e-09, 1.11973608e-09, 9.11427023e-09, 4.53429322e-10,\n",
       "        5.14315222e-11, 2.17530904e-09, 7.26797156e-09, 1.46717594e-09,\n",
       "        9.26551391e-10, 7.73699593e-09, 3.31397154e-09, 1.44317103e-09,\n",
       "        5.66700953e-09, 1.01525481e-08, 7.23974269e-10, 9.90989180e-10,\n",
       "        6.61533828e-10, 4.86090446e-10, 6.99674274e-09, 2.35005193e-09,\n",
       "        3.08880810e-09, 5.10634424e-10, 6.34769126e-10, 4.72631090e-09,\n",
       "        3.79104470e-10, 2.33208852e-09, 1.83334486e-10, 4.99443642e-09,\n",
       "        1.65974323e-09, 2.06936557e-09, 3.66460973e-09, 3.04644310e-08,\n",
       "        1.95958738e-09, 6.92444013e-09, 1.64868441e-09, 6.10909545e-09,\n",
       "        5.64915981e-09, 9.82254189e-09, 9.66866170e-11, 6.88467838e-10,\n",
       "        6.27886187e-10, 5.96807659e-10, 3.69924580e-09, 1.13524585e-08,\n",
       "        1.06934850e-09, 2.32188468e-09, 1.28394040e-09, 2.28432673e-09,\n",
       "        1.96408512e-09, 4.89040253e-10, 4.12624175e-08, 2.36537323e-09,\n",
       "        5.73186432e-09, 3.63493369e-09, 1.12150156e-09, 4.40219555e-10,\n",
       "        2.95225600e-09, 1.77798469e-08, 3.68247721e-09, 1.05486873e-08,\n",
       "        6.63740884e-09, 7.62844277e-09, 1.15499388e-09, 3.62208152e-09,\n",
       "        8.35279956e-10, 6.33136710e-10, 4.61599825e-09, 7.70786102e-09,\n",
       "        2.11774820e-09, 1.24720356e-09, 2.72112066e-09, 4.04358458e-09,\n",
       "        1.65746228e-09, 2.41162113e-09, 1.13520204e-09, 3.44534961e-08,\n",
       "        1.22652688e-08, 1.94768934e-09, 9.09627751e-09, 2.81693358e-09,\n",
       "        1.24525923e-09, 1.29144606e-09, 8.85178242e-09, 2.34648995e-10,\n",
       "        3.95212307e-09, 9.38193239e-08, 4.91723029e-07, 6.89272373e-09,\n",
       "        6.41156817e-08, 2.81857271e-09, 9.36729236e-11, 3.43775985e-09,\n",
       "        4.45882165e-10, 1.01971258e-08, 4.97708141e-09, 2.30529240e-09,\n",
       "        1.05434467e-10, 1.13008425e-09, 1.81250623e-08, 1.55190874e-10,\n",
       "        6.93720692e-10, 1.10593956e-09, 1.08957465e-09, 6.40316272e-11,\n",
       "        1.07303844e-09, 3.09010872e-10, 2.63210759e-10, 1.58705092e-07,\n",
       "        5.24410460e-10, 4.50067450e-09, 4.19289004e-09, 1.13873302e-08,\n",
       "        1.70551004e-08, 2.75218315e-09, 2.34447239e-10, 1.17521868e-08,\n",
       "        4.84370564e-11, 6.13226581e-10, 1.08672177e-11, 9.99342720e-10,\n",
       "        5.95760163e-10, 4.81799156e-10, 7.52407858e-10, 5.53511903e-10,\n",
       "        3.61909827e-07, 9.94774818e-10, 5.11782261e-09, 1.01586117e-08,\n",
       "        9.69260139e-09, 1.99584647e-07, 3.52868881e-08, 5.51791111e-08,\n",
       "        1.77452915e-08, 1.81740356e-09, 1.97407601e-08, 2.10025819e-09,\n",
       "        2.41671838e-09, 7.02916225e-10, 1.65658705e-07, 8.88372820e-10,\n",
       "        1.00320481e-08, 2.20240057e-08, 3.16820604e-07, 7.12281656e-09,\n",
       "        2.93984903e-09, 1.40294372e-08, 2.43314680e-09, 1.97280681e-09,\n",
       "        9.49389123e-10, 7.68098529e-10, 1.13411136e-09, 1.04442965e-09,\n",
       "        8.64402327e-10, 1.10222687e-09, 2.86923318e-10, 1.99486649e-09,\n",
       "        6.14605122e-09, 6.86424029e-09, 1.08581133e-07, 1.13741606e-07,\n",
       "        3.40671249e-07, 6.24534493e-07, 1.66700853e-09, 1.10669285e-09,\n",
       "        1.18680381e-08, 7.64492114e-08, 5.16026330e-06, 2.06831094e-10,\n",
       "        1.76359816e-10, 6.85918922e-09, 2.54607202e-09, 9.57517537e-11,\n",
       "        1.78344700e-11, 3.47952833e-10, 1.70377504e-10, 5.11314902e-09,\n",
       "        1.65341119e-09, 6.26990751e-11, 2.73308293e-10, 1.17312132e-10,\n",
       "        1.91610658e-10, 1.51648294e-09, 1.63094663e-10, 6.86053614e-09,\n",
       "        1.96112122e-08, 2.40955771e-08, 5.44758194e-09, 5.63389113e-09,\n",
       "        5.57980828e-10, 2.17994529e-08, 2.01243067e-09, 1.28614130e-09,\n",
       "        2.93102931e-10, 4.78380946e-10, 9.17848186e-10, 5.00988084e-10,\n",
       "        5.47429924e-09, 5.29839617e-10, 2.16438290e-09, 9.43615741e-10,\n",
       "        3.48536866e-09, 2.68898792e-09, 5.81338144e-10, 1.47724544e-09,\n",
       "        5.90427540e-10, 7.48953344e-09, 1.61268346e-10, 4.34986297e-10,\n",
       "        9.47450385e-09, 3.70337892e-11, 7.00368152e-10, 9.74652470e-10,\n",
       "        3.27024385e-09, 1.12550594e-10, 4.61539522e-11, 5.71194099e-11,\n",
       "        9.81384751e-10, 3.39329467e-11, 6.23606222e-10, 1.05714226e-09,\n",
       "        1.29468936e-09, 1.63821082e-10, 4.51696874e-10, 2.23838295e-10,\n",
       "        1.46271301e-10, 2.27233607e-10, 2.28485533e-06, 6.75169698e-10,\n",
       "        4.33819702e-10, 2.20015977e-07, 8.33532170e-07, 6.52720267e-10,\n",
       "        6.94976188e-10, 1.11706744e-09, 8.55396365e-10, 8.83705553e-09,\n",
       "        2.38518344e-10, 1.57896666e-05, 1.68489667e-09, 3.92306543e-09,\n",
       "        2.39115195e-07, 7.60929382e-08, 1.24021653e-07, 6.88383253e-08,\n",
       "        2.38223863e-09, 5.57990432e-10, 4.43293766e-06, 1.68412098e-05,\n",
       "        2.81597341e-08, 1.40190252e-07, 3.18634674e-09, 1.36167611e-09,\n",
       "        1.54395563e-09, 2.24794558e-10, 2.55394070e-06, 1.66194560e-08,\n",
       "        1.26784514e-07, 1.65157688e-09, 5.06306108e-10, 2.18121698e-09,\n",
       "        1.86453857e-08, 6.27561221e-08, 7.80549726e-07, 1.42101305e-06,\n",
       "        8.81938689e-10, 5.39415845e-09, 3.26111740e-06, 8.38216552e-10,\n",
       "        1.37326772e-08, 2.83167374e-08, 5.33318334e-10, 2.25446044e-07,\n",
       "        1.17833299e-10, 5.92511507e-09, 1.03969978e-06, 2.61694240e-08,\n",
       "        2.77940515e-08, 1.16550491e-10, 1.24193861e-07, 4.24438076e-06,\n",
       "        1.03017728e-08, 7.82698295e-10, 4.05096445e-09, 3.43181270e-08,\n",
       "        8.93459262e-09, 8.15556618e-08, 6.08629477e-07, 6.59305854e-09,\n",
       "        8.17155321e-09, 1.65108638e-08, 5.13906144e-08, 4.90884311e-09,\n",
       "        1.08379354e-04, 2.42196507e-09, 9.25606912e-07, 8.99397818e-08,\n",
       "        4.60521044e-08, 2.31352515e-09, 1.80326406e-05, 2.05374340e-09,\n",
       "        2.99731195e-09, 5.97439248e-06, 3.21526805e-08, 6.06905388e-08,\n",
       "        2.21093716e-11, 7.68033715e-07, 5.24756203e-08, 1.01721598e-09,\n",
       "        6.12519489e-06, 6.57274155e-04, 4.52989188e-05, 9.84592852e-10,\n",
       "        9.09250897e-10, 7.99932604e-06, 2.68725509e-09, 1.52232277e-03,\n",
       "        5.54080763e-08, 2.19062812e-08, 3.62803498e-09, 3.91830168e-09,\n",
       "        6.13415523e-08, 1.57333269e-09, 4.64832830e-08, 3.20568572e-11,\n",
       "        1.82532773e-07, 2.37626674e-09, 2.28951844e-08, 2.05079123e-04,\n",
       "        1.00976016e-09, 1.42786016e-09, 4.33481802e-08, 2.41373321e-09,\n",
       "        2.57595929e-07, 3.00136982e-08, 3.84465570e-09, 8.11619793e-06,\n",
       "        1.06752885e-03, 1.81117557e-08, 6.28456842e-09, 6.07446760e-10,\n",
       "        2.18334915e-08, 2.34932607e-09, 1.89631444e-09, 5.72925218e-09,\n",
       "        7.18533899e-09, 4.83150131e-10, 7.36634798e-09, 4.01987066e-08,\n",
       "        3.84115229e-09, 2.89598812e-09, 1.13666886e-07, 1.19312702e-08,\n",
       "        8.30884861e-10, 2.45078557e-09, 2.61256368e-08, 1.25290285e-06,\n",
       "        1.65098580e-04, 9.39323073e-08, 7.47483091e-06, 3.16873320e-06,\n",
       "        5.18321919e-09, 7.92165622e-08, 1.01285700e-07, 2.48678038e-08,\n",
       "        8.97633412e-10, 3.83684445e-10, 1.89211060e-11, 2.52422208e-08,\n",
       "        6.15390378e-11, 6.93369229e-09, 9.35950709e-07, 3.65160759e-07,\n",
       "        8.27975999e-09, 4.69100918e-08, 5.14176281e-06, 2.04828621e-09,\n",
       "        4.45294246e-09, 6.18424201e-06, 4.43609860e-09, 1.94415970e-05,\n",
       "        5.97741234e-08, 1.00378905e-07, 3.77231968e-10, 1.86230822e-10,\n",
       "        1.29878091e-08, 7.94457111e-10, 3.02766914e-08, 3.50549499e-06,\n",
       "        1.46673189e-08, 1.23212074e-09, 8.42335424e-10, 1.00780574e-06,\n",
       "        1.33257827e-09, 5.21545873e-09, 3.43794304e-09, 1.05503580e-06,\n",
       "        1.44089100e-07, 5.56211632e-10, 1.27081137e-08, 6.89369983e-08,\n",
       "        5.18333074e-08, 3.93437327e-09, 4.87597980e-08, 2.45309231e-08,\n",
       "        2.09405804e-09, 4.37935155e-09, 2.78366374e-09, 6.99690306e-09,\n",
       "        3.30078720e-09, 8.84047768e-09, 5.14819254e-09, 1.64217084e-07,\n",
       "        5.23787776e-06, 2.64585054e-07, 1.09527543e-09, 4.71801172e-07,\n",
       "        2.54198760e-08, 9.28283725e-07, 1.57610746e-04, 8.32303755e-08,\n",
       "        2.54207524e-04, 1.15902309e-04, 9.31596467e-10, 5.96163674e-10,\n",
       "        3.10577491e-07, 1.97665554e-06, 1.12196489e-07, 3.05302201e-08,\n",
       "        1.56250782e-04, 3.07634168e-10, 1.33481629e-10, 4.83431906e-11,\n",
       "        4.07230090e-08, 5.95988743e-02, 1.78345640e-08, 1.07027487e-09,\n",
       "        9.95344607e-09, 9.20501186e-09, 5.09262232e-09, 3.68316009e-08,\n",
       "        8.05363831e-11, 4.16917792e-05, 3.94021343e-10, 8.28801547e-07,\n",
       "        1.61515707e-08, 8.83193749e-08, 1.06861205e-06, 1.75256517e-07,\n",
       "        8.84938636e-05, 7.95830069e-09, 1.62701326e-06, 7.74838991e-05,\n",
       "        1.05068008e-08, 3.29000760e-09, 5.80567517e-04, 8.33424885e-09,\n",
       "        2.18576338e-10, 3.50264781e-06, 3.45161610e-09, 1.21120738e-05,\n",
       "        1.57000832e-05, 5.56600116e-06, 3.92773536e-10, 2.54081812e-07,\n",
       "        1.16990611e-06, 3.21792754e-06, 6.21334140e-09, 3.49010532e-09,\n",
       "        8.44703010e-08, 6.90500386e-08, 1.66378857e-08, 1.65638863e-08,\n",
       "        2.09922509e-05, 2.56250229e-11, 1.64793633e-07, 1.73726249e-07,\n",
       "        3.67098494e-08, 1.98600936e-09, 1.53072335e-06, 2.26854056e-08,\n",
       "        3.28255950e-10, 3.72864128e-10, 5.77023496e-09, 5.34667066e-09,\n",
       "        7.11813097e-09, 1.09200515e-08, 1.51330835e-06, 3.65109756e-08,\n",
       "        2.13226659e-09, 6.69452827e-11, 4.26220242e-03, 1.87745597e-09,\n",
       "        4.20077868e-07, 9.72478098e-10, 1.52496487e-08, 4.75474984e-08,\n",
       "        1.20917651e-10, 1.28988736e-10, 2.68819811e-09, 9.57807444e-12,\n",
       "        5.13835779e-11, 1.74196437e-03, 5.94475641e-05, 1.75882564e-09,\n",
       "        4.65197374e-08, 3.65461091e-07, 4.22074864e-09, 2.79353208e-06,\n",
       "        1.66493692e-07, 9.95217561e-05, 1.33351454e-08, 8.71079298e-09,\n",
       "        5.23307926e-06, 3.13708199e-07, 5.61737295e-07, 1.46864310e-09,\n",
       "        1.92479729e-06, 2.09531947e-10, 5.66386738e-12, 9.59273834e-08,\n",
       "        2.20092588e-05, 7.58087140e-08, 1.77948356e-09, 3.24119333e-06,\n",
       "        7.39058976e-07, 1.95146366e-09, 2.47513732e-10, 8.93364174e-08,\n",
       "        2.73876485e-05, 1.10745935e-09, 8.42597381e-10, 5.20630792e-08,\n",
       "        5.30772013e-07, 7.70257387e-08, 1.25911573e-10, 4.81550296e-06,\n",
       "        3.22136784e-09, 5.83264919e-05, 1.10031615e-04, 2.05242691e-06,\n",
       "        7.20940363e-07, 2.09786393e-07, 2.43760205e-05, 1.66104613e-11,\n",
       "        3.08597699e-08, 4.26074426e-10, 2.52672572e-09, 4.07125285e-08,\n",
       "        4.72953752e-06, 4.13911216e-09, 1.60264676e-07, 1.79578141e-09,\n",
       "        5.53707687e-12, 1.29487274e-08, 1.43986625e-07, 9.44358897e-11,\n",
       "        1.00113702e-07, 3.18508000e-07, 1.22308053e-09, 1.36061303e-07,\n",
       "        3.36716903e-06, 2.62377462e-08, 2.79365819e-09, 1.47171075e-09,\n",
       "        1.44319458e-07, 9.62322844e-09, 4.85580065e-09, 1.38524991e-09,\n",
       "        3.76489680e-07, 1.91704341e-09, 1.94718814e-05, 1.11305532e-07,\n",
       "        1.45153649e-08, 3.51106928e-06, 9.15259591e-07, 6.13000353e-08,\n",
       "        6.91939786e-05, 6.12651149e-07, 6.87839519e-09, 1.63697389e-10,\n",
       "        2.64783555e-08, 5.88076965e-08, 1.49232539e-04, 6.92726376e-10,\n",
       "        2.82518364e-08, 2.64953819e-08, 8.15277801e-09, 2.65646435e-07,\n",
       "        1.47943445e-06, 4.59305523e-03, 6.53865717e-09, 1.06826704e-07,\n",
       "        1.86316989e-08, 7.11921677e-09, 1.43592238e-09, 2.37885397e-03,\n",
       "        2.35350606e-09, 1.90495441e-04, 1.17561949e-09, 1.84780603e-07,\n",
       "        1.86000725e-05, 4.86881763e-05, 2.23701093e-08, 1.26363406e-10,\n",
       "        1.54902913e-09, 4.40799539e-07, 1.17877942e-04, 1.43794026e-08,\n",
       "        9.21875597e-12, 1.64866734e-07, 1.11521911e-06, 1.88633567e-06,\n",
       "        2.48558936e-05, 1.26240559e-06, 2.47324152e-07, 1.50154676e-07,\n",
       "        1.15613552e-09, 2.97468041e-08, 3.56691459e-08, 3.58804009e-08,\n",
       "        3.49956258e-06, 2.30193660e-08, 1.48962496e-08, 8.44284287e-08,\n",
       "        1.41220058e-08, 8.30170865e-09, 7.21981109e-04, 2.54787551e-08,\n",
       "        3.90996462e-08, 1.14522614e-08, 2.02077732e-09, 7.18476345e-09,\n",
       "        2.31624072e-05, 4.30682023e-09, 1.67529933e-07, 9.48049177e-08,\n",
       "        1.02098485e-09, 5.35750466e-08, 4.48222447e-04, 1.32580874e-06,\n",
       "        5.47792602e-08, 6.96629577e-05, 3.06777692e-09, 3.44353457e-09,\n",
       "        2.81067059e-07, 1.28620026e-09, 8.20892751e-07, 2.70637818e-10,\n",
       "        2.13991402e-09, 1.32540909e-10, 4.45283233e-09, 4.84670977e-07,\n",
       "        2.84365118e-08, 2.48959946e-08, 1.30513645e-05, 8.98679247e-08,\n",
       "        4.41486549e-07, 7.25892457e-09, 8.76457733e-08, 9.08334474e-09,\n",
       "        8.19336266e-11, 4.91708008e-09, 1.77055570e-09, 1.42401169e-09,\n",
       "        1.72110489e-07, 1.49438819e-07, 1.28750810e-06, 1.07456832e-09,\n",
       "        1.93241803e-07, 8.35219394e-10, 1.28919240e-08, 3.54583207e-08,\n",
       "        9.19234633e-01, 8.15328349e-07, 6.59240840e-08, 1.00527486e-09,\n",
       "        1.43530997e-04, 8.07293254e-09, 5.50928760e-08, 3.43610282e-06,\n",
       "        3.75116471e-08, 7.53664631e-10, 3.80638326e-10, 2.53050473e-07,\n",
       "        1.07546324e-11, 6.70700495e-10, 3.77752762e-09, 2.14345891e-06,\n",
       "        9.93228166e-09, 8.69980909e-07, 9.14176539e-08, 1.30945060e-10,\n",
       "        1.71537773e-09, 1.38925060e-09, 4.31417879e-09, 5.01483521e-09,\n",
       "        2.49900422e-05, 1.05765698e-08, 1.91982694e-10, 1.54749560e-10,\n",
       "        8.51000195e-08, 7.43206469e-11, 2.76263346e-09, 2.94114444e-09,\n",
       "        4.90750949e-07, 8.39660341e-09, 2.37428594e-06, 1.34850753e-09,\n",
       "        1.59657054e-09, 1.67932139e-08, 3.40836351e-07, 7.73626141e-08,\n",
       "        3.20335258e-10, 1.03126688e-07, 5.24595350e-07, 7.77114040e-10,\n",
       "        1.66878689e-09, 4.40735626e-09, 3.46433687e-10, 3.62659102e-06,\n",
       "        1.02733375e-05, 7.83234555e-06, 1.08810685e-08, 7.80058906e-10,\n",
       "        2.21088817e-06, 7.29804910e-08, 1.75916863e-08, 2.03300630e-08,\n",
       "        8.12918677e-10, 6.28345731e-08, 9.70738074e-06, 7.13101267e-09,\n",
       "        4.70021860e-07, 2.40008600e-08, 1.84751094e-08, 1.43195805e-07,\n",
       "        2.48482102e-09, 6.80210164e-08, 6.29903582e-07, 7.84063673e-07,\n",
       "        1.57664015e-09, 6.91125490e-10, 7.76660264e-11, 2.14499928e-11,\n",
       "        1.10369847e-07, 5.44420597e-09, 2.62336584e-07, 2.01793591e-06,\n",
       "        2.12098757e-06, 5.78853133e-06, 1.12874325e-07, 2.48040578e-07,\n",
       "        1.60629998e-08, 2.15723333e-08, 5.99207794e-09, 8.27805469e-09,\n",
       "        4.77304354e-07, 6.94309565e-05, 1.00076669e-07, 1.49071155e-07,\n",
       "        2.76677454e-08, 7.37170325e-09, 9.06465658e-08, 3.08801589e-07,\n",
       "        3.07896322e-08, 3.78581007e-08, 7.05592740e-08, 1.38781600e-08,\n",
       "        1.26848168e-08, 9.36888789e-10, 5.75434562e-08, 1.32698446e-07,\n",
       "        2.16933427e-09, 1.14432863e-08, 2.22410822e-11, 2.03310235e-09,\n",
       "        1.48922175e-06, 5.07245126e-08, 4.85242388e-08, 3.06124370e-08,\n",
       "        1.72063708e-09, 7.96759547e-09, 9.68203722e-08, 5.01940933e-09,\n",
       "        7.88464494e-09, 4.50760922e-08, 1.49947299e-09, 4.19437143e-08,\n",
       "        1.81546602e-06, 1.08746744e-05, 4.42917013e-07, 1.47530266e-09,\n",
       "        1.10123137e-08, 9.33019919e-08, 3.04177483e-08, 2.01530582e-07,\n",
       "        4.34238387e-07, 1.45456639e-07, 2.20969154e-09, 4.74453081e-08,\n",
       "        7.72320541e-10, 1.19672527e-09, 4.14607876e-10, 4.22186819e-09,\n",
       "        2.53870008e-10, 2.20994565e-08, 1.44892442e-09, 4.13268864e-10,\n",
       "        2.20005139e-10, 1.10911391e-10, 1.04686881e-09, 2.29346853e-09,\n",
       "        9.70571712e-09, 1.45828655e-10, 5.34389234e-11, 2.50747405e-07,\n",
       "        2.06517803e-09, 9.38101152e-10, 4.45636879e-08, 3.73428000e-09,\n",
       "        2.34171932e-10, 2.37171593e-09, 3.33043232e-10, 6.97399916e-09,\n",
       "        1.37267264e-09, 6.97504665e-10, 1.69480536e-08, 5.10891141e-06]],\n",
       "      dtype=float32)"
      ]
     },
     "execution_count": 22,
     "metadata": {},
     "output_type": "execute_result"
    }
   ],
   "source": [
    "# predict image class\n",
    "yhat = model.predict(image)\n",
    "yhat"
   ]
  },
  {
   "cell_type": "code",
   "execution_count": 24,
   "metadata": {},
   "outputs": [
    {
     "name": "stdout",
     "output_type": "stream",
     "text": [
      "Downloading data from https://storage.googleapis.com/download.tensorflow.org/data/imagenet_class_index.json\n",
      "35363/35363 [==============================] - 0s 0us/step\n"
     ]
    },
    {
     "data": {
      "text/plain": [
       "[[('n04372370', 'switch', 0.91923463),\n",
       "  ('n03584254', 'iPod', 0.059598874),\n",
       "  ('n04074963', 'remote_control', 0.004593055),\n",
       "  ('n03777754', 'modem', 0.0042622024),\n",
       "  ('n04116512', 'rubber_eraser', 0.002378854)]]"
      ]
     },
     "execution_count": 24,
     "metadata": {},
     "output_type": "execute_result"
    }
   ],
   "source": [
    "# convert probabilities to class labels\n",
    "label = decode_predictions(yhat)\n",
    "label"
   ]
  }
 ],
 "metadata": {
  "kernelspec": {
   "display_name": "Python 3.8.12 64-bit",
   "language": "python",
   "name": "python3"
  },
  "language_info": {
   "codemirror_mode": {
    "name": "ipython",
    "version": 3
   },
   "file_extension": ".py",
   "mimetype": "text/x-python",
   "name": "python",
   "nbconvert_exporter": "python",
   "pygments_lexer": "ipython3",
   "version": "3.8.12"
  },
  "orig_nbformat": 4,
  "vscode": {
   "interpreter": {
    "hash": "df0893f56f349688326838aaeea0de204df53a132722cbd565e54b24a8fec5f6"
   }
  }
 },
 "nbformat": 4,
 "nbformat_minor": 2
}
