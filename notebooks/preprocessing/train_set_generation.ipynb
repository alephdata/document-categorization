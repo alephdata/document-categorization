{
 "cells": [
  {
   "cell_type": "code",
   "execution_count": 20,
   "metadata": {},
   "outputs": [],
   "source": [
    "import pandas as pd\n",
    "import os\n",
    "import shutil"
   ]
  },
  {
   "cell_type": "code",
   "execution_count": 21,
   "metadata": {},
   "outputs": [],
   "source": [
    "input_path = \"/data/dssg/occrp/data/clean_labels\"\n",
    "output_path = \"/data/dssg/occrp/data/input/document_classification_clean\""
   ]
  },
  {
   "cell_type": "code",
   "execution_count": 22,
   "metadata": {},
   "outputs": [],
   "source": [
    "for filename in os.listdir(input_path):\n",
    "    if filename == \"cargo-manifests.csv\":\n",
    "        continue\n",
    "    raw_filename, ext = os.path.splitext(filename)\n",
    "    sep = \";\" if raw_filename[-3:] == \"_TH\" else \",\"\n",
    "    df = pd.read_csv(os.path.join(input_path, filename), sep=sep)\n",
    "    label_output_path = os.path.join(output_path, raw_filename)\n",
    "    os.makedirs(label_output_path, exist_ok=True)\n",
    "    for file in df[(df[\"clean?\"] == 1) | (df[\"clean?\"] == \"1\")][\"path\"]:\n",
    "        shutil.copy(file, label_output_path)"
   ]
  },
  {
   "cell_type": "code",
   "execution_count": 24,
   "metadata": {},
   "outputs": [
    {
     "name": "stdout",
     "output_type": "stream",
     "text": [
      "shipping-receipts 100\n",
      "transcripts 100\n",
      "bank-statements 100\n",
      "company-registry 100\n",
      "court-documents 100\n",
      "gazettes 100\n",
      "invoices 100\n",
      "passport-scan 100\n",
      "receipts 100\n",
      "contracts 100\n"
     ]
    }
   ],
   "source": [
    "for folder in os.listdir(output_path):\n",
    "    print(folder, len(os.listdir(os.path.join(output_path, folder))))"
   ]
  },
  {
   "cell_type": "code",
   "execution_count": null,
   "metadata": {},
   "outputs": [],
   "source": []
  }
 ],
 "metadata": {
  "kernelspec": {
   "display_name": "Python 3.8.12 ('dssgxdfki2022-occrp-kILcxiHt')",
   "language": "python",
   "name": "python3"
  },
  "language_info": {
   "codemirror_mode": {
    "name": "ipython",
    "version": 3
   },
   "file_extension": ".py",
   "mimetype": "text/x-python",
   "name": "python",
   "nbconvert_exporter": "python",
   "pygments_lexer": "ipython3",
   "version": "3.8.12"
  },
  "orig_nbformat": 4,
  "vscode": {
   "interpreter": {
    "hash": "61ee9f45260620374750326627e1fd5bedee03043b048591eb456597b4021b0a"
   }
  }
 },
 "nbformat": 4,
 "nbformat_minor": 2
}
