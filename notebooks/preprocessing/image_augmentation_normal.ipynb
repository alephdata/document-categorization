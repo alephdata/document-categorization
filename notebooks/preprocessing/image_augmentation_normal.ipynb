{
 "cells": [
  {
   "cell_type": "code",
   "execution_count": 1,
   "metadata": {},
   "outputs": [],
   "source": [
    "# load all necessary packages\n",
    "import os, sys\n",
    "\n",
    "from keras.preprocessing.image import ImageDataGenerator\n",
    "import tensorflow as tf\n",
    "\n",
    "import numpy as np\n",
    "import glob\n",
    "\n",
    "import matplotlib.pyplot as plt  ##display data\n",
    "import matplotlib.image as mpimg  ##display data\n",
    "import cv2\n",
    "\n",
    "\n",
    "# getting the dir of this file and add parent dir to sys path\n",
    "current = os.path.abspath(\"\")\n",
    "parent = os.path.dirname(current)\n",
    "grandparent = os.path.dirname(parent)\n",
    "sys.path.append(parent)\n",
    "sys.path.append(grandparent)\n",
    "import src.config as config"
   ]
  },
  {
   "cell_type": "code",
   "execution_count": null,
   "metadata": {},
   "outputs": [],
   "source": [
    "# Set path for data\n",
    "DATA_PATH_ABS: str = config.settings.DATA_PATH_ABS_TOBACCO_DATASET  # Input folder"
   ]
  },
  {
   "cell_type": "code",
   "execution_count": 2,
   "metadata": {},
   "outputs": [],
   "source": [
    "# define data generator and rotate the images\n",
    "datagen = ImageDataGenerator(\n",
    "    rotation_range=40,\n",
    "    width_shift_range=0.2,\n",
    "    height_shift_range=0.2,\n",
    "    rescale=1.0 / 255,\n",
    "    shear_range=0.2,\n",
    "    zoom_range=0.2,\n",
    "    horizontal_flip=True,\n",
    "    fill_mode=\"nearest\",\n",
    ")"
   ]
  },
  {
   "cell_type": "code",
   "execution_count": 3,
   "metadata": {},
   "outputs": [],
   "source": [
    "# load test picture\n",
    "pic = tf.keras.utils.load_img(DATA_PATH_ABS + \"test.jpg\")"
   ]
  },
  {
   "cell_type": "code",
   "execution_count": 4,
   "metadata": {},
   "outputs": [],
   "source": [
    "# convert to array\n",
    "pic_array = tf.keras.utils.img_to_array(pic)"
   ]
  },
  {
   "cell_type": "code",
   "execution_count": 5,
   "metadata": {},
   "outputs": [
    {
     "data": {
      "text/plain": [
       "(2156, 1728, 3)"
      ]
     },
     "execution_count": 5,
     "metadata": {},
     "output_type": "execute_result"
    }
   ],
   "source": [
    "# check image dimensions\n",
    "pic_array.shape"
   ]
  },
  {
   "cell_type": "code",
   "execution_count": 6,
   "metadata": {},
   "outputs": [
    {
     "data": {
      "text/plain": [
       "(1, 2156, 1728, 3)"
      ]
     },
     "execution_count": 6,
     "metadata": {},
     "output_type": "execute_result"
    }
   ],
   "source": [
    "# Converting into 4 dimension array\n",
    "pic_array = pic_array.reshape((-1,) + pic_array.shape)\n",
    "pic_array.shape"
   ]
  },
  {
   "cell_type": "code",
   "execution_count": 7,
   "metadata": {},
   "outputs": [],
   "source": [
    "# Generate 10 images\n",
    "# batch_size: At a time, how many image should be used for augmentation.\n",
    "count = 0\n",
    "for batch in datagen.flow(\n",
    "    pic_array,\n",
    "    batch_size=1,\n",
    "    save_to_dir=\"/Users/there/Doktorand/Workshops/DSSG Summer Fellowship/OCCRP/Document Classification/data/augmentation\",\n",
    "    save_format=\"jpg\",\n",
    "):  # * @Theresa Change path\n",
    "    count += 1\n",
    "    if count > 10:\n",
    "        break"
   ]
  },
  {
   "cell_type": "code",
   "execution_count": 8,
   "metadata": {},
   "outputs": [],
   "source": [
    "# Now generate 10 new images from all images\n",
    "for image_path in glob.glob(DATA_PATH_ABS + \"ADVE/*.jpg\"):  # * @Theresa Path correct?\n",
    "    try:\n",
    "        image = cv2.imread(image_path, 1)  # 1 means RGB, 0 would be grey\n",
    "        IMG_SIZE = 227  # size for AlexNet\n",
    "        new_array = cv2.resize(image, (IMG_SIZE, IMG_SIZE))\n",
    "        pic_array = new_array.reshape((-1,) + new_array.shape)  # four dimensions\n",
    "        count = 0\n",
    "        for batch in datagen.flow(\n",
    "            pic_array,\n",
    "            batch_size=20,\n",
    "            save_to_dir=DATA_PATH_ABS + \"data/augmentation\",\n",
    "            save_format=\"jpg\",\n",
    "        ):  # * @Theresa Path correct?\n",
    "            count += 1\n",
    "            if count > 10:\n",
    "                break\n",
    "    except Exception as e:\n",
    "        print(\"Error\")"
   ]
  }
 ],
 "metadata": {
  "kernelspec": {
   "display_name": "Python 3.8.12 ('dssgxdfki2022-occrp-CY4k_1kg')",
   "language": "python",
   "name": "python3"
  },
  "language_info": {
   "codemirror_mode": {
    "name": "ipython",
    "version": 3
   },
   "file_extension": ".py",
   "mimetype": "text/x-python",
   "name": "python",
   "nbconvert_exporter": "python",
   "pygments_lexer": "ipython3",
   "version": "3.8.12"
  },
  "orig_nbformat": 4,
  "vscode": {
   "interpreter": {
    "hash": "a3c48176900a8dc9b418c12bf6710b126294bd248a313704f07b556b87a08de4"
   }
  }
 },
 "nbformat": 4,
 "nbformat_minor": 2
}
