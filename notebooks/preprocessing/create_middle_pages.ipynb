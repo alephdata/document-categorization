{
 "cells": [
  {
   "cell_type": "code",
   "execution_count": 2,
   "metadata": {},
   "outputs": [],
   "source": [
    "# https://stackoverflow.com/questions/61648654/pypdf2-script-to-split-each-page-of-pdf-in-folder\n",
    "# import required modules\n",
    "import os\n",
    "from glob import glob\n",
    "from PyPDF2 import PdfFileWriter, PdfFileReader"
   ]
  },
  {
   "cell_type": "code",
   "execution_count": 97,
   "metadata": {},
   "outputs": [
    {
     "name": "stdout",
     "output_type": "stream",
     "text": [
      "PDF: /data/dssg/occrp/data/input/document_classification/court-documents/World Bank International Centre for Settlement of Investment Disputes/53167232.41af24d5d99ca361caad700ae69655f64484c746-Additional_Declaration_by_President_Pierre_Tercier_and_Arbitrator_Albert_Jan_van_den_Berg_December_29_2016.pdf has been splitted\n",
      "PDF: /data/dssg/occrp/data/input/document_classification/court-documents/World Bank International Centre for Settlement of Investment Disputes/53165669.a036c9954c6dd96073b9326540fb347d88693475-Procedural_Order_Concerning_the_Procedural_Calendar_May_14_2013.pdf has been splitted\n",
      "PDF: /data/dssg/occrp/data/input/document_classification/court-documents/World Bank International Centre for Settlement of Investment Disputes/53165175.5a1e59eb22a82b6a2721cb5417e9fb07eaea278f-Non_Disputing_Party_Submission_El_Salvador_Annex_E_April_17_2015.pdf has been splitted\n",
      "PDF: /data/dssg/occrp/data/input/document_classification/court-documents/World Bank International Centre for Settlement of Investment Disputes/53167288.d4092f6ab7f7ecb05e424ded9b29fb8e2188a3bc-Decision_on_Applicant_s_Request_for_a_Continued_Stay_of_Enforcement_of_the_Award_November_12_2010.pdf has been splitted\n",
      "PDF: /data/dssg/occrp/data/input/document_classification/court-documents/World Bank International Centre for Settlement of Investment Disputes/53163802.4d0b826baa3c23d471285b88b38672bf334de573-Procedural_Decisions_1_2_April_17_2001.pdf has been splitted\n",
      "PDF: /data/dssg/occrp/data/input/document_classification/court-documents/World Bank International Centre for Settlement of Investment Disputes/53163812.50c4d02156b9f288af6da498649839ddc3197fa5-Canada_s_Memorandum_of_Argument_Regarding_Submission_of_a_Statement_of_Defence_April_30_2001.pdf has been splitted\n",
      "PDF: /data/dssg/occrp/data/input/document_classification/court-documents/World Bank International Centre for Settlement of Investment Disputes/53166890.ecd09e16e628f8d65281b279ab340c166e9dbdc3-Decision_on_Jurisdiction_June_1_2012.pdf has been splitted\n"
     ]
    },
    {
     "name": "stderr",
     "output_type": "stream",
     "text": [
      "Xref table not zero-indexed. ID numbers for objects will be corrected.\n"
     ]
    },
    {
     "name": "stdout",
     "output_type": "stream",
     "text": [
      "PDF: /data/dssg/occrp/data/input/document_classification/court-documents/World Bank International Centre for Settlement of Investment Disputes/53164503.de1833d8b186bbce1e71817594dd3b23bb2759fd-Decision_on_Respondent_s_Application_for_Provisional_Measures_May_12_2016.pdf has been splitted\n",
      "PDF: /data/dssg/occrp/data/input/document_classification/court-documents/World Bank International Centre for Settlement of Investment Disputes/53164083.f1b2439af2d6439485ffcb6e64021747aa3c879d-Award_of_the_Tribunal_March_31_2010.pdf has been splitted\n",
      "PDF: /data/dssg/occrp/data/input/document_classification/court-documents/World Bank International Centre for Settlement of Investment Disputes/53167324.1bd48523cb4e20193ab7efa11e1ac2e4189dab55-Decision_on_Liability_Dissenting_Opinion_by_Henri_Alvarez_December_27_2010.pdf has been splitted\n",
      "PDF: /data/dssg/occrp/data/input/document_classification/court-documents/World Bank International Centre for Settlement of Investment Disputes/53165762.7b867a5802e644bd0feb7bbcf1fc34ad54af6da7-Decision_on_the_Rectification_of_the_Award_September_26_2016.pdf has been splitted\n",
      "PDF: /data/dssg/occrp/data/input/document_classification/court-documents/World Bank International Centre for Settlement of Investment Disputes/53164624.878a556c346aa831526d9b9c8c38a2af3006e121-Expert_Report_of_Alfredo_Bullard_Gonzalez_January_8_2016.pdf has been splitted\n",
      "PDF: /data/dssg/occrp/data/input/document_classification/court-documents/World Bank International Centre for Settlement of Investment Disputes/53167287.ec05e5f4926500de2967403e0871c494e6e7935c-Award_March_3_2010.pdf has been splitted\n"
     ]
    },
    {
     "ename": "KeyboardInterrupt",
     "evalue": "",
     "output_type": "error",
     "traceback": [
      "\u001b[0;31m---------------------------------------------------------------------------\u001b[0m",
      "\u001b[0;31mKeyboardInterrupt\u001b[0m                         Traceback (most recent call last)",
      "\u001b[1;32m/home/thenn/dssgxdfki2022-occrp/notebooks/preprocessing/create_middle_pages.ipynb Cell 2\u001b[0m in \u001b[0;36m<cell line: 28>\u001b[0;34m()\u001b[0m\n\u001b[1;32m     <a href='vscode-notebook-cell://ssh-remote%2B10.30.40.120/home/thenn/dssgxdfki2022-occrp/notebooks/preprocessing/create_middle_pages.ipynb#X23sdnNjb2RlLXJlbW90ZQ%3D%3D?line=27'>28</a>\u001b[0m \u001b[39mtry\u001b[39;00m:\n\u001b[1;32m     <a href='vscode-notebook-cell://ssh-remote%2B10.30.40.120/home/thenn/dssgxdfki2022-occrp/notebooks/preprocessing/create_middle_pages.ipynb#X23sdnNjb2RlLXJlbW90ZQ%3D%3D?line=28'>29</a>\u001b[0m     \u001b[39mfor\u001b[39;00m file \u001b[39min\u001b[39;00m files:\n\u001b[0;32m---> <a href='vscode-notebook-cell://ssh-remote%2B10.30.40.120/home/thenn/dssgxdfki2022-occrp/notebooks/preprocessing/create_middle_pages.ipynb#X23sdnNjb2RlLXJlbW90ZQ%3D%3D?line=29'>30</a>\u001b[0m         splitPDF(file,output_dir)\n\u001b[1;32m     <a href='vscode-notebook-cell://ssh-remote%2B10.30.40.120/home/thenn/dssgxdfki2022-occrp/notebooks/preprocessing/create_middle_pages.ipynb#X23sdnNjb2RlLXJlbW90ZQ%3D%3D?line=30'>31</a>\u001b[0m \u001b[39mexcept\u001b[39;00m \u001b[39mException\u001b[39;00m:\n\u001b[1;32m     <a href='vscode-notebook-cell://ssh-remote%2B10.30.40.120/home/thenn/dssgxdfki2022-occrp/notebooks/preprocessing/create_middle_pages.ipynb#X23sdnNjb2RlLXJlbW90ZQ%3D%3D?line=31'>32</a>\u001b[0m     \u001b[39mpass\u001b[39;00m\n",
      "\u001b[1;32m/home/thenn/dssgxdfki2022-occrp/notebooks/preprocessing/create_middle_pages.ipynb Cell 2\u001b[0m in \u001b[0;36msplitPDF\u001b[0;34m(file_name, output_dir)\u001b[0m\n\u001b[1;32m     <a href='vscode-notebook-cell://ssh-remote%2B10.30.40.120/home/thenn/dssgxdfki2022-occrp/notebooks/preprocessing/create_middle_pages.ipynb#X23sdnNjb2RlLXJlbW90ZQ%3D%3D?line=14'>15</a>\u001b[0m         output_name \u001b[39m=\u001b[39m os\u001b[39m.\u001b[39mpath\u001b[39m.\u001b[39mjoin(output_dir, output_name)\n\u001b[1;32m     <a href='vscode-notebook-cell://ssh-remote%2B10.30.40.120/home/thenn/dssgxdfki2022-occrp/notebooks/preprocessing/create_middle_pages.ipynb#X23sdnNjb2RlLXJlbW90ZQ%3D%3D?line=15'>16</a>\u001b[0m         \u001b[39mwith\u001b[39;00m \u001b[39mopen\u001b[39m(output_name,\u001b[39m'\u001b[39m\u001b[39mwb\u001b[39m\u001b[39m'\u001b[39m) \u001b[39mas\u001b[39;00m outputStream:\n\u001b[0;32m---> <a href='vscode-notebook-cell://ssh-remote%2B10.30.40.120/home/thenn/dssgxdfki2022-occrp/notebooks/preprocessing/create_middle_pages.ipynb#X23sdnNjb2RlLXJlbW90ZQ%3D%3D?line=16'>17</a>\u001b[0m             output\u001b[39m.\u001b[39;49mwrite(outputStream)\n\u001b[1;32m     <a href='vscode-notebook-cell://ssh-remote%2B10.30.40.120/home/thenn/dssgxdfki2022-occrp/notebooks/preprocessing/create_middle_pages.ipynb#X23sdnNjb2RlLXJlbW90ZQ%3D%3D?line=17'>18</a>\u001b[0m     \u001b[39mprint\u001b[39m(\u001b[39mf\u001b[39m\u001b[39m\"\u001b[39m\u001b[39mPDF: \u001b[39m\u001b[39m{\u001b[39;00mfile_name\u001b[39m}\u001b[39;00m\u001b[39m has been splitted\u001b[39m\u001b[39m\"\u001b[39m)\n\u001b[1;32m     <a href='vscode-notebook-cell://ssh-remote%2B10.30.40.120/home/thenn/dssgxdfki2022-occrp/notebooks/preprocessing/create_middle_pages.ipynb#X23sdnNjb2RlLXJlbW90ZQ%3D%3D?line=18'>19</a>\u001b[0m \u001b[39mexcept\u001b[39;00m \u001b[39mException\u001b[39;00m:\n",
      "File \u001b[0;32m~/.local/share/virtualenvs/dssgxdfki2022-occrp-CY4k_1kg/lib/python3.8/site-packages/PyPDF2/_writer.py:841\u001b[0m, in \u001b[0;36mPdfWriter.write\u001b[0;34m(self, stream)\u001b[0m\n\u001b[1;32m    838\u001b[0m     stream \u001b[39m=\u001b[39m FileIO(stream, \u001b[39m\"\u001b[39m\u001b[39mwb\u001b[39m\u001b[39m\"\u001b[39m)\n\u001b[1;32m    839\u001b[0m     my_file \u001b[39m=\u001b[39m \u001b[39mTrue\u001b[39;00m\n\u001b[0;32m--> 841\u001b[0m \u001b[39mself\u001b[39;49m\u001b[39m.\u001b[39;49mwrite_stream(stream)\n\u001b[1;32m    843\u001b[0m \u001b[39mif\u001b[39;00m \u001b[39mself\u001b[39m\u001b[39m.\u001b[39mwith_as_usage:\n\u001b[1;32m    844\u001b[0m     stream\u001b[39m.\u001b[39mclose()\n",
      "File \u001b[0;32m~/.local/share/virtualenvs/dssgxdfki2022-occrp-CY4k_1kg/lib/python3.8/site-packages/PyPDF2/_writer.py:814\u001b[0m, in \u001b[0;36mPdfWriter.write_stream\u001b[0;34m(self, stream)\u001b[0m\n\u001b[1;32m    804\u001b[0m     \u001b[39mself\u001b[39m\u001b[39m.\u001b[39m_root \u001b[39m=\u001b[39m \u001b[39mself\u001b[39m\u001b[39m.\u001b[39m_add_object(\u001b[39mself\u001b[39m\u001b[39m.\u001b[39m_root_object)\n\u001b[1;32m    806\u001b[0m \u001b[39m# PDF objects sometimes have circular references to their /Page objects\u001b[39;00m\n\u001b[1;32m    807\u001b[0m \u001b[39m# inside their object tree (for example, annotations).  Those will be\u001b[39;00m\n\u001b[1;32m    808\u001b[0m \u001b[39m# indirect references to objects that we've recreated in this PDF.  To\u001b[39;00m\n\u001b[0;32m   (...)\u001b[0m\n\u001b[1;32m    812\u001b[0m \u001b[39m# trees to reference the correct new object location, rather than\u001b[39;00m\n\u001b[1;32m    813\u001b[0m \u001b[39m# copying in a new copy of the page object.\u001b[39;00m\n\u001b[0;32m--> 814\u001b[0m \u001b[39mself\u001b[39;49m\u001b[39m.\u001b[39;49m_sweep_indirect_references(\u001b[39mself\u001b[39;49m\u001b[39m.\u001b[39;49m_root)\n\u001b[1;32m    816\u001b[0m object_positions \u001b[39m=\u001b[39m \u001b[39mself\u001b[39m\u001b[39m.\u001b[39m_write_header(stream)\n\u001b[1;32m    817\u001b[0m xref_location \u001b[39m=\u001b[39m \u001b[39mself\u001b[39m\u001b[39m.\u001b[39m_write_xref_table(stream, object_positions)\n",
      "File \u001b[0;32m~/.local/share/virtualenvs/dssgxdfki2022-occrp-CY4k_1kg/lib/python3.8/site-packages/PyPDF2/_writer.py:980\u001b[0m, in \u001b[0;36mPdfWriter._sweep_indirect_references\u001b[0;34m(self, root)\u001b[0m\n\u001b[1;32m    978\u001b[0m \u001b[39m# Data changed and thus the hash value changed\u001b[39;00m\n\u001b[1;32m    979\u001b[0m \u001b[39mif\u001b[39;00m parent[key_or_id] \u001b[39m!=\u001b[39m data:\n\u001b[0;32m--> 980\u001b[0m     update_hashes \u001b[39m=\u001b[39m [parent\u001b[39m.\u001b[39mhash_value()] \u001b[39m+\u001b[39m [\n\u001b[1;32m    981\u001b[0m         grant_parent\u001b[39m.\u001b[39mhash_value() \u001b[39mfor\u001b[39;00m grant_parent \u001b[39min\u001b[39;00m grant_parents\n\u001b[1;32m    982\u001b[0m     ]\n\u001b[1;32m    983\u001b[0m     parent[key_or_id] \u001b[39m=\u001b[39m data\n\u001b[1;32m    985\u001b[0m \u001b[39m# Update old hash value to new hash value\u001b[39;00m\n",
      "File \u001b[0;32m~/.local/share/virtualenvs/dssgxdfki2022-occrp-CY4k_1kg/lib/python3.8/site-packages/PyPDF2/_writer.py:981\u001b[0m, in \u001b[0;36m<listcomp>\u001b[0;34m(.0)\u001b[0m\n\u001b[1;32m    978\u001b[0m \u001b[39m# Data changed and thus the hash value changed\u001b[39;00m\n\u001b[1;32m    979\u001b[0m \u001b[39mif\u001b[39;00m parent[key_or_id] \u001b[39m!=\u001b[39m data:\n\u001b[1;32m    980\u001b[0m     update_hashes \u001b[39m=\u001b[39m [parent\u001b[39m.\u001b[39mhash_value()] \u001b[39m+\u001b[39m [\n\u001b[0;32m--> 981\u001b[0m         grant_parent\u001b[39m.\u001b[39;49mhash_value() \u001b[39mfor\u001b[39;00m grant_parent \u001b[39min\u001b[39;00m grant_parents\n\u001b[1;32m    982\u001b[0m     ]\n\u001b[1;32m    983\u001b[0m     parent[key_or_id] \u001b[39m=\u001b[39m data\n\u001b[1;32m    985\u001b[0m \u001b[39m# Update old hash value to new hash value\u001b[39;00m\n",
      "File \u001b[0;32m~/.local/share/virtualenvs/dssgxdfki2022-occrp-CY4k_1kg/lib/python3.8/site-packages/PyPDF2/generic.py:96\u001b[0m, in \u001b[0;36mPdfObject.hash_value\u001b[0;34m(self)\u001b[0m\n\u001b[1;32m     91\u001b[0m \u001b[39mdef\u001b[39;00m \u001b[39mhash_value\u001b[39m(\u001b[39mself\u001b[39m) \u001b[39m-\u001b[39m\u001b[39m>\u001b[39m \u001b[39mbytes\u001b[39m:\n\u001b[1;32m     92\u001b[0m     \u001b[39mreturn\u001b[39;00m (\n\u001b[1;32m     93\u001b[0m         \u001b[39m\"\u001b[39m\u001b[39m%s\u001b[39;00m\u001b[39m:\u001b[39m\u001b[39m%s\u001b[39;00m\u001b[39m\"\u001b[39m\n\u001b[1;32m     94\u001b[0m         \u001b[39m%\u001b[39m (\n\u001b[1;32m     95\u001b[0m             \u001b[39mself\u001b[39m\u001b[39m.\u001b[39m\u001b[39m__class__\u001b[39m\u001b[39m.\u001b[39m\u001b[39m__name__\u001b[39m,\n\u001b[0;32m---> 96\u001b[0m             \u001b[39mself\u001b[39m\u001b[39m.\u001b[39mhash_func(\u001b[39mself\u001b[39;49m\u001b[39m.\u001b[39;49mhash_value_data())\u001b[39m.\u001b[39mhexdigest(),\n\u001b[1;32m     97\u001b[0m         )\n\u001b[1;32m     98\u001b[0m     )\u001b[39m.\u001b[39mencode()\n",
      "File \u001b[0;32m~/.local/share/virtualenvs/dssgxdfki2022-occrp-CY4k_1kg/lib/python3.8/site-packages/PyPDF2/generic.py:89\u001b[0m, in \u001b[0;36mPdfObject.hash_value_data\u001b[0;34m(self)\u001b[0m\n\u001b[1;32m     88\u001b[0m \u001b[39mdef\u001b[39;00m \u001b[39mhash_value_data\u001b[39m(\u001b[39mself\u001b[39m) \u001b[39m-\u001b[39m\u001b[39m>\u001b[39m \u001b[39mbytes\u001b[39m:\n\u001b[0;32m---> 89\u001b[0m     \u001b[39mreturn\u001b[39;00m (\u001b[39m\"\u001b[39;49m\u001b[39m%s\u001b[39;49;00m\u001b[39m\"\u001b[39;49m \u001b[39m%\u001b[39;49m \u001b[39mself\u001b[39;49m)\u001b[39m.\u001b[39mencode()\n",
      "File \u001b[0;32m~/.local/share/virtualenvs/dssgxdfki2022-occrp-CY4k_1kg/lib/python3.8/site-packages/PyPDF2/generic.py:334\u001b[0m, in \u001b[0;36mFloatObject.__repr__\u001b[0;34m(self)\u001b[0m\n\u001b[1;32m    332\u001b[0m \u001b[39mdef\u001b[39;00m \u001b[39m__repr__\u001b[39m(\u001b[39mself\u001b[39m) \u001b[39m-\u001b[39m\u001b[39m>\u001b[39m \u001b[39mstr\u001b[39m:\n\u001b[1;32m    333\u001b[0m     \u001b[39mif\u001b[39;00m \u001b[39mself\u001b[39m \u001b[39m==\u001b[39m \u001b[39mself\u001b[39m\u001b[39m.\u001b[39mto_integral():\n\u001b[0;32m--> 334\u001b[0m         \u001b[39mreturn\u001b[39;00m \u001b[39mstr\u001b[39m(\u001b[39mself\u001b[39;49m\u001b[39m.\u001b[39;49mquantize(decimal\u001b[39m.\u001b[39;49mDecimal(\u001b[39m1\u001b[39;49m)))\n\u001b[1;32m    335\u001b[0m     \u001b[39melse\u001b[39;00m:\n\u001b[1;32m    336\u001b[0m         \u001b[39m# Standard formatting adds useless extraneous zeros.\u001b[39;00m\n\u001b[1;32m    337\u001b[0m         o \u001b[39m=\u001b[39m \u001b[39mf\u001b[39m\u001b[39m\"\u001b[39m\u001b[39m{\u001b[39;00m\u001b[39mself\u001b[39m\u001b[39m:\u001b[39;00m\u001b[39m.5f\u001b[39m\u001b[39m}\u001b[39;00m\u001b[39m\"\u001b[39m\n",
      "\u001b[0;31mKeyboardInterrupt\u001b[0m: "
     ]
    }
   ],
   "source": [
    "# Functions\n",
    "def splitPDF(file_name, output_dir):\n",
    "    inputpdf = PdfFileReader(open(file_name, \"rb\"))\n",
    "\n",
    "    num_pages = inputpdf.numPages\n",
    "\n",
    "    # loop through all pages\n",
    "    try:\n",
    "        for i in range(1, num_pages - 1):\n",
    "            output = PdfFileWriter()\n",
    "            output.addPage(inputpdf.getPage(i))\n",
    "\n",
    "            # with open(f\"document-page{i+1}.pdf\", 'wb') as outputStream:\n",
    "            output_name = f\"{os.path.basename(file_name.replace('.pdf',''))}{i+1}.pdf\"\n",
    "            output_name = os.path.join(output_dir, output_name)\n",
    "            with open(output_name, \"wb\") as outputStream:\n",
    "                output.write(outputStream)\n",
    "        print(f\"PDF: {file_name} has been splitted\")\n",
    "    except Exception:\n",
    "        pass\n",
    "\n",
    "\n",
    "# Loop over all the files in base_dir\n",
    "base_dir = \"/data/dssg/occrp/data/input/document_classification/court-documents/World Bank International Centre for Settlement of Investment Disputes/\"\n",
    "output_dir = \"/data/dssg/occrp/data/input/middle-pages/\"\n",
    "pdfs = os.path.join(base_dir, \"*.pdf\")\n",
    "\n",
    "files = glob(pdfs)\n",
    "# Split each file found in base_dir\n",
    "try:\n",
    "    for file in files:\n",
    "        splitPDF(file, output_dir)\n",
    "except Exception:\n",
    "    pass\n",
    "    # splitPDF(file) use this to place the files on the same dir."
   ]
  }
 ],
 "metadata": {
  "kernelspec": {
   "display_name": "Python 3.8.12 ('dssgxdfki2022-occrp-CY4k_1kg')",
   "language": "python",
   "name": "python3"
  },
  "language_info": {
   "codemirror_mode": {
    "name": "ipython",
    "version": 3
   },
   "file_extension": ".py",
   "mimetype": "text/x-python",
   "name": "python",
   "nbconvert_exporter": "python",
   "pygments_lexer": "ipython3",
   "version": "3.8.12"
  },
  "orig_nbformat": 4,
  "vscode": {
   "interpreter": {
    "hash": "a3c48176900a8dc9b418c12bf6710b126294bd248a313704f07b556b87a08de4"
   }
  }
 },
 "nbformat": 4,
 "nbformat_minor": 2
}
