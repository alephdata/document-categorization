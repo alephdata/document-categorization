{
 "cells": [
  {
   "cell_type": "code",
   "execution_count": null,
   "metadata": {},
   "outputs": [],
   "source": [
    "# https://scikit-learn.org/stable/auto_examples/model_selection/plot_precision_recall.html"
   ]
  },
  {
   "cell_type": "code",
   "execution_count": 3,
   "metadata": {},
   "outputs": [],
   "source": [
    "import pandas as pd\n",
    "import numpy as np\n",
    "from sklearn.metrics import precision_recall_curve\n",
    "from sklearn.metrics import average_precision_score\n",
    "import matplotlib.pyplot as plt\n",
    "from sklearn.preprocessing import LabelBinarizer\n",
    "from sklearn.metrics import PrecisionRecallDisplay\n",
    "from itertools import cycle"
   ]
  },
  {
   "cell_type": "code",
   "execution_count": 17,
   "metadata": {},
   "outputs": [
    {
     "data": {
      "text/html": [
       "<div>\n",
       "<style scoped>\n",
       "    .dataframe tbody tr th:only-of-type {\n",
       "        vertical-align: middle;\n",
       "    }\n",
       "\n",
       "    .dataframe tbody tr th {\n",
       "        vertical-align: top;\n",
       "    }\n",
       "\n",
       "    .dataframe thead th {\n",
       "        text-align: right;\n",
       "    }\n",
       "</style>\n",
       "<table border=\"1\" class=\"dataframe\">\n",
       "  <thead>\n",
       "    <tr style=\"text-align: right;\">\n",
       "      <th></th>\n",
       "      <th>bank-statements</th>\n",
       "      <th>company-registry</th>\n",
       "      <th>contracts</th>\n",
       "      <th>court-documents</th>\n",
       "      <th>gazettes</th>\n",
       "      <th>invoices</th>\n",
       "      <th>passport-scan</th>\n",
       "      <th>receipts</th>\n",
       "      <th>shipping-receipts</th>\n",
       "      <th>true-label</th>\n",
       "      <th>predicted</th>\n",
       "      <th>path</th>\n",
       "    </tr>\n",
       "  </thead>\n",
       "  <tbody>\n",
       "    <tr>\n",
       "      <th>0</th>\n",
       "      <td>0.000582</td>\n",
       "      <td>0.003205</td>\n",
       "      <td>0.089773</td>\n",
       "      <td>0.012740</td>\n",
       "      <td>0.004198</td>\n",
       "      <td>0.008309</td>\n",
       "      <td>0.002430</td>\n",
       "      <td>0.999764</td>\n",
       "      <td>0.001013</td>\n",
       "      <td>receipts</td>\n",
       "      <td>receipts</td>\n",
       "      <td>/data/processed_clean/receipts/50484041.36cbf4...</td>\n",
       "    </tr>\n",
       "    <tr>\n",
       "      <th>1</th>\n",
       "      <td>0.004372</td>\n",
       "      <td>0.010358</td>\n",
       "      <td>0.019922</td>\n",
       "      <td>0.004247</td>\n",
       "      <td>0.004065</td>\n",
       "      <td>0.004978</td>\n",
       "      <td>0.999930</td>\n",
       "      <td>0.001903</td>\n",
       "      <td>0.001089</td>\n",
       "      <td>passport-scan</td>\n",
       "      <td>passport-scan</td>\n",
       "      <td>/data/processed_clean/passport-scan/4e7737d529...</td>\n",
       "    </tr>\n",
       "    <tr>\n",
       "      <th>2</th>\n",
       "      <td>0.034008</td>\n",
       "      <td>0.022297</td>\n",
       "      <td>0.019416</td>\n",
       "      <td>0.006140</td>\n",
       "      <td>0.005105</td>\n",
       "      <td>0.001536</td>\n",
       "      <td>0.006595</td>\n",
       "      <td>0.999688</td>\n",
       "      <td>0.000829</td>\n",
       "      <td>receipts</td>\n",
       "      <td>receipts</td>\n",
       "      <td>/data/processed_clean/receipts/49845039.e9c0ed...</td>\n",
       "    </tr>\n",
       "    <tr>\n",
       "      <th>3</th>\n",
       "      <td>0.001326</td>\n",
       "      <td>0.003737</td>\n",
       "      <td>0.326604</td>\n",
       "      <td>0.008207</td>\n",
       "      <td>0.003310</td>\n",
       "      <td>0.004432</td>\n",
       "      <td>0.001246</td>\n",
       "      <td>0.000275</td>\n",
       "      <td>0.999662</td>\n",
       "      <td>shipping-receipts</td>\n",
       "      <td>shipping-receipts</td>\n",
       "      <td>/data/processed_clean/shipping-receipts/1a4e2b...</td>\n",
       "    </tr>\n",
       "    <tr>\n",
       "      <th>4</th>\n",
       "      <td>0.063275</td>\n",
       "      <td>0.000964</td>\n",
       "      <td>0.017476</td>\n",
       "      <td>0.001789</td>\n",
       "      <td>0.003186</td>\n",
       "      <td>0.998112</td>\n",
       "      <td>0.004492</td>\n",
       "      <td>0.001191</td>\n",
       "      <td>0.007317</td>\n",
       "      <td>invoices</td>\n",
       "      <td>invoices</td>\n",
       "      <td>/data/processed_clean/invoices/7891219fe5c495b...</td>\n",
       "    </tr>\n",
       "    <tr>\n",
       "      <th>...</th>\n",
       "      <td>...</td>\n",
       "      <td>...</td>\n",
       "      <td>...</td>\n",
       "      <td>...</td>\n",
       "      <td>...</td>\n",
       "      <td>...</td>\n",
       "      <td>...</td>\n",
       "      <td>...</td>\n",
       "      <td>...</td>\n",
       "      <td>...</td>\n",
       "      <td>...</td>\n",
       "      <td>...</td>\n",
       "    </tr>\n",
       "    <tr>\n",
       "      <th>240</th>\n",
       "      <td>0.999970</td>\n",
       "      <td>0.003495</td>\n",
       "      <td>0.002121</td>\n",
       "      <td>0.001177</td>\n",
       "      <td>0.013217</td>\n",
       "      <td>0.000094</td>\n",
       "      <td>0.003804</td>\n",
       "      <td>0.000905</td>\n",
       "      <td>0.000973</td>\n",
       "      <td>bank-statements</td>\n",
       "      <td>bank-statements</td>\n",
       "      <td>/data/processed_clean/bank-statements/59239922...</td>\n",
       "    </tr>\n",
       "    <tr>\n",
       "      <th>241</th>\n",
       "      <td>0.002634</td>\n",
       "      <td>0.005394</td>\n",
       "      <td>0.005479</td>\n",
       "      <td>0.003863</td>\n",
       "      <td>1.000000</td>\n",
       "      <td>0.006039</td>\n",
       "      <td>0.008818</td>\n",
       "      <td>0.002303</td>\n",
       "      <td>0.001739</td>\n",
       "      <td>gazettes</td>\n",
       "      <td>gazettes</td>\n",
       "      <td>/data/processed_clean/gazettes/44502775.44ab9b...</td>\n",
       "    </tr>\n",
       "    <tr>\n",
       "      <th>242</th>\n",
       "      <td>0.002959</td>\n",
       "      <td>0.999950</td>\n",
       "      <td>0.013206</td>\n",
       "      <td>0.000507</td>\n",
       "      <td>0.003167</td>\n",
       "      <td>0.002670</td>\n",
       "      <td>0.001341</td>\n",
       "      <td>0.003744</td>\n",
       "      <td>0.002771</td>\n",
       "      <td>company-registry</td>\n",
       "      <td>company-registry</td>\n",
       "      <td>/data/processed_clean/company-registry/5047858...</td>\n",
       "    </tr>\n",
       "    <tr>\n",
       "      <th>243</th>\n",
       "      <td>0.029304</td>\n",
       "      <td>0.005952</td>\n",
       "      <td>0.004998</td>\n",
       "      <td>0.030756</td>\n",
       "      <td>0.006758</td>\n",
       "      <td>0.015851</td>\n",
       "      <td>0.999632</td>\n",
       "      <td>0.002882</td>\n",
       "      <td>0.008155</td>\n",
       "      <td>passport-scan</td>\n",
       "      <td>passport-scan</td>\n",
       "      <td>/data/processed_clean/passport-scan/3718700af3...</td>\n",
       "    </tr>\n",
       "    <tr>\n",
       "      <th>244</th>\n",
       "      <td>0.002919</td>\n",
       "      <td>0.027299</td>\n",
       "      <td>0.016212</td>\n",
       "      <td>0.996288</td>\n",
       "      <td>0.001237</td>\n",
       "      <td>0.000792</td>\n",
       "      <td>0.006495</td>\n",
       "      <td>0.000146</td>\n",
       "      <td>0.009893</td>\n",
       "      <td>court-documents</td>\n",
       "      <td>court-documents</td>\n",
       "      <td>/data/processed_clean/court-documents/53165602...</td>\n",
       "    </tr>\n",
       "  </tbody>\n",
       "</table>\n",
       "<p>245 rows × 12 columns</p>\n",
       "</div>"
      ],
      "text/plain": [
       "     bank-statements  company-registry  contracts  court-documents  gazettes  \\\n",
       "0           0.000582          0.003205   0.089773         0.012740  0.004198   \n",
       "1           0.004372          0.010358   0.019922         0.004247  0.004065   \n",
       "2           0.034008          0.022297   0.019416         0.006140  0.005105   \n",
       "3           0.001326          0.003737   0.326604         0.008207  0.003310   \n",
       "4           0.063275          0.000964   0.017476         0.001789  0.003186   \n",
       "..               ...               ...        ...              ...       ...   \n",
       "240         0.999970          0.003495   0.002121         0.001177  0.013217   \n",
       "241         0.002634          0.005394   0.005479         0.003863  1.000000   \n",
       "242         0.002959          0.999950   0.013206         0.000507  0.003167   \n",
       "243         0.029304          0.005952   0.004998         0.030756  0.006758   \n",
       "244         0.002919          0.027299   0.016212         0.996288  0.001237   \n",
       "\n",
       "     invoices  passport-scan  receipts  shipping-receipts         true-label  \\\n",
       "0    0.008309       0.002430  0.999764           0.001013           receipts   \n",
       "1    0.004978       0.999930  0.001903           0.001089      passport-scan   \n",
       "2    0.001536       0.006595  0.999688           0.000829           receipts   \n",
       "3    0.004432       0.001246  0.000275           0.999662  shipping-receipts   \n",
       "4    0.998112       0.004492  0.001191           0.007317           invoices   \n",
       "..        ...            ...       ...                ...                ...   \n",
       "240  0.000094       0.003804  0.000905           0.000973    bank-statements   \n",
       "241  0.006039       0.008818  0.002303           0.001739           gazettes   \n",
       "242  0.002670       0.001341  0.003744           0.002771   company-registry   \n",
       "243  0.015851       0.999632  0.002882           0.008155      passport-scan   \n",
       "244  0.000792       0.006495  0.000146           0.009893    court-documents   \n",
       "\n",
       "             predicted                                               path  \n",
       "0             receipts  /data/processed_clean/receipts/50484041.36cbf4...  \n",
       "1        passport-scan  /data/processed_clean/passport-scan/4e7737d529...  \n",
       "2             receipts  /data/processed_clean/receipts/49845039.e9c0ed...  \n",
       "3    shipping-receipts  /data/processed_clean/shipping-receipts/1a4e2b...  \n",
       "4             invoices  /data/processed_clean/invoices/7891219fe5c495b...  \n",
       "..                 ...                                                ...  \n",
       "240    bank-statements  /data/processed_clean/bank-statements/59239922...  \n",
       "241           gazettes  /data/processed_clean/gazettes/44502775.44ab9b...  \n",
       "242   company-registry  /data/processed_clean/company-registry/5047858...  \n",
       "243      passport-scan  /data/processed_clean/passport-scan/3718700af3...  \n",
       "244    court-documents  /data/processed_clean/court-documents/53165602...  \n",
       "\n",
       "[245 rows x 12 columns]"
      ]
     },
     "execution_count": 17,
     "metadata": {},
     "output_type": "execute_result"
    }
   ],
   "source": [
    "# import data as dataframe\n",
    "df_test = pd.read_csv(\n",
    "    \"/data/dssg/occrp/data/output/document_classifier/EfficientNetB4_2022_08_16-11_34_48/assessment/test_predictions.csv\",\n",
    "    sep=\",\",\n",
    ")\n",
    "df_test"
   ]
  },
  {
   "cell_type": "code",
   "execution_count": 18,
   "metadata": {},
   "outputs": [
    {
     "data": {
      "text/plain": [
       "9"
      ]
     },
     "execution_count": 18,
     "metadata": {},
     "output_type": "execute_result"
    }
   ],
   "source": [
    "# calcualte different classes\n",
    "df_test[\"true-label\"].nunique()"
   ]
  },
  {
   "cell_type": "code",
   "execution_count": 19,
   "metadata": {},
   "outputs": [],
   "source": [
    "# rename column\n",
    "df_test.rename(columns={\"true-label\": \"true\"}, inplace=True)"
   ]
  },
  {
   "cell_type": "code",
   "execution_count": 21,
   "metadata": {},
   "outputs": [
    {
     "data": {
      "text/plain": [
       "receipts             30\n",
       "passport-scan        30\n",
       "shipping-receipts    30\n",
       "invoices             30\n",
       "gazettes             30\n",
       "bank-statements      30\n",
       "company-registry     30\n",
       "contracts            19\n",
       "court-documents      16\n",
       "Name: true, dtype: int64"
      ]
     },
     "execution_count": 21,
     "metadata": {},
     "output_type": "execute_result"
    }
   ],
   "source": [
    "df_test[\"true\"].value_counts()\n",
    "# df_test[\"predicted\"].value_counts()"
   ]
  },
  {
   "cell_type": "code",
   "execution_count": 22,
   "metadata": {},
   "outputs": [
    {
     "data": {
      "text/plain": [
       "array([[0, 0, 0, ..., 0, 1, 0],\n",
       "       [0, 0, 0, ..., 1, 0, 0],\n",
       "       [0, 0, 0, ..., 0, 1, 0],\n",
       "       ...,\n",
       "       [0, 1, 0, ..., 0, 0, 0],\n",
       "       [0, 0, 0, ..., 1, 0, 0],\n",
       "       [0, 0, 0, ..., 0, 0, 0]])"
      ]
     },
     "execution_count": 22,
     "metadata": {},
     "output_type": "execute_result"
    }
   ],
   "source": [
    "# transfrom true labels to one hot encoded\n",
    "true_labels = pd.get_dummies(df_test.true)\n",
    "# print(true_labels.head())\n",
    "true_labels = LabelBinarizer().fit_transform(df_test.true)\n",
    "true_labels"
   ]
  },
  {
   "cell_type": "code",
   "execution_count": 23,
   "metadata": {},
   "outputs": [
    {
     "name": "stdout",
     "output_type": "stream",
     "text": [
      "Index(['bank-statements', 'company-registry', 'contracts', 'court-documents',\n",
      "       'gazettes', 'invoices', 'passport-scan', 'receipts',\n",
      "       'shipping-receipts', 'true'],\n",
      "      dtype='object')\n"
     ]
    },
    {
     "data": {
      "text/plain": [
       "array([[5.8230720e-04, 3.2047322e-03, 8.9773210e-02, ..., 2.4302271e-03,\n",
       "        9.9976414e-01, 1.0129899e-03],\n",
       "       [4.3723340e-03, 1.0358343e-02, 1.9921688e-02, ..., 9.9992967e-01,\n",
       "        1.9033581e-03, 1.0892397e-03],\n",
       "       [3.4007963e-02, 2.2297446e-02, 1.9416174e-02, ..., 6.5947804e-03,\n",
       "        9.9968815e-01, 8.2890363e-04],\n",
       "       ...,\n",
       "       [2.9593120e-03, 9.9994960e-01, 1.3206133e-02, ..., 1.3409569e-03,\n",
       "        3.7437095e-03, 2.7709007e-03],\n",
       "       [2.9303856e-02, 5.9518614e-03, 4.9983417e-03, ..., 9.9963210e-01,\n",
       "        2.8818222e-03, 8.1549870e-03],\n",
       "       [2.9185251e-03, 2.7298588e-02, 1.6211614e-02, ..., 6.4948540e-03,\n",
       "        1.4621683e-04, 9.8930470e-03]])"
      ]
     },
     "execution_count": 23,
     "metadata": {},
     "output_type": "execute_result"
    }
   ],
   "source": [
    "# transform predicted values to array\n",
    "columns = df_test.columns[:-2]\n",
    "print(columns)\n",
    "predict_labels = df_test[\n",
    "    [\n",
    "        \"bank-statements\",\n",
    "        \"company-registry\",\n",
    "        \"contracts\",\n",
    "        \"court-documents\",\n",
    "        \"gazettes\",\n",
    "        \"invoices\",\n",
    "        \"passport-scan\",\n",
    "        \"receipts\",\n",
    "        \"shipping-receipts\",\n",
    "    ]\n",
    "].to_numpy()\n",
    "\n",
    "predict_labels"
   ]
  },
  {
   "cell_type": "code",
   "execution_count": 24,
   "metadata": {},
   "outputs": [
    {
     "data": {
      "text/plain": [
       "245"
      ]
     },
     "execution_count": 24,
     "metadata": {},
     "output_type": "execute_result"
    }
   ],
   "source": [
    "len(true_labels)"
   ]
  },
  {
   "cell_type": "code",
   "execution_count": 25,
   "metadata": {},
   "outputs": [
    {
     "data": {
      "text/plain": [
       "245"
      ]
     },
     "execution_count": 25,
     "metadata": {},
     "output_type": "execute_result"
    }
   ],
   "source": [
    "len(predict_labels)"
   ]
  },
  {
   "cell_type": "code",
   "execution_count": 26,
   "metadata": {},
   "outputs": [
    {
     "data": {
      "image/png": "[encoded data removed]",
      "text/plain": [
       "<Figure size 432x288 with 1 Axes>"
      ]
     },
     "metadata": {
      "needs_background": "light"
     },
     "output_type": "display_data"
    }
   ],
   "source": [
    "# plain precision recall curve\n",
    "n_classes = 9\n",
    "precision = dict()\n",
    "recall = dict()\n",
    "for i in range(n_classes):\n",
    "    precision[i], recall[i], _ = precision_recall_curve(true_labels[:, i], predict_labels[:, i])\n",
    "    plt.plot(recall[i], precision[i], lw=2, label=\"class {}\".format(i))\n",
    "\n",
    "plt.xlabel(\"recall\")\n",
    "plt.ylabel(\"precision\")\n",
    "plt.legend(loc=\"best\")\n",
    "plt.title(\"precision vs. recall curve\")\n",
    "plt.show()"
   ]
  },
  {
   "cell_type": "code",
   "execution_count": 27,
   "metadata": {},
   "outputs": [],
   "source": [
    "# calculate precision recall for each class and also joined\n",
    "n_classes = 9\n",
    "# For each class\n",
    "precision = dict()\n",
    "recall = dict()\n",
    "average_precision = dict()\n",
    "for i in range(n_classes):\n",
    "    precision[i], recall[i], _ = precision_recall_curve(true_labels[:, i], predict_labels[:, i])\n",
    "    average_precision[i] = average_precision_score(true_labels[:, i], predict_labels[:, i])\n",
    "\n",
    "# A \"micro-average\": quantifying score on all classes jointly\n",
    "precision[\"micro\"], recall[\"micro\"], _ = precision_recall_curve(true_labels.ravel(), predict_labels.ravel())\n",
    "average_precision[\"micro\"] = average_precision_score(true_labels, predict_labels, average=\"micro\")"
   ]
  },
  {
   "cell_type": "code",
   "execution_count": 28,
   "metadata": {},
   "outputs": [
    {
     "data": {
      "image/png": "[encoded data removed]",
      "text/plain": [
       "<Figure size 432x288 with 1 Axes>"
      ]
     },
     "metadata": {
      "needs_background": "light"
     },
     "output_type": "display_data"
    }
   ],
   "source": [
    "# plot aggreaged plot\n",
    "\n",
    "display = PrecisionRecallDisplay(\n",
    "    recall=recall[\"micro\"],\n",
    "    precision=precision[\"micro\"],\n",
    "    average_precision=average_precision[\"micro\"],\n",
    ")\n",
    "\n",
    "display.plot()\n",
    "_ = display.ax_.set_title(\"Micro-averaged over all classes\")"
   ]
  },
  {
   "cell_type": "code",
   "execution_count": 29,
   "metadata": {},
   "outputs": [
    {
     "data": {
      "image/png": "[encoded data removed]",
      "text/plain": [
       "<Figure size 1008x1080 with 1 Axes>"
      ]
     },
     "metadata": {
      "needs_background": "light"
     },
     "output_type": "display_data"
    }
   ],
   "source": [
    "# plot graph with more information\n",
    "n_classes = 9\n",
    "colors = cycle([\"navy\", \"turquoise\", \"darkorange\", \"cornflowerblue\", \"teal\", \"darkgreen\", \"darkmagenta\", \"maroon\", \"lime\"])\n",
    "shape_list = [\"-\", \"--\", \"-.\", \":\"]\n",
    "linestyle = cycle(shape_list)\n",
    "\n",
    "_, ax = plt.subplots(figsize=(14, 15))\n",
    "\n",
    "f_scores = np.linspace(0.2, 0.8, num=4)\n",
    "lines, labels = [], []\n",
    "for f_score in f_scores:\n",
    "    x = np.linspace(0.01, 1)\n",
    "    y = f_score * x / (2 * x - f_score)\n",
    "    (l,) = plt.plot(x[y >= 0], y[y >= 0], color=\"gray\", alpha=0.2)\n",
    "    plt.annotate(\"f1={0:0.1f}\".format(f_score), xy=(0.9, y[45] + 0.02))\n",
    "\n",
    "display = PrecisionRecallDisplay(\n",
    "    recall=recall[\"micro\"],\n",
    "    precision=precision[\"micro\"],\n",
    "    average_precision=average_precision[\"micro\"],\n",
    ")\n",
    "display.plot(ax=ax, name=\"Micro-average precision-recall\", color=\"red\", linewidth=5)\n",
    "\n",
    "for i, color in zip(range(n_classes), colors):\n",
    "    display = PrecisionRecallDisplay(\n",
    "        recall=recall[i],\n",
    "        precision=precision[i],\n",
    "        average_precision=average_precision[i],\n",
    "    )\n",
    "    display.plot(ax=ax, name=f\"Precision-recall for class {i}\", color=color, linestyle=linestyle.__next__(), linewidth=5)\n",
    "\n",
    "\n",
    "# add the legend for the iso-f1 curves\n",
    "handles, labels = display.ax_.get_legend_handles_labels()\n",
    "handles.extend([l])\n",
    "labels.extend([\"iso-f1 curves\"])\n",
    "# set the legend and the axes\n",
    "ax.set_xlim([0.0, 1.0])\n",
    "ax.set_ylim([0.0, 1.05])\n",
    "ax.legend(handles=handles, labels=labels, loc=\"lower left\")\n",
    "ax.set_title(\"Precision-Recall curve document classifier with multi-class testing set\")\n",
    "\n",
    "\n",
    "plt.show()"
   ]
  },
  {
   "cell_type": "code",
   "execution_count": null,
   "metadata": {},
   "outputs": [],
   "source": [
    "#################\n",
    "# Create precision recall curves individually\n",
    "#################"
   ]
  },
  {
   "cell_type": "code",
   "execution_count": null,
   "metadata": {},
   "outputs": [],
   "source": [
    "# create all individual  dataframe\n",
    "df_gazette = df_test.copy()\n",
    "df_passport = df_test.copy()\n",
    "df_shipping_receipt = df_test.copy()\n",
    "df_receipts = df_test.copy()\n",
    "df_company_registry = df_test.copy()\n",
    "df_invoices = df_test.copy()\n",
    "df_bank_statement = df_test.copy()\n",
    "df_contract = df_test.copy()\n",
    "df_court_documents = df_test.copy()"
   ]
  },
  {
   "cell_type": "code",
   "execution_count": null,
   "metadata": {},
   "outputs": [],
   "source": [
    "# transform gazettes true to 1 and everythin else to 0\n",
    "df_gazette.true = df_gazette.true.map(\n",
    "    {\n",
    "        \"gazettes\": 1,\n",
    "        \"passport-scan\": 0,\n",
    "        \"shipping-receipts\": 0,\n",
    "        \"receipts\": 0,\n",
    "        \"company-registry\": 0,\n",
    "        \"invoices\": 0,\n",
    "        \"bank-statements\": 0,\n",
    "        \"contracts\": 0,\n",
    "        \"court-documents\": 0,\n",
    "    }\n",
    ")\n",
    "# transform gazettes predicted to 1 and everythin else to 0\n",
    "df_gazette.predicted = df_gazette.predicted.map(\n",
    "    {\n",
    "        \"gazettes\": 1,\n",
    "        \"passport-scan\": 0,\n",
    "        \"shipping-receipts\": 0,\n",
    "        \"receipts\": 0,\n",
    "        \"company-registry\": 0,\n",
    "        \"invoices\": 0,\n",
    "        \"bank-statements\": 0,\n",
    "        \"contracts\": 0,\n",
    "        \"court-documents\": 0,\n",
    "        \"other\": 0,\n",
    "    }\n",
    ")"
   ]
  },
  {
   "cell_type": "code",
   "execution_count": null,
   "metadata": {},
   "outputs": [],
   "source": [
    "# transform passport true to 1 and everythin else to 0\n",
    "df_passport.true = df_passport.true.map(\n",
    "    {\n",
    "        \"gazettes\": 0,\n",
    "        \"passport-scan\": 1,\n",
    "        \"shipping-receipts\": 0,\n",
    "        \"receipts\": 0,\n",
    "        \"company-registry\": 0,\n",
    "        \"invoices\": 0,\n",
    "        \"bank-statements\": 0,\n",
    "        \"contracts\": 0,\n",
    "        \"court-documents\": 0,\n",
    "    }\n",
    ")\n",
    "# transform passport predicted to 1 and everythin else to 0\n",
    "df_passport.predicted = df_passport.predicted.map(\n",
    "    {\n",
    "        \"gazettes\": 0,\n",
    "        \"passport-scan\": 1,\n",
    "        \"shipping-receipts\": 0,\n",
    "        \"receipts\": 0,\n",
    "        \"company-registry\": 0,\n",
    "        \"invoices\": 0,\n",
    "        \"bank-statements\": 0,\n",
    "        \"contracts\": 0,\n",
    "        \"court-documents\": 0,\n",
    "        \"other\": 0,\n",
    "    }\n",
    ")"
   ]
  },
  {
   "cell_type": "code",
   "execution_count": null,
   "metadata": {},
   "outputs": [],
   "source": [
    "# transform shipping receipt to 1 and everythin else to 0\n",
    "df_shipping_receipt.true = df_shipping_receipt.true.map(\n",
    "    {\n",
    "        \"gazettes\": 0,\n",
    "        \"passport-scan\": 0,\n",
    "        \"shipping-receipts\": 1,\n",
    "        \"receipts\": 0,\n",
    "        \"company-registry\": 0,\n",
    "        \"invoices\": 0,\n",
    "        \"bank-statements\": 0,\n",
    "        \"contracts\": 0,\n",
    "        \"court-documents\": 0,\n",
    "    }\n",
    ")\n",
    "\n",
    "df_shipping_receipt.predicted = df_shipping_receipt.predicted.map(\n",
    "    {\n",
    "        \"gazettes\": 0,\n",
    "        \"passport-scan\": 0,\n",
    "        \"shipping-receipts\": 1,\n",
    "        \"receipts\": 0,\n",
    "        \"company-registry\": 0,\n",
    "        \"invoices\": 0,\n",
    "        \"bank-statements\": 0,\n",
    "        \"contracts\": 0,\n",
    "        \"court-documents\": 0,\n",
    "        \"other\": 0,\n",
    "    }\n",
    ")"
   ]
  },
  {
   "cell_type": "code",
   "execution_count": null,
   "metadata": {},
   "outputs": [],
   "source": [
    "# transform receipt to 1 and everythin else to 0\n",
    "df_receipts.true = df_receipts.true.map(\n",
    "    {\n",
    "        \"gazettes\": 0,\n",
    "        \"passport-scan\": 0,\n",
    "        \"shipping-receipts\": 0,\n",
    "        \"receipts\": 1,\n",
    "        \"company-registry\": 0,\n",
    "        \"invoices\": 0,\n",
    "        \"bank-statements\": 0,\n",
    "        \"contracts\": 0,\n",
    "        \"court-documents\": 0,\n",
    "    }\n",
    ")\n",
    "\n",
    "df_receipts.predicted = df_receipts.predicted.map(\n",
    "    {\n",
    "        \"gazettes\": 0,\n",
    "        \"passport-scan\": 0,\n",
    "        \"shipping-receipts\": 0,\n",
    "        \"receipts\": 1,\n",
    "        \"company-registry\": 0,\n",
    "        \"invoices\": 0,\n",
    "        \"bank-statements\": 0,\n",
    "        \"contracts\": 0,\n",
    "        \"court-documents\": 0,\n",
    "        \"other\": 0,\n",
    "    }\n",
    ")"
   ]
  },
  {
   "cell_type": "code",
   "execution_count": null,
   "metadata": {},
   "outputs": [],
   "source": [
    "# transform company registry to 1 and everythin else to 0\n",
    "df_company_registry.true = df_company_registry.true.map(\n",
    "    {\n",
    "        \"gazettes\": 0,\n",
    "        \"passport-scan\": 0,\n",
    "        \"shipping-receipts\": 0,\n",
    "        \"receipts\": 0,\n",
    "        \"company-registry\": 1,\n",
    "        \"invoices\": 0,\n",
    "        \"bank-statements\": 0,\n",
    "        \"contracts\": 0,\n",
    "        \"court-documents\": 0,\n",
    "    }\n",
    ")\n",
    "\n",
    "df_company_registry.predicted = df_company_registry.predicted.map(\n",
    "    {\n",
    "        \"gazettes\": 0,\n",
    "        \"passport-scan\": 0,\n",
    "        \"shipping-receipts\": 0,\n",
    "        \"receipts\": 0,\n",
    "        \"company-registry\": 1,\n",
    "        \"invoices\": 0,\n",
    "        \"bank-statements\": 0,\n",
    "        \"contracts\": 0,\n",
    "        \"court-documents\": 0,\n",
    "        \"other\": 0,\n",
    "    }\n",
    ")"
   ]
  },
  {
   "cell_type": "code",
   "execution_count": null,
   "metadata": {},
   "outputs": [],
   "source": [
    "# transform invoices to 1 and everythin else to 0\n",
    "df_invoices.true = df_invoices.true.map(\n",
    "    {\n",
    "        \"gazettes\": 0,\n",
    "        \"passport-scan\": 0,\n",
    "        \"shipping-receipts\": 0,\n",
    "        \"receipts\": 0,\n",
    "        \"company-registry\": 0,\n",
    "        \"invoices\": 1,\n",
    "        \"bank-statements\": 0,\n",
    "        \"contracts\": 0,\n",
    "        \"court-documents\": 0,\n",
    "    }\n",
    ")\n",
    "\n",
    "df_invoices.predicted = df_invoices.predicted.map(\n",
    "    {\n",
    "        \"gazettes\": 0,\n",
    "        \"passport-scan\": 0,\n",
    "        \"shipping-receipts\": 0,\n",
    "        \"receipts\": 0,\n",
    "        \"company-registry\": 0,\n",
    "        \"invoices\": 1,\n",
    "        \"bank-statements\": 0,\n",
    "        \"contracts\": 0,\n",
    "        \"court-documents\": 0,\n",
    "        \"other\": 0,\n",
    "    }\n",
    ")"
   ]
  },
  {
   "cell_type": "code",
   "execution_count": null,
   "metadata": {},
   "outputs": [],
   "source": [
    "# transform bank statements to 1 and everythin else to 0\n",
    "df_bank_statement.true = df_bank_statement.true.map(\n",
    "    {\n",
    "        \"gazettes\": 0,\n",
    "        \"passport-scan\": 0,\n",
    "        \"shipping-receipts\": 0,\n",
    "        \"receipts\": 0,\n",
    "        \"company-registry\": 0,\n",
    "        \"invoices\": 0,\n",
    "        \"bank-statements\": 1,\n",
    "        \"contracts\": 0,\n",
    "        \"court-documents\": 0,\n",
    "    }\n",
    ")\n",
    "\n",
    "df_bank_statement.predicted = df_bank_statement.predicted.map(\n",
    "    {\n",
    "        \"gazettes\": 0,\n",
    "        \"passport-scan\": 0,\n",
    "        \"shipping-receipts\": 0,\n",
    "        \"receipts\": 0,\n",
    "        \"company-registry\": 0,\n",
    "        \"invoices\": 0,\n",
    "        \"bank-statements\": 1,\n",
    "        \"contracts\": 0,\n",
    "        \"court-documents\": 0,\n",
    "        \"other\": 0,\n",
    "    }\n",
    ")"
   ]
  },
  {
   "cell_type": "code",
   "execution_count": null,
   "metadata": {},
   "outputs": [],
   "source": [
    "# transform contracts to 1 and everythin else to 0\n",
    "df_contract.true = df_contract.true.map(\n",
    "    {\n",
    "        \"gazettes\": 0,\n",
    "        \"passport-scan\": 0,\n",
    "        \"shipping-receipts\": 0,\n",
    "        \"receipts\": 0,\n",
    "        \"company-registry\": 0,\n",
    "        \"invoices\": 0,\n",
    "        \"bank-statements\": 0,\n",
    "        \"contracts\": 1,\n",
    "        \"court-documents\": 0,\n",
    "    }\n",
    ")\n",
    "\n",
    "df_contract.predicted = df_contract.predicted.map(\n",
    "    {\n",
    "        \"gazettes\": 0,\n",
    "        \"passport-scan\": 0,\n",
    "        \"shipping-receipts\": 0,\n",
    "        \"receipts\": 0,\n",
    "        \"company-registry\": 0,\n",
    "        \"invoices\": 0,\n",
    "        \"bank-statements\": 0,\n",
    "        \"contracts\": 1,\n",
    "        \"court-documents\": 0,\n",
    "        \"other\": 0,\n",
    "    }\n",
    ")"
   ]
  },
  {
   "cell_type": "code",
   "execution_count": null,
   "metadata": {},
   "outputs": [],
   "source": [
    "# transform court documents to 1 and everythin else to 0\n",
    "df_court_documents.true = df_court_documents.true.map(\n",
    "    {\n",
    "        \"gazettes\": 0,\n",
    "        \"passport-scan\": 0,\n",
    "        \"shipping-receipts\": 0,\n",
    "        \"receipts\": 0,\n",
    "        \"company-registry\": 0,\n",
    "        \"invoices\": 0,\n",
    "        \"bank-statements\": 0,\n",
    "        \"contracts\": 0,\n",
    "        \"court-documents\": 1,\n",
    "    }\n",
    ")\n",
    "\n",
    "df_court_documents.predicted = df_court_documents.predicted.map(\n",
    "    {\n",
    "        \"gazettes\": 0,\n",
    "        \"passport-scan\": 0,\n",
    "        \"shipping-receipts\": 0,\n",
    "        \"receipts\": 0,\n",
    "        \"company-registry\": 0,\n",
    "        \"invoices\": 0,\n",
    "        \"bank-statements\": 0,\n",
    "        \"contracts\": 0,\n",
    "        \"court-documents\": 1,\n",
    "        \"other\": 0,\n",
    "    }\n",
    ")"
   ]
  },
  {
   "cell_type": "code",
   "execution_count": null,
   "metadata": {},
   "outputs": [],
   "source": [
    "# calculate precision recall\n",
    "precision_gazette, recall_gazette, thresholds_gazette = precision_recall_curve(df_gazette.true, df_gazette.predicted)\n",
    "\n",
    "precision_passport, recall_passport, thresholds_passport = precision_recall_curve(df_passport.true, df_passport.predicted)\n",
    "\n",
    "precision_shipping, recall_shipping, thresholds_shipping = precision_recall_curve(\n",
    "    df_shipping_receipt.true, df_shipping_receipt.predicted\n",
    ")\n",
    "\n",
    "precision_receipts, recall_receipts, thresholds_receipts = precision_recall_curve(df_receipts.true, df_receipts.predicted)\n",
    "\n",
    "precision_company_registry, recall_company_registry, thresholds_company_registry = precision_recall_curve(\n",
    "    df_company_registry.true, df_company_registry.predicted\n",
    ")\n",
    "\n",
    "precision_invoice, recall_invoice, thresholds_invoice = precision_recall_curve(df_invoices.true, df_invoices.predicted)\n",
    "\n",
    "precision_bank, recall_bank, thresholds_bank = precision_recall_curve(df_bank_statement.true, df_bank_statement.predicted)\n",
    "\n",
    "precision_contract, recall_contract, thresholds_contract = precision_recall_curve(df_contract.true, df_contract.predicted)\n",
    "\n",
    "precision_court, recall_court, thresholds_court = precision_recall_curve(\n",
    "    df_court_documents.true, df_court_documents.predicted\n",
    ")"
   ]
  },
  {
   "cell_type": "code",
   "execution_count": null,
   "metadata": {},
   "outputs": [],
   "source": [
    "# create precision recall curve\n",
    "fig, ax = plt.subplots()\n",
    "ax.plot(recall_gazette, precision_gazette, color=\"purple\")\n",
    "ax.plot(recall_passport, precision_passport, color=\"red\")\n",
    "ax.plot(recall_shipping, precision_shipping, color=\"blue\")\n",
    "ax.plot(recall_receipts, precision_receipts, color=\"yellow\")\n",
    "ax.plot(recall_company_registry, precision_company_registry, color=\"orange\")\n",
    "ax.plot(recall_invoice, precision_invoice, color=\"green\")\n",
    "ax.plot(recall_bank, precision_bank, color=\"gray\")\n",
    "ax.plot(recall_contract, precision_contract, color=\"black\")\n",
    "ax.plot(recall_court, precision_court, color=\"pink\")\n",
    "# add axis labels to plot\n",
    "ax.set_title(\"Precision-Recall Curve\")\n",
    "ax.set_ylabel(\"Precision\")\n",
    "ax.set_xlabel(\"Recall\")\n",
    "\n",
    "# display plot\n",
    "plt.show()"
   ]
  },
  {
   "cell_type": "code",
   "execution_count": null,
   "metadata": {},
   "outputs": [],
   "source": []
  }
 ],
 "metadata": {
  "kernelspec": {
   "display_name": "Python 3.8.12 ('dssgxdfki2022-occrp-PA4e7Co-')",
   "language": "python",
   "name": "python3"
  },
  "language_info": {
   "codemirror_mode": {
    "name": "ipython",
    "version": 3
   },
   "file_extension": ".py",
   "mimetype": "text/x-python",
   "name": "python",
   "nbconvert_exporter": "python",
   "pygments_lexer": "ipython3",
   "version": "3.8.12"
  },
  "orig_nbformat": 4,
  "vscode": {
   "interpreter": {
    "hash": "5d7c2732b19896522caf19afdcdc25d9a5a04a879db6235ad72dcf6b8053357f"
   }
  }
 },
 "nbformat": 4,
 "nbformat_minor": 2
}
