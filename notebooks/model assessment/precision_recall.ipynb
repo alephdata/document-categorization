{
 "cells": [
  {
   "cell_type": "code",
   "execution_count": null,
   "metadata": {},
   "outputs": [],
   "source": [
    "# https://scikit-learn.org/stable/auto_examples/model_selection/plot_precision_recall.html"
   ]
  },
  {
   "cell_type": "code",
   "execution_count": 38,
   "metadata": {},
   "outputs": [],
   "source": [
    "import pandas as pd\n",
    "import numpy as np\n",
    "from sklearn.metrics import precision_recall_curve\n",
    "from sklearn.metrics import average_precision_score\n",
    "import matplotlib.pyplot as plt\n",
    "from sklearn.preprocessing import LabelBinarizer\n",
    "from sklearn.metrics import PrecisionRecallDisplay\n",
    "from itertools import cycle"
   ]
  },
  {
   "cell_type": "code",
   "execution_count": 66,
   "metadata": {},
   "outputs": [
    {
     "data": {
      "text/html": [
       "<div>\n",
       "<style scoped>\n",
       "    .dataframe tbody tr th:only-of-type {\n",
       "        vertical-align: middle;\n",
       "    }\n",
       "\n",
       "    .dataframe tbody tr th {\n",
       "        vertical-align: top;\n",
       "    }\n",
       "\n",
       "    .dataframe thead th {\n",
       "        text-align: right;\n",
       "    }\n",
       "</style>\n",
       "<table border=\"1\" class=\"dataframe\">\n",
       "  <thead>\n",
       "    <tr style=\"text-align: right;\">\n",
       "      <th></th>\n",
       "      <th>bank-statements</th>\n",
       "      <th>company-registry</th>\n",
       "      <th>contracts</th>\n",
       "      <th>court-documents</th>\n",
       "      <th>gazettes</th>\n",
       "      <th>invoices</th>\n",
       "      <th>passport-scan</th>\n",
       "      <th>receipts</th>\n",
       "      <th>shipping-receipts</th>\n",
       "      <th>true-label</th>\n",
       "      <th>predicted</th>\n",
       "    </tr>\n",
       "  </thead>\n",
       "  <tbody>\n",
       "    <tr>\n",
       "      <th>0</th>\n",
       "      <td>0.004930</td>\n",
       "      <td>0.001739</td>\n",
       "      <td>0.009146</td>\n",
       "      <td>0.015327</td>\n",
       "      <td>0.000811</td>\n",
       "      <td>0.014269</td>\n",
       "      <td>0.993350</td>\n",
       "      <td>0.000286</td>\n",
       "      <td>0.000240</td>\n",
       "      <td>passport-scan</td>\n",
       "      <td>passport-scan</td>\n",
       "    </tr>\n",
       "    <tr>\n",
       "      <th>1</th>\n",
       "      <td>0.052703</td>\n",
       "      <td>0.003578</td>\n",
       "      <td>0.010027</td>\n",
       "      <td>0.110358</td>\n",
       "      <td>0.052660</td>\n",
       "      <td>0.293001</td>\n",
       "      <td>0.001041</td>\n",
       "      <td>0.009775</td>\n",
       "      <td>0.027988</td>\n",
       "      <td>shipping-receipts</td>\n",
       "      <td>other</td>\n",
       "    </tr>\n",
       "    <tr>\n",
       "      <th>2</th>\n",
       "      <td>0.009571</td>\n",
       "      <td>0.000543</td>\n",
       "      <td>0.001023</td>\n",
       "      <td>0.000688</td>\n",
       "      <td>0.002670</td>\n",
       "      <td>0.035553</td>\n",
       "      <td>0.000487</td>\n",
       "      <td>0.995307</td>\n",
       "      <td>0.038500</td>\n",
       "      <td>receipts</td>\n",
       "      <td>receipts</td>\n",
       "    </tr>\n",
       "    <tr>\n",
       "      <th>3</th>\n",
       "      <td>0.000255</td>\n",
       "      <td>0.000042</td>\n",
       "      <td>0.000278</td>\n",
       "      <td>0.000183</td>\n",
       "      <td>0.000144</td>\n",
       "      <td>0.000699</td>\n",
       "      <td>0.000159</td>\n",
       "      <td>0.999995</td>\n",
       "      <td>0.000308</td>\n",
       "      <td>receipts</td>\n",
       "      <td>receipts</td>\n",
       "    </tr>\n",
       "    <tr>\n",
       "      <th>4</th>\n",
       "      <td>0.000782</td>\n",
       "      <td>0.001422</td>\n",
       "      <td>0.010274</td>\n",
       "      <td>0.007868</td>\n",
       "      <td>0.999922</td>\n",
       "      <td>0.000675</td>\n",
       "      <td>0.001432</td>\n",
       "      <td>0.004486</td>\n",
       "      <td>0.001581</td>\n",
       "      <td>gazettes</td>\n",
       "      <td>gazettes</td>\n",
       "    </tr>\n",
       "    <tr>\n",
       "      <th>...</th>\n",
       "      <td>...</td>\n",
       "      <td>...</td>\n",
       "      <td>...</td>\n",
       "      <td>...</td>\n",
       "      <td>...</td>\n",
       "      <td>...</td>\n",
       "      <td>...</td>\n",
       "      <td>...</td>\n",
       "      <td>...</td>\n",
       "      <td>...</td>\n",
       "      <td>...</td>\n",
       "    </tr>\n",
       "    <tr>\n",
       "      <th>158</th>\n",
       "      <td>0.001484</td>\n",
       "      <td>0.042588</td>\n",
       "      <td>0.009399</td>\n",
       "      <td>0.008162</td>\n",
       "      <td>0.020939</td>\n",
       "      <td>0.013794</td>\n",
       "      <td>0.000132</td>\n",
       "      <td>0.006183</td>\n",
       "      <td>0.993074</td>\n",
       "      <td>shipping-receipts</td>\n",
       "      <td>shipping-receipts</td>\n",
       "    </tr>\n",
       "    <tr>\n",
       "      <th>159</th>\n",
       "      <td>0.998800</td>\n",
       "      <td>0.005515</td>\n",
       "      <td>0.014161</td>\n",
       "      <td>0.000933</td>\n",
       "      <td>0.000529</td>\n",
       "      <td>0.003425</td>\n",
       "      <td>0.000178</td>\n",
       "      <td>0.000442</td>\n",
       "      <td>0.000309</td>\n",
       "      <td>bank-statements</td>\n",
       "      <td>bank-statements</td>\n",
       "    </tr>\n",
       "    <tr>\n",
       "      <th>160</th>\n",
       "      <td>0.008818</td>\n",
       "      <td>0.013242</td>\n",
       "      <td>0.032847</td>\n",
       "      <td>0.059261</td>\n",
       "      <td>0.001217</td>\n",
       "      <td>0.150331</td>\n",
       "      <td>0.001793</td>\n",
       "      <td>0.976732</td>\n",
       "      <td>0.006328</td>\n",
       "      <td>receipts</td>\n",
       "      <td>receipts</td>\n",
       "    </tr>\n",
       "    <tr>\n",
       "      <th>161</th>\n",
       "      <td>0.202189</td>\n",
       "      <td>0.132689</td>\n",
       "      <td>0.582872</td>\n",
       "      <td>0.347044</td>\n",
       "      <td>0.184371</td>\n",
       "      <td>0.151727</td>\n",
       "      <td>0.159092</td>\n",
       "      <td>0.091445</td>\n",
       "      <td>0.067096</td>\n",
       "      <td>contracts</td>\n",
       "      <td>other</td>\n",
       "    </tr>\n",
       "    <tr>\n",
       "      <th>162</th>\n",
       "      <td>0.102892</td>\n",
       "      <td>0.000905</td>\n",
       "      <td>0.000121</td>\n",
       "      <td>0.000369</td>\n",
       "      <td>0.000485</td>\n",
       "      <td>0.011082</td>\n",
       "      <td>0.000007</td>\n",
       "      <td>0.001694</td>\n",
       "      <td>0.994375</td>\n",
       "      <td>shipping-receipts</td>\n",
       "      <td>shipping-receipts</td>\n",
       "    </tr>\n",
       "  </tbody>\n",
       "</table>\n",
       "<p>163 rows × 11 columns</p>\n",
       "</div>"
      ],
      "text/plain": [
       "     bank-statements  company-registry  contracts  court-documents  gazettes  \\\n",
       "0           0.004930          0.001739   0.009146         0.015327  0.000811   \n",
       "1           0.052703          0.003578   0.010027         0.110358  0.052660   \n",
       "2           0.009571          0.000543   0.001023         0.000688  0.002670   \n",
       "3           0.000255          0.000042   0.000278         0.000183  0.000144   \n",
       "4           0.000782          0.001422   0.010274         0.007868  0.999922   \n",
       "..               ...               ...        ...              ...       ...   \n",
       "158         0.001484          0.042588   0.009399         0.008162  0.020939   \n",
       "159         0.998800          0.005515   0.014161         0.000933  0.000529   \n",
       "160         0.008818          0.013242   0.032847         0.059261  0.001217   \n",
       "161         0.202189          0.132689   0.582872         0.347044  0.184371   \n",
       "162         0.102892          0.000905   0.000121         0.000369  0.000485   \n",
       "\n",
       "     invoices  passport-scan  receipts  shipping-receipts         true-label  \\\n",
       "0    0.014269       0.993350  0.000286           0.000240      passport-scan   \n",
       "1    0.293001       0.001041  0.009775           0.027988  shipping-receipts   \n",
       "2    0.035553       0.000487  0.995307           0.038500           receipts   \n",
       "3    0.000699       0.000159  0.999995           0.000308           receipts   \n",
       "4    0.000675       0.001432  0.004486           0.001581           gazettes   \n",
       "..        ...            ...       ...                ...                ...   \n",
       "158  0.013794       0.000132  0.006183           0.993074  shipping-receipts   \n",
       "159  0.003425       0.000178  0.000442           0.000309    bank-statements   \n",
       "160  0.150331       0.001793  0.976732           0.006328           receipts   \n",
       "161  0.151727       0.159092  0.091445           0.067096          contracts   \n",
       "162  0.011082       0.000007  0.001694           0.994375  shipping-receipts   \n",
       "\n",
       "             predicted  \n",
       "0        passport-scan  \n",
       "1                other  \n",
       "2             receipts  \n",
       "3             receipts  \n",
       "4             gazettes  \n",
       "..                 ...  \n",
       "158  shipping-receipts  \n",
       "159    bank-statements  \n",
       "160           receipts  \n",
       "161              other  \n",
       "162  shipping-receipts  \n",
       "\n",
       "[163 rows x 11 columns]"
      ]
     },
     "execution_count": 66,
     "metadata": {},
     "output_type": "execute_result"
    }
   ],
   "source": [
    "# import data as dataframe\n",
    "df_test = pd.read_csv(\n",
    "    \"/data/dssg/occrp/data/output/document_classifier/AlexNet_2022_08_10-18_23_30/assessment/in_sample_test_predictions.csv\",\n",
    "    sep=\",\",\n",
    ")\n",
    "df_test"
   ]
  },
  {
   "cell_type": "code",
   "execution_count": 67,
   "metadata": {},
   "outputs": [
    {
     "data": {
      "text/plain": [
       "9"
      ]
     },
     "execution_count": 67,
     "metadata": {},
     "output_type": "execute_result"
    }
   ],
   "source": [
    "# calcualte different classes\n",
    "df_test[\"true-label\"].nunique()"
   ]
  },
  {
   "cell_type": "code",
   "execution_count": 68,
   "metadata": {},
   "outputs": [],
   "source": [
    "# rename column\n",
    "df_test.rename(columns={\"true-label\": \"true\"}, inplace=True)"
   ]
  },
  {
   "cell_type": "code",
   "execution_count": 6,
   "metadata": {},
   "outputs": [
    {
     "data": {
      "text/plain": [
       "passport-scan        20\n",
       "shipping-receipts    20\n",
       "receipts             20\n",
       "gazettes             20\n",
       "company-registry     20\n",
       "invoices             20\n",
       "bank-statements      20\n",
       "contracts            13\n",
       "court-documents      10\n",
       "Name: true, dtype: int64"
      ]
     },
     "execution_count": 6,
     "metadata": {},
     "output_type": "execute_result"
    }
   ],
   "source": [
    "df_test[\"true\"].value_counts()\n",
    "# df_test[\"predicted\"].value_counts()"
   ]
  },
  {
   "cell_type": "code",
   "execution_count": 69,
   "metadata": {},
   "outputs": [
    {
     "data": {
      "text/plain": [
       "array([[0, 0, 0, ..., 1, 0, 0],\n",
       "       [0, 0, 0, ..., 0, 0, 1],\n",
       "       [0, 0, 0, ..., 0, 1, 0],\n",
       "       ...,\n",
       "       [0, 0, 0, ..., 0, 1, 0],\n",
       "       [0, 0, 1, ..., 0, 0, 0],\n",
       "       [0, 0, 0, ..., 0, 0, 1]])"
      ]
     },
     "execution_count": 69,
     "metadata": {},
     "output_type": "execute_result"
    }
   ],
   "source": [
    "# transfrom true labels to one hot encoded\n",
    "true_labels = pd.get_dummies(df_test.true)\n",
    "# print(true_labels.head())\n",
    "true_labels = LabelBinarizer().fit_transform(df_test.true)\n",
    "true_labels"
   ]
  },
  {
   "cell_type": "code",
   "execution_count": 70,
   "metadata": {},
   "outputs": [
    {
     "name": "stdout",
     "output_type": "stream",
     "text": [
      "Index(['bank-statements', 'company-registry', 'contracts', 'court-documents',\n",
      "       'gazettes', 'invoices', 'passport-scan', 'receipts',\n",
      "       'shipping-receipts'],\n",
      "      dtype='object')\n"
     ]
    },
    {
     "data": {
      "text/plain": [
       "array([[4.9297750e-03, 1.7393833e-03, 9.1462570e-03, ..., 9.9334960e-01,\n",
       "        2.8638708e-04, 2.4033015e-04],\n",
       "       [5.2703030e-02, 3.5776450e-03, 1.0027090e-02, ..., 1.0407328e-03,\n",
       "        9.7745900e-03, 2.7988251e-02],\n",
       "       [9.5708910e-03, 5.4330240e-04, 1.0232271e-03, ..., 4.8699870e-04,\n",
       "        9.9530680e-01, 3.8500380e-02],\n",
       "       ...,\n",
       "       [8.8182910e-03, 1.3241936e-02, 3.2846830e-02, ..., 1.7933624e-03,\n",
       "        9.7673200e-01, 6.3279294e-03],\n",
       "       [2.0218930e-01, 1.3268897e-01, 5.8287200e-01, ..., 1.5909179e-01,\n",
       "        9.1445215e-02, 6.7096375e-02],\n",
       "       [1.0289209e-01, 9.0513035e-04, 1.2098685e-04, ..., 6.9458756e-06,\n",
       "        1.6943612e-03, 9.9437520e-01]])"
      ]
     },
     "execution_count": 70,
     "metadata": {},
     "output_type": "execute_result"
    }
   ],
   "source": [
    "# transform predicted values to array\n",
    "columns = df_test.columns[:-2]\n",
    "print(columns)\n",
    "predict_labels = df_test[\n",
    "    [\n",
    "        \"bank-statements\",\n",
    "        \"company-registry\",\n",
    "        \"contracts\",\n",
    "        \"court-documents\",\n",
    "        \"gazettes\",\n",
    "        \"invoices\",\n",
    "        \"passport-scan\",\n",
    "        \"receipts\",\n",
    "        \"shipping-receipts\",\n",
    "    ]\n",
    "].to_numpy()\n",
    "\n",
    "predict_labels"
   ]
  },
  {
   "cell_type": "code",
   "execution_count": 71,
   "metadata": {},
   "outputs": [
    {
     "data": {
      "text/plain": [
       "163"
      ]
     },
     "execution_count": 71,
     "metadata": {},
     "output_type": "execute_result"
    }
   ],
   "source": [
    "len(true_labels)"
   ]
  },
  {
   "cell_type": "code",
   "execution_count": 72,
   "metadata": {},
   "outputs": [
    {
     "data": {
      "text/plain": [
       "163"
      ]
     },
     "execution_count": 72,
     "metadata": {},
     "output_type": "execute_result"
    }
   ],
   "source": [
    "len(predict_labels)"
   ]
  },
  {
   "cell_type": "code",
   "execution_count": 73,
   "metadata": {},
   "outputs": [
    {
     "data": {
      "image/png": "[encoded data removed]",
      "text/plain": [
       "<Figure size 432x288 with 1 Axes>"
      ]
     },
     "metadata": {
      "needs_background": "light"
     },
     "output_type": "display_data"
    }
   ],
   "source": [
    "# plain precision recall curve\n",
    "n_classes = 9\n",
    "precision = dict()\n",
    "recall = dict()\n",
    "for i in range(n_classes):\n",
    "    precision[i], recall[i], _ = precision_recall_curve(true_labels[:, i], predict_labels[:, i])\n",
    "    plt.plot(recall[i], precision[i], lw=2, label=\"class {}\".format(i))\n",
    "\n",
    "plt.xlabel(\"recall\")\n",
    "plt.ylabel(\"precision\")\n",
    "plt.legend(loc=\"best\")\n",
    "plt.title(\"precision vs. recall curve\")\n",
    "plt.show()"
   ]
  },
  {
   "cell_type": "code",
   "execution_count": 74,
   "metadata": {},
   "outputs": [],
   "source": [
    "# calculate precision recall for each class and also joined\n",
    "n_classes = 9\n",
    "# For each class\n",
    "precision = dict()\n",
    "recall = dict()\n",
    "average_precision = dict()\n",
    "for i in range(n_classes):\n",
    "    precision[i], recall[i], _ = precision_recall_curve(true_labels[:, i], predict_labels[:, i])\n",
    "    average_precision[i] = average_precision_score(true_labels[:, i], predict_labels[:, i])\n",
    "\n",
    "# A \"micro-average\": quantifying score on all classes jointly\n",
    "precision[\"micro\"], recall[\"micro\"], _ = precision_recall_curve(true_labels.ravel(), predict_labels.ravel())\n",
    "average_precision[\"micro\"] = average_precision_score(true_labels, predict_labels, average=\"micro\")"
   ]
  },
  {
   "cell_type": "code",
   "execution_count": 145,
   "metadata": {},
   "outputs": [
    {
     "data": {
      "image/png": "[encoded data removed]",
      "text/plain": [
       "<Figure size 432x288 with 1 Axes>"
      ]
     },
     "metadata": {
      "needs_background": "light"
     },
     "output_type": "display_data"
    }
   ],
   "source": [
    "# plot aggreaged plot\n",
    "\n",
    "display = PrecisionRecallDisplay(\n",
    "    recall=recall[\"micro\"],\n",
    "    precision=precision[\"micro\"],\n",
    "    average_precision=average_precision[\"micro\"],\n",
    ")\n",
    "\n",
    "display.plot()\n",
    "_ = display.ax_.set_title(\"Micro-averaged over all classes\")"
   ]
  },
  {
   "cell_type": "code",
   "execution_count": 150,
   "metadata": {},
   "outputs": [
    {
     "data": {
      "image/png": "[encoded data removed]",
      "text/plain": [
       "<Figure size 1008x1080 with 1 Axes>"
      ]
     },
     "metadata": {
      "needs_background": "light"
     },
     "output_type": "display_data"
    }
   ],
   "source": [
    "# plot graph with more information\n",
    "n_classes = 9\n",
    "colors = cycle([\"navy\", \"turquoise\", \"darkorange\", \"cornflowerblue\", \"teal\", \"darkgreen\", \"darkmagenta\", \"maroon\", \"lime\"])\n",
    "shape_list = [\"-\", \"--\", \"-.\", \":\"]\n",
    "linestyle = cycle(shape_list)\n",
    "\n",
    "_, ax = plt.subplots(figsize=(14, 15))\n",
    "\n",
    "f_scores = np.linspace(0.2, 0.8, num=4)\n",
    "lines, labels = [], []\n",
    "for f_score in f_scores:\n",
    "    x = np.linspace(0.01, 1)\n",
    "    y = f_score * x / (2 * x - f_score)\n",
    "    (l,) = plt.plot(x[y >= 0], y[y >= 0], color=\"gray\", alpha=0.2)\n",
    "    plt.annotate(\"f1={0:0.1f}\".format(f_score), xy=(0.9, y[45] + 0.02))\n",
    "\n",
    "display = PrecisionRecallDisplay(\n",
    "    recall=recall[\"micro\"],\n",
    "    precision=precision[\"micro\"],\n",
    "    average_precision=average_precision[\"micro\"],\n",
    ")\n",
    "display.plot(ax=ax, name=\"Micro-average precision-recall\", color=\"red\", linewidth=5)\n",
    "\n",
    "for i, color in zip(range(n_classes), colors):\n",
    "    display = PrecisionRecallDisplay(\n",
    "        recall=recall[i],\n",
    "        precision=precision[i],\n",
    "        average_precision=average_precision[i],\n",
    "    )\n",
    "    display.plot(ax=ax, name=f\"Precision-recall for class {i}\", color=color, linestyle=linestyle.__next__(), linewidth=5)\n",
    "\n",
    "\n",
    "# add the legend for the iso-f1 curves\n",
    "handles, labels = display.ax_.get_legend_handles_labels()\n",
    "handles.extend([l])\n",
    "labels.extend([\"iso-f1 curves\"])\n",
    "# set the legend and the axes\n",
    "ax.set_xlim([0.0, 1.0])\n",
    "ax.set_ylim([0.0, 1.05])\n",
    "ax.legend(handles=handles, labels=labels, loc=\"lower left\")\n",
    "ax.set_title(\"Precision-Recall curve document classifier with multi-class testing set\")\n",
    "\n",
    "\n",
    "plt.show()"
   ]
  },
  {
   "cell_type": "code",
   "execution_count": null,
   "metadata": {},
   "outputs": [],
   "source": [
    "#################\n",
    "# Create precision recall curves individually\n",
    "#################"
   ]
  },
  {
   "cell_type": "code",
   "execution_count": null,
   "metadata": {},
   "outputs": [],
   "source": [
    "# create all individual  dataframe\n",
    "df_gazette = df_test.copy()\n",
    "df_passport = df_test.copy()\n",
    "df_shipping_receipt = df_test.copy()\n",
    "df_receipts = df_test.copy()\n",
    "df_company_registry = df_test.copy()\n",
    "df_invoices = df_test.copy()\n",
    "df_bank_statement = df_test.copy()\n",
    "df_contract = df_test.copy()\n",
    "df_court_documents = df_test.copy()"
   ]
  },
  {
   "cell_type": "code",
   "execution_count": null,
   "metadata": {},
   "outputs": [],
   "source": [
    "# transform gazettes true to 1 and everythin else to 0\n",
    "df_gazette.true = df_gazette.true.map(\n",
    "    {\n",
    "        \"gazettes\": 1,\n",
    "        \"passport-scan\": 0,\n",
    "        \"shipping-receipts\": 0,\n",
    "        \"receipts\": 0,\n",
    "        \"company-registry\": 0,\n",
    "        \"invoices\": 0,\n",
    "        \"bank-statements\": 0,\n",
    "        \"contracts\": 0,\n",
    "        \"court-documents\": 0,\n",
    "    }\n",
    ")\n",
    "# transform gazettes predicted to 1 and everythin else to 0\n",
    "df_gazette.predicted = df_gazette.predicted.map(\n",
    "    {\n",
    "        \"gazettes\": 1,\n",
    "        \"passport-scan\": 0,\n",
    "        \"shipping-receipts\": 0,\n",
    "        \"receipts\": 0,\n",
    "        \"company-registry\": 0,\n",
    "        \"invoices\": 0,\n",
    "        \"bank-statements\": 0,\n",
    "        \"contracts\": 0,\n",
    "        \"court-documents\": 0,\n",
    "        \"other\": 0,\n",
    "    }\n",
    ")"
   ]
  },
  {
   "cell_type": "code",
   "execution_count": null,
   "metadata": {},
   "outputs": [],
   "source": [
    "# transform passport true to 1 and everythin else to 0\n",
    "df_passport.true = df_passport.true.map(\n",
    "    {\n",
    "        \"gazettes\": 0,\n",
    "        \"passport-scan\": 1,\n",
    "        \"shipping-receipts\": 0,\n",
    "        \"receipts\": 0,\n",
    "        \"company-registry\": 0,\n",
    "        \"invoices\": 0,\n",
    "        \"bank-statements\": 0,\n",
    "        \"contracts\": 0,\n",
    "        \"court-documents\": 0,\n",
    "    }\n",
    ")\n",
    "# transform passport predicted to 1 and everythin else to 0\n",
    "df_passport.predicted = df_passport.predicted.map(\n",
    "    {\n",
    "        \"gazettes\": 0,\n",
    "        \"passport-scan\": 1,\n",
    "        \"shipping-receipts\": 0,\n",
    "        \"receipts\": 0,\n",
    "        \"company-registry\": 0,\n",
    "        \"invoices\": 0,\n",
    "        \"bank-statements\": 0,\n",
    "        \"contracts\": 0,\n",
    "        \"court-documents\": 0,\n",
    "        \"other\": 0,\n",
    "    }\n",
    ")"
   ]
  },
  {
   "cell_type": "code",
   "execution_count": null,
   "metadata": {},
   "outputs": [],
   "source": [
    "# transform shipping receipt to 1 and everythin else to 0\n",
    "df_shipping_receipt.true = df_shipping_receipt.true.map(\n",
    "    {\n",
    "        \"gazettes\": 0,\n",
    "        \"passport-scan\": 0,\n",
    "        \"shipping-receipts\": 1,\n",
    "        \"receipts\": 0,\n",
    "        \"company-registry\": 0,\n",
    "        \"invoices\": 0,\n",
    "        \"bank-statements\": 0,\n",
    "        \"contracts\": 0,\n",
    "        \"court-documents\": 0,\n",
    "    }\n",
    ")\n",
    "\n",
    "df_shipping_receipt.predicted = df_shipping_receipt.predicted.map(\n",
    "    {\n",
    "        \"gazettes\": 0,\n",
    "        \"passport-scan\": 0,\n",
    "        \"shipping-receipts\": 1,\n",
    "        \"receipts\": 0,\n",
    "        \"company-registry\": 0,\n",
    "        \"invoices\": 0,\n",
    "        \"bank-statements\": 0,\n",
    "        \"contracts\": 0,\n",
    "        \"court-documents\": 0,\n",
    "        \"other\": 0,\n",
    "    }\n",
    ")"
   ]
  },
  {
   "cell_type": "code",
   "execution_count": null,
   "metadata": {},
   "outputs": [],
   "source": [
    "# transform receipt to 1 and everythin else to 0\n",
    "df_receipts.true = df_receipts.true.map(\n",
    "    {\n",
    "        \"gazettes\": 0,\n",
    "        \"passport-scan\": 0,\n",
    "        \"shipping-receipts\": 0,\n",
    "        \"receipts\": 1,\n",
    "        \"company-registry\": 0,\n",
    "        \"invoices\": 0,\n",
    "        \"bank-statements\": 0,\n",
    "        \"contracts\": 0,\n",
    "        \"court-documents\": 0,\n",
    "    }\n",
    ")\n",
    "\n",
    "df_receipts.predicted = df_receipts.predicted.map(\n",
    "    {\n",
    "        \"gazettes\": 0,\n",
    "        \"passport-scan\": 0,\n",
    "        \"shipping-receipts\": 0,\n",
    "        \"receipts\": 1,\n",
    "        \"company-registry\": 0,\n",
    "        \"invoices\": 0,\n",
    "        \"bank-statements\": 0,\n",
    "        \"contracts\": 0,\n",
    "        \"court-documents\": 0,\n",
    "        \"other\": 0,\n",
    "    }\n",
    ")"
   ]
  },
  {
   "cell_type": "code",
   "execution_count": null,
   "metadata": {},
   "outputs": [],
   "source": [
    "# transform company registry to 1 and everythin else to 0\n",
    "df_company_registry.true = df_company_registry.true.map(\n",
    "    {\n",
    "        \"gazettes\": 0,\n",
    "        \"passport-scan\": 0,\n",
    "        \"shipping-receipts\": 0,\n",
    "        \"receipts\": 0,\n",
    "        \"company-registry\": 1,\n",
    "        \"invoices\": 0,\n",
    "        \"bank-statements\": 0,\n",
    "        \"contracts\": 0,\n",
    "        \"court-documents\": 0,\n",
    "    }\n",
    ")\n",
    "\n",
    "df_company_registry.predicted = df_company_registry.predicted.map(\n",
    "    {\n",
    "        \"gazettes\": 0,\n",
    "        \"passport-scan\": 0,\n",
    "        \"shipping-receipts\": 0,\n",
    "        \"receipts\": 0,\n",
    "        \"company-registry\": 1,\n",
    "        \"invoices\": 0,\n",
    "        \"bank-statements\": 0,\n",
    "        \"contracts\": 0,\n",
    "        \"court-documents\": 0,\n",
    "        \"other\": 0,\n",
    "    }\n",
    ")"
   ]
  },
  {
   "cell_type": "code",
   "execution_count": null,
   "metadata": {},
   "outputs": [],
   "source": [
    "# transform invoices to 1 and everythin else to 0\n",
    "df_invoices.true = df_invoices.true.map(\n",
    "    {\n",
    "        \"gazettes\": 0,\n",
    "        \"passport-scan\": 0,\n",
    "        \"shipping-receipts\": 0,\n",
    "        \"receipts\": 0,\n",
    "        \"company-registry\": 0,\n",
    "        \"invoices\": 1,\n",
    "        \"bank-statements\": 0,\n",
    "        \"contracts\": 0,\n",
    "        \"court-documents\": 0,\n",
    "    }\n",
    ")\n",
    "\n",
    "df_invoices.predicted = df_invoices.predicted.map(\n",
    "    {\n",
    "        \"gazettes\": 0,\n",
    "        \"passport-scan\": 0,\n",
    "        \"shipping-receipts\": 0,\n",
    "        \"receipts\": 0,\n",
    "        \"company-registry\": 0,\n",
    "        \"invoices\": 1,\n",
    "        \"bank-statements\": 0,\n",
    "        \"contracts\": 0,\n",
    "        \"court-documents\": 0,\n",
    "        \"other\": 0,\n",
    "    }\n",
    ")"
   ]
  },
  {
   "cell_type": "code",
   "execution_count": null,
   "metadata": {},
   "outputs": [],
   "source": [
    "# transform bank statements to 1 and everythin else to 0\n",
    "df_bank_statement.true = df_bank_statement.true.map(\n",
    "    {\n",
    "        \"gazettes\": 0,\n",
    "        \"passport-scan\": 0,\n",
    "        \"shipping-receipts\": 0,\n",
    "        \"receipts\": 0,\n",
    "        \"company-registry\": 0,\n",
    "        \"invoices\": 0,\n",
    "        \"bank-statements\": 1,\n",
    "        \"contracts\": 0,\n",
    "        \"court-documents\": 0,\n",
    "    }\n",
    ")\n",
    "\n",
    "df_bank_statement.predicted = df_bank_statement.predicted.map(\n",
    "    {\n",
    "        \"gazettes\": 0,\n",
    "        \"passport-scan\": 0,\n",
    "        \"shipping-receipts\": 0,\n",
    "        \"receipts\": 0,\n",
    "        \"company-registry\": 0,\n",
    "        \"invoices\": 0,\n",
    "        \"bank-statements\": 1,\n",
    "        \"contracts\": 0,\n",
    "        \"court-documents\": 0,\n",
    "        \"other\": 0,\n",
    "    }\n",
    ")"
   ]
  },
  {
   "cell_type": "code",
   "execution_count": null,
   "metadata": {},
   "outputs": [],
   "source": [
    "# transform contracts to 1 and everythin else to 0\n",
    "df_contract.true = df_contract.true.map(\n",
    "    {\n",
    "        \"gazettes\": 0,\n",
    "        \"passport-scan\": 0,\n",
    "        \"shipping-receipts\": 0,\n",
    "        \"receipts\": 0,\n",
    "        \"company-registry\": 0,\n",
    "        \"invoices\": 0,\n",
    "        \"bank-statements\": 0,\n",
    "        \"contracts\": 1,\n",
    "        \"court-documents\": 0,\n",
    "    }\n",
    ")\n",
    "\n",
    "df_contract.predicted = df_contract.predicted.map(\n",
    "    {\n",
    "        \"gazettes\": 0,\n",
    "        \"passport-scan\": 0,\n",
    "        \"shipping-receipts\": 0,\n",
    "        \"receipts\": 0,\n",
    "        \"company-registry\": 0,\n",
    "        \"invoices\": 0,\n",
    "        \"bank-statements\": 0,\n",
    "        \"contracts\": 1,\n",
    "        \"court-documents\": 0,\n",
    "        \"other\": 0,\n",
    "    }\n",
    ")"
   ]
  },
  {
   "cell_type": "code",
   "execution_count": null,
   "metadata": {},
   "outputs": [],
   "source": [
    "# transform court documents to 1 and everythin else to 0\n",
    "df_court_documents.true = df_court_documents.true.map(\n",
    "    {\n",
    "        \"gazettes\": 0,\n",
    "        \"passport-scan\": 0,\n",
    "        \"shipping-receipts\": 0,\n",
    "        \"receipts\": 0,\n",
    "        \"company-registry\": 0,\n",
    "        \"invoices\": 0,\n",
    "        \"bank-statements\": 0,\n",
    "        \"contracts\": 0,\n",
    "        \"court-documents\": 1,\n",
    "    }\n",
    ")\n",
    "\n",
    "df_court_documents.predicted = df_court_documents.predicted.map(\n",
    "    {\n",
    "        \"gazettes\": 0,\n",
    "        \"passport-scan\": 0,\n",
    "        \"shipping-receipts\": 0,\n",
    "        \"receipts\": 0,\n",
    "        \"company-registry\": 0,\n",
    "        \"invoices\": 0,\n",
    "        \"bank-statements\": 0,\n",
    "        \"contracts\": 0,\n",
    "        \"court-documents\": 1,\n",
    "        \"other\": 0,\n",
    "    }\n",
    ")"
   ]
  },
  {
   "cell_type": "code",
   "execution_count": null,
   "metadata": {},
   "outputs": [],
   "source": [
    "# calculate precision recall\n",
    "precision_gazette, recall_gazette, thresholds_gazette = precision_recall_curve(df_gazette.true, df_gazette.predicted)\n",
    "\n",
    "precision_passport, recall_passport, thresholds_passport = precision_recall_curve(df_passport.true, df_passport.predicted)\n",
    "\n",
    "precision_shipping, recall_shipping, thresholds_shipping = precision_recall_curve(\n",
    "    df_shipping_receipt.true, df_shipping_receipt.predicted\n",
    ")\n",
    "\n",
    "precision_receipts, recall_receipts, thresholds_receipts = precision_recall_curve(df_receipts.true, df_receipts.predicted)\n",
    "\n",
    "precision_company_registry, recall_company_registry, thresholds_company_registry = precision_recall_curve(\n",
    "    df_company_registry.true, df_company_registry.predicted\n",
    ")\n",
    "\n",
    "precision_invoice, recall_invoice, thresholds_invoice = precision_recall_curve(df_invoices.true, df_invoices.predicted)\n",
    "\n",
    "precision_bank, recall_bank, thresholds_bank = precision_recall_curve(df_bank_statement.true, df_bank_statement.predicted)\n",
    "\n",
    "precision_contract, recall_contract, thresholds_contract = precision_recall_curve(df_contract.true, df_contract.predicted)\n",
    "\n",
    "precision_court, recall_court, thresholds_court = precision_recall_curve(\n",
    "    df_court_documents.true, df_court_documents.predicted\n",
    ")"
   ]
  },
  {
   "cell_type": "code",
   "execution_count": null,
   "metadata": {},
   "outputs": [],
   "source": [
    "# create precision recall curve\n",
    "fig, ax = plt.subplots()\n",
    "ax.plot(recall_gazette, precision_gazette, color=\"purple\")\n",
    "ax.plot(recall_passport, precision_passport, color=\"red\")\n",
    "ax.plot(recall_shipping, precision_shipping, color=\"blue\")\n",
    "ax.plot(recall_receipts, precision_receipts, color=\"yellow\")\n",
    "ax.plot(recall_company_registry, precision_company_registry, color=\"orange\")\n",
    "ax.plot(recall_invoice, precision_invoice, color=\"green\")\n",
    "ax.plot(recall_bank, precision_bank, color=\"gray\")\n",
    "ax.plot(recall_contract, precision_contract, color=\"black\")\n",
    "ax.plot(recall_court, precision_court, color=\"pink\")\n",
    "# add axis labels to plot\n",
    "ax.set_title(\"Precision-Recall Curve\")\n",
    "ax.set_ylabel(\"Precision\")\n",
    "ax.set_xlabel(\"Recall\")\n",
    "\n",
    "# display plot\n",
    "plt.show()"
   ]
  },
  {
   "cell_type": "code",
   "execution_count": null,
   "metadata": {},
   "outputs": [],
   "source": []
  }
 ],
 "metadata": {
  "kernelspec": {
   "display_name": "Python 3.8.12 ('dssgxdfki2022-occrp-9SCSCB3U')",
   "language": "python",
   "name": "python3"
  },
  "language_info": {
   "codemirror_mode": {
    "name": "ipython",
    "version": 3
   },
   "file_extension": ".py",
   "mimetype": "text/x-python",
   "name": "python",
   "nbconvert_exporter": "python",
   "pygments_lexer": "ipython3",
   "version": "3.8.12"
  },
  "orig_nbformat": 4,
  "vscode": {
   "interpreter": {
    "hash": "10384842a63f170fb9a218b4b11485d50fd4612df6d44b02b754def50e8100af"
   }
  }
 },
 "nbformat": 4,
 "nbformat_minor": 2
}
